{
 "cells": [
  {
   "cell_type": "markdown",
   "metadata": {},
   "source": [
    "### 다중 선형 회귀 구현"
   ]
  },
  {
   "cell_type": "code",
   "execution_count": 2,
   "metadata": {},
   "outputs": [],
   "source": [
    "import torch\n",
    "import torch.nn as nn\n",
    "import torch.nn.functional as F"
   ]
  },
  {
   "cell_type": "code",
   "execution_count": 8,
   "metadata": {},
   "outputs": [],
   "source": [
    "# 데이터\n",
    "x_train = torch.FloatTensor([[73, 80, 75],\n",
    "                             [93, 88, 93],\n",
    "                             [89, 91, 90],\n",
    "                             [96, 98, 100],\n",
    "                             [73, 66, 70]])\n",
    "y_train = torch.FloatTensor([[152], [185], [180], [196], [142]])\n"
   ]
  },
  {
   "cell_type": "code",
   "execution_count": 5,
   "metadata": {},
   "outputs": [
    {
     "data": {
      "text/plain": [
       "[Parameter containing:\n",
       " tensor([[0.1235, 0.4542, 0.2529]], requires_grad=True),\n",
       " Parameter containing:\n",
       " tensor([0.3683], requires_grad=True)]"
      ]
     },
     "execution_count": 5,
     "metadata": {},
     "output_type": "execute_result"
    }
   ],
   "source": [
    "model = nn.Linear(3, 1) # parameter = input * output + 1\n",
    "list(model.parameters())"
   ]
  },
  {
   "cell_type": "code",
   "execution_count": 9,
   "metadata": {},
   "outputs": [
    {
     "name": "stdout",
     "output_type": "stream",
     "text": [
      "Epoch    0/2000 Cost: 10155.487305\n",
      "Epoch  100/2000 Cost: 4.104310\n",
      "Epoch  200/2000 Cost: 3.902786\n",
      "Epoch  300/2000 Cost: 3.711903\n",
      "Epoch  400/2000 Cost: 3.531047\n",
      "Epoch  500/2000 Cost: 3.359678\n",
      "Epoch  600/2000 Cost: 3.197345\n",
      "Epoch  700/2000 Cost: 3.043531\n",
      "Epoch  800/2000 Cost: 2.897783\n",
      "Epoch  900/2000 Cost: 2.759721\n",
      "Epoch 1000/2000 Cost: 2.628906\n",
      "Epoch 1100/2000 Cost: 2.504957\n",
      "Epoch 1200/2000 Cost: 2.387514\n",
      "Epoch 1300/2000 Cost: 2.276219\n",
      "Epoch 1400/2000 Cost: 2.170786\n",
      "Epoch 1500/2000 Cost: 2.070873\n",
      "Epoch 1600/2000 Cost: 1.976200\n",
      "Epoch 1700/2000 Cost: 1.886492\n",
      "Epoch 1800/2000 Cost: 1.801479\n",
      "Epoch 1900/2000 Cost: 1.720954\n",
      "Epoch 2000/2000 Cost: 1.644615\n"
     ]
    }
   ],
   "source": [
    "optimizer = torch.optim.SGD(model.parameters(), lr=1e-5) \n",
    "\n",
    "nb_epochs = 2000\n",
    "for epoch in range(nb_epochs+1):\n",
    "\n",
    "    # H(x) 계산\n",
    "    prediction = model(x_train)\n",
    "    # model(x_train)은 model.forward(x_train)와 동일함.\n",
    "\n",
    "    # cost 계산\n",
    "    cost = F.mse_loss(prediction, y_train) # <== 파이토치에서 제공하는 평균 제곱 오차 함수\n",
    "\n",
    "    # cost로 H(x) 개선하는 부분\n",
    "    # gradient를 0으로 초기화\n",
    "    optimizer.zero_grad()\n",
    "    # 비용 함수를 미분하여 gradient 계산\n",
    "    cost.backward()\n",
    "    # W와 b를 업데이트\n",
    "    optimizer.step()\n",
    "\n",
    "    if epoch % 100 == 0:\n",
    "    # 100번마다 로그 출력\n",
    "      print('Epoch {:4d}/{} Cost: {:.6f}'.format(\n",
    "          epoch, nb_epochs, cost.item()\n",
    "      ))\n"
   ]
  },
  {
   "cell_type": "code",
   "execution_count": 10,
   "metadata": {},
   "outputs": [
    {
     "name": "stdout",
     "output_type": "stream",
     "text": [
      "[Parameter containing:\n",
      "tensor([[0.6632, 0.6727, 0.6707]], requires_grad=True), Parameter containing:\n",
      "tensor([0.3759], requires_grad=True)]\n",
      "tensor([152.9006], grad_fn=<ViewBackward0>)\n"
     ]
    }
   ],
   "source": [
    "new_x = torch.FloatTensor([73, 80, 75])\n",
    "new_y = model(new_x)\n",
    "\n",
    "print(list(model.parameters()))\n",
    "print(new_y)"
   ]
  },
  {
   "cell_type": "markdown",
   "metadata": {},
   "source": [
    "### Subclss 모델"
   ]
  },
  {
   "cell_type": "code",
   "execution_count": 35,
   "metadata": {},
   "outputs": [],
   "source": [
    "class LinearRegressionModel(nn.Module):\n",
    "    def __init__(self):\n",
    "        super().__init__()\n",
    "        self.linear1 = nn.Linear(3, 3)\n",
    "        self.linear2 = nn.Linear(3, 1)\n",
    "        self.relu = nn.ReLU()\n",
    "\n",
    "\n",
    "    def forward(self, x):\n",
    "        x = self.linear1(x)\n",
    "        x = self.relu(x)\n",
    "        x = self.linear2(x)\n",
    "        return x"
   ]
  },
  {
   "cell_type": "code",
   "execution_count": 46,
   "metadata": {},
   "outputs": [],
   "source": [
    "model = LinearRegressionModel()"
   ]
  },
  {
   "cell_type": "code",
   "execution_count": 47,
   "metadata": {},
   "outputs": [
    {
     "data": {
      "text/plain": [
       "[Parameter containing:\n",
       " tensor([[ 0.1653,  0.0677, -0.1082],\n",
       "         [-0.0610, -0.2678,  0.2563],\n",
       "         [ 0.1100,  0.1759, -0.0555]], requires_grad=True),\n",
       " Parameter containing:\n",
       " tensor([-0.0513,  0.0448,  0.2842], requires_grad=True),\n",
       " Parameter containing:\n",
       " tensor([[ 0.0901, -0.2698, -0.2470]], requires_grad=True),\n",
       " Parameter containing:\n",
       " tensor([0.0374], requires_grad=True)]"
      ]
     },
     "execution_count": 47,
     "metadata": {},
     "output_type": "execute_result"
    }
   ],
   "source": [
    "list(model.parameters())"
   ]
  },
  {
   "cell_type": "code",
   "execution_count": 48,
   "metadata": {},
   "outputs": [],
   "source": [
    "# 데이터\n",
    "x_train = torch.FloatTensor([[73, 80, 75],\n",
    "                             [93, 88, 93],\n",
    "                             [89, 91, 90],\n",
    "                             [96, 98, 100],\n",
    "                             [73, 66, 70]])\n",
    "y_train = torch.FloatTensor([[152], [185], [180], [196], [142]])"
   ]
  },
  {
   "cell_type": "code",
   "execution_count": 49,
   "metadata": {},
   "outputs": [],
   "source": [
    "optimizer = torch.optim.Adam(model.parameters(), lr=1e-3)"
   ]
  },
  {
   "cell_type": "code",
   "execution_count": 50,
   "metadata": {},
   "outputs": [
    {
     "name": "stdout",
     "output_type": "stream",
     "text": [
      "Epoch    0/1000 Cost: 31029.718750\n",
      "Epoch  100/1000 Cost: 26822.599609\n",
      "Epoch  200/1000 Cost: 21198.099609\n",
      "Epoch  300/1000 Cost: 13778.745117\n",
      "Epoch  400/1000 Cost: 7009.512695\n",
      "Epoch  500/1000 Cost: 2628.088379\n",
      "Epoch  600/1000 Cost: 689.411499\n",
      "Epoch  700/1000 Cost: 125.598778\n",
      "Epoch  800/1000 Cost: 17.224161\n",
      "Epoch  900/1000 Cost: 2.736799\n",
      "Epoch 1000/1000 Cost: 1.313214\n"
     ]
    }
   ],
   "source": [
    "epochs = 1000\n",
    "\n",
    "for epoch in range(epochs + 1):\n",
    "\n",
    "    prediction = model(x_train)\n",
    "\n",
    "    cost = F.mse_loss(prediction, y_train)\n",
    "\n",
    "    optimizer.zero_grad()\n",
    "    cost.backward()\n",
    "    optimizer.step()\n",
    "\n",
    "    if epoch % 100 == 0:\n",
    "    # 100번마다 로그 출력\n",
    "      print('Epoch {:4d}/{} Cost: {:.6f}'.format(\n",
    "          epoch, epochs, cost.item()\n",
    "      ))"
   ]
  }
 ],
 "metadata": {
  "kernelspec": {
   "display_name": "venv",
   "language": "python",
   "name": "python3"
  },
  "language_info": {
   "codemirror_mode": {
    "name": "ipython",
    "version": 3
   },
   "file_extension": ".py",
   "mimetype": "text/x-python",
   "name": "python",
   "nbconvert_exporter": "python",
   "pygments_lexer": "ipython3",
   "version": "3.12.2"
  }
 },
 "nbformat": 4,
 "nbformat_minor": 2
}
