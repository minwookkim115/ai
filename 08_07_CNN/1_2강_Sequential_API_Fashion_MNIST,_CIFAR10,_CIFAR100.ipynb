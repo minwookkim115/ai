{
  "cells": [
    {
      "cell_type": "code",
      "execution_count": null,
      "id": "b2d6a838",
      "metadata": {
        "id": "b2d6a838"
      },
      "outputs": [],
      "source": [
        "from tensorflow import keras"
      ]
    },
    {
      "cell_type": "markdown",
      "id": "62db9c3a",
      "metadata": {
        "id": "62db9c3a"
      },
      "source": [
        "# Fashion MNIST 데이터셋"
      ]
    },
    {
      "cell_type": "markdown",
      "id": "ec883dfd",
      "metadata": {
        "id": "ec883dfd"
      },
      "source": [
        "케라스에 빌트인 되어 있는 Fashion MNIST 데이터를 불러오겠습니다.\n",
        "\n",
        "**Fashion MNIST** 데이터 셋은 우리가 잘 알고 있는 숫자 손글씨 이미지 데이터 셋인 MNIST와 유사한 형태를 지녔는데요.\n",
        "\n",
        "이름에서 알 수 있는 것처럼 패션 의류 제품 이미지를 10개의 항목으로 분류해 놓았습니다.\n",
        "MNIST 데이터셋 이 신경망을 배울 때 사용하는 대표적인 예제로 과다하게 많이 사용되다 보니\n",
        "\n",
        "보다 다양한 형태의 학습에 사용하기 위해서 유럽의 전자 상거래 회사인 [Zalando](https://www.zalando.com/)의 연구소에서 제공한 이미지 데이터 셋입니다.\n",
        "\n",
        "Zalando Research의 Github Repo에 있는 데이터를 참고하시면 좋을 것 같습니다 (https://github.com/zalandoresearch/fashion-mnist)\n",
        "\n",
        "Fashion-MNIST는 총 70,000개의 이미지로 60,000개의 training data 세트와 10,000 개의 test data 세트로 구성되어 있습니다.\n",
        "\n",
        "각 이미지는 width와 height가 28 $\\times$ 28개의 픽셀로 이루어진 낮은 해상도의 회색조 이미지입니다.\n",
        "\n",
        "각 픽셀은 0(검은색)부터 255(흰색) 사이의 값을 가집니다.\n",
        "\n",
        "(MNIST 데이터와 동일한 이미지 수, 동일한 해상도입니다!)\n",
        "\n",
        "\n",
        "\n",
        "10개의 제품 분류는 다음과 같습니다.\n",
        "\n",
        "**레이블 설명**\n",
        "\n",
        "* 0 티셔츠/탑\n",
        "* 1 바지\n",
        "* 2 풀오버(스웨터의 일종)\n",
        "* 3 드레스\n",
        "* 4 코트\n",
        "* 5 샌들\n",
        "* 6 셔츠\n",
        "* 7 스니커즈\n",
        "* 8 가방\n",
        "* 9 앵클 부츠"
      ]
    },
    {
      "cell_type": "code",
      "execution_count": null,
      "id": "382b93c9",
      "metadata": {
        "id": "382b93c9"
      },
      "outputs": [],
      "source": [
        "from keras.datasets import fashion_mnist\n",
        "\n",
        "(train_images, train_labels), (test_images, test_labels) = fashion_mnist.load_data()"
      ]
    },
    {
      "cell_type": "markdown",
      "id": "ce4b3d89",
      "metadata": {
        "id": "ce4b3d89"
      },
      "source": [
        "첫번째 훈련 데이터입니다.  \n",
        "MNIST처럼 28 × 28 행렬이고 원소는 0부터 255까지의 정수이며 픽셀의 밝기를 나타냅니다.  \n",
        "신발처럼 보이네요."
      ]
    },
    {
      "cell_type": "code",
      "execution_count": null,
      "id": "a7feacd3",
      "metadata": {
        "id": "a7feacd3"
      },
      "outputs": [],
      "source": [
        "import numpy as np\n",
        "np.set_printoptions(linewidth=200,threshold=1000)\n",
        "\n",
        "print(train_images[0])"
      ]
    },
    {
      "cell_type": "markdown",
      "id": "471b80a6",
      "metadata": {
        "id": "471b80a6"
      },
      "source": [
        "`plt.imshow`를 사용해서 이미지로 보죠."
      ]
    },
    {
      "cell_type": "code",
      "execution_count": null,
      "id": "30026f1b",
      "metadata": {
        "id": "30026f1b"
      },
      "outputs": [],
      "source": [
        "import matplotlib.pyplot as plt\n",
        "\n",
        "plt.axis(\"off\")\n",
        "plt.imshow(train_images[0], cmap=plt.cm.gray)\n",
        "plt.show()"
      ]
    },
    {
      "cell_type": "markdown",
      "id": "678bf529",
      "metadata": {
        "id": "678bf529"
      },
      "source": [
        "라벨입니다."
      ]
    },
    {
      "cell_type": "code",
      "execution_count": null,
      "id": "756f6ca8",
      "metadata": {
        "id": "756f6ca8"
      },
      "outputs": [],
      "source": [
        "print(train_labels[0])"
      ]
    },
    {
      "cell_type": "markdown",
      "id": "47551c22",
      "metadata": {
        "id": "47551c22"
      },
      "source": [
        "0부터 9까지의 라벨은 다음과 같은 패션 아이템과 대응합니다."
      ]
    },
    {
      "cell_type": "code",
      "execution_count": null,
      "id": "562b7071",
      "metadata": {
        "id": "562b7071"
      },
      "outputs": [],
      "source": [
        "class_names=['Tshirt/top','Troser','Pullover','Dress','Coat','Sandal','Shirt','Sneaker','Bag','Ankle boot']"
      ]
    },
    {
      "cell_type": "markdown",
      "id": "5989fc0c",
      "metadata": {
        "id": "5989fc0c"
      },
      "source": [
        "shape은 MNIST와 동일하네요."
      ]
    },
    {
      "cell_type": "code",
      "execution_count": null,
      "id": "b5919b3e",
      "metadata": {
        "id": "b5919b3e"
      },
      "outputs": [],
      "source": [
        "print(train_images.shape)\n",
        "print(train_labels.shape)\n",
        "print(test_images.shape)\n",
        "print(test_labels.shape)"
      ]
    },
    {
      "cell_type": "markdown",
      "id": "245b0a5c",
      "metadata": {
        "id": "245b0a5c"
      },
      "source": [
        "훈련 데이터의 앞 25장을 5$\\times$5 모아찍기로 출력해 보겠습니다."
      ]
    },
    {
      "cell_type": "code",
      "execution_count": null,
      "id": "a924f16e",
      "metadata": {
        "id": "a924f16e"
      },
      "outputs": [],
      "source": [
        "plt.figure(figsize=(10,10))\n",
        "for i in range(25):\n",
        "    plt.subplot(5,5,i+1)\n",
        "    plt.xticks([])\n",
        "    plt.yticks([])\n",
        "    plt.imshow(train_images[i], cmap=plt.cm.binary)\n",
        "    plt.xlabel(class_names[train_labels[i]])\n",
        "plt.show()"
      ]
    },
    {
      "cell_type": "markdown",
      "id": "87c4e53e",
      "metadata": {
        "id": "87c4e53e"
      },
      "source": [
        "학습을 위해 각 데이터를 flatten하고  0과 1 사이로 리스케일링 해줍시다."
      ]
    },
    {
      "cell_type": "code",
      "execution_count": null,
      "id": "f729090d",
      "metadata": {
        "id": "f729090d"
      },
      "outputs": [],
      "source": [
        "train_images = train_images.reshape((60000, 28 * 28))\n",
        "train_images = train_images / 255\n",
        "test_images = test_images.reshape((10000, 28 * 28))\n",
        "test_images = test_images / 255"
      ]
    },
    {
      "cell_type": "markdown",
      "id": "b41431c1",
      "metadata": {
        "id": "b41431c1"
      },
      "source": [
        "MNIST에서 구성했던 신경망으로 학습해 보죠.  \n",
        "Fashion MNIST는 MNIST만큼 기하적으로 단순하고 분명한 구조가 아닌지라 MNIST에 비해선 정확도가 많이 떨어지지만 이정도면 나쁘지는 않은 정확도입니다."
      ]
    },
    {
      "cell_type": "code",
      "execution_count": null,
      "id": "9ede1174",
      "metadata": {
        "id": "9ede1174"
      },
      "outputs": [],
      "source": [
        "from keras import layers\n",
        "\n",
        "model = keras.Sequential([\n",
        "    layers.Dense(512, input_shape=(784,), activation=\"relu\"),\n",
        "    layers.Dense(10, activation=\"softmax\")\n",
        "])\n",
        "\n",
        "model.compile(optimizer=\"RMSprop\",\n",
        "              loss=\"sparse_categorical_crossentropy\",\n",
        "              metrics=[\"accuracy\"])\n",
        "\n",
        "model.fit(train_images, train_labels, epochs=5, batch_size=128)\n",
        "\n",
        "test_loss, test_acc = model.evaluate(test_images, test_labels)\n",
        "\n",
        "print(\"\\n\")\n",
        "print(f\"test_acc: {test_acc}\")"
      ]
    },
    {
      "cell_type": "markdown",
      "id": "f0d997af",
      "metadata": {
        "id": "f0d997af"
      },
      "source": [
        "첫번째 등장하는 테스트 이미지를 9(Ankle Boot)라고 대답했는데 맞았네요."
      ]
    },
    {
      "cell_type": "code",
      "execution_count": null,
      "id": "1683e069",
      "metadata": {
        "id": "1683e069"
      },
      "outputs": [],
      "source": [
        "predictions = model.predict(test_images)\n",
        "print(predictions[0])\n",
        "\n",
        "plt.imshow(test_images[0].reshape(28,28), cmap=plt.cm.gray)\n",
        "plt.xticks([])\n",
        "plt.yticks([])\n",
        "plt.xlabel(class_names[test_labels[0]])\n",
        "plt.show()"
      ]
    },
    {
      "cell_type": "markdown",
      "id": "8a62c7c1",
      "metadata": {
        "id": "8a62c7c1"
      },
      "source": [
        "confusion matrix입니다."
      ]
    },
    {
      "cell_type": "code",
      "execution_count": null,
      "id": "c3ed5002",
      "metadata": {
        "id": "c3ed5002"
      },
      "outputs": [],
      "source": [
        "from sklearn.metrics import confusion_matrix, classification_report\n",
        "import seaborn as sns\n",
        "\n",
        "plt.figure(figsize=(8,8))\n",
        "confusion = confusion_matrix(test_labels, np.argmax(predictions, axis=1))\n",
        "sns.heatmap(confusion, annot=True, fmt='d', cmap='Blues')\n",
        "plt.xlabel(\"Predicted Label\")\n",
        "plt.ylabel(\"True Label\")\n",
        "plt.show()\n",
        "\n",
        "print(classification_report(test_labels, np.argmax(predictions, axis=1)))"
      ]
    },
    {
      "cell_type": "markdown",
      "id": "074dfee8",
      "metadata": {
        "id": "074dfee8"
      },
      "source": [
        "**[과제1] 각 라벨에 대하여 클래스 이름, Precision, Recall, F1-score가 순서로 출력되도록 바닐라 파이썬과 numpy만을 사용하여 코드를 작성하시오. 위 싸이킷런으로 출력한 결과와 비교하시오.**"
      ]
    },
    {
      "cell_type": "code",
      "execution_count": null,
      "id": "d16439ae",
      "metadata": {
        "id": "d16439ae"
      },
      "outputs": [],
      "source": []
    },
    {
      "cell_type": "markdown",
      "id": "af61aee2",
      "metadata": {
        "id": "af61aee2"
      },
      "source": [
        "**[과제2] 다음과 같이 틀린 조합이 더 밝게 표시되도록 시각화 하시오.**  \n",
        "![](https://drive.google.com/thumbnail?id=1mCEqCOklBAhVxpnttJmpvmxvggt7kPtQ&sz=s4000)"
      ]
    },
    {
      "cell_type": "code",
      "execution_count": null,
      "id": "39833586",
      "metadata": {
        "id": "39833586"
      },
      "outputs": [],
      "source": []
    },
    {
      "cell_type": "markdown",
      "id": "1812ff0f",
      "metadata": {
        "id": "1812ff0f"
      },
      "source": [
        "**[과제3] 신경망이 가장 많이 착각한 패션 아이템 조합이 무엇인지 출력하는 코드를 작성하시오. 첫 25개를 5$\\times$5 모아찍기로 출력하시오.**"
      ]
    },
    {
      "cell_type": "code",
      "execution_count": null,
      "id": "e5b2ea8d",
      "metadata": {
        "id": "e5b2ea8d"
      },
      "outputs": [],
      "source": []
    },
    {
      "cell_type": "markdown",
      "id": "3b396f96",
      "metadata": {
        "id": "3b396f96"
      },
      "source": [
        "# CIFAR10 데이터셋"
      ]
    },
    {
      "cell_type": "markdown",
      "id": "ce787bf7",
      "metadata": {
        "id": "ce787bf7"
      },
      "source": [
        "케라스에 빌트인 되어 있는 CIFAR10 데이터를 불러오겠습니다."
      ]
    },
    {
      "cell_type": "code",
      "execution_count": null,
      "id": "f486700d",
      "metadata": {
        "id": "f486700d"
      },
      "outputs": [],
      "source": [
        "from keras.datasets import cifar10\n",
        "\n",
        "(train_images, train_labels), (test_images, test_labels) = cifar10.load_data()"
      ]
    },
    {
      "cell_type": "markdown",
      "id": "18d45f20",
      "metadata": {
        "id": "18d45f20"
      },
      "source": [
        "첫번째 훈련 데이터입니다.  \n",
        "MNIST나 Fashion MNIST와는 달리 어떤 이미지인지 식별이 안되네요.  \n",
        "3차원 텐서이고 안은 3차원 벡터들로 채워져 있습니다."
      ]
    },
    {
      "cell_type": "code",
      "execution_count": null,
      "id": "ed3316d6",
      "metadata": {
        "id": "ed3316d6"
      },
      "outputs": [],
      "source": [
        "print(train_images[0])"
      ]
    },
    {
      "cell_type": "markdown",
      "id": "603d4f4d",
      "metadata": {
        "id": "603d4f4d"
      },
      "source": [
        "`plt.imshow`를 사용해서 이미지로 보죠.  \n",
        "개구리 컬러 이미지네요."
      ]
    },
    {
      "cell_type": "code",
      "execution_count": null,
      "id": "4b70f4f0",
      "metadata": {
        "id": "4b70f4f0"
      },
      "outputs": [],
      "source": [
        "import matplotlib.pyplot as plt\n",
        "\n",
        "plt.axis(\"off\")\n",
        "plt.imshow(train_images[0])\n",
        "plt.show()"
      ]
    },
    {
      "cell_type": "markdown",
      "id": "a90bf325",
      "metadata": {
        "id": "a90bf325"
      },
      "source": [
        "라벨은 6입니다."
      ]
    },
    {
      "cell_type": "code",
      "execution_count": null,
      "id": "dbf644bf",
      "metadata": {
        "id": "dbf644bf"
      },
      "outputs": [],
      "source": [
        "print(train_labels[0])"
      ]
    },
    {
      "cell_type": "markdown",
      "id": "9d87426c",
      "metadata": {
        "id": "9d87426c"
      },
      "source": [
        "0부터 9까지의 라벨은 다음과 같이 대응합니다."
      ]
    },
    {
      "cell_type": "code",
      "execution_count": null,
      "id": "c52d0136",
      "metadata": {
        "id": "c52d0136"
      },
      "outputs": [],
      "source": [
        "class_names = ['airplane', 'automobile', 'bird', 'cat', 'deer', 'dog', 'frog', 'horse', 'sheep', 'truck']"
      ]
    },
    {
      "cell_type": "markdown",
      "id": "d16b0f81",
      "metadata": {
        "id": "d16b0f81"
      },
      "source": [
        "CIFAR10은 32$\\times$32 해상도의 컬러사진 훈련용 50,000장, 테스트 10,000장입니다.  \n",
        "3은 RGB 채널입니다.  \n",
        "위에서 출력한 3차원 벡터는 컬러 화소에 대한 정보를 담고 있습니다.  \n",
        "밑바닥부터 시작하는 딥러닝에서는 C$\\times$H$\\times$W 포맷을 따랐는데 케라스는 H$\\times$W$\\times$C 포맷을 따릅니다.  \n",
        "파이토치는 C$\\times$H$\\times$W 포맷을 따르고 `plt.imshow`는 H$\\times$W$\\times$C 포맷을 따릅니다.  \n",
        "![](https://drive.google.com/thumbnail?id=1MZsJm_asjnSfYcesgi8hznJ7WvUVEhzT&sz=s4000)  \n",
        "라벨은 위에서 출력한 바와 같이 브라켓이 씌워져 있어서 1이 뒤에 붙습니다."
      ]
    },
    {
      "cell_type": "code",
      "execution_count": null,
      "id": "eba06de7",
      "metadata": {
        "id": "eba06de7"
      },
      "outputs": [],
      "source": [
        "print(train_images.shape)\n",
        "print(train_labels.shape)\n",
        "print(test_images.shape)\n",
        "print(test_labels.shape)"
      ]
    },
    {
      "cell_type": "markdown",
      "id": "d19c59ed",
      "metadata": {
        "id": "d19c59ed"
      },
      "source": [
        "훈련 데이터의 앞 25장을 5$\\times$5 모아찍기로 출력해 보겠습니다."
      ]
    },
    {
      "cell_type": "code",
      "execution_count": null,
      "id": "c42d52b0",
      "metadata": {
        "id": "c42d52b0"
      },
      "outputs": [],
      "source": [
        "plt.figure(figsize=(10,10))\n",
        "for i in range(25):\n",
        "    plt.subplot(5,5,i+1)\n",
        "    plt.xticks([])\n",
        "    plt.yticks([])\n",
        "    plt.imshow(train_images[i])\n",
        "    plt.xlabel(class_names[train_labels[i][0]])\n",
        "plt.show()"
      ]
    },
    {
      "cell_type": "markdown",
      "id": "54cc6342",
      "metadata": {
        "id": "54cc6342"
      },
      "source": [
        "학습을 위해 각 데이터를 flatten하고 0과 1사이로 리스케일링해줍시다."
      ]
    },
    {
      "cell_type": "code",
      "execution_count": null,
      "id": "1be598a1",
      "metadata": {
        "id": "1be598a1"
      },
      "outputs": [],
      "source": [
        "train_images = train_images.reshape((50000, 32 * 32 * 3))\n",
        "train_images = train_images / 255\n",
        "test_images = test_images.reshape((10000, 32 * 32 * 3))\n",
        "test_images = test_images / 255"
      ]
    },
    {
      "cell_type": "markdown",
      "id": "d588ba01",
      "metadata": {
        "id": "d588ba01"
      },
      "source": [
        "해상도가 다르고 컬러사진이기 때문에 MNIST와 Fasion MNIST에서 사용했던 신경망을 그대로 사용할 수는 없습니다.  \n",
        "입력 뉴런의 수를 입력 데이터의 차원으로 수정해 줍시다.  \n",
        "데이터가 복잡하니 학습회수도 늘려주겠습니다.  \n",
        "정확도가 낮네요.  \n",
        "나중에 CNN을 사용하면 많은 성능향상을 얻을 수 있습니다."
      ]
    },
    {
      "cell_type": "code",
      "execution_count": null,
      "id": "068f6ebe",
      "metadata": {
        "id": "068f6ebe"
      },
      "outputs": [],
      "source": [
        "model = keras.Sequential([\n",
        "    layers.Dense(512, input_shape=(32 * 32 * 3,), activation=\"relu\"),\n",
        "    layers.Dense(10, activation=\"softmax\")\n",
        "])\n",
        "\n",
        "model.compile(optimizer=\"RMSprop\",\n",
        "              loss=\"sparse_categorical_crossentropy\",\n",
        "              metrics=[\"accuracy\"])\n",
        "\n",
        "model.fit(train_images, train_labels, epochs=15, batch_size=128)\n",
        "\n",
        "test_loss, test_acc = model.evaluate(test_images, test_labels)\n",
        "\n",
        "print(\"\\n\")\n",
        "print(f\"test_acc: {test_acc}\")"
      ]
    },
    {
      "cell_type": "markdown",
      "id": "baa9a966",
      "metadata": {
        "id": "baa9a966"
      },
      "source": [
        "# CIFAR100 데이터셋"
      ]
    },
    {
      "cell_type": "markdown",
      "id": "9da13471",
      "metadata": {
        "id": "9da13471"
      },
      "source": [
        "**[실습1] (10분) (i) CIFAR100 데이터를 불러오시오.**"
      ]
    },
    {
      "cell_type": "code",
      "execution_count": null,
      "id": "9ad541a1",
      "metadata": {
        "id": "9ad541a1"
      },
      "outputs": [],
      "source": []
    },
    {
      "cell_type": "markdown",
      "id": "3708d66f",
      "metadata": {
        "id": "3708d66f"
      },
      "source": [
        "**(ii) shape을 출력하시오.**"
      ]
    },
    {
      "cell_type": "code",
      "execution_count": null,
      "id": "74459db2",
      "metadata": {
        "id": "74459db2"
      },
      "outputs": [],
      "source": []
    },
    {
      "cell_type": "markdown",
      "id": "78c3a855",
      "metadata": {
        "id": "78c3a855"
      },
      "source": [
        "**(iii) 훈련 데이터의 앞 25장을 5$\\times$5 모아찍기로 출력해 보시오.**"
      ]
    },
    {
      "cell_type": "code",
      "execution_count": null,
      "id": "6bbf2a63",
      "metadata": {
        "id": "6bbf2a63"
      },
      "outputs": [],
      "source": []
    },
    {
      "cell_type": "markdown",
      "id": "c25a2745",
      "metadata": {
        "id": "c25a2745"
      },
      "source": [
        "**(iii) 데이터를 flatten하고 0과 1사이로 리스케일링해주시오.**"
      ]
    },
    {
      "cell_type": "code",
      "execution_count": null,
      "id": "854a8140",
      "metadata": {
        "id": "854a8140"
      },
      "outputs": [],
      "source": []
    },
    {
      "cell_type": "markdown",
      "id": "c61fb9af",
      "metadata": {
        "id": "c61fb9af"
      },
      "source": [
        "**(iv) 신경망을 구성한후 학습시키고 평가하시오.**"
      ]
    },
    {
      "cell_type": "code",
      "execution_count": null,
      "id": "77aafb38",
      "metadata": {
        "id": "77aafb38"
      },
      "outputs": [],
      "source": []
    }
  ],
  "metadata": {
    "colab": {
      "provenance": []
    },
    "kernelspec": {
      "display_name": "Python 3 (ipykernel)",
      "language": "python",
      "name": "python3"
    },
    "language_info": {
      "codemirror_mode": {
        "name": "ipython",
        "version": 3
      },
      "file_extension": ".py",
      "mimetype": "text/x-python",
      "name": "python",
      "nbconvert_exporter": "python",
      "pygments_lexer": "ipython3",
      "version": "3.10.14"
    }
  },
  "nbformat": 4,
  "nbformat_minor": 5
}
