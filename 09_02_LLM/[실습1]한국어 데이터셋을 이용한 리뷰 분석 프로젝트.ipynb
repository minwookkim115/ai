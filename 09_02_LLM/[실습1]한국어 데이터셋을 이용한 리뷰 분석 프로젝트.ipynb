{
 "cells": [
  {
   "cell_type": "markdown",
   "metadata": {
    "id": "cPdXXESoQJb9"
   },
   "source": [
    "# [실습 5] 한국어 자연어 데이터셋을 이용한 리뷰 분석 프로젝트"
   ]
  },
  {
   "cell_type": "markdown",
   "metadata": {
    "id": "6rX986osjSnE"
   },
   "source": [
    "## 실습 목표\n",
    "\n",
    "---\n",
    "\n",
    "1. `transformer` 라이브러리의 사전학습된 `Kobert`모델을 이용하여 NSMC task를 수행합니다.\n",
    "\n",
    "2. 효율적인 학습을 위해 Bucketing을 이해하고 구현해봅니다.\n",
    "\n",
    "3. `Koelectra`모델을 학습시켜 앞서 학습시킨 모델과 성능을 비교해봅니다."
   ]
  },
  {
   "cell_type": "markdown",
   "metadata": {
    "id": "sPh1phnSGEe-"
   },
   "source": [
    "## 1. 모듈 불러오기 및 환경설정"
   ]
  },
  {
   "cell_type": "markdown",
   "metadata": {
    "id": "eJ0CN2Ojql0m"
   },
   "source": [
    "실습에 필요한 라이브러리를 불러옵니다."
   ]
  },
  {
   "cell_type": "code",
   "execution_count": null,
   "metadata": {
    "id": "R-BgtMnuwyGo"
   },
   "outputs": [],
   "source": [
    "# 기본 라이브러리 불러오기\n",
    "import pandas as pd\n",
    "from tqdm.notebook import tqdm  # 반복문의 진행 상태를 표시하는 라이브러리\n",
    "import matplotlib.pyplot as plt\n",
    "\n",
    "# 파이토치 관련 라이브러리 불러오기\n",
    "import torch\n",
    "from torch.optim import AdamW   # AdamW 옵티마이저\n",
    "from torch.nn import functional as F    # 파이토치 함수: 다양한 활성화 함수 및 유틸리티 제공\n",
    "from torch.utils.data import DataLoader, Dataset    # 데이터 로딩 및 사용자 정의 데이터셋을 위한 클래스\n",
    "from sklearn.metrics import classification_report   # 모델 성능 평가를 위한 scikit-learn의 classification_report"
   ]
  },
  {
   "cell_type": "markdown",
   "metadata": {
    "id": "etpf9HAIsPbt"
   },
   "source": [
    "이 코드를 통해 필요한 모든 라이브러리와 모듈을 불러왔으므로, 이제 딥러닝 모델의 구성 및 학습을 시작할 준비가 되었습니다.\n",
    "\n",
    "이어서 딥러닝 모델 학습 시 사용할 하드웨어를 설정하도록 하겠습니다."
   ]
  },
  {
   "cell_type": "markdown",
   "metadata": {
    "id": "JMXK6jODsTkx"
   },
   "source": [
    "### 1.1 하드웨어 설정"
   ]
  },
  {
   "cell_type": "code",
   "execution_count": null,
   "metadata": {
    "colab": {
     "base_uri": "https://localhost:8080/",
     "height": 35
    },
    "id": "G39RvUVOwySd",
    "outputId": "497fec3f-cff2-402b-f37f-6710cc79e9ac"
   },
   "outputs": [],
   "source": [
    "from torch import cuda\n",
    "\n",
    "# GPU 사용\n",
    "device = 'cuda' if cuda.is_available() else 'cpu'\n",
    "device"
   ]
  },
  {
   "cell_type": "markdown",
   "metadata": {
    "id": "iYlhCSqusVqv"
   },
   "source": [
    "딥러닝 모델의 연산이 GPU에서 수행될 수 있게 되면 학습 속도가 크게 향상됩니다. 만약 GPU가 없거나 사용할 수 없는 경우, CPU에서 연산이 수행됩니다.  "
   ]
  },
  {
   "cell_type": "markdown",
   "metadata": {
    "id": "hJRyyKeNsXsc"
   },
   "source": [
    "### 1.2 모델과 토크나이저 불러오기\n",
    "\n",
    "첫 번째 실습에서 사용할 모델은 [KR-BERT](https://huggingface.co/snunlp/KR-Medium)입니다. KR-BERT(Korean BERT)는 한국어 텍스트 처리를 위해 특별히 훈련된 BERT 모델로, 기존 BERT의 한국어 성능 한계를 극복하기 위해 개발되었습니다.  \n",
    "\n",
    "한국어 모델인 만큼 한국어 데이터셋(위키피디아, 뉴스 등)을 바탕으로 학습되었으며, 데이터 기반 토크화 기법을 사용하여 적은 토큰(기존 대비 27%)으로 성능 향상을 이룬 모델입니다.\n",
    "\n",
    "모델의 대표적인 Subtask에는 개체명 인식(NER, Named Entity Recognition), 자연어 추론(NLI, Natural Language Inference), 문장 의미 유사도(SST, Semantic Textual Similarity) 등이 있으며, 이번 실습에서는 감성 분석(Sentiment Analysis)를 도전해보겠습니다.\n",
    "\n",
    "감성 분석은 기본적으로 분류 문제에 해당하므로 문장 분류를 위해 `BertForSequenceClassification` 모델을 불러옵니다."
   ]
  },
  {
   "cell_type": "code",
   "execution_count": null,
   "metadata": {
    "colab": {
     "base_uri": "https://localhost:8080/"
    },
    "id": "1in0AnMjGRUJ",
    "outputId": "aae214af-711a-442c-dfbc-941f59dac87b"
   },
   "outputs": [],
   "source": [
    "from transformers import BertForSequenceClassification, AutoTokenizer\n",
    "\n",
    "# 'snunlp/KR-Medium'을 기반으로 시퀀스 분류를 위한 BERT 모델\n",
    "# return_dict=False는 모델의 출력을 딕셔너리 형태가 아닌 튜플 형태로 받기 위한 설정\n",
    "bertmodel = BertForSequenceClassification.from_pretrained('snunlp/KR-Medium', return_dict=False)\n",
    "\n",
    "# 'snunlp/KR-Medium'에 해당하는 토크나이저\n",
    "tokenizer = AutoTokenizer.from_pretrained(\"snunlp/KR-Medium\", do_lower_case=False)"
   ]
  },
  {
   "cell_type": "markdown",
   "metadata": {
    "id": "jV56_7vetLcb"
   },
   "source": [
    "- `BertForSequenceClassification`: BERT 모델을 시퀀스 분류 작업에 적용하기 위한 클래스입니다. 이 클래스는 BERT 모델의 출력에 분류를 위한 선형 레이어를 추가합니다.\n",
    "\n",
    "- `AutoTokenizer`: 모델에 맞는 토크나이저를 자동으로 불러오기 위한 클래스입니다."
   ]
  },
  {
   "cell_type": "markdown",
   "metadata": {
    "id": "pyoc4T_wGJ7M"
   },
   "source": [
    "## 2. 데이터 불러오기 및 전처리"
   ]
  },
  {
   "cell_type": "markdown",
   "metadata": {
    "id": "mC3tIWhswP_Q"
   },
   "source": [
    "이번엔 데이터를 불러오도록 하겠습니다. 이번 시간에 활용될 데이터는 한국어 언어모델의 발전에 큰 기여를 한 [NSMC](https://github.com/e9t/nsmc) 데이터셋입니다.\n",
    "\n",
    "NSMC(Naver Sentiment Movie Corpus)는 네이버 영화(2023.03.31 서비스 종료)에서 제공되던 영화 리뷰 데이터를 수집한 것으로, 전체 20만 개의 샘플로 구성됩니다.  \n",
    "\n",
    "각 샘플에는 세 가지 항목의 데이터가 포함됩니다.\n",
    "- `id`: 네이버에서 제공된 리뷰의 아이디\n",
    "\n",
    "- `document`: 영화 감상평\n",
    "\n",
    "- `label`: 긍/부정 평가(부정: 0, 긍정: 1)\n",
    "    - 실제 평점은 1-10점으로 구성되었으며 세 구간으로 분할됨\n",
    "    - 1-4점은 부정 평가\n",
    "    - 9-10점은 긍정 평가\n",
    "    - 5-8점에 해당하는 중립 평가는 데이터셋에서 제외\n",
    "\n",
    "데이터셋의 전처리를 위해 우선 Pandas 데이터프레임으로 불러오겠습니다.\n",
    "    "
   ]
  },
  {
   "cell_type": "code",
   "execution_count": null,
   "metadata": {
    "id": "z8ejsfILKEg5"
   },
   "outputs": [],
   "source": [
    "train_df = pd.read_csv('/kaggle/input/nsmc-dataset/ratings_train.txt', sep='\\t')\n",
    "test_df = pd.read_csv('/kaggle/input/nsmc-dataset/ratings_test.txt', sep='\\t')"
   ]
  },
  {
   "cell_type": "markdown",
   "metadata": {
    "id": "0IP8MA5cyE1Y"
   },
   "source": [
    "학습용 데이터프레임과 테스트용 데이터프레임의 일부를 살펴보겠습니다."
   ]
  },
  {
   "cell_type": "markdown",
   "metadata": {},
   "source": [
    "### [TODO] 두 데이터프레임의 앞부분 10줄을 출력해주세요."
   ]
  },
  {
   "cell_type": "code",
   "execution_count": null,
   "metadata": {
    "colab": {
     "base_uri": "https://localhost:8080/",
     "height": 206
    },
    "id": "1Zua12HPL91m",
    "outputId": "205c0525-b38e-4bcd-c8d0-dc9bd9556a7a"
   },
   "outputs": [],
   "source": [
    "# [YOUR CODE]"
   ]
  },
  {
   "cell_type": "code",
   "execution_count": null,
   "metadata": {
    "colab": {
     "base_uri": "https://localhost:8080/",
     "height": 206
    },
    "id": "8ogD7GFPL_9-",
    "outputId": "c99b607d-09a4-4f2a-c2fd-52690e840adc"
   },
   "outputs": [],
   "source": [
    "# [YOUR CODE]"
   ]
  },
  {
   "cell_type": "markdown",
   "metadata": {
    "id": "iFNiOVxUVUap"
   },
   "source": [
    "### 2.1 불필요한 열 제거\n",
    "\n",
    "실질적인 모델의 학습에는 평가 텍스트와 이에 해당하는 긍/부정 레이블만 필요합니다.  \n",
    "\n",
    "`.drop()` 메서드를 사용하여 `id` 열을 제거해봅시다."
   ]
  },
  {
   "cell_type": "markdown",
   "metadata": {},
   "source": [
    "### [TODO] 각 데이터프레임에서 `id` 컬럼을 지워주세요."
   ]
  },
  {
   "cell_type": "code",
   "execution_count": null,
   "metadata": {
    "id": "ONTBe20XMScu"
   },
   "outputs": [],
   "source": [
    "train_df = # [YOUR CODE]\n",
    "test_df = # [YOUR CODE]"
   ]
  },
  {
   "cell_type": "markdown",
   "metadata": {
    "id": "hwtzvpLeyXj4"
   },
   "source": [
    "아래와 같이 해당 열이 제거된 것을 확인할 수 있습니다."
   ]
  },
  {
   "cell_type": "code",
   "execution_count": null,
   "metadata": {
    "colab": {
     "base_uri": "https://localhost:8080/"
    },
    "id": "AKZAvGS7KWZa",
    "outputId": "7d04106c-f61c-459f-bbb7-db7c5db4c557"
   },
   "outputs": [],
   "source": [
    "print(train_df.shape)\n",
    "print(test_df.shape)"
   ]
  },
  {
   "cell_type": "markdown",
   "metadata": {
    "id": "UYVAMaRwU6s4"
   },
   "source": [
    "### 2.2 문장 길이 파악\n",
    "\n",
    "토큰화 과정에 들어가기 전에, 문장의 길이를 파악하는 것은 매우 중요합니다.  \n",
    "\n",
    "텍스트 데이터 전처리 과정에서 문장 간의 길이가 크게 차이날 경우, 패딩과 길이 제한으로 인해 모델이 데이터를 안정적으로 학습하기 어려울 수 있습니다.  \n",
    "\n",
    "그러므로 문장 길이를 시각화하여, 학습 전 토큰화 과정에서 데이터의 특징을 고려하는 데 참고할 만한 인사이트를 얻어봅시다.\n",
    "\n",
    "학습용 데이터의 리뷰 길이를 모아 `train_len`에 리스트로 담아봅시다."
   ]
  },
  {
   "cell_type": "markdown",
   "metadata": {},
   "source": [
    "### [TODO] 학습 데이터의 리뷰 별 길이값을 추출하여, `train_len`리스트에 담아주세요."
   ]
  },
  {
   "cell_type": "code",
   "execution_count": null,
   "metadata": {
    "id": "UJsRhMn3UDei"
   },
   "outputs": [],
   "source": [
    "train_len = # [YOUR CODE]"
   ]
  },
  {
   "cell_type": "markdown",
   "metadata": {
    "id": "uNHSCu-KzHkQ"
   },
   "source": [
    "문장 길이 데이터가 모였다면, 이를 히스토그램(도수분포표)으로 시각화해봅시다."
   ]
  },
  {
   "cell_type": "code",
   "execution_count": null,
   "metadata": {
    "colab": {
     "base_uri": "https://localhost:8080/",
     "height": 557
    },
    "id": "24NvaOPVUTRf",
    "outputId": "134cf9dc-d66a-40cd-a9f0-4b20dc8c6635"
   },
   "outputs": [],
   "source": [
    "# 필요한 라이브러리를 가져옵니다.\n",
    "import matplotlib.pyplot as plt\n",
    "\n",
    "# 그래프의 크기를 설정합니다. (가로 10, 세로 6)\n",
    "plt.figure(figsize=(10, 6))\n",
    "\n",
    "# 학습 데이터의 문장 길이에 대한 히스토그램\n",
    "# bins는 히스토그램의 막대 개수를 의미하며, 색상은 'skyblue', 테두리 색상은 'black'으로 설정\n",
    "plt.hist(train_len, bins=20, color='skyblue', edgecolor='black')\n",
    "\n",
    "# 그래프의 제목을 설정\n",
    "plt.title('Histogram - length of train sentences')\n",
    "\n",
    "# x축과 y축의 라벨을 설정\n",
    "plt.xlabel('Length')\n",
    "plt.ylabel('Frequency')\n",
    "\n",
    "# 그래프에 격자를 추가\n",
    "plt.grid(True)\n",
    "\n",
    "# 그래프를 화면에 표시\n",
    "plt.show()"
   ]
  },
  {
   "cell_type": "markdown",
   "metadata": {
    "id": "6x8fenFgzPrM"
   },
   "source": [
    "학습 데이터의 경우 대부분 150자 이내의 범위에 존재하는 것을 알 수 있습니다.  \n",
    "\n",
    "또한 대부분의 데이터는 길이가 20에서 40 사이에 분포함을 알 수 있습니다.\n",
    "\n",
    "이어서 테스트 데이터에 대해서도 같은 과정을 밟아보겠습니다."
   ]
  },
  {
   "cell_type": "markdown",
   "metadata": {},
   "source": [
    "### [TODO] 테스트 데이터에 대한 길이 값을 측정하여 히스토그램으로 표현해주세요.\n",
    "\n",
    "위에서 진행한 내용과 동일한 절차대로 코드를 완성해주세요."
   ]
  },
  {
   "cell_type": "code",
   "execution_count": null,
   "metadata": {
    "colab": {
     "base_uri": "https://localhost:8080/",
     "height": 563
    },
    "id": "gGWmKvjqUpP1",
    "outputId": "89c49e9a-f72a-451f-a0fa-21c55460e9a3"
   },
   "outputs": [],
   "source": [
    "test_len = # [YOUR CODE]\n",
    "\n",
    "plt.figure(figsize=(10, 6))\n",
    "plt.hist(# [YOUR CODE], bins=20, color='skyblue', edgecolor='black')\n",
    "plt.title('Histogram - length of test sentences')\n",
    "plt.xlabel('Length')\n",
    "plt.ylabel('Frequency')\n",
    "plt.grid(True)\n",
    "plt.show()"
   ]
  },
  {
   "cell_type": "markdown",
   "metadata": {
    "id": "2B-oL_ebzeWV"
   },
   "source": [
    "학습 데이터와 크게 다르지 않습니다.  \n",
    "\n",
    "이를 통해 우리는 문장 내 평균 128단어보다 적은 수의 단어가 존재할 것이라고 가정해보록 하겠습니다.\n",
    "\n",
    "해당 정보를 변수에 할당하여 토큰화에 활용해보도록 합시다."
   ]
  },
  {
   "cell_type": "code",
   "execution_count": null,
   "metadata": {
    "id": "Y6E2BfXuVJnM"
   },
   "outputs": [],
   "source": [
    "MAXLEN = 128"
   ]
  },
  {
   "cell_type": "markdown",
   "metadata": {
    "id": "3wIVRbgXVYFU"
   },
   "source": [
    "### 2.3 레이블 분포 파악\n",
    "\n",
    "이번에는 레이블의 분포를 파악해보도록 하겠습니다.  \n",
    "\n",
    "레이블의 분포가 불균형하다면, 모델이 자칫 잘못 학습될 수 있기 때문입니다.\n",
    "\n",
    "`.value_counts()`메서드를 활용하여 레이블의 수를 세고, 이를 변수에 할당합니다."
   ]
  },
  {
   "cell_type": "code",
   "execution_count": null,
   "metadata": {
    "id": "6jbPcqqaVZZl"
   },
   "outputs": [],
   "source": [
    "# 학습 데이터에서 'label' 열의 각 값의 빈도수를 계산\n",
    "train_label_count = train_df['label'].value_counts()\n",
    "\n",
    "# 테스트 데이터에서 'label' 열의 각 값의 빈도수를 계산\n",
    "test_label_count = test_df['label'].value_counts()"
   ]
  },
  {
   "cell_type": "markdown",
   "metadata": {
    "id": "zGnjl5L70AFH"
   },
   "source": [
    "모아진 레이블 분포를 위와 마찬가지로 히스토그램으로 표현해보겠습니다."
   ]
  },
  {
   "cell_type": "markdown",
   "metadata": {},
   "source": [
    "### [TODO] 레이블 분포에 대한 히스토그램을 그려주세요.\n",
    "\n",
    "위와 같은 과정으로 진행해주시되, 헷갈리는 부분은 주석을 참고하여 코드를 완성해주세요."
   ]
  },
  {
   "cell_type": "code",
   "execution_count": null,
   "metadata": {
    "colab": {
     "base_uri": "https://localhost:8080/",
     "height": 507
    },
    "id": "tXaExmTzVkSL",
    "outputId": "c781c55a-520c-4d27-fb46-d78ffbe24ab5"
   },
   "outputs": [],
   "source": [
    "# 그래프의 크기를 설정 (가로 8, 세로 5)\n",
    "plt.figure(figsize=(8, 5))\n",
    "\n",
    "# 학습 데이터의 라벨 분포를 바 차트로 표현\n",
    "# 색상은 'skyblue', 테두리 색상은 'black'으로 설정\n",
    "train_label_count.plot(kind=# [YOUR CODE], color=# [YOUR CODE], edgecolor=# [YOUR CODE])\n",
    "\n",
    "# 그래프의 제목을 설정\n",
    "plt.title('Train label distribusion')\n",
    "\n",
    "# x축과 y축의 라벨을 설정\n",
    "plt.xlabel('Labels')\n",
    "plt.ylabel('Frequency')\n",
    "\n",
    "# x축의 라벨 회전 각도를 설정. 여기서는 0도로 설정하여 라벨이 수평으로 표시\n",
    "plt.xticks(rotation=0)\n",
    "\n",
    "# y축에만 격자를 추가\n",
    "plt.grid(axis='y')\n",
    "\n",
    "# 그래프의 레이아웃을 조정\n",
    "plt.tight_layout()\n",
    "\n",
    "# 그래프를 화면에 표시\n",
    "plt.show()"
   ]
  },
  {
   "cell_type": "code",
   "execution_count": null,
   "metadata": {
    "colab": {
     "base_uri": "https://localhost:8080/",
     "height": 507
    },
    "id": "g6yn5cnsVwWt",
    "outputId": "d42c94e6-0518-41a3-cd11-bf4dd0795429"
   },
   "outputs": [],
   "source": [
    "# 바 차트 그리기\n",
    "plt.figure(figsize=(8, 5))\n",
    "test_label_count.plot(kind='bar', color='skyblue', edgecolor='black')\n",
    "plt.title('Test label distribusion')\n",
    "plt.xlabel('Labels')\n",
    "plt.ylabel('Frequency')\n",
    "plt.xticks(rotation=0)\n",
    "plt.grid(axis='y')\n",
    "plt.tight_layout()\n",
    "plt.show()"
   ]
  },
  {
   "cell_type": "markdown",
   "metadata": {
    "id": "3J-MANQq0HjU"
   },
   "source": [
    "학습 데이터와 테스트 데이터 모두 레이블 분포에 거의 차이가 없습니다.  \n",
    "\n",
    "이 정도면 데이터 불균형에 대한 걱정 없이 모델을 학습시켜도 되겠습니다."
   ]
  },
  {
   "cell_type": "markdown",
   "metadata": {
    "id": "OXZl_RJ1V3IW"
   },
   "source": [
    "### 2.4 결측치 제거\n",
    "\n",
    "이어서 데이터에 결측치가 있는지 확인해보도록 하겠습니다.\n",
    "\n",
    "데이터프레임의 `.info()` 메서드를 사용하면 열 별 데이터의 타입과 결측 여부를 간단하게 확인할 수 있습니다."
   ]
  },
  {
   "cell_type": "code",
   "execution_count": null,
   "metadata": {
    "colab": {
     "base_uri": "https://localhost:8080/"
    },
    "id": "ZFlq_UP-KcdD",
    "outputId": "2c571476-ec87-4ae0-f7a0-8a8aa211216e"
   },
   "outputs": [],
   "source": [
    "train_df.info()"
   ]
  },
  {
   "cell_type": "code",
   "execution_count": null,
   "metadata": {
    "colab": {
     "base_uri": "https://localhost:8080/"
    },
    "id": "KS0aQYREKtNq",
    "outputId": "19629fb5-b304-4173-cf65-d415118ada0a"
   },
   "outputs": [],
   "source": [
    "test_df.info()"
   ]
  },
  {
   "cell_type": "markdown",
   "metadata": {
    "id": "DJ8augs-1Mkz"
   },
   "source": [
    "학습 데이터와 테스트 데이터에서 각자 5개와 3개의 결측치가 있다고 보고됩니다. 이를 자세하게 확인해보도록 하겠습니다.  "
   ]
  },
  {
   "cell_type": "code",
   "execution_count": null,
   "metadata": {
    "colab": {
     "base_uri": "https://localhost:8080/"
    },
    "id": "rZGMwSUsKv6d",
    "outputId": "f2d6d8f7-9294-4c00-99a3-808e3d74f533"
   },
   "outputs": [],
   "source": [
    "train_df.isnull().sum()"
   ]
  },
  {
   "cell_type": "code",
   "execution_count": null,
   "metadata": {
    "colab": {
     "base_uri": "https://localhost:8080/"
    },
    "id": "kv0knQwfK1ua",
    "outputId": "6fa5d1c9-9c33-439d-858c-4954d1e2841f"
   },
   "outputs": [],
   "source": [
    "test_df.isnull().sum()"
   ]
  },
  {
   "cell_type": "markdown",
   "metadata": {
    "id": "MfHD0pAp1Wpx"
   },
   "source": [
    "결측치가 확인되었습니다. 해당 샘플은 학습에 사용할 수 없으니 제거하도록 하겠습니다.  "
   ]
  },
  {
   "cell_type": "code",
   "execution_count": null,
   "metadata": {
    "colab": {
     "base_uri": "https://localhost:8080/"
    },
    "id": "Zn0OlTZAK3UM",
    "outputId": "37c6024a-8daf-4f55-c790-d8f8bc01a406"
   },
   "outputs": [],
   "source": [
    "# 학습 데이터에서 결측값을 포함하는 행을 제거\n",
    "train_df = train_df.dropna(axis=0)\n",
    "\n",
    "# 테스트 데이터에서 결측값을 포함하는 행을 제거\n",
    "test_df = test_df.dropna(axis=0)\n",
    "\n",
    "# 데이터의 형태(행과 열의 수)를 출력\n",
    "print(train_df.shape)\n",
    "print(test_df.shape)"
   ]
  },
  {
   "cell_type": "markdown",
   "metadata": {
    "id": "-z11ZvjMV84o"
   },
   "source": [
    "### 2.5 중복 데이터 제거\n",
    "\n",
    "중복되는 데이터도 학습에 지장을 줍니다. 해당 데이터를 찾아 제거하도록 하겠습니다.\n",
    "\n",
    "우선 중복되는 데이터를 찾아 수를 세어보겠습니다."
   ]
  },
  {
   "cell_type": "code",
   "execution_count": null,
   "metadata": {
    "colab": {
     "base_uri": "https://localhost:8080/",
     "height": 424
    },
    "id": "vSfAh9kRLIMX",
    "outputId": "1e5bf899-91c6-4d9c-b459-89fbe9600007"
   },
   "outputs": [],
   "source": [
    "# 학습 데이터에서 중복된 행을 찾은 후\n",
    "train_duplicated = train_df[train_df.duplicated()]\n",
    "\n",
    "# 중복된 행들을 출력\n",
    "train_duplicated"
   ]
  },
  {
   "cell_type": "markdown",
   "metadata": {
    "id": "9e7X0z_T2QfE"
   },
   "source": [
    "학습데이터에서 꽤나 많은 수의 중복 데이터가 발견됩니다. 테스트 데이터도 살펴보겠습니다."
   ]
  },
  {
   "cell_type": "markdown",
   "metadata": {},
   "source": [
    "### [TODO] 테스트 데이터에서 중복되는 행을 찾아 수를 출력해주세요."
   ]
  },
  {
   "cell_type": "code",
   "execution_count": null,
   "metadata": {
    "colab": {
     "base_uri": "https://localhost:8080/"
    },
    "id": "fhUK7bOcLOtg",
    "outputId": "8e177cc3-a032-4214-f7c0-77b9156c3eca"
   },
   "outputs": [],
   "source": [
    "# 테스트 데이터에서 중복되는 행의 수를 집계\n",
    "# [YOUR CODE]"
   ]
  },
  {
   "cell_type": "markdown",
   "metadata": {
    "id": "ogvNySRY2W0a"
   },
   "source": [
    "두 데이터를 합치면 4000여 개 이상의 리뷰에서 중복값이 발견됩니다. 해당 샘플들을 전부 삭제해줍시다."
   ]
  },
  {
   "cell_type": "code",
   "execution_count": null,
   "metadata": {
    "colab": {
     "base_uri": "https://localhost:8080/"
    },
    "id": "wAjOWSATLRuP",
    "outputId": "0fa9b9bb-20f2-4ef9-a50b-25c46ae42bd6"
   },
   "outputs": [],
   "source": [
    "# document 열에서 모든 중복데이터 제거 후 인덱스 재정렬\n",
    "train_df.drop_duplicates(subset=['document'], inplace=True)\n",
    "test_df.drop_duplicates(subset=['document'], inplace=True)"
   ]
  },
  {
   "cell_type": "markdown",
   "metadata": {},
   "source": [
    "### 2.6 데이터 일부 사용\n",
    "긍/부정 평가를 위해 150000여 개의 데이터로 학습시키는 것은 다소 과도합니다. 이 중 20퍼센트의 데이터만 활용하도록 합시다."
   ]
  },
  {
   "cell_type": "code",
   "execution_count": null,
   "metadata": {},
   "outputs": [],
   "source": [
    "train_df = train_df.sample(frac=0.2, random_state=42)\n",
    "test_df = test_df.sample(frac=0.2, random_state=42)\n",
    "\n",
    "print(train_df.shape)\n",
    "print(test_df.shape)"
   ]
  },
  {
   "cell_type": "markdown",
   "metadata": {
    "id": "njmp99qfWBns"
   },
   "source": [
    "### 2.6 데이터셋 클래스 선언\n",
    "\n",
    "데이터셋 클래스를 선언하도록 하겠습니다.  \n",
    "\n",
    "아래 데이터셋은 PyTorch의 Dataset 클래스를 상속받아 정의하며, 이를 통해 데이터 로딩 및 전처리를 효율적으로 수행할 수 있습니다.\n",
    "\n",
    "또한 `DataLoader`와 함께 사용하면 배치 단위로 데이터를 불러와 모델 학습에 사용할 수 있습니다.  \n",
    "\n",
    "이 클래스는 주어진 데이터프레임(`df`), 토크나이저(`tokenizer`), 그리고 최대 시퀀스 길이(`maxlen`)를 기반으로 텍스트 데이터를 처리하고 모델에 입력할 수 있는 형태로 반환합니다."
   ]
  },
  {
   "cell_type": "code",
   "execution_count": null,
   "metadata": {
    "id": "nE8vd_tCGQGW"
   },
   "outputs": [],
   "source": [
    "# PyTorch의 Dataset 클래스를 상속받아 사용자 정의 데이터셋 클래스를 정의\n",
    "class NSMCDataset(Dataset):\n",
    "\n",
    "    # 초기화 메서드\n",
    "    def __init__(self, df, tokenizer, maxlen):\n",
    "        # 데이터프레임, 토크나이저, 최대 시퀀스 길이를 인스턴스 변수로 저장\n",
    "        self.dataset = df\n",
    "        self.tokenizer = tokenizer\n",
    "        self.maxlen = maxlen\n",
    "\n",
    "    # 데이터셋의 전체 길이(항목 수)를 반환하는 메서드\n",
    "    def __len__(self):\n",
    "        return len(self.dataset)\n",
    "\n",
    "    # 주어진 인덱스에 해당하는 데이터 항목을 반환하는 메서드\n",
    "    def __getitem__(self, idx):\n",
    "        # 주어진 인덱스에 해당하는 행을 가져옴\n",
    "        row = self.dataset.iloc[idx].values\n",
    "        text = row[0]  # 텍스트 데이터\n",
    "        y = row[1]     # 라벨\n",
    "\n",
    "        # 텍스트를 토크나이저를 사용하여 토큰화하고, 필요한 형태로 변환\n",
    "        inputs = self.tokenizer(\n",
    "            text,\n",
    "            return_tensors='pt',\n",
    "            truncation=True,\n",
    "            max_length=self.maxlen,\n",
    "            pad_to_max_length=True,\n",
    "            add_special_tokens=True\n",
    "            )\n",
    "\n",
    "        # 입력 ID와 attention mask를 추출\n",
    "        input_ids = inputs['input_ids'][0]\n",
    "        attention_mask = inputs['attention_mask'][0]\n",
    "\n",
    "        # 입력 ID, attention mask, 라벨을 반환\n",
    "        return input_ids, attention_mask, y"
   ]
  },
  {
   "cell_type": "markdown",
   "metadata": {
    "id": "Xu5pQh_74Wpo"
   },
   "source": [
    "- `__init__`: 초기화 작업을 수행합니다. 주어진 데이터프레임, 토크나이저, 최대 시퀀스 길이를 인스턴스 변수로 저장합니다.\n",
    "\n",
    "- `__len__`: 데이터셋의 전체 길이(항목 수)를 반환합니다.\n",
    "\n",
    "- `__getitem__`: 주어진 인덱스에 해당하는 데이터 항목을 반환합니다. 이 메서드에서는 텍스트 데이터를 토크나이저를 사용하여 토큰화하고, 필요한 형태로 변환한 후, 입력 ID와 attention mask를 추출하여 반환합니다.\n",
    "\n",
    "`__getitem__` 내부의 토크나이저에서 일어나는 과정을 자세히 설명드리자면 다음과 같습니다.\n",
    "\n",
    "```\n",
    "inputs = self.tokenizer(\n",
    "    text,  # 토큰화할 텍스트\n",
    "    return_tensors='pt',  # 반환되는 텐서의 형태\n",
    "    truncation=True,  # 길이 제한\n",
    "    max_length=self.maxlen,  # 시퀀스의 최대 길이\n",
    "    pad_to_max_length=True,  # 패딩\n",
    "    add_special_tokens=True  # 특별 토큰 추가\n",
    ")\n",
    "```\n",
    "\n",
    "- `text`: 토큰화할 원본 텍스트입니다.\n",
    "\n",
    "- `return_tensors`: 반환되는 데이터의 형태를 지정합니다. `'pt'`는 PyTorch 텐서를 의미하며, 이외에 `'tf'`로 TensorFlow 텐서를 반환받을 수도 있습니다.\n",
    "\n",
    "- `truncation`: `True`로 설정하면, max_length보다 긴 시퀀스는 자동으로 잘라냅니다.\n",
    "\n",
    "- `max_length`: 시퀀스의 최대 길이를 지정합니다. 주어진 텍스트의 토큰 수가 이 값보다 크면 `truncation`에 따라 잘라내고, 작으면 `pad_to_max_length에` 따라 패딩됩니다.\n",
    "\n",
    "- `pad_to_max_length`: `True`로 설정하면, `max_length`까지 시퀀스를 패딩합니다. 패딩은 주로 모델의 입력 사이즈를 일정하게 맞추기 위해 사용됩니다.\n",
    "\n",
    "- `add_special_tokens`: BERT와 같은 모델에서는 특별한 의미를 가진 토큰들(`[CLS]`, `[SEP]` 등)이 필요합니다. 이 파라미터를 `True`로 설정하면, 이러한 특별 토큰들이 자동으로 추가됩니다."
   ]
  },
  {
   "cell_type": "markdown",
   "metadata": {
    "id": "D8MLcZGFWE5N"
   },
   "source": [
    "### 2.7 데이터셋 생성\n",
    "\n",
    "위에서 선언한 클래스를 이용하여 학습용 데이터셋과 테스트용 데이터셋 인스턴스를 생성합니다."
   ]
  },
  {
   "cell_type": "markdown",
   "metadata": {},
   "source": [
    "### [TODO] 위에서 선언한 클래스를 바탕으로 학습과 테스트 데이터셋 인스턴스를 생성해주세요."
   ]
  },
  {
   "cell_type": "code",
   "execution_count": null,
   "metadata": {
    "id": "_qRmW72vGatK"
   },
   "outputs": [],
   "source": [
    "train_dataset = # [YOUR CODE]\n",
    "test_dataset = # [YOUR CODE]"
   ]
  },
  {
   "cell_type": "markdown",
   "metadata": {
    "id": "mJ2-Bb-AWGK8"
   },
   "source": [
    "### 2.8 데이터로더 생성\n",
    "\n",
    "이번에는 데이터로더를 생성하도록 하겠습니다.\n",
    "\n",
    "Pytorch 데이터로더는 데이터셋과 배치 사이즈를 입력으로 받아, 데이터셋에서 데이터를 가져와 배치로 묶어주는 반복 가능한 객체(iterable)를 생성합니다.  \n",
    "\n",
    "이는 미니배치 학습, 데이터 셔플, 병렬 데이터 로딩 등을 쉽게 수행할 수 있게 해줍니다."
   ]
  },
  {
   "cell_type": "code",
   "execution_count": null,
   "metadata": {
    "id": "2irhKY8ncX9X"
   },
   "outputs": [],
   "source": [
    "batch_size = 64\n",
    "\n",
    "train_loader = DataLoader(train_dataset, batch_size=batch_size, shuffle=True)\n",
    "test_loader = DataLoader(test_dataset, batch_size=batch_size, shuffle=True)"
   ]
  },
  {
   "cell_type": "markdown",
   "metadata": {
    "id": "BDpsg2ji50xJ"
   },
   "source": [
    "이제 데이터 준비는 끝났습니다. 모델에 데이터를 넣고 학습시켜보겠습니다."
   ]
  },
  {
   "cell_type": "markdown",
   "metadata": {
    "id": "aXuw1br4dKGY"
   },
   "source": [
    "## 3. 모델 불러오기 및 학습\n",
    "앞서 KoBERT를 불러왔기 때문에, 모델을 GPU로 전송합니다."
   ]
  },
  {
   "cell_type": "code",
   "execution_count": null,
   "metadata": {
    "id": "F_CL8MGK59am"
   },
   "outputs": [],
   "source": [
    "bertmodel.to(device)"
   ]
  },
  {
   "cell_type": "markdown",
   "metadata": {
    "id": "sK2ek4uV6ONW"
   },
   "source": [
    "Pytorch 모델의 특징 중 하나는, `print()` 함수를 통해 모델의 구조를 간단하게 출력할 수 있다는 것입니다. 한 번 사용해보겠습니다."
   ]
  },
  {
   "cell_type": "markdown",
   "metadata": {},
   "source": [
    "### [TODO] 모델의 구조를 출력해주세요."
   ]
  },
  {
   "cell_type": "code",
   "execution_count": null,
   "metadata": {
    "colab": {
     "base_uri": "https://localhost:8080/"
    },
    "id": "tbqIn5XSGpba",
    "outputId": "4e2b8184-603b-494b-d056-e7c91bfb087e"
   },
   "outputs": [],
   "source": [
    "# [YOUR CODE]"
   ]
  },
  {
   "cell_type": "markdown",
   "metadata": {
    "id": "GiqEFtsK6b8J"
   },
   "source": [
    "이번에는 학습에 필요한 하이퍼파라미터와 옵티마이저, 손실함수를 선언하겠습니다.  \n",
    "\n",
    "분류 문제이므로 손실함수는 Cross entropy를 사용하고, 옵티마이저는 AdamW를 사용합니다.  \n",
    "\n",
    "이는 Adam 옵티마이저의 변형으로, 가중치 감쇠(weight decay)를 적용합니다."
   ]
  },
  {
   "cell_type": "code",
   "execution_count": null,
   "metadata": {
    "id": "2R2gd-CQGuJg"
   },
   "outputs": [],
   "source": [
    "# 학습 에포크 수와 학습률을 설정합니다.\n",
    "epochs = 3\n",
    "lr = 3e-4\n",
    "\n",
    "# AdamW 최적화 알고리즘을 설정합니다.\n",
    "# bertmodel의 파라미터들을 최적화 대상으로 하며, 설정된 학습률(lr)을 사용합니다.\n",
    "optimizer = AdamW(bertmodel.parameters(), lr=lr)\n",
    "\n",
    "# 손실 함수로 크로스 엔트로피를 사용합니다.\n",
    "loss_func = F.cross_entropy"
   ]
  },
  {
   "cell_type": "markdown",
   "metadata": {
    "id": "WyhQW4lk6v9t"
   },
   "source": [
    "### 3.1 학습 함수 선언\n",
    "\n",
    "학습에 필요한 함수를 선언하겠습니다. 주어진 에포크 수만큼 학습을 반복하며, 각 에포크마다 학습 데이터와 검증 데이터에 대한 손실과 정확도를 계산합니다.\n",
    "\n",
    "학습의 결과로 train loss, train accuracy, validation loss, validation accuracy 네 가지 항목을 리스트에 담아 반환하도록 설계합니다."
   ]
  },
  {
   "cell_type": "markdown",
   "metadata": {},
   "source": [
    "### [TODO] 주석을 참조하여 아래 학습 함수의 코드를 완성해주세요."
   ]
  },
  {
   "cell_type": "code",
   "execution_count": null,
   "metadata": {
    "id": "-e3rhWzMG3Vt"
   },
   "outputs": [],
   "source": [
    "def train(model, train_loader, val_loader, optimizer, loss_func, device, epochs):\n",
    "    # 학습 및 검증 과정에서의 손실과 정확도를 저장하기 위한 리스트\n",
    "    train_losses = []\n",
    "    train_accuracies = []\n",
    "    val_losses = []\n",
    "    val_accuracies = []\n",
    "\n",
    "    # 주어진 에포크 수만큼 학습을 반복\n",
    "    for i in range(epochs):\n",
    "        # 학습 모드 설정\n",
    "        # [YOUR CODE]\n",
    "        total_train_loss = 0.0\n",
    "        correct_train = 0\n",
    "        total_train = 0\n",
    "\n",
    "        # 학습 데이터로더에서 배치 단위로 데이터를 가져와 학습\n",
    "        for input_ids_batch, attention_masks_batch, y_batch in tqdm(train_loader):\n",
    "            # 이전 기울기를 초기화\n",
    "            optimizer.zero_grad()\n",
    "            y_batch = y_batch.to(device)\n",
    "            y_pred = model(\n",
    "                input_ids_batch.to(device),\n",
    "                attention_mask=attention_masks_batch.to(device)\n",
    "            )[0]\n",
    "\n",
    "            # 손실 계산\n",
    "            loss = # [YOUR CODE]\n",
    "            # 역전파를 통한 기울기 계산\n",
    "            loss.backward()\n",
    "            # 파라미터 업데이트\n",
    "            optimizer.step()\n",
    "\n",
    "            # 총 손실과 정확도 계산\n",
    "            total_train_loss += loss.item()\n",
    "            _, predicted = torch.max(y_pred, 1)\n",
    "            correct_train += (predicted == y_batch).sum().item()\n",
    "            total_train += len(y_batch)\n",
    "\n",
    "        # 학습 손실과 정확도 저장\n",
    "        train_losses.append(total_train_loss / len(train_loader))\n",
    "        train_accuracies.append(correct_train / total_train)\n",
    "        print(\"Train Loss:\", total_train_loss / len(train_loader), \"Train Accuracy:\", correct_train / total_train)\n",
    "\n",
    "        # 검증 모드 설정\n",
    "        # [YOUR CODE]\n",
    "        total_val_loss = 0.0\n",
    "        correct_val = 0\n",
    "        total_val = 0\n",
    "\n",
    "        # 기울기 계산을 중지하여 메모리 사용량을 줄이고 속도를 높임\n",
    "        with torch.# [YOUR CODE]:\n",
    "            # 검증 데이터로더에서 배치 단위로 데이터를 가져와 검증\n",
    "            for input_ids_batch, attention_masks_batch, y_batch in val_loader:\n",
    "                y_batch = y_batch.to(device)\n",
    "                y_pred = model(\n",
    "                    input_ids_batch.to(device),\n",
    "                    attention_mask=attention_masks_batch.to(device)\n",
    "                )[0]\n",
    "\n",
    "                # 손실 계산\n",
    "                loss = # [YOUR CODE]\n",
    "                total_val_loss += loss.item()\n",
    "\n",
    "                # 정확도 계산\n",
    "                _, predicted = torch.max(y_pred, 1)\n",
    "                correct_val += (predicted == y_batch).sum().item()\n",
    "                total_val += len(y_batch)\n",
    "\n",
    "        # 검증 손실과 정확도 저장\n",
    "        val_losses.append(total_val_loss / len(val_loader))\n",
    "        val_accuracies.append(correct_val / total_val)\n",
    "        print(\"Validation Loss:\", total_val_loss / len(val_loader), \"Validation Accuracy:\", correct_val / total_val)\n",
    "\n",
    "    return train_losses, train_accuracies, val_losses, val_accuracies"
   ]
  },
  {
   "cell_type": "markdown",
   "metadata": {
    "id": "MHNikFwA7jRg"
   },
   "source": [
    "함수는 크게 네 부분으로 구성됩니다.\n",
    "\n",
    "1. 초기화:\n",
    "```\n",
    "    train_losses = []\n",
    "    train_accuracies = []\n",
    "    val_losses = []\n",
    "    val_accuracies = []\n",
    "```\n",
    "\n",
    "학습 및 검증 과정에서의 손실과 정확도를 저장하기 위한 리스트를 초기화합니다.\n",
    "\n",
    "2. 학습 루프:\n",
    "\n",
    "```\n",
    "model.train()\n",
    "        total_train_loss = 0.0\n",
    "        correct_train = 0\n",
    "        total_train = 0\n",
    "\n",
    "        # 학습 데이터로더에서 배치 단위로 데이터를 가져와 학습\n",
    "        for input_ids_batch, attention_masks_batch, y_batch in tqdm(train_loader):\n",
    "            # 이전 기울기를 초기화\n",
    "            optimizer.zero_grad()\n",
    "            y_batch = y_batch.to(device)\n",
    "            y_pred = model(\n",
    "                input_ids_batch.to(device),\n",
    "                attention_mask=attention_masks_batch.to(device)\n",
    "            )[0]\n",
    "\n",
    "            # 손실 계산\n",
    "            loss = loss_func(y_pred, y_batch)\n",
    "            # 역전파를 통한 기울기 계산\n",
    "            loss.backward()\n",
    "            # 파라미터 업데이트\n",
    "            optimizer.step()\n",
    "\n",
    "            # 총 손실과 정확도 계산\n",
    "            total_train_loss += loss.item()\n",
    "            _, predicted = torch.max(y_pred, 1)\n",
    "            correct_train += (predicted == y_batch).sum().item()\n",
    "            total_train += len(y_batch)\n",
    "\n",
    "        # 학습 손실과 정확도 저장\n",
    "        train_losses.append(total_train_loss / len(train_loader))\n",
    "        train_accuracies.append(correct_train / total_train)\n",
    "        print(\"Train Loss:\", total_train_loss / len(train_loader), \"Train Accuracy:\", correct_train / total_train)\n",
    "```\n",
    "\n",
    "주어진 에포크 수만큼 학습을 반복합니다.\n",
    "각 에포크마다 학습 데이터를 사용하여 모델을 학습시킵니다.\n",
    "\n",
    "3. 검증 루프:\n",
    "\n",
    "```\n",
    "        model.eval()\n",
    "        total_val_loss = 0.0\n",
    "        correct_val = 0\n",
    "        total_val = 0\n",
    "\n",
    "        # 기울기 계산을 중지하여 메모리 사용량을 줄이고 속도를 높임\n",
    "        with torch.no_grad():\n",
    "            # 검증 데이터로더에서 배치 단위로 데이터를 가져와 검증\n",
    "            for input_ids_batch, attention_masks_batch, y_batch in val_loader:\n",
    "                y_batch = y_batch.to(device)\n",
    "                y_pred = model(\n",
    "                    input_ids_batch.to(device),\n",
    "                    attention_mask=attention_masks_batch.to(device)\n",
    "                )[0]\n",
    "\n",
    "                # 손실 계산\n",
    "                loss = loss_func(y_pred, y_batch)\n",
    "                total_val_loss += loss.item()\n",
    "\n",
    "                # 정확도 계산\n",
    "                _, predicted = torch.max(y_pred, 1)\n",
    "                correct_val += (predicted == y_batch).sum().item()\n",
    "                total_val += len(y_batch)\n",
    "\n",
    "        # 검증 손실과 정확도 저장\n",
    "        val_losses.append(total_val_loss / len(val_loader))\n",
    "        val_accuracies.append(correct_val / total_val)\n",
    "        print(\"Validation Loss:\", total_val_loss / len(val_loader), \"Validation Accuracy:\", correct_val / total_val)\n",
    "```\n",
    "\n",
    "학습된 모델을 검증 데이터셋에 적용하여 성능을 평가합니다.\n",
    "\n",
    "4. 결과 반환:\n",
    "\n",
    "```\n",
    "    return train_losses, train_accuracies, val_losses, val_accuracies\n",
    "```\n",
    "\n",
    "각 에포크마다의 학습 및 검증 손실과 정확도를 반환합니다.\n"
   ]
  },
  {
   "cell_type": "markdown",
   "metadata": {
    "id": "eM6ot35E8bdO"
   },
   "source": [
    "### 3.2 모델 학습\n",
    "\n",
    "위의 함수를 이용하여 모델을 학습시키도록 합시다.\n",
    "\n",
    "상당히 많은 시간이 소요되므로, 배치 사이즈 등을 조절하여 모델을 학습시켜봅시다."
   ]
  },
  {
   "cell_type": "markdown",
   "metadata": {},
   "source": [
    "### [TODO] 학습 함수를 바탕으로 아래 모델을 학습시켜봅시다.\n",
    "\n",
    "모델 학습에 필요한 인자를 명시하여 학습시켜주세요."
   ]
  },
  {
   "cell_type": "code",
   "execution_count": null,
   "metadata": {
    "colab": {
     "base_uri": "https://localhost:8080/",
     "height": 284,
     "referenced_widgets": [
      "d42b0b74a7494f1780c08f6c3054778e",
      "87fedcd10db244e3b39145c06dc130b6",
      "afae3d31adb74eaeb9c4e8842f3d1828",
      "e9ecce05adac416dace396844df03764",
      "6bd44b445e114f888c1809c3dbcc515a",
      "6735151967484adeb219bc8611d256d7",
      "5436bca84131494397ca34277159fd2a",
      "2f1c9e990c58484aa3b112a7dbc7b5a0",
      "d348297d5b7b4b0db12fdec325dfd3e1",
      "cb4ec8c3d0c54205820ecf556a59f8b5",
      "b1f80a59de55466ca902700d65e78004",
      "db8f6e1e23fd47b9924b401c3c632118",
      "556d3afb229f4732a8d6c38051453d3a",
      "9a00514f7fe84e439b41c8b85e584666",
      "820a8f5d39b94d539370b484e2411159",
      "69f77d7d8a194bdeb8fbed9ed8f5bc5c",
      "72b7d076d621410589b602b6be5b8346",
      "398a43b4250d4ec7a0455df0b4c09ec4",
      "584272596b384209bd22508b334b4635",
      "21eb7947a3e2476f84beba8d2fa5cc43",
      "fbedf77bad244e31b5d148a1b7451656",
      "dbc3ba9b2b874300acdbcedf4969d3e4",
      "7edb1799532b4697a252491dd32eed21",
      "d7fe289a6ae04373a8cfefb54ef359af",
      "d3591ac3fdbf4637bf69aabbf3815bfa",
      "8c6bfcf68a08464cb1a335defd936165",
      "f28b4a96ddf643ee931bfc64cfa79a09",
      "72a6709b1f4f47d0b69dffc639d0ab23",
      "d030f3a6f8ec4fe3827fa39d7c6c66fe",
      "b80f897c8e994bca9119a874a8a7e943",
      "f6102d23fb114af2b64b76d1214c83bf",
      "ddef05a902db4402a1d73f32c0febc23",
      "eccce9f118e94056b691a6430a2f6c1d",
      "c7f5b252ff204988b534bef284950f9b",
      "c628993928124e20bfc06339caae7b34",
      "2ee9788cc0334ead92e466dfd276b8cb",
      "224a675fa6f84d4c84802617245acc9a",
      "1e26edbb46964dec856f6d66d4e68b72",
      "e429f52eacb34b92a27d5647bb728352",
      "249a22e7085c4943bcd7406bc1d0e181",
      "d3036e76ba884865bba5f612bd1ed3a8",
      "a974af1b62b742e9a4911505b801a204",
      "4ec467440b264c64a336d6e93393cb62",
      "0b4e57cc551945c5b1dd9278e586b001"
     ]
    },
    "id": "9vutDXooFprd",
    "outputId": "cb5cc5fa-e2c1-4f99-c4b6-6e4876d79c6f"
   },
   "outputs": [],
   "source": [
    "train_losses, train_accuracies, val_losses, val_accuracies = # [YOUR CODE]"
   ]
  },
  {
   "cell_type": "markdown",
   "metadata": {
    "id": "WDYHqBOe6yLv"
   },
   "source": [
    "### 3.3 평가 함수 선언\n",
    "\n",
    "모델 학습이 완료되었다면, 평가 함수를 선언해봅시다.\n",
    "\n",
    "`evaluate` 함수는 주어진 모델, 테스트 데이터 로더, 그리고 장치(`device`)를 인자로 받아 테스트 데이터셋에 대한 평가를 수행합니다.\n",
    "\n",
    "함수는 테스트 데이터에 대한 정확도를 반환하며, 추가로 분류 리포트(Classification report)를 출력합니다.\n",
    "\n",
    "분류 리포트는 각 클래스에 대한 정밀도(precision), 재현율(recall), F1 점수 등의 세부적인 평가 지표를 제공합니다."
   ]
  },
  {
   "cell_type": "code",
   "execution_count": null,
   "metadata": {
    "id": "n87bGRRJG6Pp"
   },
   "outputs": [],
   "source": [
    "def evaluate(model, test_loader, device):\n",
    "    # 검증 모드 설정\n",
    "    model.eval()\n",
    "\n",
    "    test_correct = 0  # 올바르게 분류된 샘플 수\n",
    "    test_total = 0    # 전체 샘플 수\n",
    "    all_preds = []    # 모든 예측값을 저장하기 위한 리스트\n",
    "    all_true = []     # 모든 실제 라벨을 저장하기 위한 리스트\n",
    "\n",
    "    # 테스트 데이터로더에서 배치 단위로 데이터를 가져와 평가\n",
    "    for input_ids_batch, attention_masks_batch, y_batch in tqdm(test_loader):\n",
    "        y_batch = y_batch.to(device)\n",
    "        y_pred = model(\n",
    "            input_ids_batch.to(device),\n",
    "            attention_mask=attention_masks_batch.to(device)\n",
    "        )[0]\n",
    "        _, predicted = torch.max(y_pred, 1)\n",
    "        all_preds.extend(predicted.cpu().numpy())\n",
    "        all_true.extend(y_batch.cpu().numpy())\n",
    "\n",
    "        test_correct += (predicted == y_batch).sum().item()\n",
    "        test_total += len(y_batch)\n",
    "\n",
    "    # 정확도 계산\n",
    "    accuracy = test_correct / test_total\n",
    "    print(\"Accuracy:\", accuracy)\n",
    "\n",
    "    # 분류 리포트 출력\n",
    "    print(\"Classification Report:\")\n",
    "    print(classification_report(all_true, all_preds))\n",
    "\n",
    "    return accuracy"
   ]
  },
  {
   "cell_type": "markdown",
   "metadata": {
    "id": "GmQAJpCz9bKy"
   },
   "source": [
    "위에서 선언한 함수를 바탕으로 모델의 성능을 평가해봅시다. 성능 평가가 끝났다면 모델을 저장하도록 하겠습니다."
   ]
  },
  {
   "cell_type": "code",
   "execution_count": null,
   "metadata": {
    "colab": {
     "base_uri": "https://localhost:8080/",
     "height": 295,
     "referenced_widgets": [
      "7feb62b195c84d828945eb295500b1f1",
      "82c2fb5b0efa4789b5a23bc1b0b3621d",
      "1b6f9e29806e4681ab4686ed980c2d11",
      "fa316d3b052d48748909cd24c9d6b8b2",
      "3aecb7c3654d4806b7f0d37a47d7dbec",
      "f22d9af0931c4ce4b07a0cadbc042404",
      "ef5ab570937943659d9643b3be1ea2ad",
      "afa5946a9f504ac4973318d71b5b957b",
      "df0ec349ed1c40d1a996bd493b047626",
      "170cd253c5b24ac9a2ab2ce421c6298e",
      "792a91f8ebe348a2b8652b3b43f9319e"
     ]
    },
    "id": "gbyaZAtVxHbt",
    "outputId": "880ea497-2382-4911-94ca-080d9474d9c4"
   },
   "outputs": [],
   "source": [
    "test_acc = evaluate(bertmodel,\n",
    "                    test_loader,\n",
    "                    device)"
   ]
  },
  {
   "cell_type": "code",
   "execution_count": null,
   "metadata": {
    "id": "Rrlt5ath9kBp"
   },
   "outputs": [],
   "source": [
    "# 모델 저장하기\n",
    "model.save_pretrained(\"kobert\")"
   ]
  },
  {
   "cell_type": "markdown",
   "metadata": {
    "id": "a45HhyezQn2L"
   },
   "source": [
    "# KoElectra를 활용한 한국어 문장 분류\n",
    "\n",
    "이번에는 [KoELECTRA](https://github.com/monologg/KoELECTRA) 모델을 통해 학습과 평가를 진행해보겠습니다.\n",
    "\n",
    "ELECTRA는 Efficiently Learning an Encoder that Classifies Token Replacements Accurately의 약자로, BERT와 유사한 아키텍처를 가지지만 훨씬 효율적인 학습 방법을 사용하는 모델입니다.\n",
    "\n",
    "ELECTRA는 Generator와 Discriminator 두 부분으로 구성되어 있습니다. Generator는 입력 텍스트의 일부 토큰을 다른 토큰으로 대체하고, Discriminator는 이러한 대체가 올바른지 아닌지를 판단합니다. 이러한 방식으로, ELECTRA는 BERT와 비교하여 더 적은 계산 리소스로 더 높은 성능을 달성합니다.\n",
    "\n",
    "KoELECTRA는 한국어 텍스트 처리를 위해 특별히 훈련된 ELECTRA 모델로, 한국어의 특성을 반영하여 최적화되었습니다.\n",
    "\n",
    "이번 모델도 문장 분류를 수행해야 하므로 `ElectraForSequenceClassification`에서 불러오겠습니다.\n",
    "\n",
    "두 번째 실습에서는 `Bucketing`을 시도해보겠습니다. 나머지 부분은 동일하게 진행하되, 데이터셋 생성 후, 데이터로더를 만들기 전을 주목해주세요."
   ]
  },
  {
   "cell_type": "markdown",
   "metadata": {
    "id": "yaZVsW3eetM1"
   },
   "source": [
    "## 1. 모듈 불러오기 및 환경설정\n",
    "\n",
    "위 실습과 동일한 순서로 진행하겠습니다."
   ]
  },
  {
   "cell_type": "code",
   "execution_count": null,
   "metadata": {
    "id": "EBR00ZX9etNC"
   },
   "outputs": [],
   "source": [
    "# 기본 라이브러리 불러오기\n",
    "import numpy as np\n",
    "import pandas as pd\n",
    "from tqdm.notebook import tqdm  # 반복문의 진행 상태를 표시하는 라이브러리\n",
    "import matplotlib.pyplot as plt\n",
    "\n",
    "# 파이토치 관련 라이브러리 불러오기\n",
    "import torch\n",
    "from torch.optim import AdamW   # AdamW 옵티마이저\n",
    "from torch.nn import functional as F    # 파이토치 함수: 다양한 활성화 함수 및 유틸리티 제공\n",
    "from torch.utils.data import DataLoader, Dataset, Sampler    # 데이터 로딩 및 사용자 정의 데이터셋을 위한 클래스\n",
    "\n",
    "from sklearn.metrics import classification_report   # 모델 성능 평가를 위한 scikit-learn의 classification_report"
   ]
  },
  {
   "cell_type": "code",
   "execution_count": null,
   "metadata": {
    "colab": {
     "base_uri": "https://localhost:8080/",
     "height": 35
    },
    "id": "2wi9Cp7GetNC",
    "outputId": "caa404fc-5f65-4b0f-c4c1-bad46343898f"
   },
   "outputs": [],
   "source": [
    "from torch import cuda\n",
    "\n",
    "# GPU 사용\n",
    "device = 'cuda' if cuda.is_available() else 'cpu'\n",
    "device"
   ]
  },
  {
   "cell_type": "code",
   "execution_count": null,
   "metadata": {
    "colab": {
     "base_uri": "https://localhost:8080/",
     "height": 200,
     "referenced_widgets": [
      "6e94546073c44ae6b0325719a221b50c",
      "26ad0b9ce563415ab3f1767ad451fe59",
      "2a3bcae1447248f0861a191cf10fa0c6",
      "a934ec32b8024ab580edfc3a9b6e3290",
      "b566847106c54803820fd77c9cc23ec3",
      "9ad928d3b65847318f0f283d592399fe",
      "0bd174d120184f9cac4406ed48f0df68",
      "9206bb661369417d8880451f3024da75",
      "5afe92d6d2514be5bea95bf6985707b7",
      "9758a75bda7a4021925de614ba81ea4b",
      "86f0bcc1ecfe4c2598882f006fcd9b2a",
      "fbc85d259be841e99604c5a897e8de8e",
      "bd1a5bfeec6246caa5a43e46672fc734",
      "270e7921eff047c5a01843fc288c54c8",
      "06f18791a8f14d1d8eb9a43325643d5f",
      "e741e9ae35294c52a551ade794fdf629",
      "f9188b64c3ae4448969023c7f13dc3f2",
      "084a48378bd74e899c566d5eb599d9af",
      "487532698a20434cb785e967810dd1a5",
      "d1be7a793fb9487485c294a9ecce8e31",
      "3c9eaccfce854df6acd785377a8aa377",
      "05ef5211b1284ef6808d6ff5da618af1",
      "334195db181044149c01a60eb9b38f67",
      "520d6ca799cd44d0a52f7ae198a4c2a6",
      "716771f12a694b38a06d5c3f24461627",
      "eab670f91db448598bddad9f620a134e",
      "08354e36a4ea45c0a56db496acb44775",
      "41ba80d42c5042198c0a034c27e5485f",
      "55189b9a2b084281b8d44fc17622868c",
      "19fbf8035f2e4a36b3357a0495e29d10",
      "862ec571accb410c903b0ff04ee3ff13",
      "44accb7ae95c4a15974895eabdf50a3e",
      "2fc6495a44bb4cb1a71b52bc71c2484c",
      "dc65e62a1b044e259ad7566b1ab99e68",
      "556b48fc0a594658b6aa910ba5d428b9",
      "a78e4b56d4ca47f1b67609e010afb15c",
      "b2e324d86e0a431682b5f958ec80770e",
      "a6176639d8604c388d4b2a3b74d1fb7e",
      "566d40479fca40e896076e06304c393c",
      "63a60c5681864a38bf2b295434b66809",
      "686199e61fb942aab8d0be34e4fa2444",
      "32ef2f5685384a21862c449ae393e94d",
      "a44e50187f3540598a2b78e094417259",
      "52251306b16a4d4ba832968dae60edc0"
     ]
    },
    "id": "mfb5M-fZetNC",
    "outputId": "38aad6f6-4e5f-4fb5-8319-6e57458c8fe9"
   },
   "outputs": [],
   "source": [
    "from transformers import ElectraForSequenceClassification, AutoTokenizer\n",
    "\n",
    "model = ElectraForSequenceClassification.from_pretrained(\"monologg/koelectra-base-v3-discriminator\").to(device)\n",
    "tokenizer = AutoTokenizer.from_pretrained(\"monologg/koelectra-base-v3-discriminator\")"
   ]
  },
  {
   "cell_type": "markdown",
   "metadata": {
    "id": "g8zc56YVetNC"
   },
   "source": [
    "## 2. 데이터 불러오기 및 전처리"
   ]
  },
  {
   "cell_type": "code",
   "execution_count": null,
   "metadata": {
    "id": "30cD1mI2etND"
   },
   "outputs": [],
   "source": [
    "train_df = pd.read_csv('./ratings_train.txt', sep='\\t')\n",
    "test_df = pd.read_csv('./ratings_test.txt', sep='\\t')"
   ]
  },
  {
   "cell_type": "code",
   "execution_count": null,
   "metadata": {
    "colab": {
     "base_uri": "https://localhost:8080/",
     "height": 206
    },
    "id": "MapEwtyBetND",
    "outputId": "eb9edcd8-d4a5-4cb3-b63f-eb6464349fe7"
   },
   "outputs": [],
   "source": [
    "train_df.head()"
   ]
  },
  {
   "cell_type": "code",
   "execution_count": null,
   "metadata": {
    "colab": {
     "base_uri": "https://localhost:8080/",
     "height": 206
    },
    "id": "Ev9o89cYetND",
    "outputId": "e2391a5f-d475-4f28-b600-86f8e7011af8"
   },
   "outputs": [],
   "source": [
    "test_df.head()"
   ]
  },
  {
   "cell_type": "markdown",
   "metadata": {
    "id": "lUK2qa0petND"
   },
   "source": [
    "### 2.1 불필요한 열 제거"
   ]
  },
  {
   "cell_type": "code",
   "execution_count": null,
   "metadata": {
    "id": "8sulw6woetND"
   },
   "outputs": [],
   "source": [
    "train_df = train_df.drop(columns=['id'])\n",
    "test_df = test_df.drop(columns=['id'])"
   ]
  },
  {
   "cell_type": "code",
   "execution_count": null,
   "metadata": {
    "colab": {
     "base_uri": "https://localhost:8080/"
    },
    "id": "COYe2c_1etND",
    "outputId": "a1e2f342-6ac3-4369-9abc-6e75677c59df"
   },
   "outputs": [],
   "source": [
    "print(train_df.shape)\n",
    "print(test_df.shape)"
   ]
  },
  {
   "cell_type": "markdown",
   "metadata": {
    "id": "JL3Huu_UetND"
   },
   "source": [
    "### 2.2 문장 길이 파악"
   ]
  },
  {
   "cell_type": "code",
   "execution_count": null,
   "metadata": {
    "id": "khth7XHjetND"
   },
   "outputs": [],
   "source": [
    "train_len = [train_df['document'].apply(len)]"
   ]
  },
  {
   "cell_type": "code",
   "execution_count": null,
   "metadata": {
    "colab": {
     "base_uri": "https://localhost:8080/",
     "height": 557
    },
    "id": "jsg0-dc6etND",
    "outputId": "9a988447-6aef-4dc4-8c73-1a2c04ca0ac8"
   },
   "outputs": [],
   "source": [
    "plt.figure(figsize=(10, 6))\n",
    "plt.hist(train_len, bins=20, color='skyblue', edgecolor='black')\n",
    "plt.title('Histogram - length of train sentences')\n",
    "plt.xlabel('Length')\n",
    "plt.ylabel('Frequency')\n",
    "plt.grid(True)\n",
    "plt.show()"
   ]
  },
  {
   "cell_type": "code",
   "execution_count": null,
   "metadata": {
    "colab": {
     "base_uri": "https://localhost:8080/",
     "height": 563
    },
    "id": "39X7PFB3etND",
    "outputId": "1cee5421-6500-425c-a0f8-d4eb60275e7b"
   },
   "outputs": [],
   "source": [
    "test_len = [test_df['document'].apply(len)]\n",
    "\n",
    "plt.figure(figsize=(10, 6))\n",
    "plt.hist(test_len, bins=20, color='skyblue', edgecolor='black')\n",
    "plt.title('Histogram - length of test sentences')\n",
    "plt.xlabel('Length')\n",
    "plt.ylabel('Frequency')\n",
    "plt.grid(True)\n",
    "plt.show()"
   ]
  },
  {
   "cell_type": "code",
   "execution_count": null,
   "metadata": {
    "id": "yUjfrGsJetND"
   },
   "outputs": [],
   "source": [
    "MAXLEN = 128"
   ]
  },
  {
   "cell_type": "markdown",
   "metadata": {
    "id": "nK1IMpQoetND"
   },
   "source": [
    "### 2.3 레이블 분포 파악"
   ]
  },
  {
   "cell_type": "code",
   "execution_count": null,
   "metadata": {
    "id": "rZsE8vZMetNE"
   },
   "outputs": [],
   "source": [
    "train_label_count = train_df['label'].value_counts()\n",
    "test_label_count = test_df['label'].value_counts()"
   ]
  },
  {
   "cell_type": "markdown",
   "metadata": {},
   "source": [
    "### [TODO] 레이블 분포를 파악하는 히스토그램을 그려주세요."
   ]
  },
  {
   "cell_type": "code",
   "execution_count": null,
   "metadata": {
    "colab": {
     "base_uri": "https://localhost:8080/",
     "height": 507
    },
    "id": "c6j9NPDuetNE",
    "outputId": "16fedfab-5af0-4b2d-86ed-2788f0de3e43"
   },
   "outputs": [],
   "source": [
    "# 바 차트 그리기\n",
    "plt.figure(figsize=(8, 5))\n",
    "# [YOUR CODE](kind='bar', color='skyblue', edgecolor='black')\n",
    "plt.title('Train label distribusion')\n",
    "plt.xlabel('Labels')\n",
    "plt.ylabel('Frequency')\n",
    "plt.xticks(rotation=0)\n",
    "plt.grid(axis='y')\n",
    "plt.tight_layout()\n",
    "plt.show()"
   ]
  },
  {
   "cell_type": "code",
   "execution_count": null,
   "metadata": {
    "colab": {
     "base_uri": "https://localhost:8080/",
     "height": 507
    },
    "id": "soV-bTMYetNE",
    "outputId": "b4ddc453-df84-4a96-cf41-63cd0e99237e"
   },
   "outputs": [],
   "source": [
    "# 바 차트 그리기\n",
    "plt.figure(figsize=(8, 5))\n",
    "# [YOUR CODE](kind='bar', color='skyblue', edgecolor='black')\n",
    "plt.title('Test label distribusion')\n",
    "plt.xlabel('Labels')\n",
    "plt.ylabel('Frequency')\n",
    "plt.xticks(rotation=0)\n",
    "plt.grid(axis='y')\n",
    "plt.tight_layout()\n",
    "plt.show()"
   ]
  },
  {
   "cell_type": "markdown",
   "metadata": {
    "id": "3-I9VSh0etNE"
   },
   "source": [
    "### 2.4 결측치 제거"
   ]
  },
  {
   "cell_type": "code",
   "execution_count": null,
   "metadata": {
    "colab": {
     "base_uri": "https://localhost:8080/"
    },
    "id": "M0OIVjxNetNE",
    "outputId": "74d8c42f-58c3-44a1-ea21-570b2ffde858"
   },
   "outputs": [],
   "source": [
    "train_df.info()"
   ]
  },
  {
   "cell_type": "code",
   "execution_count": null,
   "metadata": {
    "colab": {
     "base_uri": "https://localhost:8080/"
    },
    "id": "jFL7nhbvetNE",
    "outputId": "97275fd4-45a5-45c8-b254-ff60233b6a13"
   },
   "outputs": [],
   "source": [
    "test_df.info()"
   ]
  },
  {
   "cell_type": "code",
   "execution_count": null,
   "metadata": {
    "colab": {
     "base_uri": "https://localhost:8080/"
    },
    "id": "VXNnkRwuetNE",
    "outputId": "76b4f2fa-72ec-42db-ac21-443819c96019"
   },
   "outputs": [],
   "source": [
    "train_df.isnull().sum()"
   ]
  },
  {
   "cell_type": "code",
   "execution_count": null,
   "metadata": {
    "colab": {
     "base_uri": "https://localhost:8080/"
    },
    "id": "KVTMlKJIetNE",
    "outputId": "a65164c6-db3e-4c4d-9d10-35db42dcdf1b"
   },
   "outputs": [],
   "source": [
    "test_df.isnull().sum()"
   ]
  },
  {
   "cell_type": "code",
   "execution_count": null,
   "metadata": {
    "colab": {
     "base_uri": "https://localhost:8080/"
    },
    "id": "eogfwocoetNE",
    "outputId": "f59246aa-db34-477a-9fb4-eda0693db764"
   },
   "outputs": [],
   "source": [
    "train_df = train_df.dropna(axis=0)\n",
    "test_df = test_df.dropna(axis=0)\n",
    "\n",
    "print(train_df.shape)\n",
    "print(test_df.shape)"
   ]
  },
  {
   "cell_type": "markdown",
   "metadata": {
    "id": "UEUQNWYEetNE"
   },
   "source": [
    "### 2.5 중복 데이터 제거"
   ]
  },
  {
   "cell_type": "code",
   "execution_count": null,
   "metadata": {
    "colab": {
     "base_uri": "https://localhost:8080/",
     "height": 49
    },
    "id": "aaKAy0QFetNF",
    "outputId": "dc7fa4fd-3c95-4b31-ab63-485b3fdf64a3"
   },
   "outputs": [],
   "source": [
    "train_duplicated = train_df[train_df.duplicated()]\n",
    "train_duplicated"
   ]
  },
  {
   "cell_type": "code",
   "execution_count": null,
   "metadata": {
    "colab": {
     "base_uri": "https://localhost:8080/"
    },
    "id": "LMhhgIHWetNF",
    "outputId": "dba3575b-2c74-4289-c54d-5ae52fcedb3e"
   },
   "outputs": [],
   "source": [
    "test_df.duplicated().sum()"
   ]
  },
  {
   "cell_type": "code",
   "execution_count": null,
   "metadata": {
    "colab": {
     "base_uri": "https://localhost:8080/"
    },
    "id": "l5vIG9YdetNF",
    "outputId": "56c2a1c3-9f3d-4147-90a6-dfc62df76241"
   },
   "outputs": [],
   "source": [
    "train_df.drop_duplicates(subset=['document'], inplace=True)\n",
    "test_df.drop_duplicates(subset=['document'], inplace=True)\n",
    "\n",
    "print(train_df.shape)\n",
    "print(test_df.shape)"
   ]
  },
  {
   "cell_type": "code",
   "execution_count": null,
   "metadata": {
    "id": "i9f6EJsAetNF"
   },
   "outputs": [],
   "source": [
    "train_df = train_df[:48]\n",
    "test_df = test_df[:16]"
   ]
  },
  {
   "cell_type": "markdown",
   "metadata": {
    "id": "nkw3PAiCetNF"
   },
   "source": [
    "### 2.6 데이터셋 클래스 선언"
   ]
  },
  {
   "cell_type": "code",
   "execution_count": null,
   "metadata": {
    "id": "WqObx49FetNF"
   },
   "outputs": [],
   "source": [
    "class NSMCDataset(Dataset):\n",
    "\n",
    "    def __init__(self, df, tokenizer, maxlen):\n",
    "        self.dataset = df\n",
    "        self.tokenizer = tokenizer\n",
    "        self.maxlen = maxlen\n",
    "\n",
    "\n",
    "    def __len__(self):\n",
    "        return len(self.dataset)\n",
    "\n",
    "\n",
    "    def __getitem__(self, idx):\n",
    "        row = self.dataset.iloc[idx].values\n",
    "        text = row[0]\n",
    "        y = row[1]\n",
    "\n",
    "        inputs = self.tokenizer(\n",
    "            text,\n",
    "            return_tensors='pt',\n",
    "            truncation=True,\n",
    "            max_length=self.maxlen,\n",
    "            pad_to_max_length=True,\n",
    "            add_special_tokens=True\n",
    "            )\n",
    "\n",
    "        input_ids = inputs['input_ids'][0]\n",
    "        attention_mask = inputs['attention_mask'][0]\n",
    "\n",
    "        return input_ids, attention_mask, y"
   ]
  },
  {
   "cell_type": "markdown",
   "metadata": {
    "id": "GlSI4BLretNF"
   },
   "source": [
    "### 2.7 데이터셋 생성"
   ]
  },
  {
   "cell_type": "markdown",
   "metadata": {},
   "source": [
    "### [TODO] 데이터셋 인스턴스를 생성해주세요."
   ]
  },
  {
   "cell_type": "code",
   "execution_count": null,
   "metadata": {
    "id": "FVCWaNbvetNF"
   },
   "outputs": [],
   "source": [
    "train_dataset = # [YOUR CODE]\n",
    "test_dataset = # [YOUR CODE]"
   ]
  },
  {
   "cell_type": "markdown",
   "metadata": {
    "id": "74Ajdp9mfNhm"
   },
   "source": [
    "### 2.8 Bucketing\n",
    "![](https://nlp.gluon.ai/_images/fixed_bucket_strategy_ratio0.0.png)\n",
    "\n",
    "자연어 데이터를 처리할 때 어려운 문제 중 하나는 데이터의 길이를 다룰 때 입니다.  \n",
    "\n",
    "문장 간 길이의 차이가 많이 날 땐, 패딩으로 인해 연산 속도가 느려지거나 학습이 불안정하게 진행되기도 합니다.  \n",
    "\n",
    "반면 문장의 길이를 짧게 자르면 제대로 된 의미를 학습하기 어려워집니다.  \n",
    "\n",
    "위 문제를 해결하기 위한 수단 중 하나로, Bucketing은 시퀀스 데이터의 길이를 가변적으로 조정하며 데이터를 효율적으로 배치 처리하기 위한 방법입니다.\n",
    "\n",
    "시퀀스를 길이에 따라 여러 bucket으로 나누어 그룹화할 경우, 패딩으로 인해 낭비되는 공간이 기존에 비해 많이 사라집니다.\n",
    "\n",
    "즉 배치마다 필요한 패딩의 양을 크게 줄일 수 있어 메모리 사용량이 갑소하고, 학습 속도가 향상되는 효과를 얻을 수 있습니다.\n",
    "\n",
    "아래 클래스를 통해 Bucketing이 어떻게 구현되는지 살펴봅시다."
   ]
  },
  {
   "cell_type": "code",
   "execution_count": null,
   "metadata": {
    "id": "FrWfudYiW517"
   },
   "outputs": [],
   "source": [
    "class BucketSampler(Sampler):\n",
    "    def __init__(self, data_source, sort_key, bucket_size=None, batch_size=16, shuffle_data=True):\n",
    "        super().__init__(data_source)\n",
    "        # 데이터 소스(데이터셋)\n",
    "        self.data_source = data_source\n",
    "        # 데이터를 정렬하는 데 사용할 키 함수\n",
    "        self.sort_key = sort_key\n",
    "        # 버킷의 크기 설정. 기본적으로 데이터 소스의 전체 길이\n",
    "        self.bucket_size = bucket_size if bucket_size else len(data_source)\n",
    "        # 배치의 크기\n",
    "        self.batch_size = batch_size\n",
    "        # 데이터를 셔플할지 여부\n",
    "        self.shuffle = shuffle_data\n",
    "\n",
    "        # 셔플 옵션에 따라 버킷을 생성\n",
    "        if self.shuffle:\n",
    "            # 데이터를 sort_key에 따라 정렬\n",
    "            self.index = sorted(range(len(data_source)), key=self.sort_key)\n",
    "            # 정렬된 데이터를 버킷 크기에 따라 분할\n",
    "            self.buckets = [self.index[i:i+self.bucket_size] for i in range(0, len(self.index), self.bucket_size)]\n",
    "        else:\n",
    "            # 셔플 없이 버킷 생성\n",
    "            self.buckets = [list(range(i, min(i+self.bucket_size, len(data_source)))) for i in range(0, len(data_source), self.bucket_size)]\n",
    "\n",
    "    def __iter__(self):\n",
    "        indices = []\n",
    "        for bucket in self.buckets:\n",
    "            # 버킷 내 데이터 셔플\n",
    "            if self.shuffle:\n",
    "                np.random.shuffle(bucket)\n",
    "            # 배치 크기에 따라 데이터 분할 및 정렬\n",
    "            for idx in range(0, len(bucket), self.batch_size):\n",
    "                batch = sorted(bucket[idx:idx+self.batch_size], key=self.sort_key, reverse=True)\n",
    "                indices.extend(batch)\n",
    "        # 인덱스 반복자 반환\n",
    "        return iter(indices)\n",
    "\n",
    "    def __len__(self):\n",
    "        # 데이터 소스의 전체 길이 반환\n",
    "        return len(self.data_source)\n",
    "\n",
    "# 길이를 기준으로 데이터를 정렬하는 함수\n",
    "def sort_key(item):\n",
    "    return len(train_dataset[item][0])"
   ]
  },
  {
   "cell_type": "markdown",
   "metadata": {
    "id": "WvXoXzUxJftZ"
   },
   "source": [
    "코드를 부분별로 나누어 설명하겠습니다.\n",
    "\n",
    "초기화 `(__init__)`:\n",
    "\n",
    "- `BucketSampler`는 PyTorch의 Sampler 클래스를 상속받습니다.\n",
    "초기화 함수에서는 데이터 소스, 정렬 키, 버킷 크기, 배치 크기, 데이터 셔플 여부 등의 설정을 받습니다.\n",
    "데이터를 버킷에 할당하는 로직이 포함되어 있습니다.\n",
    "\n",
    "- 반복자 (`__iter__`):\n",
    "\n",
    "이 메서드는 샘플러의 주요 로직을 포함하며, 데이터의 인덱스를 반환합니다.\n",
    "각 버킷 내의 데이터를 셔플하고, 배치 크기에 따라 데이터를 분할합니다.\n",
    "각 배치는 길이에 따라 내림차순으로 정렬됩니다.\n",
    "\n",
    "- 길이 (`__len__`):\n",
    "\n",
    "샘플러의 전체 길이, 즉 데이터 소스의 길이를 반환합니다.\n",
    "\n",
    "- 정렬 키 함수 (`sort_key`):\n",
    "\n",
    "이 함수는 데이터셋의 아이템을 입력으로 받아, 해당 아이템의 길이를 반환합니다. 이 길이는 버킷 샘플링에서 데이터를 정렬하는 데 사용됩니다."
   ]
  },
  {
   "cell_type": "markdown",
   "metadata": {
    "id": "0A72WsufetNF"
   },
   "source": [
    "### 2.9 데이터로더 생성\n",
    "\n",
    "위에서 선언한 Bucket Sampler 클래스를 통해 구현된 bucketing 기능을 포함하여 데이터로더를 생성하겠습니다.  \n",
    "\n",
    "Bucketing 기능은 데이터로더의 sampler 인자로 주어집니다."
   ]
  },
  {
   "cell_type": "markdown",
   "metadata": {},
   "source": [
    "### [TODO] Bucketing sampler을 포함하여 데이터로더 인스턴스를 생성해주세요.\n",
    "\n",
    "BucketSampler 인스턴스를 먼저 생성해주시고, 뒤이어 이 인스턴스를 데이터로더 생성 과정에 인자로 주셔야 합니다."
   ]
  },
  {
   "cell_type": "code",
   "execution_count": null,
   "metadata": {
    "colab": {
     "base_uri": "https://localhost:8080/"
    },
    "id": "2Rl0iWjxGdoG",
    "outputId": "36382dd5-24ae-48da-ae92-1bf5b6b841e7"
   },
   "outputs": [],
   "source": [
    "# 배치의 크기를 설정\n",
    "batch_size = 16\n",
    "\n",
    "# 버킷 샘플러 생성\n",
    "# sort_key 함수를 사용하여 데이터를 길이에 따라 정렬\n",
    "train_sampler = BucketSampler(# [YOUR CODE], sort_key=# [YOUR CODE], batch_size=# [YOUR CODE])\n",
    "test_sampler = BucketSampler(# [YOUR CODE], sort_key=# [YOUR CODE], batch_size=# [YOUR CODE])\n",
    "\n",
    "# DataLoader 생성\n",
    "# BucketSampler를 사용하여 길이가 비슷한 데이터끼리 배치를 구성\n",
    "train_loader = DataLoader(# [YOUR CODE], batch_size=# [YOUR CODE], sampler=# [YOUR CODE])\n",
    "test_loader = DataLoader(# [YOUR CODE], batch_size=# [YOUR CODE], sampler=# [YOUR CODE])"
   ]
  },
  {
   "cell_type": "markdown",
   "metadata": {
    "id": "t9lZQpc6LhxF"
   },
   "source": [
    "이로써 데이터 준비가 완료되었습니다."
   ]
  },
  {
   "cell_type": "markdown",
   "metadata": {
    "id": "ORdSQbFUgOAY"
   },
   "source": [
    "## 3. 모델 학습"
   ]
  },
  {
   "cell_type": "markdown",
   "metadata": {
    "id": "t6yq3AV2Lkxn"
   },
   "source": [
    "KoBERT 모델과 마찬가지로 모델 구조를 확인해보도록 하겠습니다."
   ]
  },
  {
   "cell_type": "markdown",
   "metadata": {},
   "source": [
    "### [TODO] 모델을 디바이스로 이동시키고, 구조를 출력해주세요."
   ]
  },
  {
   "cell_type": "code",
   "execution_count": null,
   "metadata": {
    "colab": {
     "base_uri": "https://localhost:8080/"
    },
    "id": "ON7TcDYXxPjy",
    "outputId": "d40147c3-d56f-4c79-aad3-36b3fdc97ac3"
   },
   "outputs": [],
   "source": [
    "# 모델 레이어 보기\n",
    "# [YOUR CODE]\n",
    "# [YOUR CODE]"
   ]
  },
  {
   "cell_type": "markdown",
   "metadata": {
    "id": "n9Fr-xtKLtuz"
   },
   "source": [
    "학습을 위한 파라미터를 설정합니다."
   ]
  },
  {
   "cell_type": "code",
   "execution_count": null,
   "metadata": {
    "id": "DYVdkXqJxUas"
   },
   "outputs": [],
   "source": [
    "# 학습 에포크 수와 학습률을 설정합니다.\n",
    "epochs = 4\n",
    "lr = 3e-4\n",
    "\n",
    "# AdamW 최적화 알고리즘을 설정합니다.\n",
    "# bertmodel의 파라미터들을 최적화 대상으로 하며, 설정된 학습률(lr)을 사용합니다.\n",
    "optimizer = AdamW(bertmodel.parameters(), lr=lr)\n",
    "\n",
    "# 손실 함수로 크로스 엔트로피를 사용합니다.\n",
    "loss_func = F.cross_entropy"
   ]
  },
  {
   "cell_type": "markdown",
   "metadata": {
    "id": "19zfcc38M1lv"
   },
   "source": [
    "## 3.1 학습 함수 선언\n",
    "\n",
    "학습 함수를 선언하고, 학습을 진행합니다.\n",
    "\n",
    "위에서 생성한 학습 함수를 가져와 사용합니다."
   ]
  },
  {
   "cell_type": "code",
   "execution_count": null,
   "metadata": {
    "id": "mq1jvarkgoof"
   },
   "outputs": [],
   "source": [
    "def train(model, train_loader, val_loader, optimizer, loss_func, device, epochs):\n",
    "    # 학습 및 검증 과정에서의 손실과 정확도를 저장하기 위한 리스트\n",
    "    train_losses = []\n",
    "    train_accuracies = []\n",
    "    val_losses = []\n",
    "    val_accuracies = []\n",
    "\n",
    "    # 주어진 에포크 수만큼 학습을 반복\n",
    "    for i in range(epochs):\n",
    "        # 학습 모드 설정\n",
    "        model.train()\n",
    "        total_train_loss = 0.0\n",
    "        correct_train = 0\n",
    "        total_train = 0\n",
    "\n",
    "        # 학습 데이터로더에서 배치 단위로 데이터를 가져와 학습\n",
    "        for input_ids_batch, attention_masks_batch, y_batch in tqdm(train_loader):\n",
    "            # 이전 기울기를 초기화\n",
    "            optimizer.zero_grad()\n",
    "            y_batch = y_batch.to(device)\n",
    "            y_pred = model(\n",
    "                input_ids_batch.to(device),\n",
    "                attention_mask=attention_masks_batch.to(device)\n",
    "            )[0]\n",
    "\n",
    "            # 손실 계산\n",
    "            loss = loss_func(y_pred, y_batch)\n",
    "            # 역전파를 통한 기울기 계산\n",
    "            loss.backward()\n",
    "            # 파라미터 업데이트\n",
    "            optimizer.step()\n",
    "\n",
    "            # 총 손실과 정확도 계산\n",
    "            total_train_loss += loss.item()\n",
    "            _, predicted = torch.max(y_pred, 1)\n",
    "            correct_train += (predicted == y_batch).sum().item()\n",
    "            total_train += len(y_batch)\n",
    "\n",
    "        # 학습 손실과 정확도 저장\n",
    "        train_losses.append(total_train_loss / len(train_loader))\n",
    "        train_accuracies.append(correct_train / total_train)\n",
    "        print(\"Train Loss:\", total_train_loss / len(train_loader), \"Train Accuracy:\", correct_train / total_train)\n",
    "\n",
    "        # 검증 모드 설정\n",
    "        model.eval()\n",
    "        total_val_loss = 0.0\n",
    "        correct_val = 0\n",
    "        total_val = 0\n",
    "\n",
    "        # 기울기 계산을 중지하여 메모리 사용량을 줄이고 속도를 높임\n",
    "        with torch.no_grad():\n",
    "            # 검증 데이터로더에서 배치 단위로 데이터를 가져와 검증\n",
    "            for input_ids_batch, attention_masks_batch, y_batch in val_loader:\n",
    "                y_batch = y_batch.to(device)\n",
    "                y_pred = model(\n",
    "                    input_ids_batch.to(device),\n",
    "                    attention_mask=attention_masks_batch.to(device)\n",
    "                )[0]\n",
    "\n",
    "                # 손실 계산\n",
    "                loss = loss_func(y_pred, y_batch)\n",
    "                total_val_loss += loss.item()\n",
    "\n",
    "                # 정확도 계산\n",
    "                _, predicted = torch.max(y_pred, 1)\n",
    "                correct_val += (predicted == y_batch).sum().item()\n",
    "                total_val += len(y_batch)\n",
    "\n",
    "        # 검증 손실과 정확도 저장\n",
    "        val_losses.append(total_val_loss / len(val_loader))\n",
    "        val_accuracies.append(correct_val / total_val)\n",
    "        print(\"Validation Loss:\", total_val_loss / len(val_loader), \"Validation Accuracy:\", correct_val / total_val)\n",
    "\n",
    "    return train_losses, train_accuracies, val_losses, val_accuracies"
   ]
  },
  {
   "cell_type": "markdown",
   "metadata": {
    "id": "qJF9-giuM-vw"
   },
   "source": [
    "### 3.2 모델 학습"
   ]
  },
  {
   "cell_type": "markdown",
   "metadata": {},
   "source": [
    "### [TODO] 학습 함수를 바탕으로 모델 학습을 진행해주세요."
   ]
  },
  {
   "cell_type": "code",
   "execution_count": null,
   "metadata": {
    "colab": {
     "base_uri": "https://localhost:8080/",
     "height": 284,
     "referenced_widgets": [
      "cdf0f9b0e1074c24a92d97c024193337",
      "15815164ba354e26b9dbdb69790955f6",
      "c0c9a908853e4d1b888774d551e011d7",
      "0165890d59334f7b835687883872a779",
      "3a71d0411ca14488bf266d44f494db8f",
      "e5ac465c9e464d7881981fd2ab79c972",
      "d67a15e061ed48caacede42fb2723f6f",
      "ea75337d186a4c94b80bbafa5bc95251",
      "6003647f5a684b19a78315d099ef5f62",
      "893b79a474254e44b157a26b1c964d3f",
      "c14969a647bc493492037f7d5ba1fe3f",
      "b70f0f0769b341548d40f9cda173e5e7",
      "90507052b2314567b5ace8168ed0923c",
      "f6f605fab9804915a46c989778ba2b09",
      "5257d7ee21fb447d9e2a9a9d8935c4f3",
      "a183b5cf386d4129a03e3ca495f17552",
      "e6ea39e0a0d644e8a423cca97aa54374",
      "b66cfcb1c8804ba6898d770ec1a8597c",
      "680efb5ea7bc4751813053fcd7d5cf2b",
      "0986c47ac87f4f9395146b579c87fd6e",
      "674389cd7e404990be4e6e4bcf56975a",
      "7f830258808e4caa958b00edcdcc431f",
      "94924ec426994460bfb7c0f25b7ba3d5",
      "44797a93400b4eb0b037d550733d111b",
      "ea388183c95e41cd8232442645cca93e",
      "8623587bc86e4cde9613c1ecb05b9e68",
      "3333d209169b44928acd01b21dd35539",
      "003fed7ca8194d63a09aa623db20f64e",
      "6a52d14c77c745c9b3cecb4530a45703",
      "4b9bf965f4ce4860b0c6d533e928e059",
      "f7b21aec3424495797727be56f0b5327",
      "65fed074b9094fec9903ae22553aa0f6",
      "f50043ae63dc4dcabb1350a66deb918d",
      "7b3187f2eac74d7596ffd50df7561455",
      "1e390207255b409484f38600a6b3ccd0",
      "f80b592a084c459fa66e3d1f8a6e9b54",
      "b11c64d02baa41b9858745deef366ee8",
      "20f64216266f49e9b78684fb638ee910",
      "60bf2b8162d44321a1fabb252b5e1deb",
      "91e02477d1a544cebb70f4350760743d",
      "dd3b337a34e641248c445bdc540a79aa",
      "c5f7e04737da47e693e82d9a3ec03ec8",
      "d28d2ca23ced471182c2df5d549c0fcd",
      "60819ddebbe1404ab7e0afc10bde743f"
     ]
    },
    "id": "mHVRFWKVRNqS",
    "outputId": "e1ca299f-56aa-43fc-acbb-1d1be4f6eeb5"
   },
   "outputs": [],
   "source": [
    "train_losses, train_accuracies, val_losses, val_accuracies = # [YOUR CODE]"
   ]
  },
  {
   "cell_type": "markdown",
   "metadata": {
    "id": "cFeDOL0LNApw"
   },
   "source": [
    "### 3.3 평가 함수 선언\n",
    "\n",
    "학습된 모델을 바탕으로 Classification report를 생성합니다."
   ]
  },
  {
   "cell_type": "code",
   "execution_count": null,
   "metadata": {
    "id": "jcCwOVscgoog"
   },
   "outputs": [],
   "source": [
    "def evaluate(model, test_loader, device):\n",
    "    model.eval()\n",
    "\n",
    "    test_correct = 0\n",
    "    test_total = 0\n",
    "    all_preds = []\n",
    "    all_true = []\n",
    "\n",
    "    for input_ids_batch, attention_masks_batch, y_batch in tqdm(test_loader):\n",
    "        y_batch = y_batch.to(device)\n",
    "        y_pred = model(\n",
    "            input_ids_batch.to(device),\n",
    "            attention_mask=attention_masks_batch.to(device)\n",
    "        )[0]\n",
    "        _, predicted = torch.max(y_pred, 1)\n",
    "        all_preds.extend(predicted.cpu().numpy())\n",
    "        all_true.extend(y_batch.cpu().numpy())\n",
    "\n",
    "        test_correct += (predicted == y_batch).sum().item()\n",
    "        test_total += len(y_batch)\n",
    "\n",
    "    accuracy = test_correct / test_total\n",
    "    print(\"Accuracy:\", accuracy)\n",
    "\n",
    "    # Classification report 추가\n",
    "    print(\"Classification Report:\")\n",
    "    print(classification_report(all_true, all_preds))\n",
    "\n",
    "    return accuracy"
   ]
  },
  {
   "cell_type": "code",
   "execution_count": null,
   "metadata": {
    "colab": {
     "base_uri": "https://localhost:8080/",
     "height": 399,
     "referenced_widgets": [
      "7a7cdfd63b604f5a8dd9db5fc85f3432",
      "de8a9dba65404787a1da2d3d44df2903",
      "8cf244a893d94446a955732da3aac5e9",
      "38a64711efbe48cbb505a97b257bd7f4",
      "3328a6986fa24331af1108ffcf5742e7",
      "79d85a1f8caa425e9566ad65bd4f03fc",
      "1c30766f1326497390db8092920d7b4a",
      "b460c7828bd84383889c1552f18b7822",
      "c9ca0a6bbd254bcda02cf014af1262a6",
      "ddc839e256154ba1bc6cdacf938ab524",
      "97989b2cd6ec452884d83749ab3abad6"
     ]
    },
    "id": "P179scglRTTg",
    "outputId": "22e2cdba-2875-4225-9698-de861d16bee7"
   },
   "outputs": [],
   "source": [
    "test_acc = evaluate(model,\n",
    "                    test_loader,\n",
    "                    device)"
   ]
  },
  {
   "cell_type": "code",
   "execution_count": null,
   "metadata": {
    "id": "tz6pfXsExdbU"
   },
   "outputs": [],
   "source": [
    "# 모델 저장하기\n",
    "model.save_pretrained(\"koelectra\")"
   ]
  },
  {
   "cell_type": "markdown",
   "metadata": {
    "id": "uY-DXJ3y1mZW"
   },
   "source": [
    "KoELECTRA와 KoBERT의 결과 차이를 한 번 비교해봅시다.\n",
    "\n",
    "또 변화를 새로 준 Bucketing을 통해 모델의 학습에 큰 차이가 있었나요?\n",
    "\n",
    "어떤 차이가 있었는지 확인해보며 이 기능을 다른 분야에도 적용해보시는 것을 추천합니다.\n",
    "\n",
    "이 외에도 언어 모델 훈련 방식에는 상당히 다양한 방법론들이 존재합니다. 이 개념들을 하나하나 공부하시면서 적용하시면 여러분들도 멋지고 훌륭한 모델을 만드실 수 있습니다.\n",
    "\n",
    "대단히 수고많으셨습니다."
   ]
  }
 ],
 "metadata": {
  "accelerator": "GPU",
  "colab": {
   "gpuType": "T4",
   "provenance": [],
   "toc_visible": true
  },
  "kernelspec": {
   "display_name": "Python 3 (ipykernel)",
   "language": "python",
   "name": "python3"
  },
  "language_info": {
   "codemirror_mode": {
    "name": "ipython",
    "version": 3
   },
   "file_extension": ".py",
   "mimetype": "text/x-python",
   "name": "python",
   "nbconvert_exporter": "python",
   "pygments_lexer": "ipython3",
   "version": "3.10.10"
  },
  "widgets": {
   "application/vnd.jupyter.widget-state+json": {
    "003fed7ca8194d63a09aa623db20f64e": {
     "model_module": "@jupyter-widgets/base",
     "model_module_version": "1.2.0",
     "model_name": "LayoutModel",
     "state": {
      "_model_module": "@jupyter-widgets/base",
      "_model_module_version": "1.2.0",
      "_model_name": "LayoutModel",
      "_view_count": null,
      "_view_module": "@jupyter-widgets/base",
      "_view_module_version": "1.2.0",
      "_view_name": "LayoutView",
      "align_content": null,
      "align_items": null,
      "align_self": null,
      "border": null,
      "bottom": null,
      "display": null,
      "flex": null,
      "flex_flow": null,
      "grid_area": null,
      "grid_auto_columns": null,
      "grid_auto_flow": null,
      "grid_auto_rows": null,
      "grid_column": null,
      "grid_gap": null,
      "grid_row": null,
      "grid_template_areas": null,
      "grid_template_columns": null,
      "grid_template_rows": null,
      "height": null,
      "justify_content": null,
      "justify_items": null,
      "left": null,
      "margin": null,
      "max_height": null,
      "max_width": null,
      "min_height": null,
      "min_width": null,
      "object_fit": null,
      "object_position": null,
      "order": null,
      "overflow": null,
      "overflow_x": null,
      "overflow_y": null,
      "padding": null,
      "right": null,
      "top": null,
      "visibility": null,
      "width": null
     }
    },
    "0165890d59334f7b835687883872a779": {
     "model_module": "@jupyter-widgets/controls",
     "model_module_version": "1.5.0",
     "model_name": "HTMLModel",
     "state": {
      "_dom_classes": [],
      "_model_module": "@jupyter-widgets/controls",
      "_model_module_version": "1.5.0",
      "_model_name": "HTMLModel",
      "_view_count": null,
      "_view_module": "@jupyter-widgets/controls",
      "_view_module_version": "1.5.0",
      "_view_name": "HTMLView",
      "description": "",
      "description_tooltip": null,
      "layout": "IPY_MODEL_893b79a474254e44b157a26b1c964d3f",
      "placeholder": "​",
      "style": "IPY_MODEL_c14969a647bc493492037f7d5ba1fe3f",
      "value": " 3/3 [00:02&lt;00:00,  1.49it/s]"
     }
    },
    "05ef5211b1284ef6808d6ff5da618af1": {
     "model_module": "@jupyter-widgets/controls",
     "model_module_version": "1.5.0",
     "model_name": "DescriptionStyleModel",
     "state": {
      "_model_module": "@jupyter-widgets/controls",
      "_model_module_version": "1.5.0",
      "_model_name": "DescriptionStyleModel",
      "_view_count": null,
      "_view_module": "@jupyter-widgets/base",
      "_view_module_version": "1.2.0",
      "_view_name": "StyleView",
      "description_width": ""
     }
    },
    "06f18791a8f14d1d8eb9a43325643d5f": {
     "model_module": "@jupyter-widgets/controls",
     "model_module_version": "1.5.0",
     "model_name": "HTMLModel",
     "state": {
      "_dom_classes": [],
      "_model_module": "@jupyter-widgets/controls",
      "_model_module_version": "1.5.0",
      "_model_name": "HTMLModel",
      "_view_count": null,
      "_view_module": "@jupyter-widgets/controls",
      "_view_module_version": "1.5.0",
      "_view_name": "HTMLView",
      "description": "",
      "description_tooltip": null,
      "layout": "IPY_MODEL_3c9eaccfce854df6acd785377a8aa377",
      "placeholder": "​",
      "style": "IPY_MODEL_05ef5211b1284ef6808d6ff5da618af1",
      "value": " 452M/452M [00:07&lt;00:00, 70.2MB/s]"
     }
    },
    "08354e36a4ea45c0a56db496acb44775": {
     "model_module": "@jupyter-widgets/base",
     "model_module_version": "1.2.0",
     "model_name": "LayoutModel",
     "state": {
      "_model_module": "@jupyter-widgets/base",
      "_model_module_version": "1.2.0",
      "_model_name": "LayoutModel",
      "_view_count": null,
      "_view_module": "@jupyter-widgets/base",
      "_view_module_version": "1.2.0",
      "_view_name": "LayoutView",
      "align_content": null,
      "align_items": null,
      "align_self": null,
      "border": null,
      "bottom": null,
      "display": null,
      "flex": null,
      "flex_flow": null,
      "grid_area": null,
      "grid_auto_columns": null,
      "grid_auto_flow": null,
      "grid_auto_rows": null,
      "grid_column": null,
      "grid_gap": null,
      "grid_row": null,
      "grid_template_areas": null,
      "grid_template_columns": null,
      "grid_template_rows": null,
      "height": null,
      "justify_content": null,
      "justify_items": null,
      "left": null,
      "margin": null,
      "max_height": null,
      "max_width": null,
      "min_height": null,
      "min_width": null,
      "object_fit": null,
      "object_position": null,
      "order": null,
      "overflow": null,
      "overflow_x": null,
      "overflow_y": null,
      "padding": null,
      "right": null,
      "top": null,
      "visibility": null,
      "width": null
     }
    },
    "084a48378bd74e899c566d5eb599d9af": {
     "model_module": "@jupyter-widgets/controls",
     "model_module_version": "1.5.0",
     "model_name": "DescriptionStyleModel",
     "state": {
      "_model_module": "@jupyter-widgets/controls",
      "_model_module_version": "1.5.0",
      "_model_name": "DescriptionStyleModel",
      "_view_count": null,
      "_view_module": "@jupyter-widgets/base",
      "_view_module_version": "1.2.0",
      "_view_name": "StyleView",
      "description_width": ""
     }
    },
    "0986c47ac87f4f9395146b579c87fd6e": {
     "model_module": "@jupyter-widgets/controls",
     "model_module_version": "1.5.0",
     "model_name": "ProgressStyleModel",
     "state": {
      "_model_module": "@jupyter-widgets/controls",
      "_model_module_version": "1.5.0",
      "_model_name": "ProgressStyleModel",
      "_view_count": null,
      "_view_module": "@jupyter-widgets/base",
      "_view_module_version": "1.2.0",
      "_view_name": "StyleView",
      "bar_color": null,
      "description_width": ""
     }
    },
    "0b4e57cc551945c5b1dd9278e586b001": {
     "model_module": "@jupyter-widgets/controls",
     "model_module_version": "1.5.0",
     "model_name": "DescriptionStyleModel",
     "state": {
      "_model_module": "@jupyter-widgets/controls",
      "_model_module_version": "1.5.0",
      "_model_name": "DescriptionStyleModel",
      "_view_count": null,
      "_view_module": "@jupyter-widgets/base",
      "_view_module_version": "1.2.0",
      "_view_name": "StyleView",
      "description_width": ""
     }
    },
    "0bd174d120184f9cac4406ed48f0df68": {
     "model_module": "@jupyter-widgets/controls",
     "model_module_version": "1.5.0",
     "model_name": "DescriptionStyleModel",
     "state": {
      "_model_module": "@jupyter-widgets/controls",
      "_model_module_version": "1.5.0",
      "_model_name": "DescriptionStyleModel",
      "_view_count": null,
      "_view_module": "@jupyter-widgets/base",
      "_view_module_version": "1.2.0",
      "_view_name": "StyleView",
      "description_width": ""
     }
    },
    "15815164ba354e26b9dbdb69790955f6": {
     "model_module": "@jupyter-widgets/controls",
     "model_module_version": "1.5.0",
     "model_name": "HTMLModel",
     "state": {
      "_dom_classes": [],
      "_model_module": "@jupyter-widgets/controls",
      "_model_module_version": "1.5.0",
      "_model_name": "HTMLModel",
      "_view_count": null,
      "_view_module": "@jupyter-widgets/controls",
      "_view_module_version": "1.5.0",
      "_view_name": "HTMLView",
      "description": "",
      "description_tooltip": null,
      "layout": "IPY_MODEL_e5ac465c9e464d7881981fd2ab79c972",
      "placeholder": "​",
      "style": "IPY_MODEL_d67a15e061ed48caacede42fb2723f6f",
      "value": "100%"
     }
    },
    "170cd253c5b24ac9a2ab2ce421c6298e": {
     "model_module": "@jupyter-widgets/base",
     "model_module_version": "1.2.0",
     "model_name": "LayoutModel",
     "state": {
      "_model_module": "@jupyter-widgets/base",
      "_model_module_version": "1.2.0",
      "_model_name": "LayoutModel",
      "_view_count": null,
      "_view_module": "@jupyter-widgets/base",
      "_view_module_version": "1.2.0",
      "_view_name": "LayoutView",
      "align_content": null,
      "align_items": null,
      "align_self": null,
      "border": null,
      "bottom": null,
      "display": null,
      "flex": null,
      "flex_flow": null,
      "grid_area": null,
      "grid_auto_columns": null,
      "grid_auto_flow": null,
      "grid_auto_rows": null,
      "grid_column": null,
      "grid_gap": null,
      "grid_row": null,
      "grid_template_areas": null,
      "grid_template_columns": null,
      "grid_template_rows": null,
      "height": null,
      "justify_content": null,
      "justify_items": null,
      "left": null,
      "margin": null,
      "max_height": null,
      "max_width": null,
      "min_height": null,
      "min_width": null,
      "object_fit": null,
      "object_position": null,
      "order": null,
      "overflow": null,
      "overflow_x": null,
      "overflow_y": null,
      "padding": null,
      "right": null,
      "top": null,
      "visibility": null,
      "width": null
     }
    },
    "19fbf8035f2e4a36b3357a0495e29d10": {
     "model_module": "@jupyter-widgets/base",
     "model_module_version": "1.2.0",
     "model_name": "LayoutModel",
     "state": {
      "_model_module": "@jupyter-widgets/base",
      "_model_module_version": "1.2.0",
      "_model_name": "LayoutModel",
      "_view_count": null,
      "_view_module": "@jupyter-widgets/base",
      "_view_module_version": "1.2.0",
      "_view_name": "LayoutView",
      "align_content": null,
      "align_items": null,
      "align_self": null,
      "border": null,
      "bottom": null,
      "display": null,
      "flex": null,
      "flex_flow": null,
      "grid_area": null,
      "grid_auto_columns": null,
      "grid_auto_flow": null,
      "grid_auto_rows": null,
      "grid_column": null,
      "grid_gap": null,
      "grid_row": null,
      "grid_template_areas": null,
      "grid_template_columns": null,
      "grid_template_rows": null,
      "height": null,
      "justify_content": null,
      "justify_items": null,
      "left": null,
      "margin": null,
      "max_height": null,
      "max_width": null,
      "min_height": null,
      "min_width": null,
      "object_fit": null,
      "object_position": null,
      "order": null,
      "overflow": null,
      "overflow_x": null,
      "overflow_y": null,
      "padding": null,
      "right": null,
      "top": null,
      "visibility": null,
      "width": null
     }
    },
    "1b6f9e29806e4681ab4686ed980c2d11": {
     "model_module": "@jupyter-widgets/controls",
     "model_module_version": "1.5.0",
     "model_name": "FloatProgressModel",
     "state": {
      "_dom_classes": [],
      "_model_module": "@jupyter-widgets/controls",
      "_model_module_version": "1.5.0",
      "_model_name": "FloatProgressModel",
      "_view_count": null,
      "_view_module": "@jupyter-widgets/controls",
      "_view_module_version": "1.5.0",
      "_view_name": "ProgressView",
      "bar_style": "success",
      "description": "",
      "description_tooltip": null,
      "layout": "IPY_MODEL_afa5946a9f504ac4973318d71b5b957b",
      "max": 1,
      "min": 0,
      "orientation": "horizontal",
      "style": "IPY_MODEL_df0ec349ed1c40d1a996bd493b047626",
      "value": 1
     }
    },
    "1c30766f1326497390db8092920d7b4a": {
     "model_module": "@jupyter-widgets/controls",
     "model_module_version": "1.5.0",
     "model_name": "DescriptionStyleModel",
     "state": {
      "_model_module": "@jupyter-widgets/controls",
      "_model_module_version": "1.5.0",
      "_model_name": "DescriptionStyleModel",
      "_view_count": null,
      "_view_module": "@jupyter-widgets/base",
      "_view_module_version": "1.2.0",
      "_view_name": "StyleView",
      "description_width": ""
     }
    },
    "1e26edbb46964dec856f6d66d4e68b72": {
     "model_module": "@jupyter-widgets/base",
     "model_module_version": "1.2.0",
     "model_name": "LayoutModel",
     "state": {
      "_model_module": "@jupyter-widgets/base",
      "_model_module_version": "1.2.0",
      "_model_name": "LayoutModel",
      "_view_count": null,
      "_view_module": "@jupyter-widgets/base",
      "_view_module_version": "1.2.0",
      "_view_name": "LayoutView",
      "align_content": null,
      "align_items": null,
      "align_self": null,
      "border": null,
      "bottom": null,
      "display": null,
      "flex": null,
      "flex_flow": null,
      "grid_area": null,
      "grid_auto_columns": null,
      "grid_auto_flow": null,
      "grid_auto_rows": null,
      "grid_column": null,
      "grid_gap": null,
      "grid_row": null,
      "grid_template_areas": null,
      "grid_template_columns": null,
      "grid_template_rows": null,
      "height": null,
      "justify_content": null,
      "justify_items": null,
      "left": null,
      "margin": null,
      "max_height": null,
      "max_width": null,
      "min_height": null,
      "min_width": null,
      "object_fit": null,
      "object_position": null,
      "order": null,
      "overflow": null,
      "overflow_x": null,
      "overflow_y": null,
      "padding": null,
      "right": null,
      "top": null,
      "visibility": null,
      "width": null
     }
    },
    "1e390207255b409484f38600a6b3ccd0": {
     "model_module": "@jupyter-widgets/controls",
     "model_module_version": "1.5.0",
     "model_name": "HTMLModel",
     "state": {
      "_dom_classes": [],
      "_model_module": "@jupyter-widgets/controls",
      "_model_module_version": "1.5.0",
      "_model_name": "HTMLModel",
      "_view_count": null,
      "_view_module": "@jupyter-widgets/controls",
      "_view_module_version": "1.5.0",
      "_view_name": "HTMLView",
      "description": "",
      "description_tooltip": null,
      "layout": "IPY_MODEL_60bf2b8162d44321a1fabb252b5e1deb",
      "placeholder": "​",
      "style": "IPY_MODEL_91e02477d1a544cebb70f4350760743d",
      "value": "100%"
     }
    },
    "20f64216266f49e9b78684fb638ee910": {
     "model_module": "@jupyter-widgets/base",
     "model_module_version": "1.2.0",
     "model_name": "LayoutModel",
     "state": {
      "_model_module": "@jupyter-widgets/base",
      "_model_module_version": "1.2.0",
      "_model_name": "LayoutModel",
      "_view_count": null,
      "_view_module": "@jupyter-widgets/base",
      "_view_module_version": "1.2.0",
      "_view_name": "LayoutView",
      "align_content": null,
      "align_items": null,
      "align_self": null,
      "border": null,
      "bottom": null,
      "display": null,
      "flex": null,
      "flex_flow": null,
      "grid_area": null,
      "grid_auto_columns": null,
      "grid_auto_flow": null,
      "grid_auto_rows": null,
      "grid_column": null,
      "grid_gap": null,
      "grid_row": null,
      "grid_template_areas": null,
      "grid_template_columns": null,
      "grid_template_rows": null,
      "height": null,
      "justify_content": null,
      "justify_items": null,
      "left": null,
      "margin": null,
      "max_height": null,
      "max_width": null,
      "min_height": null,
      "min_width": null,
      "object_fit": null,
      "object_position": null,
      "order": null,
      "overflow": null,
      "overflow_x": null,
      "overflow_y": null,
      "padding": null,
      "right": null,
      "top": null,
      "visibility": null,
      "width": null
     }
    },
    "21eb7947a3e2476f84beba8d2fa5cc43": {
     "model_module": "@jupyter-widgets/controls",
     "model_module_version": "1.5.0",
     "model_name": "ProgressStyleModel",
     "state": {
      "_model_module": "@jupyter-widgets/controls",
      "_model_module_version": "1.5.0",
      "_model_name": "ProgressStyleModel",
      "_view_count": null,
      "_view_module": "@jupyter-widgets/base",
      "_view_module_version": "1.2.0",
      "_view_name": "StyleView",
      "bar_color": null,
      "description_width": ""
     }
    },
    "224a675fa6f84d4c84802617245acc9a": {
     "model_module": "@jupyter-widgets/controls",
     "model_module_version": "1.5.0",
     "model_name": "HTMLModel",
     "state": {
      "_dom_classes": [],
      "_model_module": "@jupyter-widgets/controls",
      "_model_module_version": "1.5.0",
      "_model_name": "HTMLModel",
      "_view_count": null,
      "_view_module": "@jupyter-widgets/controls",
      "_view_module_version": "1.5.0",
      "_view_name": "HTMLView",
      "description": "",
      "description_tooltip": null,
      "layout": "IPY_MODEL_4ec467440b264c64a336d6e93393cb62",
      "placeholder": "​",
      "style": "IPY_MODEL_0b4e57cc551945c5b1dd9278e586b001",
      "value": " 3/3 [00:01&lt;00:00,  1.65it/s]"
     }
    },
    "249a22e7085c4943bcd7406bc1d0e181": {
     "model_module": "@jupyter-widgets/controls",
     "model_module_version": "1.5.0",
     "model_name": "DescriptionStyleModel",
     "state": {
      "_model_module": "@jupyter-widgets/controls",
      "_model_module_version": "1.5.0",
      "_model_name": "DescriptionStyleModel",
      "_view_count": null,
      "_view_module": "@jupyter-widgets/base",
      "_view_module_version": "1.2.0",
      "_view_name": "StyleView",
      "description_width": ""
     }
    },
    "26ad0b9ce563415ab3f1767ad451fe59": {
     "model_module": "@jupyter-widgets/controls",
     "model_module_version": "1.5.0",
     "model_name": "HTMLModel",
     "state": {
      "_dom_classes": [],
      "_model_module": "@jupyter-widgets/controls",
      "_model_module_version": "1.5.0",
      "_model_name": "HTMLModel",
      "_view_count": null,
      "_view_module": "@jupyter-widgets/controls",
      "_view_module_version": "1.5.0",
      "_view_name": "HTMLView",
      "description": "",
      "description_tooltip": null,
      "layout": "IPY_MODEL_9ad928d3b65847318f0f283d592399fe",
      "placeholder": "​",
      "style": "IPY_MODEL_0bd174d120184f9cac4406ed48f0df68",
      "value": "Downloading (…)lve/main/config.json: 100%"
     }
    },
    "270e7921eff047c5a01843fc288c54c8": {
     "model_module": "@jupyter-widgets/controls",
     "model_module_version": "1.5.0",
     "model_name": "FloatProgressModel",
     "state": {
      "_dom_classes": [],
      "_model_module": "@jupyter-widgets/controls",
      "_model_module_version": "1.5.0",
      "_model_name": "FloatProgressModel",
      "_view_count": null,
      "_view_module": "@jupyter-widgets/controls",
      "_view_module_version": "1.5.0",
      "_view_name": "ProgressView",
      "bar_style": "success",
      "description": "",
      "description_tooltip": null,
      "layout": "IPY_MODEL_487532698a20434cb785e967810dd1a5",
      "max": 451741507,
      "min": 0,
      "orientation": "horizontal",
      "style": "IPY_MODEL_d1be7a793fb9487485c294a9ecce8e31",
      "value": 451741507
     }
    },
    "2a3bcae1447248f0861a191cf10fa0c6": {
     "model_module": "@jupyter-widgets/controls",
     "model_module_version": "1.5.0",
     "model_name": "FloatProgressModel",
     "state": {
      "_dom_classes": [],
      "_model_module": "@jupyter-widgets/controls",
      "_model_module_version": "1.5.0",
      "_model_name": "FloatProgressModel",
      "_view_count": null,
      "_view_module": "@jupyter-widgets/controls",
      "_view_module_version": "1.5.0",
      "_view_name": "ProgressView",
      "bar_style": "success",
      "description": "",
      "description_tooltip": null,
      "layout": "IPY_MODEL_9206bb661369417d8880451f3024da75",
      "max": 467,
      "min": 0,
      "orientation": "horizontal",
      "style": "IPY_MODEL_5afe92d6d2514be5bea95bf6985707b7",
      "value": 467
     }
    },
    "2ee9788cc0334ead92e466dfd276b8cb": {
     "model_module": "@jupyter-widgets/controls",
     "model_module_version": "1.5.0",
     "model_name": "FloatProgressModel",
     "state": {
      "_dom_classes": [],
      "_model_module": "@jupyter-widgets/controls",
      "_model_module_version": "1.5.0",
      "_model_name": "FloatProgressModel",
      "_view_count": null,
      "_view_module": "@jupyter-widgets/controls",
      "_view_module_version": "1.5.0",
      "_view_name": "ProgressView",
      "bar_style": "success",
      "description": "",
      "description_tooltip": null,
      "layout": "IPY_MODEL_d3036e76ba884865bba5f612bd1ed3a8",
      "max": 3,
      "min": 0,
      "orientation": "horizontal",
      "style": "IPY_MODEL_a974af1b62b742e9a4911505b801a204",
      "value": 3
     }
    },
    "2f1c9e990c58484aa3b112a7dbc7b5a0": {
     "model_module": "@jupyter-widgets/base",
     "model_module_version": "1.2.0",
     "model_name": "LayoutModel",
     "state": {
      "_model_module": "@jupyter-widgets/base",
      "_model_module_version": "1.2.0",
      "_model_name": "LayoutModel",
      "_view_count": null,
      "_view_module": "@jupyter-widgets/base",
      "_view_module_version": "1.2.0",
      "_view_name": "LayoutView",
      "align_content": null,
      "align_items": null,
      "align_self": null,
      "border": null,
      "bottom": null,
      "display": null,
      "flex": null,
      "flex_flow": null,
      "grid_area": null,
      "grid_auto_columns": null,
      "grid_auto_flow": null,
      "grid_auto_rows": null,
      "grid_column": null,
      "grid_gap": null,
      "grid_row": null,
      "grid_template_areas": null,
      "grid_template_columns": null,
      "grid_template_rows": null,
      "height": null,
      "justify_content": null,
      "justify_items": null,
      "left": null,
      "margin": null,
      "max_height": null,
      "max_width": null,
      "min_height": null,
      "min_width": null,
      "object_fit": null,
      "object_position": null,
      "order": null,
      "overflow": null,
      "overflow_x": null,
      "overflow_y": null,
      "padding": null,
      "right": null,
      "top": null,
      "visibility": null,
      "width": null
     }
    },
    "2fc6495a44bb4cb1a71b52bc71c2484c": {
     "model_module": "@jupyter-widgets/controls",
     "model_module_version": "1.5.0",
     "model_name": "DescriptionStyleModel",
     "state": {
      "_model_module": "@jupyter-widgets/controls",
      "_model_module_version": "1.5.0",
      "_model_name": "DescriptionStyleModel",
      "_view_count": null,
      "_view_module": "@jupyter-widgets/base",
      "_view_module_version": "1.2.0",
      "_view_name": "StyleView",
      "description_width": ""
     }
    },
    "32ef2f5685384a21862c449ae393e94d": {
     "model_module": "@jupyter-widgets/controls",
     "model_module_version": "1.5.0",
     "model_name": "ProgressStyleModel",
     "state": {
      "_model_module": "@jupyter-widgets/controls",
      "_model_module_version": "1.5.0",
      "_model_name": "ProgressStyleModel",
      "_view_count": null,
      "_view_module": "@jupyter-widgets/base",
      "_view_module_version": "1.2.0",
      "_view_name": "StyleView",
      "bar_color": null,
      "description_width": ""
     }
    },
    "3328a6986fa24331af1108ffcf5742e7": {
     "model_module": "@jupyter-widgets/base",
     "model_module_version": "1.2.0",
     "model_name": "LayoutModel",
     "state": {
      "_model_module": "@jupyter-widgets/base",
      "_model_module_version": "1.2.0",
      "_model_name": "LayoutModel",
      "_view_count": null,
      "_view_module": "@jupyter-widgets/base",
      "_view_module_version": "1.2.0",
      "_view_name": "LayoutView",
      "align_content": null,
      "align_items": null,
      "align_self": null,
      "border": null,
      "bottom": null,
      "display": null,
      "flex": null,
      "flex_flow": null,
      "grid_area": null,
      "grid_auto_columns": null,
      "grid_auto_flow": null,
      "grid_auto_rows": null,
      "grid_column": null,
      "grid_gap": null,
      "grid_row": null,
      "grid_template_areas": null,
      "grid_template_columns": null,
      "grid_template_rows": null,
      "height": null,
      "justify_content": null,
      "justify_items": null,
      "left": null,
      "margin": null,
      "max_height": null,
      "max_width": null,
      "min_height": null,
      "min_width": null,
      "object_fit": null,
      "object_position": null,
      "order": null,
      "overflow": null,
      "overflow_x": null,
      "overflow_y": null,
      "padding": null,
      "right": null,
      "top": null,
      "visibility": null,
      "width": null
     }
    },
    "3333d209169b44928acd01b21dd35539": {
     "model_module": "@jupyter-widgets/base",
     "model_module_version": "1.2.0",
     "model_name": "LayoutModel",
     "state": {
      "_model_module": "@jupyter-widgets/base",
      "_model_module_version": "1.2.0",
      "_model_name": "LayoutModel",
      "_view_count": null,
      "_view_module": "@jupyter-widgets/base",
      "_view_module_version": "1.2.0",
      "_view_name": "LayoutView",
      "align_content": null,
      "align_items": null,
      "align_self": null,
      "border": null,
      "bottom": null,
      "display": null,
      "flex": null,
      "flex_flow": null,
      "grid_area": null,
      "grid_auto_columns": null,
      "grid_auto_flow": null,
      "grid_auto_rows": null,
      "grid_column": null,
      "grid_gap": null,
      "grid_row": null,
      "grid_template_areas": null,
      "grid_template_columns": null,
      "grid_template_rows": null,
      "height": null,
      "justify_content": null,
      "justify_items": null,
      "left": null,
      "margin": null,
      "max_height": null,
      "max_width": null,
      "min_height": null,
      "min_width": null,
      "object_fit": null,
      "object_position": null,
      "order": null,
      "overflow": null,
      "overflow_x": null,
      "overflow_y": null,
      "padding": null,
      "right": null,
      "top": null,
      "visibility": null,
      "width": null
     }
    },
    "334195db181044149c01a60eb9b38f67": {
     "model_module": "@jupyter-widgets/controls",
     "model_module_version": "1.5.0",
     "model_name": "HBoxModel",
     "state": {
      "_dom_classes": [],
      "_model_module": "@jupyter-widgets/controls",
      "_model_module_version": "1.5.0",
      "_model_name": "HBoxModel",
      "_view_count": null,
      "_view_module": "@jupyter-widgets/controls",
      "_view_module_version": "1.5.0",
      "_view_name": "HBoxView",
      "box_style": "",
      "children": [
       "IPY_MODEL_520d6ca799cd44d0a52f7ae198a4c2a6",
       "IPY_MODEL_716771f12a694b38a06d5c3f24461627",
       "IPY_MODEL_eab670f91db448598bddad9f620a134e"
      ],
      "layout": "IPY_MODEL_08354e36a4ea45c0a56db496acb44775"
     }
    },
    "38a64711efbe48cbb505a97b257bd7f4": {
     "model_module": "@jupyter-widgets/controls",
     "model_module_version": "1.5.0",
     "model_name": "HTMLModel",
     "state": {
      "_dom_classes": [],
      "_model_module": "@jupyter-widgets/controls",
      "_model_module_version": "1.5.0",
      "_model_name": "HTMLModel",
      "_view_count": null,
      "_view_module": "@jupyter-widgets/controls",
      "_view_module_version": "1.5.0",
      "_view_name": "HTMLView",
      "description": "",
      "description_tooltip": null,
      "layout": "IPY_MODEL_ddc839e256154ba1bc6cdacf938ab524",
      "placeholder": "​",
      "style": "IPY_MODEL_97989b2cd6ec452884d83749ab3abad6",
      "value": " 1/1 [00:00&lt;00:00,  2.38it/s]"
     }
    },
    "398a43b4250d4ec7a0455df0b4c09ec4": {
     "model_module": "@jupyter-widgets/controls",
     "model_module_version": "1.5.0",
     "model_name": "DescriptionStyleModel",
     "state": {
      "_model_module": "@jupyter-widgets/controls",
      "_model_module_version": "1.5.0",
      "_model_name": "DescriptionStyleModel",
      "_view_count": null,
      "_view_module": "@jupyter-widgets/base",
      "_view_module_version": "1.2.0",
      "_view_name": "StyleView",
      "description_width": ""
     }
    },
    "3a71d0411ca14488bf266d44f494db8f": {
     "model_module": "@jupyter-widgets/base",
     "model_module_version": "1.2.0",
     "model_name": "LayoutModel",
     "state": {
      "_model_module": "@jupyter-widgets/base",
      "_model_module_version": "1.2.0",
      "_model_name": "LayoutModel",
      "_view_count": null,
      "_view_module": "@jupyter-widgets/base",
      "_view_module_version": "1.2.0",
      "_view_name": "LayoutView",
      "align_content": null,
      "align_items": null,
      "align_self": null,
      "border": null,
      "bottom": null,
      "display": null,
      "flex": null,
      "flex_flow": null,
      "grid_area": null,
      "grid_auto_columns": null,
      "grid_auto_flow": null,
      "grid_auto_rows": null,
      "grid_column": null,
      "grid_gap": null,
      "grid_row": null,
      "grid_template_areas": null,
      "grid_template_columns": null,
      "grid_template_rows": null,
      "height": null,
      "justify_content": null,
      "justify_items": null,
      "left": null,
      "margin": null,
      "max_height": null,
      "max_width": null,
      "min_height": null,
      "min_width": null,
      "object_fit": null,
      "object_position": null,
      "order": null,
      "overflow": null,
      "overflow_x": null,
      "overflow_y": null,
      "padding": null,
      "right": null,
      "top": null,
      "visibility": null,
      "width": null
     }
    },
    "3aecb7c3654d4806b7f0d37a47d7dbec": {
     "model_module": "@jupyter-widgets/base",
     "model_module_version": "1.2.0",
     "model_name": "LayoutModel",
     "state": {
      "_model_module": "@jupyter-widgets/base",
      "_model_module_version": "1.2.0",
      "_model_name": "LayoutModel",
      "_view_count": null,
      "_view_module": "@jupyter-widgets/base",
      "_view_module_version": "1.2.0",
      "_view_name": "LayoutView",
      "align_content": null,
      "align_items": null,
      "align_self": null,
      "border": null,
      "bottom": null,
      "display": null,
      "flex": null,
      "flex_flow": null,
      "grid_area": null,
      "grid_auto_columns": null,
      "grid_auto_flow": null,
      "grid_auto_rows": null,
      "grid_column": null,
      "grid_gap": null,
      "grid_row": null,
      "grid_template_areas": null,
      "grid_template_columns": null,
      "grid_template_rows": null,
      "height": null,
      "justify_content": null,
      "justify_items": null,
      "left": null,
      "margin": null,
      "max_height": null,
      "max_width": null,
      "min_height": null,
      "min_width": null,
      "object_fit": null,
      "object_position": null,
      "order": null,
      "overflow": null,
      "overflow_x": null,
      "overflow_y": null,
      "padding": null,
      "right": null,
      "top": null,
      "visibility": null,
      "width": null
     }
    },
    "3c9eaccfce854df6acd785377a8aa377": {
     "model_module": "@jupyter-widgets/base",
     "model_module_version": "1.2.0",
     "model_name": "LayoutModel",
     "state": {
      "_model_module": "@jupyter-widgets/base",
      "_model_module_version": "1.2.0",
      "_model_name": "LayoutModel",
      "_view_count": null,
      "_view_module": "@jupyter-widgets/base",
      "_view_module_version": "1.2.0",
      "_view_name": "LayoutView",
      "align_content": null,
      "align_items": null,
      "align_self": null,
      "border": null,
      "bottom": null,
      "display": null,
      "flex": null,
      "flex_flow": null,
      "grid_area": null,
      "grid_auto_columns": null,
      "grid_auto_flow": null,
      "grid_auto_rows": null,
      "grid_column": null,
      "grid_gap": null,
      "grid_row": null,
      "grid_template_areas": null,
      "grid_template_columns": null,
      "grid_template_rows": null,
      "height": null,
      "justify_content": null,
      "justify_items": null,
      "left": null,
      "margin": null,
      "max_height": null,
      "max_width": null,
      "min_height": null,
      "min_width": null,
      "object_fit": null,
      "object_position": null,
      "order": null,
      "overflow": null,
      "overflow_x": null,
      "overflow_y": null,
      "padding": null,
      "right": null,
      "top": null,
      "visibility": null,
      "width": null
     }
    },
    "41ba80d42c5042198c0a034c27e5485f": {
     "model_module": "@jupyter-widgets/base",
     "model_module_version": "1.2.0",
     "model_name": "LayoutModel",
     "state": {
      "_model_module": "@jupyter-widgets/base",
      "_model_module_version": "1.2.0",
      "_model_name": "LayoutModel",
      "_view_count": null,
      "_view_module": "@jupyter-widgets/base",
      "_view_module_version": "1.2.0",
      "_view_name": "LayoutView",
      "align_content": null,
      "align_items": null,
      "align_self": null,
      "border": null,
      "bottom": null,
      "display": null,
      "flex": null,
      "flex_flow": null,
      "grid_area": null,
      "grid_auto_columns": null,
      "grid_auto_flow": null,
      "grid_auto_rows": null,
      "grid_column": null,
      "grid_gap": null,
      "grid_row": null,
      "grid_template_areas": null,
      "grid_template_columns": null,
      "grid_template_rows": null,
      "height": null,
      "justify_content": null,
      "justify_items": null,
      "left": null,
      "margin": null,
      "max_height": null,
      "max_width": null,
      "min_height": null,
      "min_width": null,
      "object_fit": null,
      "object_position": null,
      "order": null,
      "overflow": null,
      "overflow_x": null,
      "overflow_y": null,
      "padding": null,
      "right": null,
      "top": null,
      "visibility": null,
      "width": null
     }
    },
    "44797a93400b4eb0b037d550733d111b": {
     "model_module": "@jupyter-widgets/controls",
     "model_module_version": "1.5.0",
     "model_name": "HTMLModel",
     "state": {
      "_dom_classes": [],
      "_model_module": "@jupyter-widgets/controls",
      "_model_module_version": "1.5.0",
      "_model_name": "HTMLModel",
      "_view_count": null,
      "_view_module": "@jupyter-widgets/controls",
      "_view_module_version": "1.5.0",
      "_view_name": "HTMLView",
      "description": "",
      "description_tooltip": null,
      "layout": "IPY_MODEL_003fed7ca8194d63a09aa623db20f64e",
      "placeholder": "​",
      "style": "IPY_MODEL_6a52d14c77c745c9b3cecb4530a45703",
      "value": "100%"
     }
    },
    "44accb7ae95c4a15974895eabdf50a3e": {
     "model_module": "@jupyter-widgets/base",
     "model_module_version": "1.2.0",
     "model_name": "LayoutModel",
     "state": {
      "_model_module": "@jupyter-widgets/base",
      "_model_module_version": "1.2.0",
      "_model_name": "LayoutModel",
      "_view_count": null,
      "_view_module": "@jupyter-widgets/base",
      "_view_module_version": "1.2.0",
      "_view_name": "LayoutView",
      "align_content": null,
      "align_items": null,
      "align_self": null,
      "border": null,
      "bottom": null,
      "display": null,
      "flex": null,
      "flex_flow": null,
      "grid_area": null,
      "grid_auto_columns": null,
      "grid_auto_flow": null,
      "grid_auto_rows": null,
      "grid_column": null,
      "grid_gap": null,
      "grid_row": null,
      "grid_template_areas": null,
      "grid_template_columns": null,
      "grid_template_rows": null,
      "height": null,
      "justify_content": null,
      "justify_items": null,
      "left": null,
      "margin": null,
      "max_height": null,
      "max_width": null,
      "min_height": null,
      "min_width": null,
      "object_fit": null,
      "object_position": null,
      "order": null,
      "overflow": null,
      "overflow_x": null,
      "overflow_y": null,
      "padding": null,
      "right": null,
      "top": null,
      "visibility": null,
      "width": null
     }
    },
    "487532698a20434cb785e967810dd1a5": {
     "model_module": "@jupyter-widgets/base",
     "model_module_version": "1.2.0",
     "model_name": "LayoutModel",
     "state": {
      "_model_module": "@jupyter-widgets/base",
      "_model_module_version": "1.2.0",
      "_model_name": "LayoutModel",
      "_view_count": null,
      "_view_module": "@jupyter-widgets/base",
      "_view_module_version": "1.2.0",
      "_view_name": "LayoutView",
      "align_content": null,
      "align_items": null,
      "align_self": null,
      "border": null,
      "bottom": null,
      "display": null,
      "flex": null,
      "flex_flow": null,
      "grid_area": null,
      "grid_auto_columns": null,
      "grid_auto_flow": null,
      "grid_auto_rows": null,
      "grid_column": null,
      "grid_gap": null,
      "grid_row": null,
      "grid_template_areas": null,
      "grid_template_columns": null,
      "grid_template_rows": null,
      "height": null,
      "justify_content": null,
      "justify_items": null,
      "left": null,
      "margin": null,
      "max_height": null,
      "max_width": null,
      "min_height": null,
      "min_width": null,
      "object_fit": null,
      "object_position": null,
      "order": null,
      "overflow": null,
      "overflow_x": null,
      "overflow_y": null,
      "padding": null,
      "right": null,
      "top": null,
      "visibility": null,
      "width": null
     }
    },
    "4b9bf965f4ce4860b0c6d533e928e059": {
     "model_module": "@jupyter-widgets/base",
     "model_module_version": "1.2.0",
     "model_name": "LayoutModel",
     "state": {
      "_model_module": "@jupyter-widgets/base",
      "_model_module_version": "1.2.0",
      "_model_name": "LayoutModel",
      "_view_count": null,
      "_view_module": "@jupyter-widgets/base",
      "_view_module_version": "1.2.0",
      "_view_name": "LayoutView",
      "align_content": null,
      "align_items": null,
      "align_self": null,
      "border": null,
      "bottom": null,
      "display": null,
      "flex": null,
      "flex_flow": null,
      "grid_area": null,
      "grid_auto_columns": null,
      "grid_auto_flow": null,
      "grid_auto_rows": null,
      "grid_column": null,
      "grid_gap": null,
      "grid_row": null,
      "grid_template_areas": null,
      "grid_template_columns": null,
      "grid_template_rows": null,
      "height": null,
      "justify_content": null,
      "justify_items": null,
      "left": null,
      "margin": null,
      "max_height": null,
      "max_width": null,
      "min_height": null,
      "min_width": null,
      "object_fit": null,
      "object_position": null,
      "order": null,
      "overflow": null,
      "overflow_x": null,
      "overflow_y": null,
      "padding": null,
      "right": null,
      "top": null,
      "visibility": null,
      "width": null
     }
    },
    "4ec467440b264c64a336d6e93393cb62": {
     "model_module": "@jupyter-widgets/base",
     "model_module_version": "1.2.0",
     "model_name": "LayoutModel",
     "state": {
      "_model_module": "@jupyter-widgets/base",
      "_model_module_version": "1.2.0",
      "_model_name": "LayoutModel",
      "_view_count": null,
      "_view_module": "@jupyter-widgets/base",
      "_view_module_version": "1.2.0",
      "_view_name": "LayoutView",
      "align_content": null,
      "align_items": null,
      "align_self": null,
      "border": null,
      "bottom": null,
      "display": null,
      "flex": null,
      "flex_flow": null,
      "grid_area": null,
      "grid_auto_columns": null,
      "grid_auto_flow": null,
      "grid_auto_rows": null,
      "grid_column": null,
      "grid_gap": null,
      "grid_row": null,
      "grid_template_areas": null,
      "grid_template_columns": null,
      "grid_template_rows": null,
      "height": null,
      "justify_content": null,
      "justify_items": null,
      "left": null,
      "margin": null,
      "max_height": null,
      "max_width": null,
      "min_height": null,
      "min_width": null,
      "object_fit": null,
      "object_position": null,
      "order": null,
      "overflow": null,
      "overflow_x": null,
      "overflow_y": null,
      "padding": null,
      "right": null,
      "top": null,
      "visibility": null,
      "width": null
     }
    },
    "520d6ca799cd44d0a52f7ae198a4c2a6": {
     "model_module": "@jupyter-widgets/controls",
     "model_module_version": "1.5.0",
     "model_name": "HTMLModel",
     "state": {
      "_dom_classes": [],
      "_model_module": "@jupyter-widgets/controls",
      "_model_module_version": "1.5.0",
      "_model_name": "HTMLModel",
      "_view_count": null,
      "_view_module": "@jupyter-widgets/controls",
      "_view_module_version": "1.5.0",
      "_view_name": "HTMLView",
      "description": "",
      "description_tooltip": null,
      "layout": "IPY_MODEL_41ba80d42c5042198c0a034c27e5485f",
      "placeholder": "​",
      "style": "IPY_MODEL_55189b9a2b084281b8d44fc17622868c",
      "value": "Downloading (…)okenizer_config.json: 100%"
     }
    },
    "52251306b16a4d4ba832968dae60edc0": {
     "model_module": "@jupyter-widgets/controls",
     "model_module_version": "1.5.0",
     "model_name": "DescriptionStyleModel",
     "state": {
      "_model_module": "@jupyter-widgets/controls",
      "_model_module_version": "1.5.0",
      "_model_name": "DescriptionStyleModel",
      "_view_count": null,
      "_view_module": "@jupyter-widgets/base",
      "_view_module_version": "1.2.0",
      "_view_name": "StyleView",
      "description_width": ""
     }
    },
    "5257d7ee21fb447d9e2a9a9d8935c4f3": {
     "model_module": "@jupyter-widgets/controls",
     "model_module_version": "1.5.0",
     "model_name": "HTMLModel",
     "state": {
      "_dom_classes": [],
      "_model_module": "@jupyter-widgets/controls",
      "_model_module_version": "1.5.0",
      "_model_name": "HTMLModel",
      "_view_count": null,
      "_view_module": "@jupyter-widgets/controls",
      "_view_module_version": "1.5.0",
      "_view_name": "HTMLView",
      "description": "",
      "description_tooltip": null,
      "layout": "IPY_MODEL_674389cd7e404990be4e6e4bcf56975a",
      "placeholder": "​",
      "style": "IPY_MODEL_7f830258808e4caa958b00edcdcc431f",
      "value": " 3/3 [00:01&lt;00:00,  1.53it/s]"
     }
    },
    "5436bca84131494397ca34277159fd2a": {
     "model_module": "@jupyter-widgets/controls",
     "model_module_version": "1.5.0",
     "model_name": "DescriptionStyleModel",
     "state": {
      "_model_module": "@jupyter-widgets/controls",
      "_model_module_version": "1.5.0",
      "_model_name": "DescriptionStyleModel",
      "_view_count": null,
      "_view_module": "@jupyter-widgets/base",
      "_view_module_version": "1.2.0",
      "_view_name": "StyleView",
      "description_width": ""
     }
    },
    "55189b9a2b084281b8d44fc17622868c": {
     "model_module": "@jupyter-widgets/controls",
     "model_module_version": "1.5.0",
     "model_name": "DescriptionStyleModel",
     "state": {
      "_model_module": "@jupyter-widgets/controls",
      "_model_module_version": "1.5.0",
      "_model_name": "DescriptionStyleModel",
      "_view_count": null,
      "_view_module": "@jupyter-widgets/base",
      "_view_module_version": "1.2.0",
      "_view_name": "StyleView",
      "description_width": ""
     }
    },
    "556b48fc0a594658b6aa910ba5d428b9": {
     "model_module": "@jupyter-widgets/controls",
     "model_module_version": "1.5.0",
     "model_name": "HTMLModel",
     "state": {
      "_dom_classes": [],
      "_model_module": "@jupyter-widgets/controls",
      "_model_module_version": "1.5.0",
      "_model_name": "HTMLModel",
      "_view_count": null,
      "_view_module": "@jupyter-widgets/controls",
      "_view_module_version": "1.5.0",
      "_view_name": "HTMLView",
      "description": "",
      "description_tooltip": null,
      "layout": "IPY_MODEL_566d40479fca40e896076e06304c393c",
      "placeholder": "​",
      "style": "IPY_MODEL_63a60c5681864a38bf2b295434b66809",
      "value": "Downloading (…)solve/main/vocab.txt: 100%"
     }
    },
    "556d3afb229f4732a8d6c38051453d3a": {
     "model_module": "@jupyter-widgets/controls",
     "model_module_version": "1.5.0",
     "model_name": "HTMLModel",
     "state": {
      "_dom_classes": [],
      "_model_module": "@jupyter-widgets/controls",
      "_model_module_version": "1.5.0",
      "_model_name": "HTMLModel",
      "_view_count": null,
      "_view_module": "@jupyter-widgets/controls",
      "_view_module_version": "1.5.0",
      "_view_name": "HTMLView",
      "description": "",
      "description_tooltip": null,
      "layout": "IPY_MODEL_72b7d076d621410589b602b6be5b8346",
      "placeholder": "​",
      "style": "IPY_MODEL_398a43b4250d4ec7a0455df0b4c09ec4",
      "value": "100%"
     }
    },
    "566d40479fca40e896076e06304c393c": {
     "model_module": "@jupyter-widgets/base",
     "model_module_version": "1.2.0",
     "model_name": "LayoutModel",
     "state": {
      "_model_module": "@jupyter-widgets/base",
      "_model_module_version": "1.2.0",
      "_model_name": "LayoutModel",
      "_view_count": null,
      "_view_module": "@jupyter-widgets/base",
      "_view_module_version": "1.2.0",
      "_view_name": "LayoutView",
      "align_content": null,
      "align_items": null,
      "align_self": null,
      "border": null,
      "bottom": null,
      "display": null,
      "flex": null,
      "flex_flow": null,
      "grid_area": null,
      "grid_auto_columns": null,
      "grid_auto_flow": null,
      "grid_auto_rows": null,
      "grid_column": null,
      "grid_gap": null,
      "grid_row": null,
      "grid_template_areas": null,
      "grid_template_columns": null,
      "grid_template_rows": null,
      "height": null,
      "justify_content": null,
      "justify_items": null,
      "left": null,
      "margin": null,
      "max_height": null,
      "max_width": null,
      "min_height": null,
      "min_width": null,
      "object_fit": null,
      "object_position": null,
      "order": null,
      "overflow": null,
      "overflow_x": null,
      "overflow_y": null,
      "padding": null,
      "right": null,
      "top": null,
      "visibility": null,
      "width": null
     }
    },
    "584272596b384209bd22508b334b4635": {
     "model_module": "@jupyter-widgets/base",
     "model_module_version": "1.2.0",
     "model_name": "LayoutModel",
     "state": {
      "_model_module": "@jupyter-widgets/base",
      "_model_module_version": "1.2.0",
      "_model_name": "LayoutModel",
      "_view_count": null,
      "_view_module": "@jupyter-widgets/base",
      "_view_module_version": "1.2.0",
      "_view_name": "LayoutView",
      "align_content": null,
      "align_items": null,
      "align_self": null,
      "border": null,
      "bottom": null,
      "display": null,
      "flex": null,
      "flex_flow": null,
      "grid_area": null,
      "grid_auto_columns": null,
      "grid_auto_flow": null,
      "grid_auto_rows": null,
      "grid_column": null,
      "grid_gap": null,
      "grid_row": null,
      "grid_template_areas": null,
      "grid_template_columns": null,
      "grid_template_rows": null,
      "height": null,
      "justify_content": null,
      "justify_items": null,
      "left": null,
      "margin": null,
      "max_height": null,
      "max_width": null,
      "min_height": null,
      "min_width": null,
      "object_fit": null,
      "object_position": null,
      "order": null,
      "overflow": null,
      "overflow_x": null,
      "overflow_y": null,
      "padding": null,
      "right": null,
      "top": null,
      "visibility": null,
      "width": null
     }
    },
    "5afe92d6d2514be5bea95bf6985707b7": {
     "model_module": "@jupyter-widgets/controls",
     "model_module_version": "1.5.0",
     "model_name": "ProgressStyleModel",
     "state": {
      "_model_module": "@jupyter-widgets/controls",
      "_model_module_version": "1.5.0",
      "_model_name": "ProgressStyleModel",
      "_view_count": null,
      "_view_module": "@jupyter-widgets/base",
      "_view_module_version": "1.2.0",
      "_view_name": "StyleView",
      "bar_color": null,
      "description_width": ""
     }
    },
    "6003647f5a684b19a78315d099ef5f62": {
     "model_module": "@jupyter-widgets/controls",
     "model_module_version": "1.5.0",
     "model_name": "ProgressStyleModel",
     "state": {
      "_model_module": "@jupyter-widgets/controls",
      "_model_module_version": "1.5.0",
      "_model_name": "ProgressStyleModel",
      "_view_count": null,
      "_view_module": "@jupyter-widgets/base",
      "_view_module_version": "1.2.0",
      "_view_name": "StyleView",
      "bar_color": null,
      "description_width": ""
     }
    },
    "60819ddebbe1404ab7e0afc10bde743f": {
     "model_module": "@jupyter-widgets/controls",
     "model_module_version": "1.5.0",
     "model_name": "DescriptionStyleModel",
     "state": {
      "_model_module": "@jupyter-widgets/controls",
      "_model_module_version": "1.5.0",
      "_model_name": "DescriptionStyleModel",
      "_view_count": null,
      "_view_module": "@jupyter-widgets/base",
      "_view_module_version": "1.2.0",
      "_view_name": "StyleView",
      "description_width": ""
     }
    },
    "60bf2b8162d44321a1fabb252b5e1deb": {
     "model_module": "@jupyter-widgets/base",
     "model_module_version": "1.2.0",
     "model_name": "LayoutModel",
     "state": {
      "_model_module": "@jupyter-widgets/base",
      "_model_module_version": "1.2.0",
      "_model_name": "LayoutModel",
      "_view_count": null,
      "_view_module": "@jupyter-widgets/base",
      "_view_module_version": "1.2.0",
      "_view_name": "LayoutView",
      "align_content": null,
      "align_items": null,
      "align_self": null,
      "border": null,
      "bottom": null,
      "display": null,
      "flex": null,
      "flex_flow": null,
      "grid_area": null,
      "grid_auto_columns": null,
      "grid_auto_flow": null,
      "grid_auto_rows": null,
      "grid_column": null,
      "grid_gap": null,
      "grid_row": null,
      "grid_template_areas": null,
      "grid_template_columns": null,
      "grid_template_rows": null,
      "height": null,
      "justify_content": null,
      "justify_items": null,
      "left": null,
      "margin": null,
      "max_height": null,
      "max_width": null,
      "min_height": null,
      "min_width": null,
      "object_fit": null,
      "object_position": null,
      "order": null,
      "overflow": null,
      "overflow_x": null,
      "overflow_y": null,
      "padding": null,
      "right": null,
      "top": null,
      "visibility": null,
      "width": null
     }
    },
    "63a60c5681864a38bf2b295434b66809": {
     "model_module": "@jupyter-widgets/controls",
     "model_module_version": "1.5.0",
     "model_name": "DescriptionStyleModel",
     "state": {
      "_model_module": "@jupyter-widgets/controls",
      "_model_module_version": "1.5.0",
      "_model_name": "DescriptionStyleModel",
      "_view_count": null,
      "_view_module": "@jupyter-widgets/base",
      "_view_module_version": "1.2.0",
      "_view_name": "StyleView",
      "description_width": ""
     }
    },
    "65fed074b9094fec9903ae22553aa0f6": {
     "model_module": "@jupyter-widgets/base",
     "model_module_version": "1.2.0",
     "model_name": "LayoutModel",
     "state": {
      "_model_module": "@jupyter-widgets/base",
      "_model_module_version": "1.2.0",
      "_model_name": "LayoutModel",
      "_view_count": null,
      "_view_module": "@jupyter-widgets/base",
      "_view_module_version": "1.2.0",
      "_view_name": "LayoutView",
      "align_content": null,
      "align_items": null,
      "align_self": null,
      "border": null,
      "bottom": null,
      "display": null,
      "flex": null,
      "flex_flow": null,
      "grid_area": null,
      "grid_auto_columns": null,
      "grid_auto_flow": null,
      "grid_auto_rows": null,
      "grid_column": null,
      "grid_gap": null,
      "grid_row": null,
      "grid_template_areas": null,
      "grid_template_columns": null,
      "grid_template_rows": null,
      "height": null,
      "justify_content": null,
      "justify_items": null,
      "left": null,
      "margin": null,
      "max_height": null,
      "max_width": null,
      "min_height": null,
      "min_width": null,
      "object_fit": null,
      "object_position": null,
      "order": null,
      "overflow": null,
      "overflow_x": null,
      "overflow_y": null,
      "padding": null,
      "right": null,
      "top": null,
      "visibility": null,
      "width": null
     }
    },
    "6735151967484adeb219bc8611d256d7": {
     "model_module": "@jupyter-widgets/base",
     "model_module_version": "1.2.0",
     "model_name": "LayoutModel",
     "state": {
      "_model_module": "@jupyter-widgets/base",
      "_model_module_version": "1.2.0",
      "_model_name": "LayoutModel",
      "_view_count": null,
      "_view_module": "@jupyter-widgets/base",
      "_view_module_version": "1.2.0",
      "_view_name": "LayoutView",
      "align_content": null,
      "align_items": null,
      "align_self": null,
      "border": null,
      "bottom": null,
      "display": null,
      "flex": null,
      "flex_flow": null,
      "grid_area": null,
      "grid_auto_columns": null,
      "grid_auto_flow": null,
      "grid_auto_rows": null,
      "grid_column": null,
      "grid_gap": null,
      "grid_row": null,
      "grid_template_areas": null,
      "grid_template_columns": null,
      "grid_template_rows": null,
      "height": null,
      "justify_content": null,
      "justify_items": null,
      "left": null,
      "margin": null,
      "max_height": null,
      "max_width": null,
      "min_height": null,
      "min_width": null,
      "object_fit": null,
      "object_position": null,
      "order": null,
      "overflow": null,
      "overflow_x": null,
      "overflow_y": null,
      "padding": null,
      "right": null,
      "top": null,
      "visibility": null,
      "width": null
     }
    },
    "674389cd7e404990be4e6e4bcf56975a": {
     "model_module": "@jupyter-widgets/base",
     "model_module_version": "1.2.0",
     "model_name": "LayoutModel",
     "state": {
      "_model_module": "@jupyter-widgets/base",
      "_model_module_version": "1.2.0",
      "_model_name": "LayoutModel",
      "_view_count": null,
      "_view_module": "@jupyter-widgets/base",
      "_view_module_version": "1.2.0",
      "_view_name": "LayoutView",
      "align_content": null,
      "align_items": null,
      "align_self": null,
      "border": null,
      "bottom": null,
      "display": null,
      "flex": null,
      "flex_flow": null,
      "grid_area": null,
      "grid_auto_columns": null,
      "grid_auto_flow": null,
      "grid_auto_rows": null,
      "grid_column": null,
      "grid_gap": null,
      "grid_row": null,
      "grid_template_areas": null,
      "grid_template_columns": null,
      "grid_template_rows": null,
      "height": null,
      "justify_content": null,
      "justify_items": null,
      "left": null,
      "margin": null,
      "max_height": null,
      "max_width": null,
      "min_height": null,
      "min_width": null,
      "object_fit": null,
      "object_position": null,
      "order": null,
      "overflow": null,
      "overflow_x": null,
      "overflow_y": null,
      "padding": null,
      "right": null,
      "top": null,
      "visibility": null,
      "width": null
     }
    },
    "680efb5ea7bc4751813053fcd7d5cf2b": {
     "model_module": "@jupyter-widgets/base",
     "model_module_version": "1.2.0",
     "model_name": "LayoutModel",
     "state": {
      "_model_module": "@jupyter-widgets/base",
      "_model_module_version": "1.2.0",
      "_model_name": "LayoutModel",
      "_view_count": null,
      "_view_module": "@jupyter-widgets/base",
      "_view_module_version": "1.2.0",
      "_view_name": "LayoutView",
      "align_content": null,
      "align_items": null,
      "align_self": null,
      "border": null,
      "bottom": null,
      "display": null,
      "flex": null,
      "flex_flow": null,
      "grid_area": null,
      "grid_auto_columns": null,
      "grid_auto_flow": null,
      "grid_auto_rows": null,
      "grid_column": null,
      "grid_gap": null,
      "grid_row": null,
      "grid_template_areas": null,
      "grid_template_columns": null,
      "grid_template_rows": null,
      "height": null,
      "justify_content": null,
      "justify_items": null,
      "left": null,
      "margin": null,
      "max_height": null,
      "max_width": null,
      "min_height": null,
      "min_width": null,
      "object_fit": null,
      "object_position": null,
      "order": null,
      "overflow": null,
      "overflow_x": null,
      "overflow_y": null,
      "padding": null,
      "right": null,
      "top": null,
      "visibility": null,
      "width": null
     }
    },
    "686199e61fb942aab8d0be34e4fa2444": {
     "model_module": "@jupyter-widgets/base",
     "model_module_version": "1.2.0",
     "model_name": "LayoutModel",
     "state": {
      "_model_module": "@jupyter-widgets/base",
      "_model_module_version": "1.2.0",
      "_model_name": "LayoutModel",
      "_view_count": null,
      "_view_module": "@jupyter-widgets/base",
      "_view_module_version": "1.2.0",
      "_view_name": "LayoutView",
      "align_content": null,
      "align_items": null,
      "align_self": null,
      "border": null,
      "bottom": null,
      "display": null,
      "flex": null,
      "flex_flow": null,
      "grid_area": null,
      "grid_auto_columns": null,
      "grid_auto_flow": null,
      "grid_auto_rows": null,
      "grid_column": null,
      "grid_gap": null,
      "grid_row": null,
      "grid_template_areas": null,
      "grid_template_columns": null,
      "grid_template_rows": null,
      "height": null,
      "justify_content": null,
      "justify_items": null,
      "left": null,
      "margin": null,
      "max_height": null,
      "max_width": null,
      "min_height": null,
      "min_width": null,
      "object_fit": null,
      "object_position": null,
      "order": null,
      "overflow": null,
      "overflow_x": null,
      "overflow_y": null,
      "padding": null,
      "right": null,
      "top": null,
      "visibility": null,
      "width": null
     }
    },
    "69f77d7d8a194bdeb8fbed9ed8f5bc5c": {
     "model_module": "@jupyter-widgets/base",
     "model_module_version": "1.2.0",
     "model_name": "LayoutModel",
     "state": {
      "_model_module": "@jupyter-widgets/base",
      "_model_module_version": "1.2.0",
      "_model_name": "LayoutModel",
      "_view_count": null,
      "_view_module": "@jupyter-widgets/base",
      "_view_module_version": "1.2.0",
      "_view_name": "LayoutView",
      "align_content": null,
      "align_items": null,
      "align_self": null,
      "border": null,
      "bottom": null,
      "display": null,
      "flex": null,
      "flex_flow": null,
      "grid_area": null,
      "grid_auto_columns": null,
      "grid_auto_flow": null,
      "grid_auto_rows": null,
      "grid_column": null,
      "grid_gap": null,
      "grid_row": null,
      "grid_template_areas": null,
      "grid_template_columns": null,
      "grid_template_rows": null,
      "height": null,
      "justify_content": null,
      "justify_items": null,
      "left": null,
      "margin": null,
      "max_height": null,
      "max_width": null,
      "min_height": null,
      "min_width": null,
      "object_fit": null,
      "object_position": null,
      "order": null,
      "overflow": null,
      "overflow_x": null,
      "overflow_y": null,
      "padding": null,
      "right": null,
      "top": null,
      "visibility": null,
      "width": null
     }
    },
    "6a52d14c77c745c9b3cecb4530a45703": {
     "model_module": "@jupyter-widgets/controls",
     "model_module_version": "1.5.0",
     "model_name": "DescriptionStyleModel",
     "state": {
      "_model_module": "@jupyter-widgets/controls",
      "_model_module_version": "1.5.0",
      "_model_name": "DescriptionStyleModel",
      "_view_count": null,
      "_view_module": "@jupyter-widgets/base",
      "_view_module_version": "1.2.0",
      "_view_name": "StyleView",
      "description_width": ""
     }
    },
    "6bd44b445e114f888c1809c3dbcc515a": {
     "model_module": "@jupyter-widgets/base",
     "model_module_version": "1.2.0",
     "model_name": "LayoutModel",
     "state": {
      "_model_module": "@jupyter-widgets/base",
      "_model_module_version": "1.2.0",
      "_model_name": "LayoutModel",
      "_view_count": null,
      "_view_module": "@jupyter-widgets/base",
      "_view_module_version": "1.2.0",
      "_view_name": "LayoutView",
      "align_content": null,
      "align_items": null,
      "align_self": null,
      "border": null,
      "bottom": null,
      "display": null,
      "flex": null,
      "flex_flow": null,
      "grid_area": null,
      "grid_auto_columns": null,
      "grid_auto_flow": null,
      "grid_auto_rows": null,
      "grid_column": null,
      "grid_gap": null,
      "grid_row": null,
      "grid_template_areas": null,
      "grid_template_columns": null,
      "grid_template_rows": null,
      "height": null,
      "justify_content": null,
      "justify_items": null,
      "left": null,
      "margin": null,
      "max_height": null,
      "max_width": null,
      "min_height": null,
      "min_width": null,
      "object_fit": null,
      "object_position": null,
      "order": null,
      "overflow": null,
      "overflow_x": null,
      "overflow_y": null,
      "padding": null,
      "right": null,
      "top": null,
      "visibility": null,
      "width": null
     }
    },
    "6e94546073c44ae6b0325719a221b50c": {
     "model_module": "@jupyter-widgets/controls",
     "model_module_version": "1.5.0",
     "model_name": "HBoxModel",
     "state": {
      "_dom_classes": [],
      "_model_module": "@jupyter-widgets/controls",
      "_model_module_version": "1.5.0",
      "_model_name": "HBoxModel",
      "_view_count": null,
      "_view_module": "@jupyter-widgets/controls",
      "_view_module_version": "1.5.0",
      "_view_name": "HBoxView",
      "box_style": "",
      "children": [
       "IPY_MODEL_26ad0b9ce563415ab3f1767ad451fe59",
       "IPY_MODEL_2a3bcae1447248f0861a191cf10fa0c6",
       "IPY_MODEL_a934ec32b8024ab580edfc3a9b6e3290"
      ],
      "layout": "IPY_MODEL_b566847106c54803820fd77c9cc23ec3"
     }
    },
    "716771f12a694b38a06d5c3f24461627": {
     "model_module": "@jupyter-widgets/controls",
     "model_module_version": "1.5.0",
     "model_name": "FloatProgressModel",
     "state": {
      "_dom_classes": [],
      "_model_module": "@jupyter-widgets/controls",
      "_model_module_version": "1.5.0",
      "_model_name": "FloatProgressModel",
      "_view_count": null,
      "_view_module": "@jupyter-widgets/controls",
      "_view_module_version": "1.5.0",
      "_view_name": "ProgressView",
      "bar_style": "success",
      "description": "",
      "description_tooltip": null,
      "layout": "IPY_MODEL_19fbf8035f2e4a36b3357a0495e29d10",
      "max": 61,
      "min": 0,
      "orientation": "horizontal",
      "style": "IPY_MODEL_862ec571accb410c903b0ff04ee3ff13",
      "value": 61
     }
    },
    "72a6709b1f4f47d0b69dffc639d0ab23": {
     "model_module": "@jupyter-widgets/base",
     "model_module_version": "1.2.0",
     "model_name": "LayoutModel",
     "state": {
      "_model_module": "@jupyter-widgets/base",
      "_model_module_version": "1.2.0",
      "_model_name": "LayoutModel",
      "_view_count": null,
      "_view_module": "@jupyter-widgets/base",
      "_view_module_version": "1.2.0",
      "_view_name": "LayoutView",
      "align_content": null,
      "align_items": null,
      "align_self": null,
      "border": null,
      "bottom": null,
      "display": null,
      "flex": null,
      "flex_flow": null,
      "grid_area": null,
      "grid_auto_columns": null,
      "grid_auto_flow": null,
      "grid_auto_rows": null,
      "grid_column": null,
      "grid_gap": null,
      "grid_row": null,
      "grid_template_areas": null,
      "grid_template_columns": null,
      "grid_template_rows": null,
      "height": null,
      "justify_content": null,
      "justify_items": null,
      "left": null,
      "margin": null,
      "max_height": null,
      "max_width": null,
      "min_height": null,
      "min_width": null,
      "object_fit": null,
      "object_position": null,
      "order": null,
      "overflow": null,
      "overflow_x": null,
      "overflow_y": null,
      "padding": null,
      "right": null,
      "top": null,
      "visibility": null,
      "width": null
     }
    },
    "72b7d076d621410589b602b6be5b8346": {
     "model_module": "@jupyter-widgets/base",
     "model_module_version": "1.2.0",
     "model_name": "LayoutModel",
     "state": {
      "_model_module": "@jupyter-widgets/base",
      "_model_module_version": "1.2.0",
      "_model_name": "LayoutModel",
      "_view_count": null,
      "_view_module": "@jupyter-widgets/base",
      "_view_module_version": "1.2.0",
      "_view_name": "LayoutView",
      "align_content": null,
      "align_items": null,
      "align_self": null,
      "border": null,
      "bottom": null,
      "display": null,
      "flex": null,
      "flex_flow": null,
      "grid_area": null,
      "grid_auto_columns": null,
      "grid_auto_flow": null,
      "grid_auto_rows": null,
      "grid_column": null,
      "grid_gap": null,
      "grid_row": null,
      "grid_template_areas": null,
      "grid_template_columns": null,
      "grid_template_rows": null,
      "height": null,
      "justify_content": null,
      "justify_items": null,
      "left": null,
      "margin": null,
      "max_height": null,
      "max_width": null,
      "min_height": null,
      "min_width": null,
      "object_fit": null,
      "object_position": null,
      "order": null,
      "overflow": null,
      "overflow_x": null,
      "overflow_y": null,
      "padding": null,
      "right": null,
      "top": null,
      "visibility": null,
      "width": null
     }
    },
    "792a91f8ebe348a2b8652b3b43f9319e": {
     "model_module": "@jupyter-widgets/controls",
     "model_module_version": "1.5.0",
     "model_name": "DescriptionStyleModel",
     "state": {
      "_model_module": "@jupyter-widgets/controls",
      "_model_module_version": "1.5.0",
      "_model_name": "DescriptionStyleModel",
      "_view_count": null,
      "_view_module": "@jupyter-widgets/base",
      "_view_module_version": "1.2.0",
      "_view_name": "StyleView",
      "description_width": ""
     }
    },
    "79d85a1f8caa425e9566ad65bd4f03fc": {
     "model_module": "@jupyter-widgets/base",
     "model_module_version": "1.2.0",
     "model_name": "LayoutModel",
     "state": {
      "_model_module": "@jupyter-widgets/base",
      "_model_module_version": "1.2.0",
      "_model_name": "LayoutModel",
      "_view_count": null,
      "_view_module": "@jupyter-widgets/base",
      "_view_module_version": "1.2.0",
      "_view_name": "LayoutView",
      "align_content": null,
      "align_items": null,
      "align_self": null,
      "border": null,
      "bottom": null,
      "display": null,
      "flex": null,
      "flex_flow": null,
      "grid_area": null,
      "grid_auto_columns": null,
      "grid_auto_flow": null,
      "grid_auto_rows": null,
      "grid_column": null,
      "grid_gap": null,
      "grid_row": null,
      "grid_template_areas": null,
      "grid_template_columns": null,
      "grid_template_rows": null,
      "height": null,
      "justify_content": null,
      "justify_items": null,
      "left": null,
      "margin": null,
      "max_height": null,
      "max_width": null,
      "min_height": null,
      "min_width": null,
      "object_fit": null,
      "object_position": null,
      "order": null,
      "overflow": null,
      "overflow_x": null,
      "overflow_y": null,
      "padding": null,
      "right": null,
      "top": null,
      "visibility": null,
      "width": null
     }
    },
    "7a7cdfd63b604f5a8dd9db5fc85f3432": {
     "model_module": "@jupyter-widgets/controls",
     "model_module_version": "1.5.0",
     "model_name": "HBoxModel",
     "state": {
      "_dom_classes": [],
      "_model_module": "@jupyter-widgets/controls",
      "_model_module_version": "1.5.0",
      "_model_name": "HBoxModel",
      "_view_count": null,
      "_view_module": "@jupyter-widgets/controls",
      "_view_module_version": "1.5.0",
      "_view_name": "HBoxView",
      "box_style": "",
      "children": [
       "IPY_MODEL_de8a9dba65404787a1da2d3d44df2903",
       "IPY_MODEL_8cf244a893d94446a955732da3aac5e9",
       "IPY_MODEL_38a64711efbe48cbb505a97b257bd7f4"
      ],
      "layout": "IPY_MODEL_3328a6986fa24331af1108ffcf5742e7"
     }
    },
    "7b3187f2eac74d7596ffd50df7561455": {
     "model_module": "@jupyter-widgets/controls",
     "model_module_version": "1.5.0",
     "model_name": "HBoxModel",
     "state": {
      "_dom_classes": [],
      "_model_module": "@jupyter-widgets/controls",
      "_model_module_version": "1.5.0",
      "_model_name": "HBoxModel",
      "_view_count": null,
      "_view_module": "@jupyter-widgets/controls",
      "_view_module_version": "1.5.0",
      "_view_name": "HBoxView",
      "box_style": "",
      "children": [
       "IPY_MODEL_1e390207255b409484f38600a6b3ccd0",
       "IPY_MODEL_f80b592a084c459fa66e3d1f8a6e9b54",
       "IPY_MODEL_b11c64d02baa41b9858745deef366ee8"
      ],
      "layout": "IPY_MODEL_20f64216266f49e9b78684fb638ee910"
     }
    },
    "7edb1799532b4697a252491dd32eed21": {
     "model_module": "@jupyter-widgets/controls",
     "model_module_version": "1.5.0",
     "model_name": "HBoxModel",
     "state": {
      "_dom_classes": [],
      "_model_module": "@jupyter-widgets/controls",
      "_model_module_version": "1.5.0",
      "_model_name": "HBoxModel",
      "_view_count": null,
      "_view_module": "@jupyter-widgets/controls",
      "_view_module_version": "1.5.0",
      "_view_name": "HBoxView",
      "box_style": "",
      "children": [
       "IPY_MODEL_d7fe289a6ae04373a8cfefb54ef359af",
       "IPY_MODEL_d3591ac3fdbf4637bf69aabbf3815bfa",
       "IPY_MODEL_8c6bfcf68a08464cb1a335defd936165"
      ],
      "layout": "IPY_MODEL_f28b4a96ddf643ee931bfc64cfa79a09"
     }
    },
    "7f830258808e4caa958b00edcdcc431f": {
     "model_module": "@jupyter-widgets/controls",
     "model_module_version": "1.5.0",
     "model_name": "DescriptionStyleModel",
     "state": {
      "_model_module": "@jupyter-widgets/controls",
      "_model_module_version": "1.5.0",
      "_model_name": "DescriptionStyleModel",
      "_view_count": null,
      "_view_module": "@jupyter-widgets/base",
      "_view_module_version": "1.2.0",
      "_view_name": "StyleView",
      "description_width": ""
     }
    },
    "7feb62b195c84d828945eb295500b1f1": {
     "model_module": "@jupyter-widgets/controls",
     "model_module_version": "1.5.0",
     "model_name": "HBoxModel",
     "state": {
      "_dom_classes": [],
      "_model_module": "@jupyter-widgets/controls",
      "_model_module_version": "1.5.0",
      "_model_name": "HBoxModel",
      "_view_count": null,
      "_view_module": "@jupyter-widgets/controls",
      "_view_module_version": "1.5.0",
      "_view_name": "HBoxView",
      "box_style": "",
      "children": [
       "IPY_MODEL_82c2fb5b0efa4789b5a23bc1b0b3621d",
       "IPY_MODEL_1b6f9e29806e4681ab4686ed980c2d11",
       "IPY_MODEL_fa316d3b052d48748909cd24c9d6b8b2"
      ],
      "layout": "IPY_MODEL_3aecb7c3654d4806b7f0d37a47d7dbec"
     }
    },
    "820a8f5d39b94d539370b484e2411159": {
     "model_module": "@jupyter-widgets/controls",
     "model_module_version": "1.5.0",
     "model_name": "HTMLModel",
     "state": {
      "_dom_classes": [],
      "_model_module": "@jupyter-widgets/controls",
      "_model_module_version": "1.5.0",
      "_model_name": "HTMLModel",
      "_view_count": null,
      "_view_module": "@jupyter-widgets/controls",
      "_view_module_version": "1.5.0",
      "_view_name": "HTMLView",
      "description": "",
      "description_tooltip": null,
      "layout": "IPY_MODEL_fbedf77bad244e31b5d148a1b7451656",
      "placeholder": "​",
      "style": "IPY_MODEL_dbc3ba9b2b874300acdbcedf4969d3e4",
      "value": " 3/3 [00:01&lt;00:00,  1.54it/s]"
     }
    },
    "82c2fb5b0efa4789b5a23bc1b0b3621d": {
     "model_module": "@jupyter-widgets/controls",
     "model_module_version": "1.5.0",
     "model_name": "HTMLModel",
     "state": {
      "_dom_classes": [],
      "_model_module": "@jupyter-widgets/controls",
      "_model_module_version": "1.5.0",
      "_model_name": "HTMLModel",
      "_view_count": null,
      "_view_module": "@jupyter-widgets/controls",
      "_view_module_version": "1.5.0",
      "_view_name": "HTMLView",
      "description": "",
      "description_tooltip": null,
      "layout": "IPY_MODEL_f22d9af0931c4ce4b07a0cadbc042404",
      "placeholder": "​",
      "style": "IPY_MODEL_ef5ab570937943659d9643b3be1ea2ad",
      "value": "100%"
     }
    },
    "8623587bc86e4cde9613c1ecb05b9e68": {
     "model_module": "@jupyter-widgets/controls",
     "model_module_version": "1.5.0",
     "model_name": "HTMLModel",
     "state": {
      "_dom_classes": [],
      "_model_module": "@jupyter-widgets/controls",
      "_model_module_version": "1.5.0",
      "_model_name": "HTMLModel",
      "_view_count": null,
      "_view_module": "@jupyter-widgets/controls",
      "_view_module_version": "1.5.0",
      "_view_name": "HTMLView",
      "description": "",
      "description_tooltip": null,
      "layout": "IPY_MODEL_65fed074b9094fec9903ae22553aa0f6",
      "placeholder": "​",
      "style": "IPY_MODEL_f50043ae63dc4dcabb1350a66deb918d",
      "value": " 3/3 [00:01&lt;00:00,  1.56it/s]"
     }
    },
    "862ec571accb410c903b0ff04ee3ff13": {
     "model_module": "@jupyter-widgets/controls",
     "model_module_version": "1.5.0",
     "model_name": "ProgressStyleModel",
     "state": {
      "_model_module": "@jupyter-widgets/controls",
      "_model_module_version": "1.5.0",
      "_model_name": "ProgressStyleModel",
      "_view_count": null,
      "_view_module": "@jupyter-widgets/base",
      "_view_module_version": "1.2.0",
      "_view_name": "StyleView",
      "bar_color": null,
      "description_width": ""
     }
    },
    "86f0bcc1ecfe4c2598882f006fcd9b2a": {
     "model_module": "@jupyter-widgets/controls",
     "model_module_version": "1.5.0",
     "model_name": "DescriptionStyleModel",
     "state": {
      "_model_module": "@jupyter-widgets/controls",
      "_model_module_version": "1.5.0",
      "_model_name": "DescriptionStyleModel",
      "_view_count": null,
      "_view_module": "@jupyter-widgets/base",
      "_view_module_version": "1.2.0",
      "_view_name": "StyleView",
      "description_width": ""
     }
    },
    "87fedcd10db244e3b39145c06dc130b6": {
     "model_module": "@jupyter-widgets/controls",
     "model_module_version": "1.5.0",
     "model_name": "HTMLModel",
     "state": {
      "_dom_classes": [],
      "_model_module": "@jupyter-widgets/controls",
      "_model_module_version": "1.5.0",
      "_model_name": "HTMLModel",
      "_view_count": null,
      "_view_module": "@jupyter-widgets/controls",
      "_view_module_version": "1.5.0",
      "_view_name": "HTMLView",
      "description": "",
      "description_tooltip": null,
      "layout": "IPY_MODEL_6735151967484adeb219bc8611d256d7",
      "placeholder": "​",
      "style": "IPY_MODEL_5436bca84131494397ca34277159fd2a",
      "value": "100%"
     }
    },
    "893b79a474254e44b157a26b1c964d3f": {
     "model_module": "@jupyter-widgets/base",
     "model_module_version": "1.2.0",
     "model_name": "LayoutModel",
     "state": {
      "_model_module": "@jupyter-widgets/base",
      "_model_module_version": "1.2.0",
      "_model_name": "LayoutModel",
      "_view_count": null,
      "_view_module": "@jupyter-widgets/base",
      "_view_module_version": "1.2.0",
      "_view_name": "LayoutView",
      "align_content": null,
      "align_items": null,
      "align_self": null,
      "border": null,
      "bottom": null,
      "display": null,
      "flex": null,
      "flex_flow": null,
      "grid_area": null,
      "grid_auto_columns": null,
      "grid_auto_flow": null,
      "grid_auto_rows": null,
      "grid_column": null,
      "grid_gap": null,
      "grid_row": null,
      "grid_template_areas": null,
      "grid_template_columns": null,
      "grid_template_rows": null,
      "height": null,
      "justify_content": null,
      "justify_items": null,
      "left": null,
      "margin": null,
      "max_height": null,
      "max_width": null,
      "min_height": null,
      "min_width": null,
      "object_fit": null,
      "object_position": null,
      "order": null,
      "overflow": null,
      "overflow_x": null,
      "overflow_y": null,
      "padding": null,
      "right": null,
      "top": null,
      "visibility": null,
      "width": null
     }
    },
    "8c6bfcf68a08464cb1a335defd936165": {
     "model_module": "@jupyter-widgets/controls",
     "model_module_version": "1.5.0",
     "model_name": "HTMLModel",
     "state": {
      "_dom_classes": [],
      "_model_module": "@jupyter-widgets/controls",
      "_model_module_version": "1.5.0",
      "_model_name": "HTMLModel",
      "_view_count": null,
      "_view_module": "@jupyter-widgets/controls",
      "_view_module_version": "1.5.0",
      "_view_name": "HTMLView",
      "description": "",
      "description_tooltip": null,
      "layout": "IPY_MODEL_ddef05a902db4402a1d73f32c0febc23",
      "placeholder": "​",
      "style": "IPY_MODEL_eccce9f118e94056b691a6430a2f6c1d",
      "value": " 3/3 [00:02&lt;00:00,  1.51it/s]"
     }
    },
    "8cf244a893d94446a955732da3aac5e9": {
     "model_module": "@jupyter-widgets/controls",
     "model_module_version": "1.5.0",
     "model_name": "FloatProgressModel",
     "state": {
      "_dom_classes": [],
      "_model_module": "@jupyter-widgets/controls",
      "_model_module_version": "1.5.0",
      "_model_name": "FloatProgressModel",
      "_view_count": null,
      "_view_module": "@jupyter-widgets/controls",
      "_view_module_version": "1.5.0",
      "_view_name": "ProgressView",
      "bar_style": "success",
      "description": "",
      "description_tooltip": null,
      "layout": "IPY_MODEL_b460c7828bd84383889c1552f18b7822",
      "max": 1,
      "min": 0,
      "orientation": "horizontal",
      "style": "IPY_MODEL_c9ca0a6bbd254bcda02cf014af1262a6",
      "value": 1
     }
    },
    "90507052b2314567b5ace8168ed0923c": {
     "model_module": "@jupyter-widgets/controls",
     "model_module_version": "1.5.0",
     "model_name": "HTMLModel",
     "state": {
      "_dom_classes": [],
      "_model_module": "@jupyter-widgets/controls",
      "_model_module_version": "1.5.0",
      "_model_name": "HTMLModel",
      "_view_count": null,
      "_view_module": "@jupyter-widgets/controls",
      "_view_module_version": "1.5.0",
      "_view_name": "HTMLView",
      "description": "",
      "description_tooltip": null,
      "layout": "IPY_MODEL_e6ea39e0a0d644e8a423cca97aa54374",
      "placeholder": "​",
      "style": "IPY_MODEL_b66cfcb1c8804ba6898d770ec1a8597c",
      "value": "100%"
     }
    },
    "91e02477d1a544cebb70f4350760743d": {
     "model_module": "@jupyter-widgets/controls",
     "model_module_version": "1.5.0",
     "model_name": "DescriptionStyleModel",
     "state": {
      "_model_module": "@jupyter-widgets/controls",
      "_model_module_version": "1.5.0",
      "_model_name": "DescriptionStyleModel",
      "_view_count": null,
      "_view_module": "@jupyter-widgets/base",
      "_view_module_version": "1.2.0",
      "_view_name": "StyleView",
      "description_width": ""
     }
    },
    "9206bb661369417d8880451f3024da75": {
     "model_module": "@jupyter-widgets/base",
     "model_module_version": "1.2.0",
     "model_name": "LayoutModel",
     "state": {
      "_model_module": "@jupyter-widgets/base",
      "_model_module_version": "1.2.0",
      "_model_name": "LayoutModel",
      "_view_count": null,
      "_view_module": "@jupyter-widgets/base",
      "_view_module_version": "1.2.0",
      "_view_name": "LayoutView",
      "align_content": null,
      "align_items": null,
      "align_self": null,
      "border": null,
      "bottom": null,
      "display": null,
      "flex": null,
      "flex_flow": null,
      "grid_area": null,
      "grid_auto_columns": null,
      "grid_auto_flow": null,
      "grid_auto_rows": null,
      "grid_column": null,
      "grid_gap": null,
      "grid_row": null,
      "grid_template_areas": null,
      "grid_template_columns": null,
      "grid_template_rows": null,
      "height": null,
      "justify_content": null,
      "justify_items": null,
      "left": null,
      "margin": null,
      "max_height": null,
      "max_width": null,
      "min_height": null,
      "min_width": null,
      "object_fit": null,
      "object_position": null,
      "order": null,
      "overflow": null,
      "overflow_x": null,
      "overflow_y": null,
      "padding": null,
      "right": null,
      "top": null,
      "visibility": null,
      "width": null
     }
    },
    "94924ec426994460bfb7c0f25b7ba3d5": {
     "model_module": "@jupyter-widgets/controls",
     "model_module_version": "1.5.0",
     "model_name": "HBoxModel",
     "state": {
      "_dom_classes": [],
      "_model_module": "@jupyter-widgets/controls",
      "_model_module_version": "1.5.0",
      "_model_name": "HBoxModel",
      "_view_count": null,
      "_view_module": "@jupyter-widgets/controls",
      "_view_module_version": "1.5.0",
      "_view_name": "HBoxView",
      "box_style": "",
      "children": [
       "IPY_MODEL_44797a93400b4eb0b037d550733d111b",
       "IPY_MODEL_ea388183c95e41cd8232442645cca93e",
       "IPY_MODEL_8623587bc86e4cde9613c1ecb05b9e68"
      ],
      "layout": "IPY_MODEL_3333d209169b44928acd01b21dd35539"
     }
    },
    "9758a75bda7a4021925de614ba81ea4b": {
     "model_module": "@jupyter-widgets/base",
     "model_module_version": "1.2.0",
     "model_name": "LayoutModel",
     "state": {
      "_model_module": "@jupyter-widgets/base",
      "_model_module_version": "1.2.0",
      "_model_name": "LayoutModel",
      "_view_count": null,
      "_view_module": "@jupyter-widgets/base",
      "_view_module_version": "1.2.0",
      "_view_name": "LayoutView",
      "align_content": null,
      "align_items": null,
      "align_self": null,
      "border": null,
      "bottom": null,
      "display": null,
      "flex": null,
      "flex_flow": null,
      "grid_area": null,
      "grid_auto_columns": null,
      "grid_auto_flow": null,
      "grid_auto_rows": null,
      "grid_column": null,
      "grid_gap": null,
      "grid_row": null,
      "grid_template_areas": null,
      "grid_template_columns": null,
      "grid_template_rows": null,
      "height": null,
      "justify_content": null,
      "justify_items": null,
      "left": null,
      "margin": null,
      "max_height": null,
      "max_width": null,
      "min_height": null,
      "min_width": null,
      "object_fit": null,
      "object_position": null,
      "order": null,
      "overflow": null,
      "overflow_x": null,
      "overflow_y": null,
      "padding": null,
      "right": null,
      "top": null,
      "visibility": null,
      "width": null
     }
    },
    "97989b2cd6ec452884d83749ab3abad6": {
     "model_module": "@jupyter-widgets/controls",
     "model_module_version": "1.5.0",
     "model_name": "DescriptionStyleModel",
     "state": {
      "_model_module": "@jupyter-widgets/controls",
      "_model_module_version": "1.5.0",
      "_model_name": "DescriptionStyleModel",
      "_view_count": null,
      "_view_module": "@jupyter-widgets/base",
      "_view_module_version": "1.2.0",
      "_view_name": "StyleView",
      "description_width": ""
     }
    },
    "9a00514f7fe84e439b41c8b85e584666": {
     "model_module": "@jupyter-widgets/controls",
     "model_module_version": "1.5.0",
     "model_name": "FloatProgressModel",
     "state": {
      "_dom_classes": [],
      "_model_module": "@jupyter-widgets/controls",
      "_model_module_version": "1.5.0",
      "_model_name": "FloatProgressModel",
      "_view_count": null,
      "_view_module": "@jupyter-widgets/controls",
      "_view_module_version": "1.5.0",
      "_view_name": "ProgressView",
      "bar_style": "success",
      "description": "",
      "description_tooltip": null,
      "layout": "IPY_MODEL_584272596b384209bd22508b334b4635",
      "max": 3,
      "min": 0,
      "orientation": "horizontal",
      "style": "IPY_MODEL_21eb7947a3e2476f84beba8d2fa5cc43",
      "value": 3
     }
    },
    "9ad928d3b65847318f0f283d592399fe": {
     "model_module": "@jupyter-widgets/base",
     "model_module_version": "1.2.0",
     "model_name": "LayoutModel",
     "state": {
      "_model_module": "@jupyter-widgets/base",
      "_model_module_version": "1.2.0",
      "_model_name": "LayoutModel",
      "_view_count": null,
      "_view_module": "@jupyter-widgets/base",
      "_view_module_version": "1.2.0",
      "_view_name": "LayoutView",
      "align_content": null,
      "align_items": null,
      "align_self": null,
      "border": null,
      "bottom": null,
      "display": null,
      "flex": null,
      "flex_flow": null,
      "grid_area": null,
      "grid_auto_columns": null,
      "grid_auto_flow": null,
      "grid_auto_rows": null,
      "grid_column": null,
      "grid_gap": null,
      "grid_row": null,
      "grid_template_areas": null,
      "grid_template_columns": null,
      "grid_template_rows": null,
      "height": null,
      "justify_content": null,
      "justify_items": null,
      "left": null,
      "margin": null,
      "max_height": null,
      "max_width": null,
      "min_height": null,
      "min_width": null,
      "object_fit": null,
      "object_position": null,
      "order": null,
      "overflow": null,
      "overflow_x": null,
      "overflow_y": null,
      "padding": null,
      "right": null,
      "top": null,
      "visibility": null,
      "width": null
     }
    },
    "a183b5cf386d4129a03e3ca495f17552": {
     "model_module": "@jupyter-widgets/base",
     "model_module_version": "1.2.0",
     "model_name": "LayoutModel",
     "state": {
      "_model_module": "@jupyter-widgets/base",
      "_model_module_version": "1.2.0",
      "_model_name": "LayoutModel",
      "_view_count": null,
      "_view_module": "@jupyter-widgets/base",
      "_view_module_version": "1.2.0",
      "_view_name": "LayoutView",
      "align_content": null,
      "align_items": null,
      "align_self": null,
      "border": null,
      "bottom": null,
      "display": null,
      "flex": null,
      "flex_flow": null,
      "grid_area": null,
      "grid_auto_columns": null,
      "grid_auto_flow": null,
      "grid_auto_rows": null,
      "grid_column": null,
      "grid_gap": null,
      "grid_row": null,
      "grid_template_areas": null,
      "grid_template_columns": null,
      "grid_template_rows": null,
      "height": null,
      "justify_content": null,
      "justify_items": null,
      "left": null,
      "margin": null,
      "max_height": null,
      "max_width": null,
      "min_height": null,
      "min_width": null,
      "object_fit": null,
      "object_position": null,
      "order": null,
      "overflow": null,
      "overflow_x": null,
      "overflow_y": null,
      "padding": null,
      "right": null,
      "top": null,
      "visibility": null,
      "width": null
     }
    },
    "a44e50187f3540598a2b78e094417259": {
     "model_module": "@jupyter-widgets/base",
     "model_module_version": "1.2.0",
     "model_name": "LayoutModel",
     "state": {
      "_model_module": "@jupyter-widgets/base",
      "_model_module_version": "1.2.0",
      "_model_name": "LayoutModel",
      "_view_count": null,
      "_view_module": "@jupyter-widgets/base",
      "_view_module_version": "1.2.0",
      "_view_name": "LayoutView",
      "align_content": null,
      "align_items": null,
      "align_self": null,
      "border": null,
      "bottom": null,
      "display": null,
      "flex": null,
      "flex_flow": null,
      "grid_area": null,
      "grid_auto_columns": null,
      "grid_auto_flow": null,
      "grid_auto_rows": null,
      "grid_column": null,
      "grid_gap": null,
      "grid_row": null,
      "grid_template_areas": null,
      "grid_template_columns": null,
      "grid_template_rows": null,
      "height": null,
      "justify_content": null,
      "justify_items": null,
      "left": null,
      "margin": null,
      "max_height": null,
      "max_width": null,
      "min_height": null,
      "min_width": null,
      "object_fit": null,
      "object_position": null,
      "order": null,
      "overflow": null,
      "overflow_x": null,
      "overflow_y": null,
      "padding": null,
      "right": null,
      "top": null,
      "visibility": null,
      "width": null
     }
    },
    "a6176639d8604c388d4b2a3b74d1fb7e": {
     "model_module": "@jupyter-widgets/base",
     "model_module_version": "1.2.0",
     "model_name": "LayoutModel",
     "state": {
      "_model_module": "@jupyter-widgets/base",
      "_model_module_version": "1.2.0",
      "_model_name": "LayoutModel",
      "_view_count": null,
      "_view_module": "@jupyter-widgets/base",
      "_view_module_version": "1.2.0",
      "_view_name": "LayoutView",
      "align_content": null,
      "align_items": null,
      "align_self": null,
      "border": null,
      "bottom": null,
      "display": null,
      "flex": null,
      "flex_flow": null,
      "grid_area": null,
      "grid_auto_columns": null,
      "grid_auto_flow": null,
      "grid_auto_rows": null,
      "grid_column": null,
      "grid_gap": null,
      "grid_row": null,
      "grid_template_areas": null,
      "grid_template_columns": null,
      "grid_template_rows": null,
      "height": null,
      "justify_content": null,
      "justify_items": null,
      "left": null,
      "margin": null,
      "max_height": null,
      "max_width": null,
      "min_height": null,
      "min_width": null,
      "object_fit": null,
      "object_position": null,
      "order": null,
      "overflow": null,
      "overflow_x": null,
      "overflow_y": null,
      "padding": null,
      "right": null,
      "top": null,
      "visibility": null,
      "width": null
     }
    },
    "a78e4b56d4ca47f1b67609e010afb15c": {
     "model_module": "@jupyter-widgets/controls",
     "model_module_version": "1.5.0",
     "model_name": "FloatProgressModel",
     "state": {
      "_dom_classes": [],
      "_model_module": "@jupyter-widgets/controls",
      "_model_module_version": "1.5.0",
      "_model_name": "FloatProgressModel",
      "_view_count": null,
      "_view_module": "@jupyter-widgets/controls",
      "_view_module_version": "1.5.0",
      "_view_name": "ProgressView",
      "bar_style": "success",
      "description": "",
      "description_tooltip": null,
      "layout": "IPY_MODEL_686199e61fb942aab8d0be34e4fa2444",
      "max": 263326,
      "min": 0,
      "orientation": "horizontal",
      "style": "IPY_MODEL_32ef2f5685384a21862c449ae393e94d",
      "value": 263326
     }
    },
    "a934ec32b8024ab580edfc3a9b6e3290": {
     "model_module": "@jupyter-widgets/controls",
     "model_module_version": "1.5.0",
     "model_name": "HTMLModel",
     "state": {
      "_dom_classes": [],
      "_model_module": "@jupyter-widgets/controls",
      "_model_module_version": "1.5.0",
      "_model_name": "HTMLModel",
      "_view_count": null,
      "_view_module": "@jupyter-widgets/controls",
      "_view_module_version": "1.5.0",
      "_view_name": "HTMLView",
      "description": "",
      "description_tooltip": null,
      "layout": "IPY_MODEL_9758a75bda7a4021925de614ba81ea4b",
      "placeholder": "​",
      "style": "IPY_MODEL_86f0bcc1ecfe4c2598882f006fcd9b2a",
      "value": " 467/467 [00:00&lt;00:00, 11.9kB/s]"
     }
    },
    "a974af1b62b742e9a4911505b801a204": {
     "model_module": "@jupyter-widgets/controls",
     "model_module_version": "1.5.0",
     "model_name": "ProgressStyleModel",
     "state": {
      "_model_module": "@jupyter-widgets/controls",
      "_model_module_version": "1.5.0",
      "_model_name": "ProgressStyleModel",
      "_view_count": null,
      "_view_module": "@jupyter-widgets/base",
      "_view_module_version": "1.2.0",
      "_view_name": "StyleView",
      "bar_color": null,
      "description_width": ""
     }
    },
    "afa5946a9f504ac4973318d71b5b957b": {
     "model_module": "@jupyter-widgets/base",
     "model_module_version": "1.2.0",
     "model_name": "LayoutModel",
     "state": {
      "_model_module": "@jupyter-widgets/base",
      "_model_module_version": "1.2.0",
      "_model_name": "LayoutModel",
      "_view_count": null,
      "_view_module": "@jupyter-widgets/base",
      "_view_module_version": "1.2.0",
      "_view_name": "LayoutView",
      "align_content": null,
      "align_items": null,
      "align_self": null,
      "border": null,
      "bottom": null,
      "display": null,
      "flex": null,
      "flex_flow": null,
      "grid_area": null,
      "grid_auto_columns": null,
      "grid_auto_flow": null,
      "grid_auto_rows": null,
      "grid_column": null,
      "grid_gap": null,
      "grid_row": null,
      "grid_template_areas": null,
      "grid_template_columns": null,
      "grid_template_rows": null,
      "height": null,
      "justify_content": null,
      "justify_items": null,
      "left": null,
      "margin": null,
      "max_height": null,
      "max_width": null,
      "min_height": null,
      "min_width": null,
      "object_fit": null,
      "object_position": null,
      "order": null,
      "overflow": null,
      "overflow_x": null,
      "overflow_y": null,
      "padding": null,
      "right": null,
      "top": null,
      "visibility": null,
      "width": null
     }
    },
    "afae3d31adb74eaeb9c4e8842f3d1828": {
     "model_module": "@jupyter-widgets/controls",
     "model_module_version": "1.5.0",
     "model_name": "FloatProgressModel",
     "state": {
      "_dom_classes": [],
      "_model_module": "@jupyter-widgets/controls",
      "_model_module_version": "1.5.0",
      "_model_name": "FloatProgressModel",
      "_view_count": null,
      "_view_module": "@jupyter-widgets/controls",
      "_view_module_version": "1.5.0",
      "_view_name": "ProgressView",
      "bar_style": "success",
      "description": "",
      "description_tooltip": null,
      "layout": "IPY_MODEL_2f1c9e990c58484aa3b112a7dbc7b5a0",
      "max": 3,
      "min": 0,
      "orientation": "horizontal",
      "style": "IPY_MODEL_d348297d5b7b4b0db12fdec325dfd3e1",
      "value": 3
     }
    },
    "b11c64d02baa41b9858745deef366ee8": {
     "model_module": "@jupyter-widgets/controls",
     "model_module_version": "1.5.0",
     "model_name": "HTMLModel",
     "state": {
      "_dom_classes": [],
      "_model_module": "@jupyter-widgets/controls",
      "_model_module_version": "1.5.0",
      "_model_name": "HTMLModel",
      "_view_count": null,
      "_view_module": "@jupyter-widgets/controls",
      "_view_module_version": "1.5.0",
      "_view_name": "HTMLView",
      "description": "",
      "description_tooltip": null,
      "layout": "IPY_MODEL_d28d2ca23ced471182c2df5d549c0fcd",
      "placeholder": "​",
      "style": "IPY_MODEL_60819ddebbe1404ab7e0afc10bde743f",
      "value": " 3/3 [00:01&lt;00:00,  1.53it/s]"
     }
    },
    "b1f80a59de55466ca902700d65e78004": {
     "model_module": "@jupyter-widgets/controls",
     "model_module_version": "1.5.0",
     "model_name": "DescriptionStyleModel",
     "state": {
      "_model_module": "@jupyter-widgets/controls",
      "_model_module_version": "1.5.0",
      "_model_name": "DescriptionStyleModel",
      "_view_count": null,
      "_view_module": "@jupyter-widgets/base",
      "_view_module_version": "1.2.0",
      "_view_name": "StyleView",
      "description_width": ""
     }
    },
    "b2e324d86e0a431682b5f958ec80770e": {
     "model_module": "@jupyter-widgets/controls",
     "model_module_version": "1.5.0",
     "model_name": "HTMLModel",
     "state": {
      "_dom_classes": [],
      "_model_module": "@jupyter-widgets/controls",
      "_model_module_version": "1.5.0",
      "_model_name": "HTMLModel",
      "_view_count": null,
      "_view_module": "@jupyter-widgets/controls",
      "_view_module_version": "1.5.0",
      "_view_name": "HTMLView",
      "description": "",
      "description_tooltip": null,
      "layout": "IPY_MODEL_a44e50187f3540598a2b78e094417259",
      "placeholder": "​",
      "style": "IPY_MODEL_52251306b16a4d4ba832968dae60edc0",
      "value": " 263k/263k [00:00&lt;00:00, 3.87MB/s]"
     }
    },
    "b460c7828bd84383889c1552f18b7822": {
     "model_module": "@jupyter-widgets/base",
     "model_module_version": "1.2.0",
     "model_name": "LayoutModel",
     "state": {
      "_model_module": "@jupyter-widgets/base",
      "_model_module_version": "1.2.0",
      "_model_name": "LayoutModel",
      "_view_count": null,
      "_view_module": "@jupyter-widgets/base",
      "_view_module_version": "1.2.0",
      "_view_name": "LayoutView",
      "align_content": null,
      "align_items": null,
      "align_self": null,
      "border": null,
      "bottom": null,
      "display": null,
      "flex": null,
      "flex_flow": null,
      "grid_area": null,
      "grid_auto_columns": null,
      "grid_auto_flow": null,
      "grid_auto_rows": null,
      "grid_column": null,
      "grid_gap": null,
      "grid_row": null,
      "grid_template_areas": null,
      "grid_template_columns": null,
      "grid_template_rows": null,
      "height": null,
      "justify_content": null,
      "justify_items": null,
      "left": null,
      "margin": null,
      "max_height": null,
      "max_width": null,
      "min_height": null,
      "min_width": null,
      "object_fit": null,
      "object_position": null,
      "order": null,
      "overflow": null,
      "overflow_x": null,
      "overflow_y": null,
      "padding": null,
      "right": null,
      "top": null,
      "visibility": null,
      "width": null
     }
    },
    "b566847106c54803820fd77c9cc23ec3": {
     "model_module": "@jupyter-widgets/base",
     "model_module_version": "1.2.0",
     "model_name": "LayoutModel",
     "state": {
      "_model_module": "@jupyter-widgets/base",
      "_model_module_version": "1.2.0",
      "_model_name": "LayoutModel",
      "_view_count": null,
      "_view_module": "@jupyter-widgets/base",
      "_view_module_version": "1.2.0",
      "_view_name": "LayoutView",
      "align_content": null,
      "align_items": null,
      "align_self": null,
      "border": null,
      "bottom": null,
      "display": null,
      "flex": null,
      "flex_flow": null,
      "grid_area": null,
      "grid_auto_columns": null,
      "grid_auto_flow": null,
      "grid_auto_rows": null,
      "grid_column": null,
      "grid_gap": null,
      "grid_row": null,
      "grid_template_areas": null,
      "grid_template_columns": null,
      "grid_template_rows": null,
      "height": null,
      "justify_content": null,
      "justify_items": null,
      "left": null,
      "margin": null,
      "max_height": null,
      "max_width": null,
      "min_height": null,
      "min_width": null,
      "object_fit": null,
      "object_position": null,
      "order": null,
      "overflow": null,
      "overflow_x": null,
      "overflow_y": null,
      "padding": null,
      "right": null,
      "top": null,
      "visibility": null,
      "width": null
     }
    },
    "b66cfcb1c8804ba6898d770ec1a8597c": {
     "model_module": "@jupyter-widgets/controls",
     "model_module_version": "1.5.0",
     "model_name": "DescriptionStyleModel",
     "state": {
      "_model_module": "@jupyter-widgets/controls",
      "_model_module_version": "1.5.0",
      "_model_name": "DescriptionStyleModel",
      "_view_count": null,
      "_view_module": "@jupyter-widgets/base",
      "_view_module_version": "1.2.0",
      "_view_name": "StyleView",
      "description_width": ""
     }
    },
    "b70f0f0769b341548d40f9cda173e5e7": {
     "model_module": "@jupyter-widgets/controls",
     "model_module_version": "1.5.0",
     "model_name": "HBoxModel",
     "state": {
      "_dom_classes": [],
      "_model_module": "@jupyter-widgets/controls",
      "_model_module_version": "1.5.0",
      "_model_name": "HBoxModel",
      "_view_count": null,
      "_view_module": "@jupyter-widgets/controls",
      "_view_module_version": "1.5.0",
      "_view_name": "HBoxView",
      "box_style": "",
      "children": [
       "IPY_MODEL_90507052b2314567b5ace8168ed0923c",
       "IPY_MODEL_f6f605fab9804915a46c989778ba2b09",
       "IPY_MODEL_5257d7ee21fb447d9e2a9a9d8935c4f3"
      ],
      "layout": "IPY_MODEL_a183b5cf386d4129a03e3ca495f17552"
     }
    },
    "b80f897c8e994bca9119a874a8a7e943": {
     "model_module": "@jupyter-widgets/base",
     "model_module_version": "1.2.0",
     "model_name": "LayoutModel",
     "state": {
      "_model_module": "@jupyter-widgets/base",
      "_model_module_version": "1.2.0",
      "_model_name": "LayoutModel",
      "_view_count": null,
      "_view_module": "@jupyter-widgets/base",
      "_view_module_version": "1.2.0",
      "_view_name": "LayoutView",
      "align_content": null,
      "align_items": null,
      "align_self": null,
      "border": null,
      "bottom": null,
      "display": null,
      "flex": null,
      "flex_flow": null,
      "grid_area": null,
      "grid_auto_columns": null,
      "grid_auto_flow": null,
      "grid_auto_rows": null,
      "grid_column": null,
      "grid_gap": null,
      "grid_row": null,
      "grid_template_areas": null,
      "grid_template_columns": null,
      "grid_template_rows": null,
      "height": null,
      "justify_content": null,
      "justify_items": null,
      "left": null,
      "margin": null,
      "max_height": null,
      "max_width": null,
      "min_height": null,
      "min_width": null,
      "object_fit": null,
      "object_position": null,
      "order": null,
      "overflow": null,
      "overflow_x": null,
      "overflow_y": null,
      "padding": null,
      "right": null,
      "top": null,
      "visibility": null,
      "width": null
     }
    },
    "bd1a5bfeec6246caa5a43e46672fc734": {
     "model_module": "@jupyter-widgets/controls",
     "model_module_version": "1.5.0",
     "model_name": "HTMLModel",
     "state": {
      "_dom_classes": [],
      "_model_module": "@jupyter-widgets/controls",
      "_model_module_version": "1.5.0",
      "_model_name": "HTMLModel",
      "_view_count": null,
      "_view_module": "@jupyter-widgets/controls",
      "_view_module_version": "1.5.0",
      "_view_name": "HTMLView",
      "description": "",
      "description_tooltip": null,
      "layout": "IPY_MODEL_f9188b64c3ae4448969023c7f13dc3f2",
      "placeholder": "​",
      "style": "IPY_MODEL_084a48378bd74e899c566d5eb599d9af",
      "value": "Downloading pytorch_model.bin: 100%"
     }
    },
    "c0c9a908853e4d1b888774d551e011d7": {
     "model_module": "@jupyter-widgets/controls",
     "model_module_version": "1.5.0",
     "model_name": "FloatProgressModel",
     "state": {
      "_dom_classes": [],
      "_model_module": "@jupyter-widgets/controls",
      "_model_module_version": "1.5.0",
      "_model_name": "FloatProgressModel",
      "_view_count": null,
      "_view_module": "@jupyter-widgets/controls",
      "_view_module_version": "1.5.0",
      "_view_name": "ProgressView",
      "bar_style": "success",
      "description": "",
      "description_tooltip": null,
      "layout": "IPY_MODEL_ea75337d186a4c94b80bbafa5bc95251",
      "max": 3,
      "min": 0,
      "orientation": "horizontal",
      "style": "IPY_MODEL_6003647f5a684b19a78315d099ef5f62",
      "value": 3
     }
    },
    "c14969a647bc493492037f7d5ba1fe3f": {
     "model_module": "@jupyter-widgets/controls",
     "model_module_version": "1.5.0",
     "model_name": "DescriptionStyleModel",
     "state": {
      "_model_module": "@jupyter-widgets/controls",
      "_model_module_version": "1.5.0",
      "_model_name": "DescriptionStyleModel",
      "_view_count": null,
      "_view_module": "@jupyter-widgets/base",
      "_view_module_version": "1.2.0",
      "_view_name": "StyleView",
      "description_width": ""
     }
    },
    "c5f7e04737da47e693e82d9a3ec03ec8": {
     "model_module": "@jupyter-widgets/controls",
     "model_module_version": "1.5.0",
     "model_name": "ProgressStyleModel",
     "state": {
      "_model_module": "@jupyter-widgets/controls",
      "_model_module_version": "1.5.0",
      "_model_name": "ProgressStyleModel",
      "_view_count": null,
      "_view_module": "@jupyter-widgets/base",
      "_view_module_version": "1.2.0",
      "_view_name": "StyleView",
      "bar_color": null,
      "description_width": ""
     }
    },
    "c628993928124e20bfc06339caae7b34": {
     "model_module": "@jupyter-widgets/controls",
     "model_module_version": "1.5.0",
     "model_name": "HTMLModel",
     "state": {
      "_dom_classes": [],
      "_model_module": "@jupyter-widgets/controls",
      "_model_module_version": "1.5.0",
      "_model_name": "HTMLModel",
      "_view_count": null,
      "_view_module": "@jupyter-widgets/controls",
      "_view_module_version": "1.5.0",
      "_view_name": "HTMLView",
      "description": "",
      "description_tooltip": null,
      "layout": "IPY_MODEL_e429f52eacb34b92a27d5647bb728352",
      "placeholder": "​",
      "style": "IPY_MODEL_249a22e7085c4943bcd7406bc1d0e181",
      "value": "100%"
     }
    },
    "c7f5b252ff204988b534bef284950f9b": {
     "model_module": "@jupyter-widgets/controls",
     "model_module_version": "1.5.0",
     "model_name": "HBoxModel",
     "state": {
      "_dom_classes": [],
      "_model_module": "@jupyter-widgets/controls",
      "_model_module_version": "1.5.0",
      "_model_name": "HBoxModel",
      "_view_count": null,
      "_view_module": "@jupyter-widgets/controls",
      "_view_module_version": "1.5.0",
      "_view_name": "HBoxView",
      "box_style": "",
      "children": [
       "IPY_MODEL_c628993928124e20bfc06339caae7b34",
       "IPY_MODEL_2ee9788cc0334ead92e466dfd276b8cb",
       "IPY_MODEL_224a675fa6f84d4c84802617245acc9a"
      ],
      "layout": "IPY_MODEL_1e26edbb46964dec856f6d66d4e68b72"
     }
    },
    "c9ca0a6bbd254bcda02cf014af1262a6": {
     "model_module": "@jupyter-widgets/controls",
     "model_module_version": "1.5.0",
     "model_name": "ProgressStyleModel",
     "state": {
      "_model_module": "@jupyter-widgets/controls",
      "_model_module_version": "1.5.0",
      "_model_name": "ProgressStyleModel",
      "_view_count": null,
      "_view_module": "@jupyter-widgets/base",
      "_view_module_version": "1.2.0",
      "_view_name": "StyleView",
      "bar_color": null,
      "description_width": ""
     }
    },
    "cb4ec8c3d0c54205820ecf556a59f8b5": {
     "model_module": "@jupyter-widgets/base",
     "model_module_version": "1.2.0",
     "model_name": "LayoutModel",
     "state": {
      "_model_module": "@jupyter-widgets/base",
      "_model_module_version": "1.2.0",
      "_model_name": "LayoutModel",
      "_view_count": null,
      "_view_module": "@jupyter-widgets/base",
      "_view_module_version": "1.2.0",
      "_view_name": "LayoutView",
      "align_content": null,
      "align_items": null,
      "align_self": null,
      "border": null,
      "bottom": null,
      "display": null,
      "flex": null,
      "flex_flow": null,
      "grid_area": null,
      "grid_auto_columns": null,
      "grid_auto_flow": null,
      "grid_auto_rows": null,
      "grid_column": null,
      "grid_gap": null,
      "grid_row": null,
      "grid_template_areas": null,
      "grid_template_columns": null,
      "grid_template_rows": null,
      "height": null,
      "justify_content": null,
      "justify_items": null,
      "left": null,
      "margin": null,
      "max_height": null,
      "max_width": null,
      "min_height": null,
      "min_width": null,
      "object_fit": null,
      "object_position": null,
      "order": null,
      "overflow": null,
      "overflow_x": null,
      "overflow_y": null,
      "padding": null,
      "right": null,
      "top": null,
      "visibility": null,
      "width": null
     }
    },
    "cdf0f9b0e1074c24a92d97c024193337": {
     "model_module": "@jupyter-widgets/controls",
     "model_module_version": "1.5.0",
     "model_name": "HBoxModel",
     "state": {
      "_dom_classes": [],
      "_model_module": "@jupyter-widgets/controls",
      "_model_module_version": "1.5.0",
      "_model_name": "HBoxModel",
      "_view_count": null,
      "_view_module": "@jupyter-widgets/controls",
      "_view_module_version": "1.5.0",
      "_view_name": "HBoxView",
      "box_style": "",
      "children": [
       "IPY_MODEL_15815164ba354e26b9dbdb69790955f6",
       "IPY_MODEL_c0c9a908853e4d1b888774d551e011d7",
       "IPY_MODEL_0165890d59334f7b835687883872a779"
      ],
      "layout": "IPY_MODEL_3a71d0411ca14488bf266d44f494db8f"
     }
    },
    "d030f3a6f8ec4fe3827fa39d7c6c66fe": {
     "model_module": "@jupyter-widgets/controls",
     "model_module_version": "1.5.0",
     "model_name": "DescriptionStyleModel",
     "state": {
      "_model_module": "@jupyter-widgets/controls",
      "_model_module_version": "1.5.0",
      "_model_name": "DescriptionStyleModel",
      "_view_count": null,
      "_view_module": "@jupyter-widgets/base",
      "_view_module_version": "1.2.0",
      "_view_name": "StyleView",
      "description_width": ""
     }
    },
    "d1be7a793fb9487485c294a9ecce8e31": {
     "model_module": "@jupyter-widgets/controls",
     "model_module_version": "1.5.0",
     "model_name": "ProgressStyleModel",
     "state": {
      "_model_module": "@jupyter-widgets/controls",
      "_model_module_version": "1.5.0",
      "_model_name": "ProgressStyleModel",
      "_view_count": null,
      "_view_module": "@jupyter-widgets/base",
      "_view_module_version": "1.2.0",
      "_view_name": "StyleView",
      "bar_color": null,
      "description_width": ""
     }
    },
    "d28d2ca23ced471182c2df5d549c0fcd": {
     "model_module": "@jupyter-widgets/base",
     "model_module_version": "1.2.0",
     "model_name": "LayoutModel",
     "state": {
      "_model_module": "@jupyter-widgets/base",
      "_model_module_version": "1.2.0",
      "_model_name": "LayoutModel",
      "_view_count": null,
      "_view_module": "@jupyter-widgets/base",
      "_view_module_version": "1.2.0",
      "_view_name": "LayoutView",
      "align_content": null,
      "align_items": null,
      "align_self": null,
      "border": null,
      "bottom": null,
      "display": null,
      "flex": null,
      "flex_flow": null,
      "grid_area": null,
      "grid_auto_columns": null,
      "grid_auto_flow": null,
      "grid_auto_rows": null,
      "grid_column": null,
      "grid_gap": null,
      "grid_row": null,
      "grid_template_areas": null,
      "grid_template_columns": null,
      "grid_template_rows": null,
      "height": null,
      "justify_content": null,
      "justify_items": null,
      "left": null,
      "margin": null,
      "max_height": null,
      "max_width": null,
      "min_height": null,
      "min_width": null,
      "object_fit": null,
      "object_position": null,
      "order": null,
      "overflow": null,
      "overflow_x": null,
      "overflow_y": null,
      "padding": null,
      "right": null,
      "top": null,
      "visibility": null,
      "width": null
     }
    },
    "d3036e76ba884865bba5f612bd1ed3a8": {
     "model_module": "@jupyter-widgets/base",
     "model_module_version": "1.2.0",
     "model_name": "LayoutModel",
     "state": {
      "_model_module": "@jupyter-widgets/base",
      "_model_module_version": "1.2.0",
      "_model_name": "LayoutModel",
      "_view_count": null,
      "_view_module": "@jupyter-widgets/base",
      "_view_module_version": "1.2.0",
      "_view_name": "LayoutView",
      "align_content": null,
      "align_items": null,
      "align_self": null,
      "border": null,
      "bottom": null,
      "display": null,
      "flex": null,
      "flex_flow": null,
      "grid_area": null,
      "grid_auto_columns": null,
      "grid_auto_flow": null,
      "grid_auto_rows": null,
      "grid_column": null,
      "grid_gap": null,
      "grid_row": null,
      "grid_template_areas": null,
      "grid_template_columns": null,
      "grid_template_rows": null,
      "height": null,
      "justify_content": null,
      "justify_items": null,
      "left": null,
      "margin": null,
      "max_height": null,
      "max_width": null,
      "min_height": null,
      "min_width": null,
      "object_fit": null,
      "object_position": null,
      "order": null,
      "overflow": null,
      "overflow_x": null,
      "overflow_y": null,
      "padding": null,
      "right": null,
      "top": null,
      "visibility": null,
      "width": null
     }
    },
    "d348297d5b7b4b0db12fdec325dfd3e1": {
     "model_module": "@jupyter-widgets/controls",
     "model_module_version": "1.5.0",
     "model_name": "ProgressStyleModel",
     "state": {
      "_model_module": "@jupyter-widgets/controls",
      "_model_module_version": "1.5.0",
      "_model_name": "ProgressStyleModel",
      "_view_count": null,
      "_view_module": "@jupyter-widgets/base",
      "_view_module_version": "1.2.0",
      "_view_name": "StyleView",
      "bar_color": null,
      "description_width": ""
     }
    },
    "d3591ac3fdbf4637bf69aabbf3815bfa": {
     "model_module": "@jupyter-widgets/controls",
     "model_module_version": "1.5.0",
     "model_name": "FloatProgressModel",
     "state": {
      "_dom_classes": [],
      "_model_module": "@jupyter-widgets/controls",
      "_model_module_version": "1.5.0",
      "_model_name": "FloatProgressModel",
      "_view_count": null,
      "_view_module": "@jupyter-widgets/controls",
      "_view_module_version": "1.5.0",
      "_view_name": "ProgressView",
      "bar_style": "success",
      "description": "",
      "description_tooltip": null,
      "layout": "IPY_MODEL_b80f897c8e994bca9119a874a8a7e943",
      "max": 3,
      "min": 0,
      "orientation": "horizontal",
      "style": "IPY_MODEL_f6102d23fb114af2b64b76d1214c83bf",
      "value": 3
     }
    },
    "d42b0b74a7494f1780c08f6c3054778e": {
     "model_module": "@jupyter-widgets/controls",
     "model_module_version": "1.5.0",
     "model_name": "HBoxModel",
     "state": {
      "_dom_classes": [],
      "_model_module": "@jupyter-widgets/controls",
      "_model_module_version": "1.5.0",
      "_model_name": "HBoxModel",
      "_view_count": null,
      "_view_module": "@jupyter-widgets/controls",
      "_view_module_version": "1.5.0",
      "_view_name": "HBoxView",
      "box_style": "",
      "children": [
       "IPY_MODEL_87fedcd10db244e3b39145c06dc130b6",
       "IPY_MODEL_afae3d31adb74eaeb9c4e8842f3d1828",
       "IPY_MODEL_e9ecce05adac416dace396844df03764"
      ],
      "layout": "IPY_MODEL_6bd44b445e114f888c1809c3dbcc515a"
     }
    },
    "d67a15e061ed48caacede42fb2723f6f": {
     "model_module": "@jupyter-widgets/controls",
     "model_module_version": "1.5.0",
     "model_name": "DescriptionStyleModel",
     "state": {
      "_model_module": "@jupyter-widgets/controls",
      "_model_module_version": "1.5.0",
      "_model_name": "DescriptionStyleModel",
      "_view_count": null,
      "_view_module": "@jupyter-widgets/base",
      "_view_module_version": "1.2.0",
      "_view_name": "StyleView",
      "description_width": ""
     }
    },
    "d7fe289a6ae04373a8cfefb54ef359af": {
     "model_module": "@jupyter-widgets/controls",
     "model_module_version": "1.5.0",
     "model_name": "HTMLModel",
     "state": {
      "_dom_classes": [],
      "_model_module": "@jupyter-widgets/controls",
      "_model_module_version": "1.5.0",
      "_model_name": "HTMLModel",
      "_view_count": null,
      "_view_module": "@jupyter-widgets/controls",
      "_view_module_version": "1.5.0",
      "_view_name": "HTMLView",
      "description": "",
      "description_tooltip": null,
      "layout": "IPY_MODEL_72a6709b1f4f47d0b69dffc639d0ab23",
      "placeholder": "​",
      "style": "IPY_MODEL_d030f3a6f8ec4fe3827fa39d7c6c66fe",
      "value": "100%"
     }
    },
    "db8f6e1e23fd47b9924b401c3c632118": {
     "model_module": "@jupyter-widgets/controls",
     "model_module_version": "1.5.0",
     "model_name": "HBoxModel",
     "state": {
      "_dom_classes": [],
      "_model_module": "@jupyter-widgets/controls",
      "_model_module_version": "1.5.0",
      "_model_name": "HBoxModel",
      "_view_count": null,
      "_view_module": "@jupyter-widgets/controls",
      "_view_module_version": "1.5.0",
      "_view_name": "HBoxView",
      "box_style": "",
      "children": [
       "IPY_MODEL_556d3afb229f4732a8d6c38051453d3a",
       "IPY_MODEL_9a00514f7fe84e439b41c8b85e584666",
       "IPY_MODEL_820a8f5d39b94d539370b484e2411159"
      ],
      "layout": "IPY_MODEL_69f77d7d8a194bdeb8fbed9ed8f5bc5c"
     }
    },
    "dbc3ba9b2b874300acdbcedf4969d3e4": {
     "model_module": "@jupyter-widgets/controls",
     "model_module_version": "1.5.0",
     "model_name": "DescriptionStyleModel",
     "state": {
      "_model_module": "@jupyter-widgets/controls",
      "_model_module_version": "1.5.0",
      "_model_name": "DescriptionStyleModel",
      "_view_count": null,
      "_view_module": "@jupyter-widgets/base",
      "_view_module_version": "1.2.0",
      "_view_name": "StyleView",
      "description_width": ""
     }
    },
    "dc65e62a1b044e259ad7566b1ab99e68": {
     "model_module": "@jupyter-widgets/controls",
     "model_module_version": "1.5.0",
     "model_name": "HBoxModel",
     "state": {
      "_dom_classes": [],
      "_model_module": "@jupyter-widgets/controls",
      "_model_module_version": "1.5.0",
      "_model_name": "HBoxModel",
      "_view_count": null,
      "_view_module": "@jupyter-widgets/controls",
      "_view_module_version": "1.5.0",
      "_view_name": "HBoxView",
      "box_style": "",
      "children": [
       "IPY_MODEL_556b48fc0a594658b6aa910ba5d428b9",
       "IPY_MODEL_a78e4b56d4ca47f1b67609e010afb15c",
       "IPY_MODEL_b2e324d86e0a431682b5f958ec80770e"
      ],
      "layout": "IPY_MODEL_a6176639d8604c388d4b2a3b74d1fb7e"
     }
    },
    "dd3b337a34e641248c445bdc540a79aa": {
     "model_module": "@jupyter-widgets/base",
     "model_module_version": "1.2.0",
     "model_name": "LayoutModel",
     "state": {
      "_model_module": "@jupyter-widgets/base",
      "_model_module_version": "1.2.0",
      "_model_name": "LayoutModel",
      "_view_count": null,
      "_view_module": "@jupyter-widgets/base",
      "_view_module_version": "1.2.0",
      "_view_name": "LayoutView",
      "align_content": null,
      "align_items": null,
      "align_self": null,
      "border": null,
      "bottom": null,
      "display": null,
      "flex": null,
      "flex_flow": null,
      "grid_area": null,
      "grid_auto_columns": null,
      "grid_auto_flow": null,
      "grid_auto_rows": null,
      "grid_column": null,
      "grid_gap": null,
      "grid_row": null,
      "grid_template_areas": null,
      "grid_template_columns": null,
      "grid_template_rows": null,
      "height": null,
      "justify_content": null,
      "justify_items": null,
      "left": null,
      "margin": null,
      "max_height": null,
      "max_width": null,
      "min_height": null,
      "min_width": null,
      "object_fit": null,
      "object_position": null,
      "order": null,
      "overflow": null,
      "overflow_x": null,
      "overflow_y": null,
      "padding": null,
      "right": null,
      "top": null,
      "visibility": null,
      "width": null
     }
    },
    "ddc839e256154ba1bc6cdacf938ab524": {
     "model_module": "@jupyter-widgets/base",
     "model_module_version": "1.2.0",
     "model_name": "LayoutModel",
     "state": {
      "_model_module": "@jupyter-widgets/base",
      "_model_module_version": "1.2.0",
      "_model_name": "LayoutModel",
      "_view_count": null,
      "_view_module": "@jupyter-widgets/base",
      "_view_module_version": "1.2.0",
      "_view_name": "LayoutView",
      "align_content": null,
      "align_items": null,
      "align_self": null,
      "border": null,
      "bottom": null,
      "display": null,
      "flex": null,
      "flex_flow": null,
      "grid_area": null,
      "grid_auto_columns": null,
      "grid_auto_flow": null,
      "grid_auto_rows": null,
      "grid_column": null,
      "grid_gap": null,
      "grid_row": null,
      "grid_template_areas": null,
      "grid_template_columns": null,
      "grid_template_rows": null,
      "height": null,
      "justify_content": null,
      "justify_items": null,
      "left": null,
      "margin": null,
      "max_height": null,
      "max_width": null,
      "min_height": null,
      "min_width": null,
      "object_fit": null,
      "object_position": null,
      "order": null,
      "overflow": null,
      "overflow_x": null,
      "overflow_y": null,
      "padding": null,
      "right": null,
      "top": null,
      "visibility": null,
      "width": null
     }
    },
    "ddef05a902db4402a1d73f32c0febc23": {
     "model_module": "@jupyter-widgets/base",
     "model_module_version": "1.2.0",
     "model_name": "LayoutModel",
     "state": {
      "_model_module": "@jupyter-widgets/base",
      "_model_module_version": "1.2.0",
      "_model_name": "LayoutModel",
      "_view_count": null,
      "_view_module": "@jupyter-widgets/base",
      "_view_module_version": "1.2.0",
      "_view_name": "LayoutView",
      "align_content": null,
      "align_items": null,
      "align_self": null,
      "border": null,
      "bottom": null,
      "display": null,
      "flex": null,
      "flex_flow": null,
      "grid_area": null,
      "grid_auto_columns": null,
      "grid_auto_flow": null,
      "grid_auto_rows": null,
      "grid_column": null,
      "grid_gap": null,
      "grid_row": null,
      "grid_template_areas": null,
      "grid_template_columns": null,
      "grid_template_rows": null,
      "height": null,
      "justify_content": null,
      "justify_items": null,
      "left": null,
      "margin": null,
      "max_height": null,
      "max_width": null,
      "min_height": null,
      "min_width": null,
      "object_fit": null,
      "object_position": null,
      "order": null,
      "overflow": null,
      "overflow_x": null,
      "overflow_y": null,
      "padding": null,
      "right": null,
      "top": null,
      "visibility": null,
      "width": null
     }
    },
    "de8a9dba65404787a1da2d3d44df2903": {
     "model_module": "@jupyter-widgets/controls",
     "model_module_version": "1.5.0",
     "model_name": "HTMLModel",
     "state": {
      "_dom_classes": [],
      "_model_module": "@jupyter-widgets/controls",
      "_model_module_version": "1.5.0",
      "_model_name": "HTMLModel",
      "_view_count": null,
      "_view_module": "@jupyter-widgets/controls",
      "_view_module_version": "1.5.0",
      "_view_name": "HTMLView",
      "description": "",
      "description_tooltip": null,
      "layout": "IPY_MODEL_79d85a1f8caa425e9566ad65bd4f03fc",
      "placeholder": "​",
      "style": "IPY_MODEL_1c30766f1326497390db8092920d7b4a",
      "value": "100%"
     }
    },
    "df0ec349ed1c40d1a996bd493b047626": {
     "model_module": "@jupyter-widgets/controls",
     "model_module_version": "1.5.0",
     "model_name": "ProgressStyleModel",
     "state": {
      "_model_module": "@jupyter-widgets/controls",
      "_model_module_version": "1.5.0",
      "_model_name": "ProgressStyleModel",
      "_view_count": null,
      "_view_module": "@jupyter-widgets/base",
      "_view_module_version": "1.2.0",
      "_view_name": "StyleView",
      "bar_color": null,
      "description_width": ""
     }
    },
    "e429f52eacb34b92a27d5647bb728352": {
     "model_module": "@jupyter-widgets/base",
     "model_module_version": "1.2.0",
     "model_name": "LayoutModel",
     "state": {
      "_model_module": "@jupyter-widgets/base",
      "_model_module_version": "1.2.0",
      "_model_name": "LayoutModel",
      "_view_count": null,
      "_view_module": "@jupyter-widgets/base",
      "_view_module_version": "1.2.0",
      "_view_name": "LayoutView",
      "align_content": null,
      "align_items": null,
      "align_self": null,
      "border": null,
      "bottom": null,
      "display": null,
      "flex": null,
      "flex_flow": null,
      "grid_area": null,
      "grid_auto_columns": null,
      "grid_auto_flow": null,
      "grid_auto_rows": null,
      "grid_column": null,
      "grid_gap": null,
      "grid_row": null,
      "grid_template_areas": null,
      "grid_template_columns": null,
      "grid_template_rows": null,
      "height": null,
      "justify_content": null,
      "justify_items": null,
      "left": null,
      "margin": null,
      "max_height": null,
      "max_width": null,
      "min_height": null,
      "min_width": null,
      "object_fit": null,
      "object_position": null,
      "order": null,
      "overflow": null,
      "overflow_x": null,
      "overflow_y": null,
      "padding": null,
      "right": null,
      "top": null,
      "visibility": null,
      "width": null
     }
    },
    "e5ac465c9e464d7881981fd2ab79c972": {
     "model_module": "@jupyter-widgets/base",
     "model_module_version": "1.2.0",
     "model_name": "LayoutModel",
     "state": {
      "_model_module": "@jupyter-widgets/base",
      "_model_module_version": "1.2.0",
      "_model_name": "LayoutModel",
      "_view_count": null,
      "_view_module": "@jupyter-widgets/base",
      "_view_module_version": "1.2.0",
      "_view_name": "LayoutView",
      "align_content": null,
      "align_items": null,
      "align_self": null,
      "border": null,
      "bottom": null,
      "display": null,
      "flex": null,
      "flex_flow": null,
      "grid_area": null,
      "grid_auto_columns": null,
      "grid_auto_flow": null,
      "grid_auto_rows": null,
      "grid_column": null,
      "grid_gap": null,
      "grid_row": null,
      "grid_template_areas": null,
      "grid_template_columns": null,
      "grid_template_rows": null,
      "height": null,
      "justify_content": null,
      "justify_items": null,
      "left": null,
      "margin": null,
      "max_height": null,
      "max_width": null,
      "min_height": null,
      "min_width": null,
      "object_fit": null,
      "object_position": null,
      "order": null,
      "overflow": null,
      "overflow_x": null,
      "overflow_y": null,
      "padding": null,
      "right": null,
      "top": null,
      "visibility": null,
      "width": null
     }
    },
    "e6ea39e0a0d644e8a423cca97aa54374": {
     "model_module": "@jupyter-widgets/base",
     "model_module_version": "1.2.0",
     "model_name": "LayoutModel",
     "state": {
      "_model_module": "@jupyter-widgets/base",
      "_model_module_version": "1.2.0",
      "_model_name": "LayoutModel",
      "_view_count": null,
      "_view_module": "@jupyter-widgets/base",
      "_view_module_version": "1.2.0",
      "_view_name": "LayoutView",
      "align_content": null,
      "align_items": null,
      "align_self": null,
      "border": null,
      "bottom": null,
      "display": null,
      "flex": null,
      "flex_flow": null,
      "grid_area": null,
      "grid_auto_columns": null,
      "grid_auto_flow": null,
      "grid_auto_rows": null,
      "grid_column": null,
      "grid_gap": null,
      "grid_row": null,
      "grid_template_areas": null,
      "grid_template_columns": null,
      "grid_template_rows": null,
      "height": null,
      "justify_content": null,
      "justify_items": null,
      "left": null,
      "margin": null,
      "max_height": null,
      "max_width": null,
      "min_height": null,
      "min_width": null,
      "object_fit": null,
      "object_position": null,
      "order": null,
      "overflow": null,
      "overflow_x": null,
      "overflow_y": null,
      "padding": null,
      "right": null,
      "top": null,
      "visibility": null,
      "width": null
     }
    },
    "e741e9ae35294c52a551ade794fdf629": {
     "model_module": "@jupyter-widgets/base",
     "model_module_version": "1.2.0",
     "model_name": "LayoutModel",
     "state": {
      "_model_module": "@jupyter-widgets/base",
      "_model_module_version": "1.2.0",
      "_model_name": "LayoutModel",
      "_view_count": null,
      "_view_module": "@jupyter-widgets/base",
      "_view_module_version": "1.2.0",
      "_view_name": "LayoutView",
      "align_content": null,
      "align_items": null,
      "align_self": null,
      "border": null,
      "bottom": null,
      "display": null,
      "flex": null,
      "flex_flow": null,
      "grid_area": null,
      "grid_auto_columns": null,
      "grid_auto_flow": null,
      "grid_auto_rows": null,
      "grid_column": null,
      "grid_gap": null,
      "grid_row": null,
      "grid_template_areas": null,
      "grid_template_columns": null,
      "grid_template_rows": null,
      "height": null,
      "justify_content": null,
      "justify_items": null,
      "left": null,
      "margin": null,
      "max_height": null,
      "max_width": null,
      "min_height": null,
      "min_width": null,
      "object_fit": null,
      "object_position": null,
      "order": null,
      "overflow": null,
      "overflow_x": null,
      "overflow_y": null,
      "padding": null,
      "right": null,
      "top": null,
      "visibility": null,
      "width": null
     }
    },
    "e9ecce05adac416dace396844df03764": {
     "model_module": "@jupyter-widgets/controls",
     "model_module_version": "1.5.0",
     "model_name": "HTMLModel",
     "state": {
      "_dom_classes": [],
      "_model_module": "@jupyter-widgets/controls",
      "_model_module_version": "1.5.0",
      "_model_name": "HTMLModel",
      "_view_count": null,
      "_view_module": "@jupyter-widgets/controls",
      "_view_module_version": "1.5.0",
      "_view_name": "HTMLView",
      "description": "",
      "description_tooltip": null,
      "layout": "IPY_MODEL_cb4ec8c3d0c54205820ecf556a59f8b5",
      "placeholder": "​",
      "style": "IPY_MODEL_b1f80a59de55466ca902700d65e78004",
      "value": " 3/3 [00:01&lt;00:00,  1.63it/s]"
     }
    },
    "ea388183c95e41cd8232442645cca93e": {
     "model_module": "@jupyter-widgets/controls",
     "model_module_version": "1.5.0",
     "model_name": "FloatProgressModel",
     "state": {
      "_dom_classes": [],
      "_model_module": "@jupyter-widgets/controls",
      "_model_module_version": "1.5.0",
      "_model_name": "FloatProgressModel",
      "_view_count": null,
      "_view_module": "@jupyter-widgets/controls",
      "_view_module_version": "1.5.0",
      "_view_name": "ProgressView",
      "bar_style": "success",
      "description": "",
      "description_tooltip": null,
      "layout": "IPY_MODEL_4b9bf965f4ce4860b0c6d533e928e059",
      "max": 3,
      "min": 0,
      "orientation": "horizontal",
      "style": "IPY_MODEL_f7b21aec3424495797727be56f0b5327",
      "value": 3
     }
    },
    "ea75337d186a4c94b80bbafa5bc95251": {
     "model_module": "@jupyter-widgets/base",
     "model_module_version": "1.2.0",
     "model_name": "LayoutModel",
     "state": {
      "_model_module": "@jupyter-widgets/base",
      "_model_module_version": "1.2.0",
      "_model_name": "LayoutModel",
      "_view_count": null,
      "_view_module": "@jupyter-widgets/base",
      "_view_module_version": "1.2.0",
      "_view_name": "LayoutView",
      "align_content": null,
      "align_items": null,
      "align_self": null,
      "border": null,
      "bottom": null,
      "display": null,
      "flex": null,
      "flex_flow": null,
      "grid_area": null,
      "grid_auto_columns": null,
      "grid_auto_flow": null,
      "grid_auto_rows": null,
      "grid_column": null,
      "grid_gap": null,
      "grid_row": null,
      "grid_template_areas": null,
      "grid_template_columns": null,
      "grid_template_rows": null,
      "height": null,
      "justify_content": null,
      "justify_items": null,
      "left": null,
      "margin": null,
      "max_height": null,
      "max_width": null,
      "min_height": null,
      "min_width": null,
      "object_fit": null,
      "object_position": null,
      "order": null,
      "overflow": null,
      "overflow_x": null,
      "overflow_y": null,
      "padding": null,
      "right": null,
      "top": null,
      "visibility": null,
      "width": null
     }
    },
    "eab670f91db448598bddad9f620a134e": {
     "model_module": "@jupyter-widgets/controls",
     "model_module_version": "1.5.0",
     "model_name": "HTMLModel",
     "state": {
      "_dom_classes": [],
      "_model_module": "@jupyter-widgets/controls",
      "_model_module_version": "1.5.0",
      "_model_name": "HTMLModel",
      "_view_count": null,
      "_view_module": "@jupyter-widgets/controls",
      "_view_module_version": "1.5.0",
      "_view_name": "HTMLView",
      "description": "",
      "description_tooltip": null,
      "layout": "IPY_MODEL_44accb7ae95c4a15974895eabdf50a3e",
      "placeholder": "​",
      "style": "IPY_MODEL_2fc6495a44bb4cb1a71b52bc71c2484c",
      "value": " 61.0/61.0 [00:00&lt;00:00, 1.11kB/s]"
     }
    },
    "eccce9f118e94056b691a6430a2f6c1d": {
     "model_module": "@jupyter-widgets/controls",
     "model_module_version": "1.5.0",
     "model_name": "DescriptionStyleModel",
     "state": {
      "_model_module": "@jupyter-widgets/controls",
      "_model_module_version": "1.5.0",
      "_model_name": "DescriptionStyleModel",
      "_view_count": null,
      "_view_module": "@jupyter-widgets/base",
      "_view_module_version": "1.2.0",
      "_view_name": "StyleView",
      "description_width": ""
     }
    },
    "ef5ab570937943659d9643b3be1ea2ad": {
     "model_module": "@jupyter-widgets/controls",
     "model_module_version": "1.5.0",
     "model_name": "DescriptionStyleModel",
     "state": {
      "_model_module": "@jupyter-widgets/controls",
      "_model_module_version": "1.5.0",
      "_model_name": "DescriptionStyleModel",
      "_view_count": null,
      "_view_module": "@jupyter-widgets/base",
      "_view_module_version": "1.2.0",
      "_view_name": "StyleView",
      "description_width": ""
     }
    },
    "f22d9af0931c4ce4b07a0cadbc042404": {
     "model_module": "@jupyter-widgets/base",
     "model_module_version": "1.2.0",
     "model_name": "LayoutModel",
     "state": {
      "_model_module": "@jupyter-widgets/base",
      "_model_module_version": "1.2.0",
      "_model_name": "LayoutModel",
      "_view_count": null,
      "_view_module": "@jupyter-widgets/base",
      "_view_module_version": "1.2.0",
      "_view_name": "LayoutView",
      "align_content": null,
      "align_items": null,
      "align_self": null,
      "border": null,
      "bottom": null,
      "display": null,
      "flex": null,
      "flex_flow": null,
      "grid_area": null,
      "grid_auto_columns": null,
      "grid_auto_flow": null,
      "grid_auto_rows": null,
      "grid_column": null,
      "grid_gap": null,
      "grid_row": null,
      "grid_template_areas": null,
      "grid_template_columns": null,
      "grid_template_rows": null,
      "height": null,
      "justify_content": null,
      "justify_items": null,
      "left": null,
      "margin": null,
      "max_height": null,
      "max_width": null,
      "min_height": null,
      "min_width": null,
      "object_fit": null,
      "object_position": null,
      "order": null,
      "overflow": null,
      "overflow_x": null,
      "overflow_y": null,
      "padding": null,
      "right": null,
      "top": null,
      "visibility": null,
      "width": null
     }
    },
    "f28b4a96ddf643ee931bfc64cfa79a09": {
     "model_module": "@jupyter-widgets/base",
     "model_module_version": "1.2.0",
     "model_name": "LayoutModel",
     "state": {
      "_model_module": "@jupyter-widgets/base",
      "_model_module_version": "1.2.0",
      "_model_name": "LayoutModel",
      "_view_count": null,
      "_view_module": "@jupyter-widgets/base",
      "_view_module_version": "1.2.0",
      "_view_name": "LayoutView",
      "align_content": null,
      "align_items": null,
      "align_self": null,
      "border": null,
      "bottom": null,
      "display": null,
      "flex": null,
      "flex_flow": null,
      "grid_area": null,
      "grid_auto_columns": null,
      "grid_auto_flow": null,
      "grid_auto_rows": null,
      "grid_column": null,
      "grid_gap": null,
      "grid_row": null,
      "grid_template_areas": null,
      "grid_template_columns": null,
      "grid_template_rows": null,
      "height": null,
      "justify_content": null,
      "justify_items": null,
      "left": null,
      "margin": null,
      "max_height": null,
      "max_width": null,
      "min_height": null,
      "min_width": null,
      "object_fit": null,
      "object_position": null,
      "order": null,
      "overflow": null,
      "overflow_x": null,
      "overflow_y": null,
      "padding": null,
      "right": null,
      "top": null,
      "visibility": null,
      "width": null
     }
    },
    "f50043ae63dc4dcabb1350a66deb918d": {
     "model_module": "@jupyter-widgets/controls",
     "model_module_version": "1.5.0",
     "model_name": "DescriptionStyleModel",
     "state": {
      "_model_module": "@jupyter-widgets/controls",
      "_model_module_version": "1.5.0",
      "_model_name": "DescriptionStyleModel",
      "_view_count": null,
      "_view_module": "@jupyter-widgets/base",
      "_view_module_version": "1.2.0",
      "_view_name": "StyleView",
      "description_width": ""
     }
    },
    "f6102d23fb114af2b64b76d1214c83bf": {
     "model_module": "@jupyter-widgets/controls",
     "model_module_version": "1.5.0",
     "model_name": "ProgressStyleModel",
     "state": {
      "_model_module": "@jupyter-widgets/controls",
      "_model_module_version": "1.5.0",
      "_model_name": "ProgressStyleModel",
      "_view_count": null,
      "_view_module": "@jupyter-widgets/base",
      "_view_module_version": "1.2.0",
      "_view_name": "StyleView",
      "bar_color": null,
      "description_width": ""
     }
    },
    "f6f605fab9804915a46c989778ba2b09": {
     "model_module": "@jupyter-widgets/controls",
     "model_module_version": "1.5.0",
     "model_name": "FloatProgressModel",
     "state": {
      "_dom_classes": [],
      "_model_module": "@jupyter-widgets/controls",
      "_model_module_version": "1.5.0",
      "_model_name": "FloatProgressModel",
      "_view_count": null,
      "_view_module": "@jupyter-widgets/controls",
      "_view_module_version": "1.5.0",
      "_view_name": "ProgressView",
      "bar_style": "success",
      "description": "",
      "description_tooltip": null,
      "layout": "IPY_MODEL_680efb5ea7bc4751813053fcd7d5cf2b",
      "max": 3,
      "min": 0,
      "orientation": "horizontal",
      "style": "IPY_MODEL_0986c47ac87f4f9395146b579c87fd6e",
      "value": 3
     }
    },
    "f7b21aec3424495797727be56f0b5327": {
     "model_module": "@jupyter-widgets/controls",
     "model_module_version": "1.5.0",
     "model_name": "ProgressStyleModel",
     "state": {
      "_model_module": "@jupyter-widgets/controls",
      "_model_module_version": "1.5.0",
      "_model_name": "ProgressStyleModel",
      "_view_count": null,
      "_view_module": "@jupyter-widgets/base",
      "_view_module_version": "1.2.0",
      "_view_name": "StyleView",
      "bar_color": null,
      "description_width": ""
     }
    },
    "f80b592a084c459fa66e3d1f8a6e9b54": {
     "model_module": "@jupyter-widgets/controls",
     "model_module_version": "1.5.0",
     "model_name": "FloatProgressModel",
     "state": {
      "_dom_classes": [],
      "_model_module": "@jupyter-widgets/controls",
      "_model_module_version": "1.5.0",
      "_model_name": "FloatProgressModel",
      "_view_count": null,
      "_view_module": "@jupyter-widgets/controls",
      "_view_module_version": "1.5.0",
      "_view_name": "ProgressView",
      "bar_style": "success",
      "description": "",
      "description_tooltip": null,
      "layout": "IPY_MODEL_dd3b337a34e641248c445bdc540a79aa",
      "max": 3,
      "min": 0,
      "orientation": "horizontal",
      "style": "IPY_MODEL_c5f7e04737da47e693e82d9a3ec03ec8",
      "value": 3
     }
    },
    "f9188b64c3ae4448969023c7f13dc3f2": {
     "model_module": "@jupyter-widgets/base",
     "model_module_version": "1.2.0",
     "model_name": "LayoutModel",
     "state": {
      "_model_module": "@jupyter-widgets/base",
      "_model_module_version": "1.2.0",
      "_model_name": "LayoutModel",
      "_view_count": null,
      "_view_module": "@jupyter-widgets/base",
      "_view_module_version": "1.2.0",
      "_view_name": "LayoutView",
      "align_content": null,
      "align_items": null,
      "align_self": null,
      "border": null,
      "bottom": null,
      "display": null,
      "flex": null,
      "flex_flow": null,
      "grid_area": null,
      "grid_auto_columns": null,
      "grid_auto_flow": null,
      "grid_auto_rows": null,
      "grid_column": null,
      "grid_gap": null,
      "grid_row": null,
      "grid_template_areas": null,
      "grid_template_columns": null,
      "grid_template_rows": null,
      "height": null,
      "justify_content": null,
      "justify_items": null,
      "left": null,
      "margin": null,
      "max_height": null,
      "max_width": null,
      "min_height": null,
      "min_width": null,
      "object_fit": null,
      "object_position": null,
      "order": null,
      "overflow": null,
      "overflow_x": null,
      "overflow_y": null,
      "padding": null,
      "right": null,
      "top": null,
      "visibility": null,
      "width": null
     }
    },
    "fa316d3b052d48748909cd24c9d6b8b2": {
     "model_module": "@jupyter-widgets/controls",
     "model_module_version": "1.5.0",
     "model_name": "HTMLModel",
     "state": {
      "_dom_classes": [],
      "_model_module": "@jupyter-widgets/controls",
      "_model_module_version": "1.5.0",
      "_model_name": "HTMLModel",
      "_view_count": null,
      "_view_module": "@jupyter-widgets/controls",
      "_view_module_version": "1.5.0",
      "_view_name": "HTMLView",
      "description": "",
      "description_tooltip": null,
      "layout": "IPY_MODEL_170cd253c5b24ac9a2ab2ce421c6298e",
      "placeholder": "​",
      "style": "IPY_MODEL_792a91f8ebe348a2b8652b3b43f9319e",
      "value": " 1/1 [00:00&lt;00:00,  2.79it/s]"
     }
    },
    "fbc85d259be841e99604c5a897e8de8e": {
     "model_module": "@jupyter-widgets/controls",
     "model_module_version": "1.5.0",
     "model_name": "HBoxModel",
     "state": {
      "_dom_classes": [],
      "_model_module": "@jupyter-widgets/controls",
      "_model_module_version": "1.5.0",
      "_model_name": "HBoxModel",
      "_view_count": null,
      "_view_module": "@jupyter-widgets/controls",
      "_view_module_version": "1.5.0",
      "_view_name": "HBoxView",
      "box_style": "",
      "children": [
       "IPY_MODEL_bd1a5bfeec6246caa5a43e46672fc734",
       "IPY_MODEL_270e7921eff047c5a01843fc288c54c8",
       "IPY_MODEL_06f18791a8f14d1d8eb9a43325643d5f"
      ],
      "layout": "IPY_MODEL_e741e9ae35294c52a551ade794fdf629"
     }
    },
    "fbedf77bad244e31b5d148a1b7451656": {
     "model_module": "@jupyter-widgets/base",
     "model_module_version": "1.2.0",
     "model_name": "LayoutModel",
     "state": {
      "_model_module": "@jupyter-widgets/base",
      "_model_module_version": "1.2.0",
      "_model_name": "LayoutModel",
      "_view_count": null,
      "_view_module": "@jupyter-widgets/base",
      "_view_module_version": "1.2.0",
      "_view_name": "LayoutView",
      "align_content": null,
      "align_items": null,
      "align_self": null,
      "border": null,
      "bottom": null,
      "display": null,
      "flex": null,
      "flex_flow": null,
      "grid_area": null,
      "grid_auto_columns": null,
      "grid_auto_flow": null,
      "grid_auto_rows": null,
      "grid_column": null,
      "grid_gap": null,
      "grid_row": null,
      "grid_template_areas": null,
      "grid_template_columns": null,
      "grid_template_rows": null,
      "height": null,
      "justify_content": null,
      "justify_items": null,
      "left": null,
      "margin": null,
      "max_height": null,
      "max_width": null,
      "min_height": null,
      "min_width": null,
      "object_fit": null,
      "object_position": null,
      "order": null,
      "overflow": null,
      "overflow_x": null,
      "overflow_y": null,
      "padding": null,
      "right": null,
      "top": null,
      "visibility": null,
      "width": null
     }
    }
   }
  }
 },
 "nbformat": 4,
 "nbformat_minor": 1
}
