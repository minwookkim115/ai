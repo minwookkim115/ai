{
  "nbformat": 4,
  "nbformat_minor": 0,
  "metadata": {
    "colab": {
      "provenance": [],
      "gpuType": "T4"
    },
    "kernelspec": {
      "name": "python3",
      "display_name": "Python 3"
    },
    "language_info": {
      "name": "python"
    },
    "accelerator": "GPU"
  },
  "cells": [
    {
      "cell_type": "markdown",
      "source": [
        "# 자연어 처리 감정분석 전이학습\n",
        "\n",
        "- GPU로 런타임 연결하기"
      ],
      "metadata": {
        "id": "JFqiiMDKt-_R"
      }
    },
    {
      "cell_type": "code",
      "execution_count": null,
      "metadata": {
        "id": "2-prJQyytlFu"
      },
      "outputs": [],
      "source": [
        "!pip install -qq torch transformers datasets numpy evaluate pandas"
      ]
    },
    {
      "cell_type": "code",
      "source": [
        "!pip install -qq accelerate -U"
      ],
      "metadata": {
        "id": "eJry2QDMxHcq"
      },
      "execution_count": null,
      "outputs": []
    },
    {
      "cell_type": "code",
      "source": [
        "import torch\n",
        "from datasets import load_dataset\n",
        "from transformers import (\n",
        "    AutoTokenizer,\n",
        "    AutoModelForSequenceClassification,\n",
        "    TrainingArguments,\n",
        "    Trainer,\n",
        "    pipeline\n",
        ")\n",
        "import pandas as pd\n",
        "import numpy as np\n",
        "import evaluate"
      ],
      "metadata": {
        "id": "LnRYcFqxuEt8"
      },
      "execution_count": null,
      "outputs": []
    },
    {
      "cell_type": "code",
      "source": [
        "dataset = load_dataset(\"sepidmnorozy/Korean_sentiment\")\n",
        "dataset"
      ],
      "metadata": {
        "id": "O3bvK54_uaec"
      },
      "execution_count": null,
      "outputs": []
    },
    {
      "cell_type": "code",
      "source": [
        "print(dataset['train'][3118])\n",
        "print(dataset['train'][14310])"
      ],
      "metadata": {
        "id": "b3jgyKeXvgq6"
      },
      "execution_count": null,
      "outputs": []
    },
    {
      "cell_type": "markdown",
      "source": [
        "## 토큰화 Tokenize\n",
        "\n",
        "https://huggingface.co/kykim/bert-kor-base"
      ],
      "metadata": {
        "id": "jqadEZqBvoS6"
      }
    },
    {
      "cell_type": "code",
      "source": [
        "model_name = \"kykim/bert-kor-base\""
      ],
      "metadata": {
        "id": "AbCIxx1zv6oh"
      },
      "execution_count": null,
      "outputs": []
    },
    {
      "cell_type": "code",
      "source": [
        "tokenizer = AutoTokenizer.from_pretrained(model_name)\n",
        "tokenizer"
      ],
      "metadata": {
        "id": "Dtyaj7_SwA1Q"
      },
      "execution_count": null,
      "outputs": []
    },
    {
      "cell_type": "code",
      "source": [
        "def tokenizer_func(x):\n",
        "    return tokenizer(\n",
        "        x['text'],\n",
        "        padding=\"max_length\",\n",
        "        max_length=256,\n",
        "        truncation=True\n",
        "    )"
      ],
      "metadata": {
        "id": "Fzx41j-KwDNh"
      },
      "execution_count": null,
      "outputs": []
    },
    {
      "cell_type": "code",
      "source": [
        "tokenized_datasets = dataset.map(tokenizer_func, batched=True)"
      ],
      "metadata": {
        "id": "jTaKS9LswJfJ"
      },
      "execution_count": null,
      "outputs": []
    },
    {
      "cell_type": "code",
      "source": [
        "train_num_samples = 10000\n",
        "\n",
        "train_ds = tokenized_datasets['train'].shuffle(seed=42).select(range(train_num_samples))\n",
        "eval_ds = tokenized_datasets['validation'].shuffle(seed=42)"
      ],
      "metadata": {
        "id": "ZNP5brZ7wMYH"
      },
      "execution_count": null,
      "outputs": []
    },
    {
      "cell_type": "markdown",
      "source": [
        "## 전이학습 Transfer Learning"
      ],
      "metadata": {
        "id": "6JlT3K8AwWKU"
      }
    },
    {
      "cell_type": "code",
      "source": [
        "model = AutoModelForSequenceClassification.from_pretrained(model_name, num_labels=2)"
      ],
      "metadata": {
        "id": "JPMzAZUcwYw9"
      },
      "execution_count": null,
      "outputs": []
    },
    {
      "cell_type": "markdown",
      "source": [
        "### Hyperparameters"
      ],
      "metadata": {
        "id": "bCns6wNcwaqx"
      }
    },
    {
      "cell_type": "code",
      "source": [
        "bs = 32\n",
        "epochs = 4\n",
        "lr = 1e-5"
      ],
      "metadata": {
        "id": "MqoSboLswmK4"
      },
      "execution_count": null,
      "outputs": []
    },
    {
      "cell_type": "markdown",
      "source": [
        "https://huggingface.co/docs/transformers/main_classes/trainer#transformers.TrainingArguments"
      ],
      "metadata": {
        "id": "jN82EavJ0Nof"
      }
    },
    {
      "cell_type": "code",
      "source": [
        "args = TrainingArguments(\n",
        "    'outputs',\n",
        "    learning_rate=lr,\n",
        "    warmup_ratio=0.1,\n",
        "    lr_scheduler_type='cosine',\n",
        "    fp16=True,\n",
        "    evaluation_strategy='epoch',\n",
        "    per_device_train_batch_size=bs,\n",
        "    per_device_eval_batch_size=bs,\n",
        "    gradient_accumulation_steps=4, # until bs=128\n",
        "    eval_accumulation_steps=4,\n",
        "    num_train_epochs=epochs,\n",
        "    weight_decay=0.01,\n",
        "    report_to='none'\n",
        ")"
      ],
      "metadata": {
        "id": "CUieJ5m4wnpt"
      },
      "execution_count": null,
      "outputs": []
    },
    {
      "cell_type": "markdown",
      "source": [
        "### Metrics"
      ],
      "metadata": {
        "id": "6UJ2UuJ-wq2f"
      }
    },
    {
      "cell_type": "code",
      "source": [
        "metric = evaluate.load('accuracy')\n",
        "\n",
        "# all Transformers models return logits\n",
        "def compute_metrics(eval_pred):\n",
        "    logits, labels = eval_pred\n",
        "    preds = np.argmax(logits, axis=-1)\n",
        "    return metric.compute(predictions=preds, references=labels)"
      ],
      "metadata": {
        "id": "fIJu9s95xd55"
      },
      "execution_count": null,
      "outputs": []
    },
    {
      "cell_type": "markdown",
      "source": [
        "### Trainer"
      ],
      "metadata": {
        "id": "0rTC7HUbxg6g"
      }
    },
    {
      "cell_type": "code",
      "source": [
        "trainer = Trainer(\n",
        "    model,\n",
        "    args,\n",
        "    train_dataset=train_ds,\n",
        "    eval_dataset=eval_ds,\n",
        "    tokenizer=tokenizer,\n",
        "    compute_metrics=compute_metrics\n",
        ")"
      ],
      "metadata": {
        "id": "u55sBP23xjJX"
      },
      "execution_count": null,
      "outputs": []
    },
    {
      "cell_type": "code",
      "source": [
        "trainer.train()"
      ],
      "metadata": {
        "id": "L-QuqHpfxkSq"
      },
      "execution_count": null,
      "outputs": []
    },
    {
      "cell_type": "code",
      "source": [
        "trainer.save_model(\"./mymodel\")"
      ],
      "metadata": {
        "id": "ZAh3r4Mc1znn"
      },
      "execution_count": null,
      "outputs": []
    },
    {
      "cell_type": "markdown",
      "source": [
        "## 추론 Inference"
      ],
      "metadata": {
        "id": "ahPYMKSvxppw"
      }
    },
    {
      "cell_type": "code",
      "source": [
        "pipe = pipeline('text-classification', model=\"./mymodel\")"
      ],
      "metadata": {
        "id": "vh8ZDutw3iL4"
      },
      "execution_count": null,
      "outputs": []
    },
    {
      "cell_type": "markdown",
      "source": [
        "### 테스트셋 사용"
      ],
      "metadata": {
        "id": "rqijAkon24W7"
      }
    },
    {
      "cell_type": "code",
      "source": [
        "test_data = dataset['validation'].shuffle(seed=424)[:100]\n",
        "td = pd.DataFrame(test_data)\n",
        "td"
      ],
      "metadata": {
        "id": "FSCVgA5f26Rd"
      },
      "execution_count": null,
      "outputs": []
    },
    {
      "cell_type": "code",
      "source": [
        "preds = pipe(td['text'].tolist())\n",
        "\n",
        "preds_df = pd.DataFrame(preds)\n",
        "preds_df"
      ],
      "metadata": {
        "id": "yV4p8rAZ27r2"
      },
      "execution_count": null,
      "outputs": []
    },
    {
      "cell_type": "code",
      "source": [
        "preds_df.rename(columns={'label':'pred'}, inplace=True)\n",
        "preds_df['pred'] = preds_df['pred'].map({'LABEL_1': 1, 'LABEL_0': 0})\n",
        "\n",
        "preds_df = pd.concat([preds_df, td], axis=1)\n",
        "preds_df"
      ],
      "metadata": {
        "id": "Qygzprf_32lg"
      },
      "execution_count": null,
      "outputs": []
    },
    {
      "cell_type": "code",
      "source": [
        "mask = preds_df['pred'] == preds_df['label']\n",
        "\n",
        "len(preds_df[mask])"
      ],
      "metadata": {
        "id": "tYLRc9IN4ATl"
      },
      "execution_count": null,
      "outputs": []
    },
    {
      "cell_type": "markdown",
      "source": [
        "### 내 데이터셋"
      ],
      "metadata": {
        "id": "HKSFksiy4WlQ"
      }
    },
    {
      "cell_type": "code",
      "source": [
        "txts = [\n",
        "    {'label': 0, 'text': \"절대로 강추할 수 없는 영화\"},\n",
        "    {'label': 0, 'text': \"절대로 추천할 수 없는 영화\"},\n",
        "    {'label': 1, 'text': \"또 보고 싶다.\"},\n",
        "    {'label': 0, 'text': \"이걸 보면서 웃을 수는 없다.\"},\n",
        "    {'label': 0, 'text': \"처음에는 재미있었는데 갈수록 산으로 가는 내용.\"},\n",
        "    {'label': 1, 'text': \"요즘 재미없는 영화만 나오는데 신선한 충격을 준 영화.\"},\n",
        "    {'label': 1, 'text': \"유명한 감독이나 배우가 나오지는 않지만 스토리가 감동\"}\n",
        "]\n",
        "\n",
        "txts_td = pd.DataFrame(txts)\n",
        "txts_td"
      ],
      "metadata": {
        "id": "iDfEFjA-yk9-"
      },
      "execution_count": null,
      "outputs": []
    },
    {
      "cell_type": "code",
      "source": [
        "preds_txts = pipe(txts_td['text'].tolist())"
      ],
      "metadata": {
        "id": "fUTJhNJ34UyS"
      },
      "execution_count": null,
      "outputs": []
    },
    {
      "cell_type": "code",
      "source": [
        "preds_txts_df = pd.DataFrame(preds_txts)\n",
        "preds_txts_df.rename(columns={'label':'pred'}, inplace=True)\n",
        "preds_txts_df['pred'] = preds_txts_df['pred'].map({'LABEL_1': 1, 'LABEL_0': 0})\n",
        "\n",
        "preds_txts_df = pd.concat([preds_txts_df, txts_td], axis=1)\n",
        "preds_txts_df"
      ],
      "metadata": {
        "id": "GcBD2dO04c6p"
      },
      "execution_count": null,
      "outputs": []
    },
    {
      "cell_type": "markdown",
      "source": [
        "### 파이프라인 사용하지 않고 모델 로딩"
      ],
      "metadata": {
        "id": "-193EjyD4phm"
      }
    },
    {
      "cell_type": "code",
      "source": [
        "model_inf = AutoModelForSequenceClassification.from_pretrained(\"./mymodel\")\n",
        "inputs = tokenizer(txts_td['text'].tolist(), padding=True, return_tensors=\"pt\")\n",
        "\n",
        "with torch.no_grad():\n",
        "    logits = model_inf(**inputs).logits"
      ],
      "metadata": {
        "id": "1DbSC0xmytOg"
      },
      "execution_count": null,
      "outputs": []
    },
    {
      "cell_type": "code",
      "source": [
        "logits.argmax(axis=1)"
      ],
      "metadata": {
        "id": "11TGxh3Q2UZI"
      },
      "execution_count": null,
      "outputs": []
    },
    {
      "cell_type": "code",
      "source": [],
      "metadata": {
        "id": "PX2ycOTAzALK"
      },
      "execution_count": null,
      "outputs": []
    }
  ]
}