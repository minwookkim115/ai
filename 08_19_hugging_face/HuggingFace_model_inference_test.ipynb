{
  "nbformat": 4,
  "nbformat_minor": 0,
  "metadata": {
    "colab": {
      "provenance": [],
      "gpuType": "T4"
    },
    "kernelspec": {
      "name": "python3",
      "display_name": "Python 3"
    },
    "language_info": {
      "name": "python"
    },
    "accelerator": "GPU"
  },
  "cells": [
    {
      "cell_type": "code",
      "source": [
        "from transformers import VisionEncoderDecoderModel, ViTImageProcessor, AutoTokenizer\n",
        "from PIL import Image\n",
        "import requests\n",
        "from io import BytesIO\n",
        "\n",
        "model_name =\n",
        "model = VisionEncoderDecoderModel.from_pretrained(model_name)\n",
        "processor = ViTImageProcessor.from_pretrained(model_name)\n",
        "tokenizer = AutoTokenizer.from_pretrained(model_name)\n",
        "\n",
        "img_url = \"https://img-datasets.s3.amazonaws.com/cat.jpg\"  # 여기에서 URL 변경.\n",
        "img = Image.open(requests.get(img_url, stream=True).raw)\n",
        "\n",
        "# img_data = BytesIO(response.content)\n",
        "# img = Image.open(img_data)\n",
        "\n",
        "pixel_values = processor(images=img, return_tensors=\"pt\").pixel_values\n",
        "\n",
        "generated_ids = model.generate(pixel_values)\n",
        "\n",
        "generated_caption = tokenizer.decode(generated_ids[0], skip_special_tokens=True)\n",
        "\n",
        "print('===========================RESULT============================')\n",
        "print(f\"Generated Caption: {generated_caption}\")\n"
      ],
      "metadata": {
        "id": "ld8ibUzTqlZ4"
      },
      "execution_count": null,
      "outputs": []
    },
    {
      "cell_type": "code",
      "source": [
        "!pip install --upgrade transformers"
      ],
      "metadata": {
        "id": "v_CIkFtpjHUc"
      },
      "execution_count": null,
      "outputs": []
    },
    {
      "cell_type": "code",
      "source": [
        "!pip install diffusers"
      ],
      "metadata": {
        "id": "lgAE8t9WnGDq"
      },
      "execution_count": null,
      "outputs": []
    },
    {
      "cell_type": "code",
      "source": [
        "from diffusers import StableDiffusionPipeline\n",
        "import torch\n",
        "from PIL import Image\n",
        "import matplotlib.pyplot as plt\n",
        "\n",
        "model_name =\n",
        "device = \"cuda\" if torch.cuda.is_available() else \"cpu\"\n",
        "\n",
        "pipe = StableDiffusionPipeline.from_pretrained(model_name, torch_dtype=torch.float16)\n",
        "pipe = pipe.to(device)\n",
        "\n",
        "text_prompt = \"a fantasy landscape with mountains and a river\"  # 여기에 원하는 텍스트를 입력.\n",
        "\n",
        "with torch.autocast(\"cuda\"):\n",
        "    image = pipe(text_prompt).images[0]\n",
        "\n",
        "plt.imshow(image)\n",
        "plt.axis('off')\n",
        "plt.show()\n",
        "# image.save(\"generated_image.png\")\n"
      ],
      "metadata": {
        "id": "ALkyaGmFqlb2"
      },
      "execution_count": null,
      "outputs": []
    },
    {
      "cell_type": "code",
      "source": [],
      "metadata": {
        "id": "QuromGSbqliv"
      },
      "execution_count": null,
      "outputs": []
    },
    {
      "cell_type": "code",
      "source": [],
      "metadata": {
        "id": "UOEwl-LVqlk2"
      },
      "execution_count": null,
      "outputs": []
    },
    {
      "cell_type": "code",
      "source": [],
      "metadata": {
        "id": "hokloV5Zqlp9"
      },
      "execution_count": null,
      "outputs": []
    },
    {
      "cell_type": "code",
      "source": [],
      "metadata": {
        "id": "8-iJzuyiroRg"
      },
      "execution_count": null,
      "outputs": []
    }
  ]
}