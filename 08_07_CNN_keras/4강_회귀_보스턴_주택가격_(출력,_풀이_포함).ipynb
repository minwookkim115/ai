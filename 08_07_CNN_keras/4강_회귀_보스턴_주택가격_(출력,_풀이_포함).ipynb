{
  "cells": [
    {
      "cell_type": "markdown",
      "id": "1897c27d",
      "metadata": {
        "id": "1897c27d"
      },
      "source": [
        "# 보스턴 주택가격 데이터셋"
      ]
    },
    {
      "cell_type": "markdown",
      "id": "ca936fe8",
      "metadata": {
        "id": "ca936fe8"
      },
      "source": [
        "케라스의 [tf.keras.datasets.boston_housing](https://www.tensorflow.org/api_docs/python/tf/keras/datasets/boston_housing)로부터 보스턴 주택가격 데이터셋을 불러오겠습니다.\n",
        "- 1970년대 보스턴 교외의 타운별 데이터 506개\n",
        "- 각 행은 타운별 데이터\n",
        "- 각 열은 주택 가격에 영향을 미치는 요소 13개\n",
        "- 훈련용 404개, 테스트용 102개\n",
        "- 라벨은 주택가격 중앙값 (단위 : 천달러)  \n",
        "![](https://drive.google.com/thumbnail?id=1GkxuiFIvsL_k0u5iYNmWsF6oaOG3Ed4P&sz=s4000)  "
      ]
    },
    {
      "cell_type": "code",
      "execution_count": null,
      "id": "ba1ce743",
      "metadata": {
        "id": "ba1ce743",
        "outputId": "1d392142-a76e-4133-80b3-f77d80ea9182"
      },
      "outputs": [
        {
          "name": "stderr",
          "output_type": "stream",
          "text": [
            "C:\\Users\\user\\anaconda3\\lib\\site-packages\\scipy\\__init__.py:146: UserWarning: A NumPy version >=1.16.5 and <1.23.0 is required for this version of SciPy (detected version 1.26.4\n",
            "  warnings.warn(f\"A NumPy version >={np_minversion} and <{np_maxversion}\"\n"
          ]
        },
        {
          "name": "stdout",
          "output_type": "stream",
          "text": [
            "Downloading data from https://storage.googleapis.com/tensorflow/tf-keras-datasets/boston_housing.npz\n",
            "\u001b[1m57026/57026\u001b[0m \u001b[32m━━━━━━━━━━━━━━━━━━━━\u001b[0m\u001b[37m\u001b[0m \u001b[1m0s\u001b[0m 0us/step\n",
            "훈련용 : (404, 13)\n",
            "테스트용 : (102, 13)\n"
          ]
        }
      ],
      "source": [
        "from tensorflow import keras\n",
        "from keras.datasets import boston_housing\n",
        "(train_data, train_targets), (test_data, test_targets) = boston_housing.load_data()\n",
        "\n",
        "print(f\"훈련용 : {train_data.shape}\")\n",
        "print(f\"테스트용 : {test_data.shape}\")"
      ]
    },
    {
      "cell_type": "markdown",
      "id": "b17a4659",
      "metadata": {
        "id": "b17a4659"
      },
      "source": [
        "주택 가격에 영향을 미치는 13개의 요소는 다음과 같습니다.\n",
        "- CRIM : per capita crime rate by town (범죄율)\n",
        "- ZN : proportion of residential land zoned for lots over 25,000 sq.ft.\n",
        "- INDUS : proportion of non-retail business acres per town.\n",
        "- CHAS : Charles River dummy variable (1 if tract bounds river; 0 otherwise) (강변)\n",
        "- NOX : nitric oxides concentration (parts per 10 million)\n",
        "- RM : average number of rooms per dwelling (평균 방 개수)\n",
        "- AGE : proportion of owner-occupied units built prior to 1940 (노후주택 비율)\n",
        "- DIS : weighted distances to five Boston employment centres\n",
        "- RAD : index of accessibility to radial highways\n",
        "- TAX : full-value property-tax rate per $10,000 (재산세 세율)\n",
        "- PTRATIO : pupil-teacher ratio by town (학생/교사 비율)\n",
        "- B : 1000(Bk - 0.63)^2 where Bk is the proportion of blacks by town\n",
        "- LSTAT : lower status of the population (하위계층 비율)"
      ]
    },
    {
      "cell_type": "code",
      "execution_count": null,
      "id": "b83b6fdc",
      "metadata": {
        "id": "b83b6fdc"
      },
      "outputs": [],
      "source": [
        "columns = ['CRIM','ZN','INDUS','CHAS','NOX','RM','AGE','DIS','RAD','TAX','PTRATIO','B','LSTAT']"
      ]
    },
    {
      "cell_type": "markdown",
      "id": "0f41c94c",
      "metadata": {
        "id": "0f41c94c"
      },
      "source": [
        "파이썬데이터분석 시간에 배운 판다스를 이용해 훈련 데이터를 출력해보겠습니다."
      ]
    },
    {
      "cell_type": "code",
      "execution_count": null,
      "id": "b826295a",
      "metadata": {
        "id": "b826295a",
        "outputId": "e3519083-14ec-40ac-dda1-1ab45835c0db"
      },
      "outputs": [
        {
          "data": {
            "text/html": [
              "<div>\n",
              "<style scoped>\n",
              "    .dataframe tbody tr th:only-of-type {\n",
              "        vertical-align: middle;\n",
              "    }\n",
              "\n",
              "    .dataframe tbody tr th {\n",
              "        vertical-align: top;\n",
              "    }\n",
              "\n",
              "    .dataframe thead th {\n",
              "        text-align: right;\n",
              "    }\n",
              "</style>\n",
              "<table border=\"1\" class=\"dataframe\">\n",
              "  <thead>\n",
              "    <tr style=\"text-align: right;\">\n",
              "      <th></th>\n",
              "      <th>CRIM</th>\n",
              "      <th>ZN</th>\n",
              "      <th>INDUS</th>\n",
              "      <th>CHAS</th>\n",
              "      <th>NOX</th>\n",
              "      <th>RM</th>\n",
              "      <th>AGE</th>\n",
              "      <th>DIS</th>\n",
              "      <th>RAD</th>\n",
              "      <th>TAX</th>\n",
              "      <th>PTRATIO</th>\n",
              "      <th>B</th>\n",
              "      <th>LSTAT</th>\n",
              "    </tr>\n",
              "  </thead>\n",
              "  <tbody>\n",
              "    <tr>\n",
              "      <th>0</th>\n",
              "      <td>1.23247</td>\n",
              "      <td>0.0</td>\n",
              "      <td>8.14</td>\n",
              "      <td>0.0</td>\n",
              "      <td>0.5380</td>\n",
              "      <td>6.142</td>\n",
              "      <td>91.7</td>\n",
              "      <td>3.9769</td>\n",
              "      <td>4.0</td>\n",
              "      <td>307.0</td>\n",
              "      <td>21.0</td>\n",
              "      <td>396.90</td>\n",
              "      <td>18.72</td>\n",
              "    </tr>\n",
              "    <tr>\n",
              "      <th>1</th>\n",
              "      <td>0.02177</td>\n",
              "      <td>82.5</td>\n",
              "      <td>2.03</td>\n",
              "      <td>0.0</td>\n",
              "      <td>0.4150</td>\n",
              "      <td>7.610</td>\n",
              "      <td>15.7</td>\n",
              "      <td>6.2700</td>\n",
              "      <td>2.0</td>\n",
              "      <td>348.0</td>\n",
              "      <td>14.7</td>\n",
              "      <td>395.38</td>\n",
              "      <td>3.11</td>\n",
              "    </tr>\n",
              "    <tr>\n",
              "      <th>2</th>\n",
              "      <td>4.89822</td>\n",
              "      <td>0.0</td>\n",
              "      <td>18.10</td>\n",
              "      <td>0.0</td>\n",
              "      <td>0.6310</td>\n",
              "      <td>4.970</td>\n",
              "      <td>100.0</td>\n",
              "      <td>1.3325</td>\n",
              "      <td>24.0</td>\n",
              "      <td>666.0</td>\n",
              "      <td>20.2</td>\n",
              "      <td>375.52</td>\n",
              "      <td>3.26</td>\n",
              "    </tr>\n",
              "    <tr>\n",
              "      <th>3</th>\n",
              "      <td>0.03961</td>\n",
              "      <td>0.0</td>\n",
              "      <td>5.19</td>\n",
              "      <td>0.0</td>\n",
              "      <td>0.5150</td>\n",
              "      <td>6.037</td>\n",
              "      <td>34.5</td>\n",
              "      <td>5.9853</td>\n",
              "      <td>5.0</td>\n",
              "      <td>224.0</td>\n",
              "      <td>20.2</td>\n",
              "      <td>396.90</td>\n",
              "      <td>8.01</td>\n",
              "    </tr>\n",
              "    <tr>\n",
              "      <th>4</th>\n",
              "      <td>3.69311</td>\n",
              "      <td>0.0</td>\n",
              "      <td>18.10</td>\n",
              "      <td>0.0</td>\n",
              "      <td>0.7130</td>\n",
              "      <td>6.376</td>\n",
              "      <td>88.4</td>\n",
              "      <td>2.5671</td>\n",
              "      <td>24.0</td>\n",
              "      <td>666.0</td>\n",
              "      <td>20.2</td>\n",
              "      <td>391.43</td>\n",
              "      <td>14.65</td>\n",
              "    </tr>\n",
              "    <tr>\n",
              "      <th>...</th>\n",
              "      <td>...</td>\n",
              "      <td>...</td>\n",
              "      <td>...</td>\n",
              "      <td>...</td>\n",
              "      <td>...</td>\n",
              "      <td>...</td>\n",
              "      <td>...</td>\n",
              "      <td>...</td>\n",
              "      <td>...</td>\n",
              "      <td>...</td>\n",
              "      <td>...</td>\n",
              "      <td>...</td>\n",
              "      <td>...</td>\n",
              "    </tr>\n",
              "    <tr>\n",
              "      <th>399</th>\n",
              "      <td>0.21977</td>\n",
              "      <td>0.0</td>\n",
              "      <td>6.91</td>\n",
              "      <td>0.0</td>\n",
              "      <td>0.4480</td>\n",
              "      <td>5.602</td>\n",
              "      <td>62.0</td>\n",
              "      <td>6.0877</td>\n",
              "      <td>3.0</td>\n",
              "      <td>233.0</td>\n",
              "      <td>17.9</td>\n",
              "      <td>396.90</td>\n",
              "      <td>16.20</td>\n",
              "    </tr>\n",
              "    <tr>\n",
              "      <th>400</th>\n",
              "      <td>0.16211</td>\n",
              "      <td>20.0</td>\n",
              "      <td>6.96</td>\n",
              "      <td>0.0</td>\n",
              "      <td>0.4640</td>\n",
              "      <td>6.240</td>\n",
              "      <td>16.3</td>\n",
              "      <td>4.4290</td>\n",
              "      <td>3.0</td>\n",
              "      <td>223.0</td>\n",
              "      <td>18.6</td>\n",
              "      <td>396.90</td>\n",
              "      <td>6.59</td>\n",
              "    </tr>\n",
              "    <tr>\n",
              "      <th>401</th>\n",
              "      <td>0.03466</td>\n",
              "      <td>35.0</td>\n",
              "      <td>6.06</td>\n",
              "      <td>0.0</td>\n",
              "      <td>0.4379</td>\n",
              "      <td>6.031</td>\n",
              "      <td>23.3</td>\n",
              "      <td>6.6407</td>\n",
              "      <td>1.0</td>\n",
              "      <td>304.0</td>\n",
              "      <td>16.9</td>\n",
              "      <td>362.25</td>\n",
              "      <td>7.83</td>\n",
              "    </tr>\n",
              "    <tr>\n",
              "      <th>402</th>\n",
              "      <td>2.14918</td>\n",
              "      <td>0.0</td>\n",
              "      <td>19.58</td>\n",
              "      <td>0.0</td>\n",
              "      <td>0.8710</td>\n",
              "      <td>5.709</td>\n",
              "      <td>98.5</td>\n",
              "      <td>1.6232</td>\n",
              "      <td>5.0</td>\n",
              "      <td>403.0</td>\n",
              "      <td>14.7</td>\n",
              "      <td>261.95</td>\n",
              "      <td>15.79</td>\n",
              "    </tr>\n",
              "    <tr>\n",
              "      <th>403</th>\n",
              "      <td>0.01439</td>\n",
              "      <td>60.0</td>\n",
              "      <td>2.93</td>\n",
              "      <td>0.0</td>\n",
              "      <td>0.4010</td>\n",
              "      <td>6.604</td>\n",
              "      <td>18.8</td>\n",
              "      <td>6.2196</td>\n",
              "      <td>1.0</td>\n",
              "      <td>265.0</td>\n",
              "      <td>15.6</td>\n",
              "      <td>376.70</td>\n",
              "      <td>4.38</td>\n",
              "    </tr>\n",
              "  </tbody>\n",
              "</table>\n",
              "<p>404 rows × 13 columns</p>\n",
              "</div>"
            ],
            "text/plain": [
              "        CRIM    ZN  INDUS  CHAS     NOX     RM    AGE     DIS   RAD    TAX  \\\n",
              "0    1.23247   0.0   8.14   0.0  0.5380  6.142   91.7  3.9769   4.0  307.0   \n",
              "1    0.02177  82.5   2.03   0.0  0.4150  7.610   15.7  6.2700   2.0  348.0   \n",
              "2    4.89822   0.0  18.10   0.0  0.6310  4.970  100.0  1.3325  24.0  666.0   \n",
              "3    0.03961   0.0   5.19   0.0  0.5150  6.037   34.5  5.9853   5.0  224.0   \n",
              "4    3.69311   0.0  18.10   0.0  0.7130  6.376   88.4  2.5671  24.0  666.0   \n",
              "..       ...   ...    ...   ...     ...    ...    ...     ...   ...    ...   \n",
              "399  0.21977   0.0   6.91   0.0  0.4480  5.602   62.0  6.0877   3.0  233.0   \n",
              "400  0.16211  20.0   6.96   0.0  0.4640  6.240   16.3  4.4290   3.0  223.0   \n",
              "401  0.03466  35.0   6.06   0.0  0.4379  6.031   23.3  6.6407   1.0  304.0   \n",
              "402  2.14918   0.0  19.58   0.0  0.8710  5.709   98.5  1.6232   5.0  403.0   \n",
              "403  0.01439  60.0   2.93   0.0  0.4010  6.604   18.8  6.2196   1.0  265.0   \n",
              "\n",
              "     PTRATIO       B  LSTAT  \n",
              "0       21.0  396.90  18.72  \n",
              "1       14.7  395.38   3.11  \n",
              "2       20.2  375.52   3.26  \n",
              "3       20.2  396.90   8.01  \n",
              "4       20.2  391.43  14.65  \n",
              "..       ...     ...    ...  \n",
              "399     17.9  396.90  16.20  \n",
              "400     18.6  396.90   6.59  \n",
              "401     16.9  362.25   7.83  \n",
              "402     14.7  261.95  15.79  \n",
              "403     15.6  376.70   4.38  \n",
              "\n",
              "[404 rows x 13 columns]"
            ]
          },
          "execution_count": 3,
          "metadata": {},
          "output_type": "execute_result"
        }
      ],
      "source": [
        "import pandas as pd\n",
        "\n",
        "df = pd.DataFrame(train_data, columns=columns)\n",
        "df"
      ]
    },
    {
      "cell_type": "markdown",
      "id": "339c0e4b",
      "metadata": {
        "id": "339c0e4b"
      },
      "source": [
        "라벨을 마지막 열에 추가하겠습니다.  \n",
        "타운별 주택가격 중앙값(PRICE)입니다.  \n",
        "단위는 천달러입니다."
      ]
    },
    {
      "cell_type": "code",
      "execution_count": null,
      "id": "7f3565df",
      "metadata": {
        "id": "7f3565df",
        "outputId": "00b76901-6db3-4c59-cb83-f1605d51fc7f"
      },
      "outputs": [
        {
          "data": {
            "text/html": [
              "<div>\n",
              "<style scoped>\n",
              "    .dataframe tbody tr th:only-of-type {\n",
              "        vertical-align: middle;\n",
              "    }\n",
              "\n",
              "    .dataframe tbody tr th {\n",
              "        vertical-align: top;\n",
              "    }\n",
              "\n",
              "    .dataframe thead th {\n",
              "        text-align: right;\n",
              "    }\n",
              "</style>\n",
              "<table border=\"1\" class=\"dataframe\">\n",
              "  <thead>\n",
              "    <tr style=\"text-align: right;\">\n",
              "      <th></th>\n",
              "      <th>CRIM</th>\n",
              "      <th>ZN</th>\n",
              "      <th>INDUS</th>\n",
              "      <th>CHAS</th>\n",
              "      <th>NOX</th>\n",
              "      <th>RM</th>\n",
              "      <th>AGE</th>\n",
              "      <th>DIS</th>\n",
              "      <th>RAD</th>\n",
              "      <th>TAX</th>\n",
              "      <th>PTRATIO</th>\n",
              "      <th>B</th>\n",
              "      <th>LSTAT</th>\n",
              "      <th>PRICE</th>\n",
              "    </tr>\n",
              "  </thead>\n",
              "  <tbody>\n",
              "    <tr>\n",
              "      <th>0</th>\n",
              "      <td>1.23247</td>\n",
              "      <td>0.0</td>\n",
              "      <td>8.14</td>\n",
              "      <td>0.0</td>\n",
              "      <td>0.5380</td>\n",
              "      <td>6.142</td>\n",
              "      <td>91.7</td>\n",
              "      <td>3.9769</td>\n",
              "      <td>4.0</td>\n",
              "      <td>307.0</td>\n",
              "      <td>21.0</td>\n",
              "      <td>396.90</td>\n",
              "      <td>18.72</td>\n",
              "      <td>15.2</td>\n",
              "    </tr>\n",
              "    <tr>\n",
              "      <th>1</th>\n",
              "      <td>0.02177</td>\n",
              "      <td>82.5</td>\n",
              "      <td>2.03</td>\n",
              "      <td>0.0</td>\n",
              "      <td>0.4150</td>\n",
              "      <td>7.610</td>\n",
              "      <td>15.7</td>\n",
              "      <td>6.2700</td>\n",
              "      <td>2.0</td>\n",
              "      <td>348.0</td>\n",
              "      <td>14.7</td>\n",
              "      <td>395.38</td>\n",
              "      <td>3.11</td>\n",
              "      <td>42.3</td>\n",
              "    </tr>\n",
              "    <tr>\n",
              "      <th>2</th>\n",
              "      <td>4.89822</td>\n",
              "      <td>0.0</td>\n",
              "      <td>18.10</td>\n",
              "      <td>0.0</td>\n",
              "      <td>0.6310</td>\n",
              "      <td>4.970</td>\n",
              "      <td>100.0</td>\n",
              "      <td>1.3325</td>\n",
              "      <td>24.0</td>\n",
              "      <td>666.0</td>\n",
              "      <td>20.2</td>\n",
              "      <td>375.52</td>\n",
              "      <td>3.26</td>\n",
              "      <td>50.0</td>\n",
              "    </tr>\n",
              "    <tr>\n",
              "      <th>3</th>\n",
              "      <td>0.03961</td>\n",
              "      <td>0.0</td>\n",
              "      <td>5.19</td>\n",
              "      <td>0.0</td>\n",
              "      <td>0.5150</td>\n",
              "      <td>6.037</td>\n",
              "      <td>34.5</td>\n",
              "      <td>5.9853</td>\n",
              "      <td>5.0</td>\n",
              "      <td>224.0</td>\n",
              "      <td>20.2</td>\n",
              "      <td>396.90</td>\n",
              "      <td>8.01</td>\n",
              "      <td>21.1</td>\n",
              "    </tr>\n",
              "    <tr>\n",
              "      <th>4</th>\n",
              "      <td>3.69311</td>\n",
              "      <td>0.0</td>\n",
              "      <td>18.10</td>\n",
              "      <td>0.0</td>\n",
              "      <td>0.7130</td>\n",
              "      <td>6.376</td>\n",
              "      <td>88.4</td>\n",
              "      <td>2.5671</td>\n",
              "      <td>24.0</td>\n",
              "      <td>666.0</td>\n",
              "      <td>20.2</td>\n",
              "      <td>391.43</td>\n",
              "      <td>14.65</td>\n",
              "      <td>17.7</td>\n",
              "    </tr>\n",
              "    <tr>\n",
              "      <th>...</th>\n",
              "      <td>...</td>\n",
              "      <td>...</td>\n",
              "      <td>...</td>\n",
              "      <td>...</td>\n",
              "      <td>...</td>\n",
              "      <td>...</td>\n",
              "      <td>...</td>\n",
              "      <td>...</td>\n",
              "      <td>...</td>\n",
              "      <td>...</td>\n",
              "      <td>...</td>\n",
              "      <td>...</td>\n",
              "      <td>...</td>\n",
              "      <td>...</td>\n",
              "    </tr>\n",
              "    <tr>\n",
              "      <th>399</th>\n",
              "      <td>0.21977</td>\n",
              "      <td>0.0</td>\n",
              "      <td>6.91</td>\n",
              "      <td>0.0</td>\n",
              "      <td>0.4480</td>\n",
              "      <td>5.602</td>\n",
              "      <td>62.0</td>\n",
              "      <td>6.0877</td>\n",
              "      <td>3.0</td>\n",
              "      <td>233.0</td>\n",
              "      <td>17.9</td>\n",
              "      <td>396.90</td>\n",
              "      <td>16.20</td>\n",
              "      <td>19.4</td>\n",
              "    </tr>\n",
              "    <tr>\n",
              "      <th>400</th>\n",
              "      <td>0.16211</td>\n",
              "      <td>20.0</td>\n",
              "      <td>6.96</td>\n",
              "      <td>0.0</td>\n",
              "      <td>0.4640</td>\n",
              "      <td>6.240</td>\n",
              "      <td>16.3</td>\n",
              "      <td>4.4290</td>\n",
              "      <td>3.0</td>\n",
              "      <td>223.0</td>\n",
              "      <td>18.6</td>\n",
              "      <td>396.90</td>\n",
              "      <td>6.59</td>\n",
              "      <td>25.2</td>\n",
              "    </tr>\n",
              "    <tr>\n",
              "      <th>401</th>\n",
              "      <td>0.03466</td>\n",
              "      <td>35.0</td>\n",
              "      <td>6.06</td>\n",
              "      <td>0.0</td>\n",
              "      <td>0.4379</td>\n",
              "      <td>6.031</td>\n",
              "      <td>23.3</td>\n",
              "      <td>6.6407</td>\n",
              "      <td>1.0</td>\n",
              "      <td>304.0</td>\n",
              "      <td>16.9</td>\n",
              "      <td>362.25</td>\n",
              "      <td>7.83</td>\n",
              "      <td>19.4</td>\n",
              "    </tr>\n",
              "    <tr>\n",
              "      <th>402</th>\n",
              "      <td>2.14918</td>\n",
              "      <td>0.0</td>\n",
              "      <td>19.58</td>\n",
              "      <td>0.0</td>\n",
              "      <td>0.8710</td>\n",
              "      <td>5.709</td>\n",
              "      <td>98.5</td>\n",
              "      <td>1.6232</td>\n",
              "      <td>5.0</td>\n",
              "      <td>403.0</td>\n",
              "      <td>14.7</td>\n",
              "      <td>261.95</td>\n",
              "      <td>15.79</td>\n",
              "      <td>19.4</td>\n",
              "    </tr>\n",
              "    <tr>\n",
              "      <th>403</th>\n",
              "      <td>0.01439</td>\n",
              "      <td>60.0</td>\n",
              "      <td>2.93</td>\n",
              "      <td>0.0</td>\n",
              "      <td>0.4010</td>\n",
              "      <td>6.604</td>\n",
              "      <td>18.8</td>\n",
              "      <td>6.2196</td>\n",
              "      <td>1.0</td>\n",
              "      <td>265.0</td>\n",
              "      <td>15.6</td>\n",
              "      <td>376.70</td>\n",
              "      <td>4.38</td>\n",
              "      <td>29.1</td>\n",
              "    </tr>\n",
              "  </tbody>\n",
              "</table>\n",
              "<p>404 rows × 14 columns</p>\n",
              "</div>"
            ],
            "text/plain": [
              "        CRIM    ZN  INDUS  CHAS     NOX     RM    AGE     DIS   RAD    TAX  \\\n",
              "0    1.23247   0.0   8.14   0.0  0.5380  6.142   91.7  3.9769   4.0  307.0   \n",
              "1    0.02177  82.5   2.03   0.0  0.4150  7.610   15.7  6.2700   2.0  348.0   \n",
              "2    4.89822   0.0  18.10   0.0  0.6310  4.970  100.0  1.3325  24.0  666.0   \n",
              "3    0.03961   0.0   5.19   0.0  0.5150  6.037   34.5  5.9853   5.0  224.0   \n",
              "4    3.69311   0.0  18.10   0.0  0.7130  6.376   88.4  2.5671  24.0  666.0   \n",
              "..       ...   ...    ...   ...     ...    ...    ...     ...   ...    ...   \n",
              "399  0.21977   0.0   6.91   0.0  0.4480  5.602   62.0  6.0877   3.0  233.0   \n",
              "400  0.16211  20.0   6.96   0.0  0.4640  6.240   16.3  4.4290   3.0  223.0   \n",
              "401  0.03466  35.0   6.06   0.0  0.4379  6.031   23.3  6.6407   1.0  304.0   \n",
              "402  2.14918   0.0  19.58   0.0  0.8710  5.709   98.5  1.6232   5.0  403.0   \n",
              "403  0.01439  60.0   2.93   0.0  0.4010  6.604   18.8  6.2196   1.0  265.0   \n",
              "\n",
              "     PTRATIO       B  LSTAT  PRICE  \n",
              "0       21.0  396.90  18.72   15.2  \n",
              "1       14.7  395.38   3.11   42.3  \n",
              "2       20.2  375.52   3.26   50.0  \n",
              "3       20.2  396.90   8.01   21.1  \n",
              "4       20.2  391.43  14.65   17.7  \n",
              "..       ...     ...    ...    ...  \n",
              "399     17.9  396.90  16.20   19.4  \n",
              "400     18.6  396.90   6.59   25.2  \n",
              "401     16.9  362.25   7.83   19.4  \n",
              "402     14.7  261.95  15.79   19.4  \n",
              "403     15.6  376.70   4.38   29.1  \n",
              "\n",
              "[404 rows x 14 columns]"
            ]
          },
          "execution_count": 4,
          "metadata": {},
          "output_type": "execute_result"
        }
      ],
      "source": [
        "df['PRICE'] = train_targets\n",
        "df"
      ]
    },
    {
      "cell_type": "markdown",
      "id": "6bcad556",
      "metadata": {
        "id": "6bcad556"
      },
      "source": [
        "기본적인 통계정보를 출력해보겠습니다."
      ]
    },
    {
      "cell_type": "code",
      "execution_count": null,
      "id": "5749b6a1",
      "metadata": {
        "id": "5749b6a1",
        "outputId": "0a7b7543-bc1a-4e2e-ca80-c161e52f8646"
      },
      "outputs": [
        {
          "data": {
            "text/html": [
              "<div>\n",
              "<style scoped>\n",
              "    .dataframe tbody tr th:only-of-type {\n",
              "        vertical-align: middle;\n",
              "    }\n",
              "\n",
              "    .dataframe tbody tr th {\n",
              "        vertical-align: top;\n",
              "    }\n",
              "\n",
              "    .dataframe thead th {\n",
              "        text-align: right;\n",
              "    }\n",
              "</style>\n",
              "<table border=\"1\" class=\"dataframe\">\n",
              "  <thead>\n",
              "    <tr style=\"text-align: right;\">\n",
              "      <th></th>\n",
              "      <th>count</th>\n",
              "      <th>mean</th>\n",
              "      <th>std</th>\n",
              "      <th>min</th>\n",
              "      <th>25%</th>\n",
              "      <th>50%</th>\n",
              "      <th>75%</th>\n",
              "      <th>max</th>\n",
              "    </tr>\n",
              "  </thead>\n",
              "  <tbody>\n",
              "    <tr>\n",
              "      <th>CRIM</th>\n",
              "      <td>404.0</td>\n",
              "      <td>3.745111</td>\n",
              "      <td>9.240734</td>\n",
              "      <td>0.00632</td>\n",
              "      <td>0.081437</td>\n",
              "      <td>0.26888</td>\n",
              "      <td>3.674808</td>\n",
              "      <td>88.9762</td>\n",
              "    </tr>\n",
              "    <tr>\n",
              "      <th>ZN</th>\n",
              "      <td>404.0</td>\n",
              "      <td>11.480198</td>\n",
              "      <td>23.767711</td>\n",
              "      <td>0.00000</td>\n",
              "      <td>0.000000</td>\n",
              "      <td>0.00000</td>\n",
              "      <td>12.500000</td>\n",
              "      <td>100.0000</td>\n",
              "    </tr>\n",
              "    <tr>\n",
              "      <th>INDUS</th>\n",
              "      <td>404.0</td>\n",
              "      <td>11.104431</td>\n",
              "      <td>6.811308</td>\n",
              "      <td>0.46000</td>\n",
              "      <td>5.130000</td>\n",
              "      <td>9.69000</td>\n",
              "      <td>18.100000</td>\n",
              "      <td>27.7400</td>\n",
              "    </tr>\n",
              "    <tr>\n",
              "      <th>CHAS</th>\n",
              "      <td>404.0</td>\n",
              "      <td>0.061881</td>\n",
              "      <td>0.241238</td>\n",
              "      <td>0.00000</td>\n",
              "      <td>0.000000</td>\n",
              "      <td>0.00000</td>\n",
              "      <td>0.000000</td>\n",
              "      <td>1.0000</td>\n",
              "    </tr>\n",
              "    <tr>\n",
              "      <th>NOX</th>\n",
              "      <td>404.0</td>\n",
              "      <td>0.557356</td>\n",
              "      <td>0.117293</td>\n",
              "      <td>0.38500</td>\n",
              "      <td>0.453000</td>\n",
              "      <td>0.53800</td>\n",
              "      <td>0.631000</td>\n",
              "      <td>0.8710</td>\n",
              "    </tr>\n",
              "    <tr>\n",
              "      <th>RM</th>\n",
              "      <td>404.0</td>\n",
              "      <td>6.267082</td>\n",
              "      <td>0.709788</td>\n",
              "      <td>3.56100</td>\n",
              "      <td>5.874750</td>\n",
              "      <td>6.19850</td>\n",
              "      <td>6.609000</td>\n",
              "      <td>8.7250</td>\n",
              "    </tr>\n",
              "    <tr>\n",
              "      <th>AGE</th>\n",
              "      <td>404.0</td>\n",
              "      <td>69.010644</td>\n",
              "      <td>27.940665</td>\n",
              "      <td>2.90000</td>\n",
              "      <td>45.475000</td>\n",
              "      <td>78.50000</td>\n",
              "      <td>94.100000</td>\n",
              "      <td>100.0000</td>\n",
              "    </tr>\n",
              "    <tr>\n",
              "      <th>DIS</th>\n",
              "      <td>404.0</td>\n",
              "      <td>3.740271</td>\n",
              "      <td>2.030215</td>\n",
              "      <td>1.12960</td>\n",
              "      <td>2.077100</td>\n",
              "      <td>3.14230</td>\n",
              "      <td>5.118000</td>\n",
              "      <td>10.7103</td>\n",
              "    </tr>\n",
              "    <tr>\n",
              "      <th>RAD</th>\n",
              "      <td>404.0</td>\n",
              "      <td>9.440594</td>\n",
              "      <td>8.698360</td>\n",
              "      <td>1.00000</td>\n",
              "      <td>4.000000</td>\n",
              "      <td>5.00000</td>\n",
              "      <td>24.000000</td>\n",
              "      <td>24.0000</td>\n",
              "    </tr>\n",
              "    <tr>\n",
              "      <th>TAX</th>\n",
              "      <td>404.0</td>\n",
              "      <td>405.898515</td>\n",
              "      <td>166.374543</td>\n",
              "      <td>188.00000</td>\n",
              "      <td>279.000000</td>\n",
              "      <td>330.00000</td>\n",
              "      <td>666.000000</td>\n",
              "      <td>711.0000</td>\n",
              "    </tr>\n",
              "    <tr>\n",
              "      <th>PTRATIO</th>\n",
              "      <td>404.0</td>\n",
              "      <td>18.475990</td>\n",
              "      <td>2.200382</td>\n",
              "      <td>12.60000</td>\n",
              "      <td>17.225000</td>\n",
              "      <td>19.10000</td>\n",
              "      <td>20.200000</td>\n",
              "      <td>22.0000</td>\n",
              "    </tr>\n",
              "    <tr>\n",
              "      <th>B</th>\n",
              "      <td>404.0</td>\n",
              "      <td>354.783168</td>\n",
              "      <td>94.111148</td>\n",
              "      <td>0.32000</td>\n",
              "      <td>374.672500</td>\n",
              "      <td>391.25000</td>\n",
              "      <td>396.157500</td>\n",
              "      <td>396.9000</td>\n",
              "    </tr>\n",
              "    <tr>\n",
              "      <th>LSTAT</th>\n",
              "      <td>404.0</td>\n",
              "      <td>12.740817</td>\n",
              "      <td>7.254545</td>\n",
              "      <td>1.73000</td>\n",
              "      <td>6.890000</td>\n",
              "      <td>11.39500</td>\n",
              "      <td>17.092500</td>\n",
              "      <td>37.9700</td>\n",
              "    </tr>\n",
              "    <tr>\n",
              "      <th>PRICE</th>\n",
              "      <td>404.0</td>\n",
              "      <td>22.395050</td>\n",
              "      <td>9.210442</td>\n",
              "      <td>5.00000</td>\n",
              "      <td>16.675000</td>\n",
              "      <td>20.75000</td>\n",
              "      <td>24.800000</td>\n",
              "      <td>50.0000</td>\n",
              "    </tr>\n",
              "  </tbody>\n",
              "</table>\n",
              "</div>"
            ],
            "text/plain": [
              "         count        mean         std        min         25%        50%  \\\n",
              "CRIM     404.0    3.745111    9.240734    0.00632    0.081437    0.26888   \n",
              "ZN       404.0   11.480198   23.767711    0.00000    0.000000    0.00000   \n",
              "INDUS    404.0   11.104431    6.811308    0.46000    5.130000    9.69000   \n",
              "CHAS     404.0    0.061881    0.241238    0.00000    0.000000    0.00000   \n",
              "NOX      404.0    0.557356    0.117293    0.38500    0.453000    0.53800   \n",
              "RM       404.0    6.267082    0.709788    3.56100    5.874750    6.19850   \n",
              "AGE      404.0   69.010644   27.940665    2.90000   45.475000   78.50000   \n",
              "DIS      404.0    3.740271    2.030215    1.12960    2.077100    3.14230   \n",
              "RAD      404.0    9.440594    8.698360    1.00000    4.000000    5.00000   \n",
              "TAX      404.0  405.898515  166.374543  188.00000  279.000000  330.00000   \n",
              "PTRATIO  404.0   18.475990    2.200382   12.60000   17.225000   19.10000   \n",
              "B        404.0  354.783168   94.111148    0.32000  374.672500  391.25000   \n",
              "LSTAT    404.0   12.740817    7.254545    1.73000    6.890000   11.39500   \n",
              "PRICE    404.0   22.395050    9.210442    5.00000   16.675000   20.75000   \n",
              "\n",
              "                75%       max  \n",
              "CRIM       3.674808   88.9762  \n",
              "ZN        12.500000  100.0000  \n",
              "INDUS     18.100000   27.7400  \n",
              "CHAS       0.000000    1.0000  \n",
              "NOX        0.631000    0.8710  \n",
              "RM         6.609000    8.7250  \n",
              "AGE       94.100000  100.0000  \n",
              "DIS        5.118000   10.7103  \n",
              "RAD       24.000000   24.0000  \n",
              "TAX      666.000000  711.0000  \n",
              "PTRATIO   20.200000   22.0000  \n",
              "B        396.157500  396.9000  \n",
              "LSTAT     17.092500   37.9700  \n",
              "PRICE     24.800000   50.0000  "
            ]
          },
          "execution_count": 5,
          "metadata": {},
          "output_type": "execute_result"
        }
      ],
      "source": [
        "train_stats = df.describe()\n",
        "train_stats.transpose()"
      ]
    },
    {
      "cell_type": "markdown",
      "id": "32d81437",
      "metadata": {
        "id": "32d81437"
      },
      "source": [
        "seaborn의 [pairplot](https://seaborn.pydata.org/generated/seaborn.pairplot.html)을 사용해서 몇몇 조합의의 산포도를 그려보겠습니다.  \n",
        "주택가격 예측이 목적이므로 맨 오른쪽 열을 순서대로 해석해보죠.\n",
        "- 대부분 범죄율(CRIM)이 낮지만 왼쪽 위에 점이 몇개 찍혀 있습니다. 우범지대겠지요. 집값(PRICE)이 낮습니다.\n",
        "- 방 개수(RM)는 집값(PRICE)과 비례합니다.\n",
        "- 하위계층비율(LSTAT)은 집값과 반비례합니다.\n",
        "- 집값(PRICE)의 히스토그램입니다."
      ]
    },
    {
      "cell_type": "code",
      "execution_count": null,
      "id": "63165734",
      "metadata": {
        "id": "63165734",
        "outputId": "c395917a-9a18-494f-c5f4-516ea45ab477"
      },
      "outputs": [
        {
          "data": {
            "text/plain": [
              "<seaborn.axisgrid.PairGrid at 0x2aca00e69a0>"
            ]
          },
          "execution_count": 6,
          "metadata": {},
          "output_type": "execute_result"
        },
        {
          "data": {
            "image/png": "[encoded data removed]",
            "text/plain": [
              "<Figure size 720x720 with 20 Axes>"
            ]
          },
          "metadata": {
            "needs_background": "light"
          },
          "output_type": "display_data"
        }
      ],
      "source": [
        "import seaborn as sns\n",
        "sns.pairplot(df[[\"CRIM\",\"RM\",\"LSTAT\",\"PRICE\"]])"
      ]
    },
    {
      "cell_type": "markdown",
      "id": "6c5b7d46",
      "metadata": {
        "id": "6c5b7d46"
      },
      "source": [
        "**[실습1] (5분) 테스트 데이터에 라벨을 추가한 데이터 프레임을 출력하시오.**"
      ]
    },
    {
      "cell_type": "code",
      "execution_count": null,
      "id": "2dc6b37d",
      "metadata": {
        "id": "2dc6b37d",
        "outputId": "fc5a2414-af1c-4ec2-ab97-58b537a8a013"
      },
      "outputs": [
        {
          "data": {
            "text/html": [
              "<div>\n",
              "<style scoped>\n",
              "    .dataframe tbody tr th:only-of-type {\n",
              "        vertical-align: middle;\n",
              "    }\n",
              "\n",
              "    .dataframe tbody tr th {\n",
              "        vertical-align: top;\n",
              "    }\n",
              "\n",
              "    .dataframe thead th {\n",
              "        text-align: right;\n",
              "    }\n",
              "</style>\n",
              "<table border=\"1\" class=\"dataframe\">\n",
              "  <thead>\n",
              "    <tr style=\"text-align: right;\">\n",
              "      <th></th>\n",
              "      <th>CRIM</th>\n",
              "      <th>ZN</th>\n",
              "      <th>INDUS</th>\n",
              "      <th>CHAS</th>\n",
              "      <th>NOX</th>\n",
              "      <th>RM</th>\n",
              "      <th>AGE</th>\n",
              "      <th>DIS</th>\n",
              "      <th>RAD</th>\n",
              "      <th>TAX</th>\n",
              "      <th>PTRATIO</th>\n",
              "      <th>B</th>\n",
              "      <th>LSTAT</th>\n",
              "      <th>PRICE</th>\n",
              "    </tr>\n",
              "  </thead>\n",
              "  <tbody>\n",
              "    <tr>\n",
              "      <th>0</th>\n",
              "      <td>18.08460</td>\n",
              "      <td>0.0</td>\n",
              "      <td>18.10</td>\n",
              "      <td>0.0</td>\n",
              "      <td>0.679</td>\n",
              "      <td>6.434</td>\n",
              "      <td>100.0</td>\n",
              "      <td>1.8347</td>\n",
              "      <td>24.0</td>\n",
              "      <td>666.0</td>\n",
              "      <td>20.2</td>\n",
              "      <td>27.25</td>\n",
              "      <td>29.05</td>\n",
              "      <td>7.2</td>\n",
              "    </tr>\n",
              "    <tr>\n",
              "      <th>1</th>\n",
              "      <td>0.12329</td>\n",
              "      <td>0.0</td>\n",
              "      <td>10.01</td>\n",
              "      <td>0.0</td>\n",
              "      <td>0.547</td>\n",
              "      <td>5.913</td>\n",
              "      <td>92.9</td>\n",
              "      <td>2.3534</td>\n",
              "      <td>6.0</td>\n",
              "      <td>432.0</td>\n",
              "      <td>17.8</td>\n",
              "      <td>394.95</td>\n",
              "      <td>16.21</td>\n",
              "      <td>18.8</td>\n",
              "    </tr>\n",
              "    <tr>\n",
              "      <th>2</th>\n",
              "      <td>0.05497</td>\n",
              "      <td>0.0</td>\n",
              "      <td>5.19</td>\n",
              "      <td>0.0</td>\n",
              "      <td>0.515</td>\n",
              "      <td>5.985</td>\n",
              "      <td>45.4</td>\n",
              "      <td>4.8122</td>\n",
              "      <td>5.0</td>\n",
              "      <td>224.0</td>\n",
              "      <td>20.2</td>\n",
              "      <td>396.90</td>\n",
              "      <td>9.74</td>\n",
              "      <td>19.0</td>\n",
              "    </tr>\n",
              "    <tr>\n",
              "      <th>3</th>\n",
              "      <td>1.27346</td>\n",
              "      <td>0.0</td>\n",
              "      <td>19.58</td>\n",
              "      <td>1.0</td>\n",
              "      <td>0.605</td>\n",
              "      <td>6.250</td>\n",
              "      <td>92.6</td>\n",
              "      <td>1.7984</td>\n",
              "      <td>5.0</td>\n",
              "      <td>403.0</td>\n",
              "      <td>14.7</td>\n",
              "      <td>338.92</td>\n",
              "      <td>5.50</td>\n",
              "      <td>27.0</td>\n",
              "    </tr>\n",
              "    <tr>\n",
              "      <th>4</th>\n",
              "      <td>0.07151</td>\n",
              "      <td>0.0</td>\n",
              "      <td>4.49</td>\n",
              "      <td>0.0</td>\n",
              "      <td>0.449</td>\n",
              "      <td>6.121</td>\n",
              "      <td>56.8</td>\n",
              "      <td>3.7476</td>\n",
              "      <td>3.0</td>\n",
              "      <td>247.0</td>\n",
              "      <td>18.5</td>\n",
              "      <td>395.15</td>\n",
              "      <td>8.44</td>\n",
              "      <td>22.2</td>\n",
              "    </tr>\n",
              "    <tr>\n",
              "      <th>...</th>\n",
              "      <td>...</td>\n",
              "      <td>...</td>\n",
              "      <td>...</td>\n",
              "      <td>...</td>\n",
              "      <td>...</td>\n",
              "      <td>...</td>\n",
              "      <td>...</td>\n",
              "      <td>...</td>\n",
              "      <td>...</td>\n",
              "      <td>...</td>\n",
              "      <td>...</td>\n",
              "      <td>...</td>\n",
              "      <td>...</td>\n",
              "      <td>...</td>\n",
              "    </tr>\n",
              "    <tr>\n",
              "      <th>97</th>\n",
              "      <td>3.47428</td>\n",
              "      <td>0.0</td>\n",
              "      <td>18.10</td>\n",
              "      <td>1.0</td>\n",
              "      <td>0.718</td>\n",
              "      <td>8.780</td>\n",
              "      <td>82.9</td>\n",
              "      <td>1.9047</td>\n",
              "      <td>24.0</td>\n",
              "      <td>666.0</td>\n",
              "      <td>20.2</td>\n",
              "      <td>354.55</td>\n",
              "      <td>5.29</td>\n",
              "      <td>21.9</td>\n",
              "    </tr>\n",
              "    <tr>\n",
              "      <th>98</th>\n",
              "      <td>0.07896</td>\n",
              "      <td>0.0</td>\n",
              "      <td>12.83</td>\n",
              "      <td>0.0</td>\n",
              "      <td>0.437</td>\n",
              "      <td>6.273</td>\n",
              "      <td>6.0</td>\n",
              "      <td>4.2515</td>\n",
              "      <td>5.0</td>\n",
              "      <td>398.0</td>\n",
              "      <td>18.7</td>\n",
              "      <td>394.92</td>\n",
              "      <td>6.78</td>\n",
              "      <td>24.1</td>\n",
              "    </tr>\n",
              "    <tr>\n",
              "      <th>99</th>\n",
              "      <td>1.83377</td>\n",
              "      <td>0.0</td>\n",
              "      <td>19.58</td>\n",
              "      <td>1.0</td>\n",
              "      <td>0.605</td>\n",
              "      <td>7.802</td>\n",
              "      <td>98.2</td>\n",
              "      <td>2.0407</td>\n",
              "      <td>5.0</td>\n",
              "      <td>403.0</td>\n",
              "      <td>14.7</td>\n",
              "      <td>389.61</td>\n",
              "      <td>1.92</td>\n",
              "      <td>50.0</td>\n",
              "    </tr>\n",
              "    <tr>\n",
              "      <th>100</th>\n",
              "      <td>0.35809</td>\n",
              "      <td>0.0</td>\n",
              "      <td>6.20</td>\n",
              "      <td>1.0</td>\n",
              "      <td>0.507</td>\n",
              "      <td>6.951</td>\n",
              "      <td>88.5</td>\n",
              "      <td>2.8617</td>\n",
              "      <td>8.0</td>\n",
              "      <td>307.0</td>\n",
              "      <td>17.4</td>\n",
              "      <td>391.70</td>\n",
              "      <td>9.71</td>\n",
              "      <td>26.7</td>\n",
              "    </tr>\n",
              "    <tr>\n",
              "      <th>101</th>\n",
              "      <td>2.92400</td>\n",
              "      <td>0.0</td>\n",
              "      <td>19.58</td>\n",
              "      <td>0.0</td>\n",
              "      <td>0.605</td>\n",
              "      <td>6.101</td>\n",
              "      <td>93.0</td>\n",
              "      <td>2.2834</td>\n",
              "      <td>5.0</td>\n",
              "      <td>403.0</td>\n",
              "      <td>14.7</td>\n",
              "      <td>240.16</td>\n",
              "      <td>9.81</td>\n",
              "      <td>25.0</td>\n",
              "    </tr>\n",
              "  </tbody>\n",
              "</table>\n",
              "<p>102 rows × 14 columns</p>\n",
              "</div>"
            ],
            "text/plain": [
              "         CRIM   ZN  INDUS  CHAS    NOX     RM    AGE     DIS   RAD    TAX  \\\n",
              "0    18.08460  0.0  18.10   0.0  0.679  6.434  100.0  1.8347  24.0  666.0   \n",
              "1     0.12329  0.0  10.01   0.0  0.547  5.913   92.9  2.3534   6.0  432.0   \n",
              "2     0.05497  0.0   5.19   0.0  0.515  5.985   45.4  4.8122   5.0  224.0   \n",
              "3     1.27346  0.0  19.58   1.0  0.605  6.250   92.6  1.7984   5.0  403.0   \n",
              "4     0.07151  0.0   4.49   0.0  0.449  6.121   56.8  3.7476   3.0  247.0   \n",
              "..        ...  ...    ...   ...    ...    ...    ...     ...   ...    ...   \n",
              "97    3.47428  0.0  18.10   1.0  0.718  8.780   82.9  1.9047  24.0  666.0   \n",
              "98    0.07896  0.0  12.83   0.0  0.437  6.273    6.0  4.2515   5.0  398.0   \n",
              "99    1.83377  0.0  19.58   1.0  0.605  7.802   98.2  2.0407   5.0  403.0   \n",
              "100   0.35809  0.0   6.20   1.0  0.507  6.951   88.5  2.8617   8.0  307.0   \n",
              "101   2.92400  0.0  19.58   0.0  0.605  6.101   93.0  2.2834   5.0  403.0   \n",
              "\n",
              "     PTRATIO       B  LSTAT  PRICE  \n",
              "0       20.2   27.25  29.05    7.2  \n",
              "1       17.8  394.95  16.21   18.8  \n",
              "2       20.2  396.90   9.74   19.0  \n",
              "3       14.7  338.92   5.50   27.0  \n",
              "4       18.5  395.15   8.44   22.2  \n",
              "..       ...     ...    ...    ...  \n",
              "97      20.2  354.55   5.29   21.9  \n",
              "98      18.7  394.92   6.78   24.1  \n",
              "99      14.7  389.61   1.92   50.0  \n",
              "100     17.4  391.70   9.71   26.7  \n",
              "101     14.7  240.16   9.81   25.0  \n",
              "\n",
              "[102 rows x 14 columns]"
            ]
          },
          "execution_count": 7,
          "metadata": {},
          "output_type": "execute_result"
        }
      ],
      "source": [
        "df_test = pd.DataFrame(test_data, columns=columns)\n",
        "df_test['PRICE'] = test_targets\n",
        "df_test"
      ]
    },
    {
      "cell_type": "markdown",
      "id": "d5af83d0",
      "metadata": {
        "id": "d5af83d0"
      },
      "source": [
        "각 특성들은 스케일이 매우 다릅니다.  \n",
        "학습시 스케일이 작은 특성은 무시되고 스케일이 큰 특성은 지배적이 됩니다.  \n",
        "결과적으로는 적은 정보를 지닌 데이터로 학습시키는 셈이 됩니다.  \n",
        "이를 방지하기 위해 데이터를 특성별로 정규화해야합니다.  \n",
        "주의할 점은 테스트 데이터를 정규화할 때 훈련 데이터의 평균과 표준편차를 사용한다는 점입니다."
      ]
    },
    {
      "cell_type": "code",
      "execution_count": null,
      "id": "52898061",
      "metadata": {
        "id": "52898061"
      },
      "outputs": [],
      "source": [
        "mean = train_data.mean(axis=0)\n",
        "train_data -= mean\n",
        "std = train_data.std(axis=0)\n",
        "train_data /= std\n",
        "test_data -= mean\n",
        "test_data /= std"
      ]
    },
    {
      "cell_type": "markdown",
      "id": "fc89b9ab",
      "metadata": {
        "id": "fc89b9ab"
      },
      "source": [
        "# 회귀"
      ]
    },
    {
      "cell_type": "markdown",
      "id": "b42e82aa",
      "metadata": {
        "id": "b42e82aa"
      },
      "source": [
        "우리가 여태까지 공부한 문제는 분류(classification)문제입니다.  \n",
        "시험으로 치면 객관식 문제를 푸는 셈이지요.  \n",
        "MNIST, Fashion MNIST는 10지선다 문제를 푸는 셈이고 로이터 뉴스는 46지선다 문제를 푸는 셈이고 IMDB는 OX 문제를 푸는 셈입니다.  \n",
        "분류문제에서는 통상적으로 교차 엔트로피(cross entropy)를 손실함수로 사용합니다. 또한, 평가지표로는 정확도(accuracy)를 사용합니다.  \n",
        "![](https://drive.google.com/thumbnail?id=1wdEkIUaKqrAh76qYB41eKUkEKHergDy0&sz=s4000)\n",
        "\n",
        "---\n",
        "회귀(regression)문제는 시험으로 치면 주관식 문제를 푸는 셈입니다.  \n",
        "내일 더울지 추울지 예측하는 문제는 분류문제이고 내일 기온을 예측하는 문제는 회귀문제입니다.  \n",
        "회귀문제에서는 평가지표로 정확도를 사용해서는 안됩니다.  \n",
        "내일 기온을 칼같이 예측하기는 어려울테니까요.  \n",
        "회귀문제에서는 평가지표로 평균절대오차(Mean Absolute Error)를 사용합니다.  \n",
        "두 벡터 $(x_1,x_2,\\cdots,x_n)$, $(y_1,y_2,\\cdots,y_n)$의 평균절대오차는 이름 그대로 오차의 절대값의 평균 ${\\rm MAE} = {1 \\over n}\\sum_{i=1}^n |y_i-x_i|$으로 정의합니다.  \n",
        "평가시 평균절대오차는 작을수록 좋습니다 (정확도는 클수록 좋았죠).  \n",
        "손실함수는 통상적으로 평균제곱오차(Mean Squared Error)를 사용합니다.  \n",
        "두 벡터 $(x_1,x_2,\\cdots,x_n)$, $(y_1,y_2,\\cdots,y_n)$의 평균제곱오차는 이름 그대로 오차의 제곱의 평균 ${\\rm MSE} = {1 \\over n}\\sum_{i=1}^n (y_i-x_i)^2$으로 정의합니다.  \n",
        "\n",
        "![](https://drive.google.com/thumbnail?id=1kDAhPbUz7_uNGF_sc1HEGcB0EzAd87ik&sz=s4000)\n",
        "\n",
        "---\n",
        "예를 들어, $(1,2,3,4,5)$와 $(3,3,3,3,3)$의 평균절대오차는\n",
        "$$\n",
        "{\\rm MAE} = {1 \\over 5}(|1-3|+|2-3|+|3-3|+|4-3|+|5-3|) = {1 \\over 5}(2+1+0+1+2) = {6 \\over 5}\n",
        "$$\n",
        "이고 평균제곱오차는\n",
        "$$\n",
        "{\\rm MSE} = {1 \\over 5}((1-3)^2+(2-3)^2+(3-3)^2+(4-3)^2+(5-3)^2) = {1 \\over 5}(4+1+0+1+4) = 2\n",
        "$$\n",
        "입니다.  \n",
        "이 예에서 보다시피 분산이 평균분포와의 평균제곱오차입니다.\n",
        "\n",
        "---\n",
        "신경망을 다음과 같이 구성하겠습니다.  \n",
        "입력 뉴런의 수는 데이터의 특성수이고 출력 뉴런의 수는 1입니다.  \n",
        "이진분류에서는 마지막층에서 시그모이드 변환을 했지만 회귀에서는 통상적으로 아무것도 하지 않습니다.  \n",
        "이진분류에서는 확률을 출력해야 하니까 시그모이드 변환을 했지만 주택가격은 0가 1사이에 있을 필요가 없으니까요.  \n",
        "[compile](https://www.tensorflow.org/api_docs/python/tf/keras/Sequential#compile) 메서드에서 `loss=\"mse\"`로 손실함수를 평균제곱오차로 설정하고 `metrics=\"mae\"`로 평가지표를 평균절대오차로 설정합니다.  \n",
        "앞으로 신경망을 반복해서 초기화할거라서 아예 신경망을 생성하는 함수를 만들어 놓겠습니다.  \n",
        "![](https://drive.google.com/thumbnail?id=1di1n97y6s1Fbsr-B-9wl-m1onhdlt_w6&sz=s4000)\n",
        "\n",
        "---\n",
        "신경망의 출력값이 $x_1$이고 라벨이 $y_1$이라면 평균제곱오차는 $(x_1-y_1)^2$이고 평균절대오차는 $|x_1-y_2|$입니다.  \n",
        "$n$개의 배치묶음이 입력되어 출력값이 $x_1,x_2,\\cdots,x_n$이고 라벨이 $y_1,\\cdots,y_n$이라면 평균을 하게 되어 ${1 \\over n}\\sum_{i=1}^n (y_i-x_i)^2$와 ${1 \\over n}\\sum_{i=1}^n |y_i-x_i|$이 나옵니다.  \n",
        "다시말해 배치묶음을 입력하면 두 벡터 $(x_1,x_2,\\cdots,x_n)$, $(y_1,y_2,\\cdots,y_n)$의 평균제곱오차와 평균절대오차가 됩니다.\n",
        "\n",
        "---\n",
        "입력데이터는 파란색입니다.  \n",
        "이를 입력받아서 역전파를 통해 가급적 빨간색과 비슷한 값을 신경망이 출력할 수 있도록 파라미터들을 업데이트합니다.  \n",
        "![](https://drive.google.com/thumbnail?id=1VytfDs5vZowI7e6GjRX40ZPPqrMvHTg4&sz=s4000)"
      ]
    },
    {
      "cell_type": "code",
      "execution_count": null,
      "id": "31157f82",
      "metadata": {
        "id": "31157f82",
        "outputId": "3f265f19-cc8c-4d75-b63b-99def6770def"
      },
      "outputs": [
        {
          "data": {
            "image/png": "[encoded data removed]",
            "text/plain": [
              "<IPython.core.display.Image object>"
            ]
          },
          "execution_count": 10,
          "metadata": {},
          "output_type": "execute_result"
        }
      ],
      "source": [
        "from keras import models\n",
        "from keras.layers import Dense\n",
        "from tensorflow.keras.utils import plot_model\n",
        "\n",
        "def build_model():\n",
        "    model = keras.Sequential([\n",
        "        Dense(64, input_shape=(13,), activation=\"relu\"),\n",
        "        Dense(64, activation=\"relu\"),\n",
        "        Dense(1)\n",
        "    ])\n",
        "    model.compile(optimizer=\"rmsprop\", loss=\"mse\", metrics=[\"mae\"])\n",
        "    return model\n",
        "\n",
        "model=build_model()\n",
        "plot_model(model, show_shapes=True, show_layer_activations=True)"
      ]
    },
    {
      "cell_type": "markdown",
      "id": "31e71034",
      "metadata": {
        "id": "31e71034"
      },
      "source": [
        "# K-겹 검증 (K-fold Validation)"
      ]
    },
    {
      "cell_type": "markdown",
      "id": "fe76f40e",
      "metadata": {
        "id": "fe76f40e"
      },
      "source": [
        "훈련 데이터가 404개 밖에 없습니다.  \n",
        "하이퍼 파라미터 탐색을 위해 훈련데이터와 검증데이터로 분할해야 하는데 데이터가 적어서 검증데이터에 적은 양을 할당할 수 밖에 없습니다.  \n",
        "적은 양때문에 샘플링 편차가 커서 검증 결과를 믿을 수가 없습니다.  \n",
        "이럴때 쓰는 방법이 K-겹 검증입니다.  \n",
        "훈련 데이터를 K-등분한 후 하나를 검증데이터로 사용합니다.  \n",
        "이렇게 얻은 K개의 검증결과를 평균합니다.  \n",
        "---\n",
        "4겹 검증 코드입니다.  \n",
        "훈련 데이터의 개수가 404개이므로 `num_val_samples`는 101입니다.  \n",
        "훈련데이터를 4등분해서 그중에 i번째 블럭(그림에서 파란 부분)을 뽑아내서 `val_data`라고 둡니다.  \n",
        "i번째 블럭의 왼쪽 블럭과 오른쪽 블럭(그림에서 녹색부분)을 `np.concatenate`를 이용해 합쳐서 `partial_train_data`를 만듭니다.  \n",
        "행렬 2개를 합치는 것이므로 옆으로 붙일지 위아래로 붙일지를 명시해야 합니다.  \n",
        "위아래로 붙여야 하므로 `axis=0`으로 설정합니다.  \n",
        "위에서 정의한 함수로 모델을 만든후 `partial_train_data`로 훈련시킵니다.  \n",
        "`val_data`로 성능을 평가해 평균절대오차를 `all_scores`에 추가합니다."
      ]
    },
    {
      "cell_type": "code",
      "execution_count": null,
      "id": "9096a54a",
      "metadata": {
        "id": "9096a54a",
        "outputId": "f8531ba5-f702-466a-95de-43d832a6d2c2"
      },
      "outputs": [
        {
          "name": "stdout",
          "output_type": "stream",
          "text": [
            "Processing fold #0\n",
            "Processing fold #1\n",
            "Processing fold #2\n",
            "Processing fold #3\n"
          ]
        }
      ],
      "source": [
        "import numpy as np\n",
        "\n",
        "k = 4\n",
        "num_val_samples = len(train_data) // k\n",
        "num_epochs = 100\n",
        "all_scores = []\n",
        "for i in range(k):\n",
        "    print(f\"Processing fold #{i}\")\n",
        "    val_data = train_data[i * num_val_samples: (i + 1) * num_val_samples]\n",
        "    val_targets = train_targets[i * num_val_samples: (i + 1) * num_val_samples]\n",
        "    partial_train_data = np.concatenate(\n",
        "        [train_data[:i * num_val_samples],\n",
        "         train_data[(i + 1) * num_val_samples:]],\n",
        "        axis=0)\n",
        "    partial_train_targets = np.concatenate(\n",
        "        [train_targets[:i * num_val_samples],\n",
        "         train_targets[(i + 1) * num_val_samples:]])\n",
        "    model = build_model()\n",
        "    model.fit(partial_train_data, partial_train_targets,\n",
        "              epochs=num_epochs, batch_size=16, verbose=0)\n",
        "    val_mse, val_mae = model.evaluate(val_data, val_targets, verbose=0)\n",
        "    all_scores.append(val_mae)"
      ]
    },
    {
      "cell_type": "markdown",
      "id": "1e3676a6",
      "metadata": {
        "id": "1e3676a6"
      },
      "source": [
        "샘플링 수가 적어서 편차가 꽤 되네요."
      ]
    },
    {
      "cell_type": "code",
      "execution_count": null,
      "id": "2a1703a1",
      "metadata": {
        "id": "2a1703a1",
        "outputId": "2b93082d-1f45-4b4a-e01d-57dc75a0d155"
      },
      "outputs": [
        {
          "name": "stdout",
          "output_type": "stream",
          "text": [
            "[2.000824213027954, 2.668091058731079, 2.5225865840911865, 2.4524617195129395]\n"
          ]
        }
      ],
      "source": [
        "print(all_scores)"
      ]
    },
    {
      "cell_type": "markdown",
      "id": "14f9a42d",
      "metadata": {
        "id": "14f9a42d"
      },
      "source": [
        "넷을 평균하면 더 신뢰할 수 있습니다.  \n",
        "K-겹 검증을 하는 이유입니다."
      ]
    },
    {
      "cell_type": "code",
      "execution_count": null,
      "id": "6c668c07",
      "metadata": {
        "id": "6c668c07",
        "outputId": "10bf560d-cb17-4ef0-c194-97e1d629b03c"
      },
      "outputs": [
        {
          "name": "stdout",
          "output_type": "stream",
          "text": [
            "2.41099089384079\n"
          ]
        }
      ],
      "source": [
        "print(np.mean(all_scores))"
      ]
    },
    {
      "cell_type": "markdown",
      "id": "3e213c6d",
      "metadata": {
        "id": "3e213c6d"
      },
      "source": [
        "본격적으로 K-겹 검증을 사용해서 최적의 학습회수를 찾겠습니다.  \n",
        "오랫동안 훈련시켜서 과적합을 일으킵니다.  \n",
        "한참 걸리니 잠시 쉬었다 오세요.  \n",
        "`mae_history`는 에퍽이 끝날때마다 검증데이터로 측정한 평균절대오차들을 모아놓은 리스트\n",
        "$$\n",
        "[a_1, a_2, \\cdots, a_{500}]\n",
        "$$\n",
        "입니다.  \n",
        "모델이 4개이므로 `mae_history`도 4개가 나올텐데 `all_mae_histories`는 이들로 이루어진 리스트\n",
        "$$\n",
        "[[a_1, a_2, \\cdots, a_{500}], [b_1, b_2, \\cdots, b_{500}], [c_1, c_2, \\cdots, c_{500}], [d_1, d_2, \\cdots, d_{500}]]\n",
        "$$\n",
        "입니다."
      ]
    },
    {
      "cell_type": "code",
      "execution_count": null,
      "id": "f28e4d8c",
      "metadata": {
        "scrolled": true,
        "id": "f28e4d8c",
        "outputId": "7f32f781-7976-4a42-b0e0-250272d992fb"
      },
      "outputs": [
        {
          "name": "stdout",
          "output_type": "stream",
          "text": [
            "Processing fold #0\n",
            "Processing fold #1\n",
            "Processing fold #2\n",
            "Processing fold #3\n"
          ]
        }
      ],
      "source": [
        "num_epochs = 500\n",
        "all_mae_histories = []\n",
        "for i in range(k):\n",
        "    print(f\"Processing fold #{i}\")\n",
        "    val_data = train_data[i * num_val_samples: (i + 1) * num_val_samples]\n",
        "    val_targets = train_targets[i * num_val_samples: (i + 1) * num_val_samples]\n",
        "    partial_train_data = np.concatenate(\n",
        "        [train_data[:i * num_val_samples],\n",
        "         train_data[(i + 1) * num_val_samples:]],\n",
        "        axis=0)\n",
        "    partial_train_targets = np.concatenate(\n",
        "        [train_targets[:i * num_val_samples],\n",
        "         train_targets[(i + 1) * num_val_samples:]])\n",
        "    model = build_model()\n",
        "    history = model.fit(partial_train_data, partial_train_targets,\n",
        "                        validation_data=(val_data, val_targets),\n",
        "                        epochs=num_epochs, batch_size=16, verbose=0)\n",
        "    mae_history = history.history[\"val_mae\"]\n",
        "    all_mae_histories.append(mae_history)"
      ]
    },
    {
      "cell_type": "markdown",
      "id": "e0a0061b",
      "metadata": {
        "id": "e0a0061b"
      },
      "source": [
        "각 에퍽별로 4개의 평균절대오차를 평균합니다.  \n",
        "`average_mae_history`는 에퍽이 끝날때마다 측정한 4개 모델의 평균절대오차들의 평균을 모아놓은 리스트\n",
        "$$\n",
        "[{a_1+b_1+c_1+d_1 \\over 4}, {a_2+b_2+c_2+d_2 \\over 4}, \\cdots, {a_{500}+b_{500}+c_{500}+d_{500} \\over 4}]\n",
        "$$\n",
        "입니다."
      ]
    },
    {
      "cell_type": "code",
      "execution_count": null,
      "id": "967d58ce",
      "metadata": {
        "id": "967d58ce"
      },
      "outputs": [],
      "source": [
        "average_mae_history = [np.mean([x[i] for x in all_mae_histories]) for i in range(num_epochs)]"
      ]
    },
    {
      "cell_type": "markdown",
      "id": "6fc4e9f3",
      "metadata": {
        "id": "6fc4e9f3"
      },
      "source": [
        "그래프를 그려보면 초반 평균절대오차가 너무 커서 언제부터 과적합이 일어나는지 눈으로 확인이 어렵습니다."
      ]
    },
    {
      "cell_type": "code",
      "execution_count": null,
      "id": "cb73f011",
      "metadata": {
        "id": "cb73f011",
        "outputId": "c7a59ac6-98e8-42a0-a570-3d0720d2fae6"
      },
      "outputs": [
        {
          "data": {
            "image/png": "[encoded data removed]",
            "text/plain": [
              "<Figure size 432x288 with 1 Axes>"
            ]
          },
          "metadata": {
            "needs_background": "light"
          },
          "output_type": "display_data"
        }
      ],
      "source": [
        "import matplotlib.pyplot as plt\n",
        "\n",
        "plt.plot(range(1, len(average_mae_history) + 1), average_mae_history)\n",
        "plt.xlabel(\"Epochs\")\n",
        "plt.ylabel(\"Validation MAE\")\n",
        "plt.show()"
      ]
    },
    {
      "cell_type": "markdown",
      "id": "9b284e0c",
      "metadata": {
        "id": "9b284e0c"
      },
      "source": [
        "지나치게 큰 초반 10에퍽은 제외하겠습니다.  \n",
        "변동이 크지만 대략 130에퍽부터 과적합이 시작되네요."
      ]
    },
    {
      "cell_type": "code",
      "execution_count": null,
      "id": "b5c01ecf",
      "metadata": {
        "id": "b5c01ecf",
        "outputId": "1eec36d7-ad9b-4b88-efc5-615e4a865b2d"
      },
      "outputs": [
        {
          "data": {
            "image/png": "[encoded data removed]",
            "text/plain": [
              "<Figure size 432x288 with 1 Axes>"
            ]
          },
          "metadata": {
            "needs_background": "light"
          },
          "output_type": "display_data"
        }
      ],
      "source": [
        "truncated_mae_history = average_mae_history[10:]\n",
        "plt.plot(range(1, len(truncated_mae_history) + 1), truncated_mae_history)\n",
        "plt.xlabel(\"Epochs\")\n",
        "plt.ylabel(\"Validation MAE\")\n",
        "plt.show()"
      ]
    },
    {
      "cell_type": "markdown",
      "id": "fc964251",
      "metadata": {
        "id": "fc964251"
      },
      "source": [
        "# 학습, 평가, 예측"
      ]
    },
    {
      "cell_type": "markdown",
      "id": "a37dfcfa",
      "metadata": {
        "id": "a37dfcfa"
      },
      "source": [
        "훈련 데이터 전체를 사용해 130에퍽동안 훈련시키겠습니다."
      ]
    },
    {
      "cell_type": "code",
      "execution_count": null,
      "id": "47c0d410",
      "metadata": {
        "id": "47c0d410",
        "outputId": "ba6aedce-f1f8-4f44-88e4-487c13d24c48"
      },
      "outputs": [
        {
          "name": "stdout",
          "output_type": "stream",
          "text": [
            "\u001b[1m4/4\u001b[0m \u001b[32m━━━━━━━━━━━━━━━━━━━━\u001b[0m\u001b[37m\u001b[0m \u001b[1m0s\u001b[0m 2ms/step - loss: 9.4342 - mae: 2.1129 \n"
          ]
        }
      ],
      "source": [
        "model = build_model()\n",
        "model.fit(train_data, train_targets,\n",
        "          epochs=130, batch_size=16, verbose=0)\n",
        "test_mse_score, test_mae_score = model.evaluate(test_data, test_targets)"
      ]
    },
    {
      "cell_type": "markdown",
      "id": "c8db07f9",
      "metadata": {
        "id": "c8db07f9"
      },
      "source": [
        "학습할때마다 달라지지만 테스트 데이터로 확인한 최종 평균절대오차는 대략 2,600달러 정도네요."
      ]
    },
    {
      "cell_type": "code",
      "execution_count": null,
      "id": "ff12027f",
      "metadata": {
        "id": "ff12027f",
        "outputId": "cf0f3af5-957c-442a-fe02-543e1c3db923"
      },
      "outputs": [
        {
          "data": {
            "text/plain": [
              "2.305295705795288"
            ]
          },
          "execution_count": 19,
          "metadata": {},
          "output_type": "execute_result"
        }
      ],
      "source": [
        "test_mae_score"
      ]
    },
    {
      "cell_type": "markdown",
      "id": "b3e9ce5e",
      "metadata": {
        "id": "b3e9ce5e"
      },
      "source": [
        "첫번째 테스트 데이터에 대한 예측가격과 실제가격입니다.  \n",
        "학습할때마다 오차는 달라집니다."
      ]
    },
    {
      "cell_type": "code",
      "execution_count": null,
      "id": "ecef5d64",
      "metadata": {
        "id": "ecef5d64",
        "outputId": "802aad37-1211-48ba-f9f0-6adf28213a98"
      },
      "outputs": [
        {
          "name": "stdout",
          "output_type": "stream",
          "text": [
            "\u001b[1m4/4\u001b[0m \u001b[32m━━━━━━━━━━━━━━━━━━━━\u001b[0m\u001b[37m\u001b[0m \u001b[1m0s\u001b[0m 8ms/step \n",
            "예측가격 : [8.191982]\n",
            "실제가격 : 7.2\n"
          ]
        }
      ],
      "source": [
        "predictions = model.predict(test_data)\n",
        "print(f\"예측가격 : {predictions[0]}\")\n",
        "print(f\"실제가격 : {test_targets[0]}\")"
      ]
    },
    {
      "cell_type": "markdown",
      "id": "a0f32b06",
      "metadata": {
        "id": "a0f32b06"
      },
      "source": [
        "**[실습2] (5분) 1번 문제에서 구한 데이터프레임에 신경망의 예측값을 추가해서 출력하시오.**"
      ]
    },
    {
      "cell_type": "code",
      "execution_count": null,
      "id": "6f20c956",
      "metadata": {
        "id": "6f20c956",
        "outputId": "bae7a28f-949d-498e-bf0d-c263590abd15"
      },
      "outputs": [
        {
          "data": {
            "text/html": [
              "<div>\n",
              "<style scoped>\n",
              "    .dataframe tbody tr th:only-of-type {\n",
              "        vertical-align: middle;\n",
              "    }\n",
              "\n",
              "    .dataframe tbody tr th {\n",
              "        vertical-align: top;\n",
              "    }\n",
              "\n",
              "    .dataframe thead th {\n",
              "        text-align: right;\n",
              "    }\n",
              "</style>\n",
              "<table border=\"1\" class=\"dataframe\">\n",
              "  <thead>\n",
              "    <tr style=\"text-align: right;\">\n",
              "      <th></th>\n",
              "      <th>CRIM</th>\n",
              "      <th>ZN</th>\n",
              "      <th>INDUS</th>\n",
              "      <th>CHAS</th>\n",
              "      <th>NOX</th>\n",
              "      <th>RM</th>\n",
              "      <th>AGE</th>\n",
              "      <th>DIS</th>\n",
              "      <th>RAD</th>\n",
              "      <th>TAX</th>\n",
              "      <th>PTRATIO</th>\n",
              "      <th>B</th>\n",
              "      <th>LSTAT</th>\n",
              "      <th>PRICE</th>\n",
              "      <th>PRED</th>\n",
              "    </tr>\n",
              "  </thead>\n",
              "  <tbody>\n",
              "    <tr>\n",
              "      <th>0</th>\n",
              "      <td>1.554</td>\n",
              "      <td>-0.484</td>\n",
              "      <td>1.028</td>\n",
              "      <td>-0.257</td>\n",
              "      <td>1.038</td>\n",
              "      <td>0.235</td>\n",
              "      <td>1.110</td>\n",
              "      <td>-0.940</td>\n",
              "      <td>1.676</td>\n",
              "      <td>1.565</td>\n",
              "      <td>0.784</td>\n",
              "      <td>-3.485</td>\n",
              "      <td>2.251</td>\n",
              "      <td>7.2</td>\n",
              "      <td>8.192000</td>\n",
              "    </tr>\n",
              "    <tr>\n",
              "      <th>1</th>\n",
              "      <td>-0.392</td>\n",
              "      <td>-0.484</td>\n",
              "      <td>-0.161</td>\n",
              "      <td>-0.257</td>\n",
              "      <td>-0.088</td>\n",
              "      <td>-0.499</td>\n",
              "      <td>0.856</td>\n",
              "      <td>-0.684</td>\n",
              "      <td>-0.396</td>\n",
              "      <td>0.157</td>\n",
              "      <td>-0.308</td>\n",
              "      <td>0.427</td>\n",
              "      <td>0.479</td>\n",
              "      <td>18.8</td>\n",
              "      <td>18.840000</td>\n",
              "    </tr>\n",
              "    <tr>\n",
              "      <th>2</th>\n",
              "      <td>-0.400</td>\n",
              "      <td>-0.484</td>\n",
              "      <td>-0.869</td>\n",
              "      <td>-0.257</td>\n",
              "      <td>-0.362</td>\n",
              "      <td>-0.398</td>\n",
              "      <td>-0.846</td>\n",
              "      <td>0.529</td>\n",
              "      <td>-0.511</td>\n",
              "      <td>-1.095</td>\n",
              "      <td>0.784</td>\n",
              "      <td>0.448</td>\n",
              "      <td>-0.414</td>\n",
              "      <td>19.0</td>\n",
              "      <td>21.056000</td>\n",
              "    </tr>\n",
              "    <tr>\n",
              "      <th>3</th>\n",
              "      <td>-0.268</td>\n",
              "      <td>-0.484</td>\n",
              "      <td>1.246</td>\n",
              "      <td>3.894</td>\n",
              "      <td>0.407</td>\n",
              "      <td>-0.024</td>\n",
              "      <td>0.845</td>\n",
              "      <td>-0.958</td>\n",
              "      <td>-0.511</td>\n",
              "      <td>-0.017</td>\n",
              "      <td>-1.718</td>\n",
              "      <td>-0.169</td>\n",
              "      <td>-0.999</td>\n",
              "      <td>27.0</td>\n",
              "      <td>31.877001</td>\n",
              "    </tr>\n",
              "    <tr>\n",
              "      <th>4</th>\n",
              "      <td>-0.398</td>\n",
              "      <td>-0.484</td>\n",
              "      <td>-0.972</td>\n",
              "      <td>-0.257</td>\n",
              "      <td>-0.925</td>\n",
              "      <td>-0.206</td>\n",
              "      <td>-0.438</td>\n",
              "      <td>0.004</td>\n",
              "      <td>-0.741</td>\n",
              "      <td>-0.956</td>\n",
              "      <td>0.011</td>\n",
              "      <td>0.429</td>\n",
              "      <td>-0.594</td>\n",
              "      <td>22.2</td>\n",
              "      <td>24.347000</td>\n",
              "    </tr>\n",
              "    <tr>\n",
              "      <th>...</th>\n",
              "      <td>...</td>\n",
              "      <td>...</td>\n",
              "      <td>...</td>\n",
              "      <td>...</td>\n",
              "      <td>...</td>\n",
              "      <td>...</td>\n",
              "      <td>...</td>\n",
              "      <td>...</td>\n",
              "      <td>...</td>\n",
              "      <td>...</td>\n",
              "      <td>...</td>\n",
              "      <td>...</td>\n",
              "      <td>...</td>\n",
              "      <td>...</td>\n",
              "      <td>...</td>\n",
              "    </tr>\n",
              "    <tr>\n",
              "      <th>97</th>\n",
              "      <td>-0.029</td>\n",
              "      <td>-0.484</td>\n",
              "      <td>1.028</td>\n",
              "      <td>3.894</td>\n",
              "      <td>1.371</td>\n",
              "      <td>3.545</td>\n",
              "      <td>0.498</td>\n",
              "      <td>-0.905</td>\n",
              "      <td>1.676</td>\n",
              "      <td>1.565</td>\n",
              "      <td>0.784</td>\n",
              "      <td>-0.002</td>\n",
              "      <td>-1.028</td>\n",
              "      <td>21.9</td>\n",
              "      <td>40.831001</td>\n",
              "    </tr>\n",
              "    <tr>\n",
              "      <th>98</th>\n",
              "      <td>-0.397</td>\n",
              "      <td>-0.484</td>\n",
              "      <td>0.254</td>\n",
              "      <td>-0.257</td>\n",
              "      <td>-1.027</td>\n",
              "      <td>0.008</td>\n",
              "      <td>-2.258</td>\n",
              "      <td>0.252</td>\n",
              "      <td>-0.511</td>\n",
              "      <td>-0.048</td>\n",
              "      <td>0.102</td>\n",
              "      <td>0.427</td>\n",
              "      <td>-0.823</td>\n",
              "      <td>24.1</td>\n",
              "      <td>23.837999</td>\n",
              "    </tr>\n",
              "    <tr>\n",
              "      <th>99</th>\n",
              "      <td>-0.207</td>\n",
              "      <td>-0.484</td>\n",
              "      <td>1.246</td>\n",
              "      <td>3.894</td>\n",
              "      <td>0.407</td>\n",
              "      <td>2.165</td>\n",
              "      <td>1.046</td>\n",
              "      <td>-0.838</td>\n",
              "      <td>-0.511</td>\n",
              "      <td>-0.017</td>\n",
              "      <td>-1.718</td>\n",
              "      <td>0.371</td>\n",
              "      <td>-1.493</td>\n",
              "      <td>50.0</td>\n",
              "      <td>45.289001</td>\n",
              "    </tr>\n",
              "    <tr>\n",
              "      <th>100</th>\n",
              "      <td>-0.367</td>\n",
              "      <td>-0.484</td>\n",
              "      <td>-0.721</td>\n",
              "      <td>3.894</td>\n",
              "      <td>-0.430</td>\n",
              "      <td>0.965</td>\n",
              "      <td>0.698</td>\n",
              "      <td>-0.433</td>\n",
              "      <td>-0.166</td>\n",
              "      <td>-0.595</td>\n",
              "      <td>-0.490</td>\n",
              "      <td>0.393</td>\n",
              "      <td>-0.418</td>\n",
              "      <td>26.7</td>\n",
              "      <td>29.000999</td>\n",
              "    </tr>\n",
              "    <tr>\n",
              "      <th>101</th>\n",
              "      <td>-0.089</td>\n",
              "      <td>-0.484</td>\n",
              "      <td>1.246</td>\n",
              "      <td>-0.257</td>\n",
              "      <td>0.407</td>\n",
              "      <td>-0.234</td>\n",
              "      <td>0.860</td>\n",
              "      <td>-0.718</td>\n",
              "      <td>-0.511</td>\n",
              "      <td>-0.017</td>\n",
              "      <td>-1.718</td>\n",
              "      <td>-1.219</td>\n",
              "      <td>-0.404</td>\n",
              "      <td>25.0</td>\n",
              "      <td>20.084000</td>\n",
              "    </tr>\n",
              "  </tbody>\n",
              "</table>\n",
              "<p>102 rows × 15 columns</p>\n",
              "</div>"
            ],
            "text/plain": [
              "      CRIM     ZN  INDUS   CHAS    NOX     RM    AGE    DIS    RAD    TAX  \\\n",
              "0    1.554 -0.484  1.028 -0.257  1.038  0.235  1.110 -0.940  1.676  1.565   \n",
              "1   -0.392 -0.484 -0.161 -0.257 -0.088 -0.499  0.856 -0.684 -0.396  0.157   \n",
              "2   -0.400 -0.484 -0.869 -0.257 -0.362 -0.398 -0.846  0.529 -0.511 -1.095   \n",
              "3   -0.268 -0.484  1.246  3.894  0.407 -0.024  0.845 -0.958 -0.511 -0.017   \n",
              "4   -0.398 -0.484 -0.972 -0.257 -0.925 -0.206 -0.438  0.004 -0.741 -0.956   \n",
              "..     ...    ...    ...    ...    ...    ...    ...    ...    ...    ...   \n",
              "97  -0.029 -0.484  1.028  3.894  1.371  3.545  0.498 -0.905  1.676  1.565   \n",
              "98  -0.397 -0.484  0.254 -0.257 -1.027  0.008 -2.258  0.252 -0.511 -0.048   \n",
              "99  -0.207 -0.484  1.246  3.894  0.407  2.165  1.046 -0.838 -0.511 -0.017   \n",
              "100 -0.367 -0.484 -0.721  3.894 -0.430  0.965  0.698 -0.433 -0.166 -0.595   \n",
              "101 -0.089 -0.484  1.246 -0.257  0.407 -0.234  0.860 -0.718 -0.511 -0.017   \n",
              "\n",
              "     PTRATIO      B  LSTAT  PRICE       PRED  \n",
              "0      0.784 -3.485  2.251    7.2   8.192000  \n",
              "1     -0.308  0.427  0.479   18.8  18.840000  \n",
              "2      0.784  0.448 -0.414   19.0  21.056000  \n",
              "3     -1.718 -0.169 -0.999   27.0  31.877001  \n",
              "4      0.011  0.429 -0.594   22.2  24.347000  \n",
              "..       ...    ...    ...    ...        ...  \n",
              "97     0.784 -0.002 -1.028   21.9  40.831001  \n",
              "98     0.102  0.427 -0.823   24.1  23.837999  \n",
              "99    -1.718  0.371 -1.493   50.0  45.289001  \n",
              "100   -0.490  0.393 -0.418   26.7  29.000999  \n",
              "101   -1.718 -1.219 -0.404   25.0  20.084000  \n",
              "\n",
              "[102 rows x 15 columns]"
            ]
          },
          "execution_count": 21,
          "metadata": {},
          "output_type": "execute_result"
        }
      ],
      "source": [
        "df_test[\"PRED\"]=predictions\n",
        "df_test.round(3)"
      ]
    },
    {
      "cell_type": "markdown",
      "id": "9d8c9d74",
      "metadata": {
        "id": "9d8c9d74"
      },
      "source": [
        "**[실습3] (5분) 실제가격과 예측가격의 산포도를 그리시오. $y=x$의 그래프도 그려넣으시오.**"
      ]
    },
    {
      "cell_type": "code",
      "execution_count": null,
      "id": "ce022953",
      "metadata": {
        "id": "ce022953",
        "outputId": "7e4d49b7-dce0-4713-f262-72f86ff4fb8c"
      },
      "outputs": [
        {
          "data": {
            "image/png": "[encoded data removed]",
            "text/plain": [
              "<Figure size 432x288 with 1 Axes>"
            ]
          },
          "metadata": {
            "needs_background": "light"
          },
          "output_type": "display_data"
        }
      ],
      "source": [
        "plt.scatter(test_targets, predictions)\n",
        "plt.xlabel('True Values')\n",
        "plt.ylabel('Predictions')\n",
        "plt.axis('square')\n",
        "plt.grid()\n",
        "plt.plot([0,60],[0,60],'r')\n",
        "plt.show()"
      ]
    },
    {
      "cell_type": "markdown",
      "id": "28b0771e",
      "metadata": {
        "id": "28b0771e"
      },
      "source": [
        "**[실습4] (5분) (예측가격 - 실제가격)의 히스토그램을 그리시오.**"
      ]
    },
    {
      "cell_type": "code",
      "execution_count": null,
      "id": "b637b126",
      "metadata": {
        "id": "b637b126",
        "outputId": "9c7b5f3d-27b9-4446-903d-7cc4f7cd02bf"
      },
      "outputs": [
        {
          "data": {
            "image/png": "[encoded data removed]",
            "text/plain": [
              "<Figure size 432x288 with 1 Axes>"
            ]
          },
          "metadata": {
            "needs_background": "light"
          },
          "output_type": "display_data"
        }
      ],
      "source": [
        "error = predictions.flatten() - test_targets\n",
        "plt.hist(error, bins=30)\n",
        "plt.xlabel(\"Prediction Error\")\n",
        "plt.ylabel(\"Counts\")\n",
        "plt.show()"
      ]
    },
    {
      "cell_type": "markdown",
      "id": "462d9c65",
      "metadata": {
        "id": "462d9c65"
      },
      "source": [
        "**[실습5] (10분) (i) 앞 8개 특성만 사용해서 훈련시킨후 평가하시오.**"
      ]
    },
    {
      "cell_type": "code",
      "execution_count": null,
      "id": "4584febe",
      "metadata": {
        "id": "4584febe",
        "outputId": "71f4f877-bb9d-4be9-b768-507749fca815"
      },
      "outputs": [
        {
          "name": "stderr",
          "output_type": "stream",
          "text": [
            "C:\\Users\\user\\anaconda3\\lib\\site-packages\\keras\\src\\layers\\core\\dense.py:87: UserWarning: Do not pass an `input_shape`/`input_dim` argument to a layer. When using Sequential models, prefer using an `Input(shape)` object as the first layer in the model instead.\n",
            "  super().__init__(activity_regularizer=activity_regularizer, **kwargs)\n"
          ]
        },
        {
          "name": "stdout",
          "output_type": "stream",
          "text": [
            "\u001b[1m4/4\u001b[0m \u001b[32m━━━━━━━━━━━━━━━━━━━━\u001b[0m\u001b[37m\u001b[0m \u001b[1m0s\u001b[0m 2ms/step - loss: 20.2024 - mae: 3.2430 \n",
            "3.4613635540008545\n"
          ]
        }
      ],
      "source": [
        "train_data_8 = train_data[:,:8]\n",
        "test_data_8 = test_data[:,:8]\n",
        "\n",
        "model_8 = keras.Sequential([\n",
        "        Dense(64, input_shape=(8,), activation=\"relu\"),\n",
        "        Dense(64, activation=\"relu\"),\n",
        "        Dense(1)])\n",
        "\n",
        "model_8.compile(optimizer=\"rmsprop\", loss=\"mse\", metrics=[\"mae\"])\n",
        "\n",
        "model_8.fit(train_data_8, train_targets, epochs=130, batch_size=16, verbose=0)\n",
        "\n",
        "test_mse_score, test_mae_score = model_8.evaluate(test_data_8, test_targets)\n",
        "\n",
        "print(test_mae_score)"
      ]
    },
    {
      "cell_type": "markdown",
      "id": "ef7bca5d",
      "metadata": {
        "id": "ef7bca5d"
      },
      "source": [
        "**(ii) 앞 4개 특성만 사용해서 훈련시킨후 평가하시오.**"
      ]
    },
    {
      "cell_type": "code",
      "execution_count": null,
      "id": "e25e51d2",
      "metadata": {
        "id": "e25e51d2",
        "outputId": "090b8f06-5a5f-4fb2-bd40-7bdabb0e1414"
      },
      "outputs": [
        {
          "name": "stdout",
          "output_type": "stream",
          "text": [
            "\u001b[1m4/4\u001b[0m \u001b[32m━━━━━━━━━━━━━━━━━━━━\u001b[0m\u001b[37m\u001b[0m \u001b[1m0s\u001b[0m 2ms/step - loss: 42.3101 - mae: 4.6013 \n",
            "4.91541862487793\n"
          ]
        }
      ],
      "source": [
        "train_data_4 = train_data[:,:4]\n",
        "test_data_4 = test_data[:,:4]\n",
        "\n",
        "model_4 = keras.Sequential([\n",
        "        Dense(64, input_shape=(4,), activation=\"relu\"),\n",
        "        Dense(64, activation=\"relu\"),\n",
        "        Dense(1)])\n",
        "\n",
        "model_4.compile(optimizer=\"rmsprop\", loss=\"mse\", metrics=[\"mae\"])\n",
        "\n",
        "model_4.fit(train_data_4, train_targets, epochs=130, batch_size=16, verbose=0)\n",
        "\n",
        "test_mse_score, test_mae_score = model_4.evaluate(test_data_4, test_targets)\n",
        "\n",
        "print(test_mae_score)"
      ]
    },
    {
      "cell_type": "markdown",
      "id": "b1edbbe7",
      "metadata": {
        "id": "b1edbbe7"
      },
      "source": [
        "**[과제1] 표준정규분포를 따라 랜덤하게 k개의 노이즈 특성을 만들어 훈련데이터에 추가하시오. 표준정규분포를 따라 랜덤하게 k개의 노이즈 특성을 만들어 테스트 데이터에 추가하시오. 13+k의 특성으로 신경망을 학습시킨후 테스트 데이터로 평균절대오차를 출력하시오. (k=5,10,20)**"
      ]
    },
    {
      "cell_type": "code",
      "execution_count": null,
      "id": "a62f3efb",
      "metadata": {
        "id": "a62f3efb",
        "outputId": "53e54ff2-af39-487b-eeaf-1bd8c58f9edd"
      },
      "outputs": [
        {
          "name": "stdout",
          "output_type": "stream",
          "text": [
            "\u001b[1m4/4\u001b[0m \u001b[32m━━━━━━━━━━━━━━━━━━━━\u001b[0m\u001b[37m\u001b[0m \u001b[1m0s\u001b[0m 2ms/step - loss: 12.6025 - mae: 2.6066\n",
            "2.827920436859131\n",
            "\u001b[1m4/4\u001b[0m \u001b[32m━━━━━━━━━━━━━━━━━━━━\u001b[0m\u001b[37m\u001b[0m \u001b[1m0s\u001b[0m 2ms/step - loss: 20.9684 - mae: 3.4835 \n",
            "3.6562507152557373\n",
            "\u001b[1m4/4\u001b[0m \u001b[32m━━━━━━━━━━━━━━━━━━━━\u001b[0m\u001b[37m\u001b[0m \u001b[1m0s\u001b[0m 1ms/step - loss: 24.4727 - mae: 3.7348 \n",
            "3.89141845703125\n"
          ]
        }
      ],
      "source": [
        "for k in [5,10,20]:\n",
        "    noise_1 = np.random.randn(len(train_data),k)\n",
        "    noise_2 = np.random.randn(len(test_data),k)\n",
        "\n",
        "    train_data_noise = np.concatenate([train_data, noise_1], axis=1)\n",
        "    test_data_noise = np.concatenate([test_data, noise_2], axis=1)\n",
        "\n",
        "    model_noise = keras.Sequential([\n",
        "            Dense(64, input_shape=(13+k,), activation=\"relu\"),\n",
        "            Dense(64, activation=\"relu\"),\n",
        "            Dense(1)])\n",
        "\n",
        "    model_noise.compile(optimizer=\"rmsprop\", loss=\"mse\", metrics=[\"mae\"])\n",
        "\n",
        "    model_noise.fit(train_data_noise, train_targets, epochs=130, batch_size=16, verbose=0)\n",
        "\n",
        "    test_mse_score, test_mae_score = model_noise.evaluate(test_data_noise, test_targets)\n",
        "\n",
        "    print(test_mae_score)"
      ]
    },
    {
      "cell_type": "markdown",
      "id": "37476bd2",
      "metadata": {
        "id": "37476bd2"
      },
      "source": [
        "# 싸이킷런을 이용한 K-겹 검증"
      ]
    },
    {
      "cell_type": "markdown",
      "id": "bdae1db5",
      "metadata": {
        "id": "bdae1db5"
      },
      "source": [
        "[sklearn.model_selection.KFold](https://scikit-learn.org/stable/modules/generated/sklearn.model_selection.KFold.html)를 이용하면 더 편하게 K-겹 검증 코드를 작성할 수 있습니다."
      ]
    },
    {
      "cell_type": "code",
      "execution_count": null,
      "id": "d3cbef69",
      "metadata": {
        "id": "d3cbef69",
        "outputId": "6692bad9-bc95-4921-ae79-4beeef0a761a"
      },
      "outputs": [
        {
          "name": "stderr",
          "output_type": "stream",
          "text": [
            "C:\\Users\\user\\anaconda3\\lib\\site-packages\\keras\\src\\layers\\core\\dense.py:87: UserWarning: Do not pass an `input_shape`/`input_dim` argument to a layer. When using Sequential models, prefer using an `Input(shape)` object as the first layer in the model instead.\n",
            "  super().__init__(activity_regularizer=activity_regularizer, **kwargs)\n"
          ]
        },
        {
          "name": "stdout",
          "output_type": "stream",
          "text": [
            "[2.175179958343506, 2.4763071537017822, 2.4032042026519775, 2.393026113510132]\n",
            "2.3619293570518494\n"
          ]
        }
      ],
      "source": [
        "from sklearn.model_selection import KFold\n",
        "\n",
        "k = 4\n",
        "num_epochs = 100\n",
        "all_scores = []\n",
        "kfold = KFold(n_splits=k)\n",
        "\n",
        "for train_idx, val_idx in kfold.split(train_data):\n",
        "    partial_train_data, val_data = train_data[train_idx], train_data[val_idx]\n",
        "    partial_train_targets, val_targets = train_targets[train_idx], train_targets[val_idx]\n",
        "    model = build_model()\n",
        "    model.fit(partial_train_data, partial_train_targets,\n",
        "              epochs=num_epochs, batch_size=16, verbose=0)\n",
        "    val_mse, val_mae = model.evaluate(val_data, val_targets, verbose=0)\n",
        "    all_scores.append(val_mae)\n",
        "\n",
        "print(all_scores)\n",
        "print(np.mean(all_scores))"
      ]
    },
    {
      "cell_type": "code",
      "execution_count": null,
      "id": "e82a1227",
      "metadata": {
        "id": "e82a1227"
      },
      "outputs": [],
      "source": []
    }
  ],
  "metadata": {
    "kernelspec": {
      "display_name": "Python 3 (ipykernel)",
      "language": "python",
      "name": "python3"
    },
    "language_info": {
      "codemirror_mode": {
        "name": "ipython",
        "version": 3
      },
      "file_extension": ".py",
      "mimetype": "text/x-python",
      "name": "python",
      "nbconvert_exporter": "python",
      "pygments_lexer": "ipython3",
      "version": "3.9.12"
    },
    "colab": {
      "provenance": []
    }
  },
  "nbformat": 4,
  "nbformat_minor": 5
}