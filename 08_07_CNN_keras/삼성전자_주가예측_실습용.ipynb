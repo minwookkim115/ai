{
 "cells": [
  {
   "cell_type": "markdown",
   "id": "a9f00cad",
   "metadata": {},
   "source": [
    "#### 모듈 Import 데이터 불러오기"
   ]
  },
  {
   "cell_type": "code",
   "execution_count": 2,
   "id": "3eb28014",
   "metadata": {},
   "outputs": [
    {
     "data": {
      "text/plain": [
       "(6172, 7)"
      ]
     },
     "execution_count": 2,
     "metadata": {},
     "output_type": "execute_result"
    }
   ],
   "source": [
    "import tensorflow as tf\n",
    "import numpy as np\n",
    "import pandas as pd\n",
    "import matplotlib.pyplot as plt\n",
    "from tensorflow.keras.models import Sequential\n",
    "from tensorflow.keras.layers import Dense, Dropout, LSTM, SimpleRNN, GRU\n",
    "\n",
    "raw_df = pd.read_csv('./005930.KS.csv')\n",
    "raw_df.shape"
   ]
  },
  {
   "cell_type": "code",
   "execution_count": 4,
   "id": "b0f9d144",
   "metadata": {},
   "outputs": [
    {
     "data": {
      "text/html": [
       "<div>\n",
       "<style scoped>\n",
       "    .dataframe tbody tr th:only-of-type {\n",
       "        vertical-align: middle;\n",
       "    }\n",
       "\n",
       "    .dataframe tbody tr th {\n",
       "        vertical-align: top;\n",
       "    }\n",
       "\n",
       "    .dataframe thead th {\n",
       "        text-align: right;\n",
       "    }\n",
       "</style>\n",
       "<table border=\"1\" class=\"dataframe\">\n",
       "  <thead>\n",
       "    <tr style=\"text-align: right;\">\n",
       "      <th></th>\n",
       "      <th>Date</th>\n",
       "      <th>Open</th>\n",
       "      <th>High</th>\n",
       "      <th>Low</th>\n",
       "      <th>Close</th>\n",
       "      <th>Adj Close</th>\n",
       "      <th>Volume</th>\n",
       "    </tr>\n",
       "  </thead>\n",
       "  <tbody>\n",
       "    <tr>\n",
       "      <th>0</th>\n",
       "      <td>2000-01-04</td>\n",
       "      <td>6000.0</td>\n",
       "      <td>6110.0</td>\n",
       "      <td>5660.0</td>\n",
       "      <td>6110.0</td>\n",
       "      <td>4429.950684</td>\n",
       "      <td>74195000</td>\n",
       "    </tr>\n",
       "    <tr>\n",
       "      <th>1</th>\n",
       "      <td>2000-01-05</td>\n",
       "      <td>5800.0</td>\n",
       "      <td>6060.0</td>\n",
       "      <td>5520.0</td>\n",
       "      <td>5580.0</td>\n",
       "      <td>4045.683838</td>\n",
       "      <td>74680000</td>\n",
       "    </tr>\n",
       "    <tr>\n",
       "      <th>2</th>\n",
       "      <td>2000-01-06</td>\n",
       "      <td>5750.0</td>\n",
       "      <td>5780.0</td>\n",
       "      <td>5580.0</td>\n",
       "      <td>5620.0</td>\n",
       "      <td>4074.685059</td>\n",
       "      <td>54390000</td>\n",
       "    </tr>\n",
       "    <tr>\n",
       "      <th>3</th>\n",
       "      <td>2000-01-07</td>\n",
       "      <td>5560.0</td>\n",
       "      <td>5670.0</td>\n",
       "      <td>5360.0</td>\n",
       "      <td>5540.0</td>\n",
       "      <td>4016.685059</td>\n",
       "      <td>40305000</td>\n",
       "    </tr>\n",
       "    <tr>\n",
       "      <th>4</th>\n",
       "      <td>2000-01-10</td>\n",
       "      <td>5600.0</td>\n",
       "      <td>5770.0</td>\n",
       "      <td>5580.0</td>\n",
       "      <td>5770.0</td>\n",
       "      <td>4183.440430</td>\n",
       "      <td>46880000</td>\n",
       "    </tr>\n",
       "  </tbody>\n",
       "</table>\n",
       "</div>"
      ],
      "text/plain": [
       "         Date    Open    High     Low   Close    Adj Close    Volume\n",
       "0  2000-01-04  6000.0  6110.0  5660.0  6110.0  4429.950684  74195000\n",
       "1  2000-01-05  5800.0  6060.0  5520.0  5580.0  4045.683838  74680000\n",
       "2  2000-01-06  5750.0  5780.0  5580.0  5620.0  4074.685059  54390000\n",
       "3  2000-01-07  5560.0  5670.0  5360.0  5540.0  4016.685059  40305000\n",
       "4  2000-01-10  5600.0  5770.0  5580.0  5770.0  4183.440430  46880000"
      ]
     },
     "execution_count": 4,
     "metadata": {},
     "output_type": "execute_result"
    }
   ],
   "source": [
    "raw_df.head()"
   ]
  },
  {
   "cell_type": "markdown",
   "id": "b9328a6d",
   "metadata": {},
   "source": [
    "#### yahoo finance 에서 데이터 다운로드 후 3일(3MA), 5일(5MA) 가격이동평균선 추가"
   ]
  },
  {
   "cell_type": "code",
   "execution_count": 5,
   "id": "8efc006b",
   "metadata": {},
   "outputs": [
    {
     "data": {
      "text/html": [
       "<div>\n",
       "<style scoped>\n",
       "    .dataframe tbody tr th:only-of-type {\n",
       "        vertical-align: middle;\n",
       "    }\n",
       "\n",
       "    .dataframe tbody tr th {\n",
       "        vertical-align: top;\n",
       "    }\n",
       "\n",
       "    .dataframe thead th {\n",
       "        text-align: right;\n",
       "    }\n",
       "</style>\n",
       "<table border=\"1\" class=\"dataframe\">\n",
       "  <thead>\n",
       "    <tr style=\"text-align: right;\">\n",
       "      <th></th>\n",
       "      <th>Date</th>\n",
       "      <th>Open</th>\n",
       "      <th>High</th>\n",
       "      <th>Low</th>\n",
       "      <th>Close</th>\n",
       "      <th>Adj Close</th>\n",
       "      <th>Volume</th>\n",
       "      <th>3MA</th>\n",
       "      <th>5MA</th>\n",
       "    </tr>\n",
       "  </thead>\n",
       "  <tbody>\n",
       "    <tr>\n",
       "      <th>0</th>\n",
       "      <td>2000-01-04</td>\n",
       "      <td>6000.0</td>\n",
       "      <td>6110.0</td>\n",
       "      <td>5660.0</td>\n",
       "      <td>6110.0</td>\n",
       "      <td>4429.950684</td>\n",
       "      <td>74195000</td>\n",
       "      <td>NaN</td>\n",
       "      <td>NaN</td>\n",
       "    </tr>\n",
       "    <tr>\n",
       "      <th>1</th>\n",
       "      <td>2000-01-05</td>\n",
       "      <td>5800.0</td>\n",
       "      <td>6060.0</td>\n",
       "      <td>5520.0</td>\n",
       "      <td>5580.0</td>\n",
       "      <td>4045.683838</td>\n",
       "      <td>74680000</td>\n",
       "      <td>NaN</td>\n",
       "      <td>NaN</td>\n",
       "    </tr>\n",
       "    <tr>\n",
       "      <th>2</th>\n",
       "      <td>2000-01-06</td>\n",
       "      <td>5750.0</td>\n",
       "      <td>5780.0</td>\n",
       "      <td>5580.0</td>\n",
       "      <td>5620.0</td>\n",
       "      <td>4074.685059</td>\n",
       "      <td>54390000</td>\n",
       "      <td>4183.439860</td>\n",
       "      <td>NaN</td>\n",
       "    </tr>\n",
       "    <tr>\n",
       "      <th>3</th>\n",
       "      <td>2000-01-07</td>\n",
       "      <td>5560.0</td>\n",
       "      <td>5670.0</td>\n",
       "      <td>5360.0</td>\n",
       "      <td>5540.0</td>\n",
       "      <td>4016.685059</td>\n",
       "      <td>40305000</td>\n",
       "      <td>4045.684652</td>\n",
       "      <td>NaN</td>\n",
       "    </tr>\n",
       "    <tr>\n",
       "      <th>4</th>\n",
       "      <td>2000-01-10</td>\n",
       "      <td>5600.0</td>\n",
       "      <td>5770.0</td>\n",
       "      <td>5580.0</td>\n",
       "      <td>5770.0</td>\n",
       "      <td>4183.440430</td>\n",
       "      <td>46880000</td>\n",
       "      <td>4091.603516</td>\n",
       "      <td>4150.089014</td>\n",
       "    </tr>\n",
       "  </tbody>\n",
       "</table>\n",
       "</div>"
      ],
      "text/plain": [
       "         Date    Open    High     Low   Close    Adj Close    Volume  \\\n",
       "0  2000-01-04  6000.0  6110.0  5660.0  6110.0  4429.950684  74195000   \n",
       "1  2000-01-05  5800.0  6060.0  5520.0  5580.0  4045.683838  74680000   \n",
       "2  2000-01-06  5750.0  5780.0  5580.0  5620.0  4074.685059  54390000   \n",
       "3  2000-01-07  5560.0  5670.0  5360.0  5540.0  4016.685059  40305000   \n",
       "4  2000-01-10  5600.0  5770.0  5580.0  5770.0  4183.440430  46880000   \n",
       "\n",
       "           3MA          5MA  \n",
       "0          NaN          NaN  \n",
       "1          NaN          NaN  \n",
       "2  4183.439860          NaN  \n",
       "3  4045.684652          NaN  \n",
       "4  4091.603516  4150.089014  "
      ]
     },
     "execution_count": 5,
     "metadata": {},
     "output_type": "execute_result"
    }
   ],
   "source": [
    "raw_df['3MA'] = raw_df['Adj Close'].rolling(window=3).mean()\n",
    "raw_df['5MA'] = raw_df['Adj Close'].rolling(window=5).mean()\n",
    "raw_df.head()"
   ]
  },
  {
   "cell_type": "code",
   "execution_count": 6,
   "id": "b8609614",
   "metadata": {},
   "outputs": [
    {
     "data": {
      "image/png": "[encoded data removed]",
      "text/plain": [
       "<Figure size 640x480 with 1 Axes>"
      ]
     },
     "metadata": {},
     "output_type": "display_data"
    }
   ],
   "source": [
    "plt.title('SAUMSUNG ELECTRONICS STOCK PRICE')\n",
    "plt.ylabel('Price')\n",
    "plt.xlabel('Period')\n",
    "plt.grid()\n",
    "\n",
    "plt.plot(raw_df['Adj Close'], label='Adj Close')\n",
    "plt.show()"
   ]
  },
  {
   "cell_type": "markdown",
   "id": "99b13ee8",
   "metadata": {},
   "source": [
    "#### 데이터 전처리 (Missing Data 처리, 정규화 등)"
   ]
  },
  {
   "cell_type": "code",
   "execution_count": 7,
   "id": "2d5c8a59",
   "metadata": {},
   "outputs": [
    {
     "data": {
      "text/html": [
       "<div>\n",
       "<style scoped>\n",
       "    .dataframe tbody tr th:only-of-type {\n",
       "        vertical-align: middle;\n",
       "    }\n",
       "\n",
       "    .dataframe tbody tr th {\n",
       "        vertical-align: top;\n",
       "    }\n",
       "\n",
       "    .dataframe thead th {\n",
       "        text-align: right;\n",
       "    }\n",
       "</style>\n",
       "<table border=\"1\" class=\"dataframe\">\n",
       "  <thead>\n",
       "    <tr style=\"text-align: right;\">\n",
       "      <th></th>\n",
       "      <th>Open</th>\n",
       "      <th>High</th>\n",
       "      <th>Low</th>\n",
       "      <th>Close</th>\n",
       "      <th>Adj Close</th>\n",
       "      <th>Volume</th>\n",
       "      <th>3MA</th>\n",
       "      <th>5MA</th>\n",
       "    </tr>\n",
       "  </thead>\n",
       "  <tbody>\n",
       "    <tr>\n",
       "      <th>count</th>\n",
       "      <td>6172.000000</td>\n",
       "      <td>6172.000000</td>\n",
       "      <td>6172.000000</td>\n",
       "      <td>6172.000000</td>\n",
       "      <td>6172.000000</td>\n",
       "      <td>6.172000e+03</td>\n",
       "      <td>6170.000000</td>\n",
       "      <td>6168.000000</td>\n",
       "    </tr>\n",
       "    <tr>\n",
       "      <th>mean</th>\n",
       "      <td>28757.817563</td>\n",
       "      <td>29035.654569</td>\n",
       "      <td>28467.208360</td>\n",
       "      <td>28746.882696</td>\n",
       "      <td>24810.522704</td>\n",
       "      <td>2.117354e+07</td>\n",
       "      <td>24805.171950</td>\n",
       "      <td>24800.123467</td>\n",
       "    </tr>\n",
       "    <tr>\n",
       "      <th>std</th>\n",
       "      <td>22959.695704</td>\n",
       "      <td>23139.691270</td>\n",
       "      <td>22758.678867</td>\n",
       "      <td>22936.538437</td>\n",
       "      <td>22396.824150</td>\n",
       "      <td>1.502833e+07</td>\n",
       "      <td>22385.657588</td>\n",
       "      <td>22375.710644</td>\n",
       "    </tr>\n",
       "    <tr>\n",
       "      <th>min</th>\n",
       "      <td>2540.000000</td>\n",
       "      <td>2760.000000</td>\n",
       "      <td>2420.000000</td>\n",
       "      <td>2730.000000</td>\n",
       "      <td>1979.339600</td>\n",
       "      <td>0.000000e+00</td>\n",
       "      <td>2022.841919</td>\n",
       "      <td>2037.342529</td>\n",
       "    </tr>\n",
       "    <tr>\n",
       "      <th>25%</th>\n",
       "      <td>10775.000000</td>\n",
       "      <td>10940.000000</td>\n",
       "      <td>10635.000000</td>\n",
       "      <td>10780.000000</td>\n",
       "      <td>7900.805419</td>\n",
       "      <td>1.171541e+07</td>\n",
       "      <td>7916.969930</td>\n",
       "      <td>7910.297559</td>\n",
       "    </tr>\n",
       "    <tr>\n",
       "      <th>50%</th>\n",
       "      <td>21640.000000</td>\n",
       "      <td>21790.000000</td>\n",
       "      <td>21320.000000</td>\n",
       "      <td>21600.000000</td>\n",
       "      <td>16719.937500</td>\n",
       "      <td>1.716862e+07</td>\n",
       "      <td>16779.096029</td>\n",
       "      <td>16701.423047</td>\n",
       "    </tr>\n",
       "    <tr>\n",
       "      <th>75%</th>\n",
       "      <td>46042.500000</td>\n",
       "      <td>46410.000000</td>\n",
       "      <td>45570.000000</td>\n",
       "      <td>46005.000000</td>\n",
       "      <td>39203.531250</td>\n",
       "      <td>2.614861e+07</td>\n",
       "      <td>39185.833333</td>\n",
       "      <td>39223.596094</td>\n",
       "    </tr>\n",
       "    <tr>\n",
       "      <th>max</th>\n",
       "      <td>90300.000000</td>\n",
       "      <td>96800.000000</td>\n",
       "      <td>89500.000000</td>\n",
       "      <td>91000.000000</td>\n",
       "      <td>87800.000000</td>\n",
       "      <td>1.642150e+08</td>\n",
       "      <td>87733.333333</td>\n",
       "      <td>87540.000000</td>\n",
       "    </tr>\n",
       "  </tbody>\n",
       "</table>\n",
       "</div>"
      ],
      "text/plain": [
       "               Open          High           Low         Close     Adj Close  \\\n",
       "count   6172.000000   6172.000000   6172.000000   6172.000000   6172.000000   \n",
       "mean   28757.817563  29035.654569  28467.208360  28746.882696  24810.522704   \n",
       "std    22959.695704  23139.691270  22758.678867  22936.538437  22396.824150   \n",
       "min     2540.000000   2760.000000   2420.000000   2730.000000   1979.339600   \n",
       "25%    10775.000000  10940.000000  10635.000000  10780.000000   7900.805419   \n",
       "50%    21640.000000  21790.000000  21320.000000  21600.000000  16719.937500   \n",
       "75%    46042.500000  46410.000000  45570.000000  46005.000000  39203.531250   \n",
       "max    90300.000000  96800.000000  89500.000000  91000.000000  87800.000000   \n",
       "\n",
       "             Volume           3MA           5MA  \n",
       "count  6.172000e+03   6170.000000   6168.000000  \n",
       "mean   2.117354e+07  24805.171950  24800.123467  \n",
       "std    1.502833e+07  22385.657588  22375.710644  \n",
       "min    0.000000e+00   2022.841919   2037.342529  \n",
       "25%    1.171541e+07   7916.969930   7910.297559  \n",
       "50%    1.716862e+07  16779.096029  16701.423047  \n",
       "75%    2.614861e+07  39185.833333  39223.596094  \n",
       "max    1.642150e+08  87733.333333  87540.000000  "
      ]
     },
     "execution_count": 7,
     "metadata": {},
     "output_type": "execute_result"
    }
   ],
   "source": [
    "# 통계정보 확인\n",
    "\n",
    "raw_df.describe()"
   ]
  },
  {
   "cell_type": "code",
   "execution_count": 8,
   "id": "8fdbe619",
   "metadata": {},
   "outputs": [
    {
     "data": {
      "text/plain": [
       "Date         0\n",
       "Open         0\n",
       "High         0\n",
       "Low          0\n",
       "Close        0\n",
       "Adj Close    0\n",
       "Volume       0\n",
       "3MA          2\n",
       "5MA          4\n",
       "dtype: int64"
      ]
     },
     "execution_count": 8,
     "metadata": {},
     "output_type": "execute_result"
    }
   ],
   "source": [
    "# Missing Data 확인\n",
    "\n",
    "raw_df.isnull().sum()"
   ]
  },
  {
   "cell_type": "code",
   "execution_count": 9,
   "id": "b8da24a4",
   "metadata": {},
   "outputs": [
    {
     "name": "stdout",
     "output_type": "stream",
     "text": [
      "Volume <class 'str'>\n"
     ]
    }
   ],
   "source": [
    "# 최소값이 0 인 column 체크\n",
    "\n",
    "for col in raw_df.columns:\n",
    "    if raw_df[col].min() == 0:\n",
    "        col_name = col\n",
    "        print(col_name, type(col_name))"
   ]
  },
  {
   "cell_type": "code",
   "execution_count": 10,
   "id": "ca084986",
   "metadata": {},
   "outputs": [
    {
     "data": {
      "text/html": [
       "<div>\n",
       "<style scoped>\n",
       "    .dataframe tbody tr th:only-of-type {\n",
       "        vertical-align: middle;\n",
       "    }\n",
       "\n",
       "    .dataframe tbody tr th {\n",
       "        vertical-align: top;\n",
       "    }\n",
       "\n",
       "    .dataframe thead th {\n",
       "        text-align: right;\n",
       "    }\n",
       "</style>\n",
       "<table border=\"1\" class=\"dataframe\">\n",
       "  <thead>\n",
       "    <tr style=\"text-align: right;\">\n",
       "      <th></th>\n",
       "      <th>Date</th>\n",
       "      <th>Open</th>\n",
       "      <th>High</th>\n",
       "      <th>Low</th>\n",
       "      <th>Close</th>\n",
       "      <th>Adj Close</th>\n",
       "      <th>Volume</th>\n",
       "      <th>3MA</th>\n",
       "      <th>5MA</th>\n",
       "    </tr>\n",
       "  </thead>\n",
       "  <tbody>\n",
       "    <tr>\n",
       "      <th>23</th>\n",
       "      <td>2000-02-04</td>\n",
       "      <td>5130.0</td>\n",
       "      <td>5130.0</td>\n",
       "      <td>5130.0</td>\n",
       "      <td>5130.0</td>\n",
       "      <td>3719.420166</td>\n",
       "      <td>0</td>\n",
       "      <td>3748.421631</td>\n",
       "      <td>3829.625000</td>\n",
       "    </tr>\n",
       "    <tr>\n",
       "      <th>41</th>\n",
       "      <td>2000-03-01</td>\n",
       "      <td>5120.0</td>\n",
       "      <td>5120.0</td>\n",
       "      <td>5120.0</td>\n",
       "      <td>5120.0</td>\n",
       "      <td>3712.169434</td>\n",
       "      <td>0</td>\n",
       "      <td>3634.832520</td>\n",
       "      <td>3658.516846</td>\n",
       "    </tr>\n",
       "    <tr>\n",
       "      <th>66</th>\n",
       "      <td>2000-04-05</td>\n",
       "      <td>6800.0</td>\n",
       "      <td>6800.0</td>\n",
       "      <td>6800.0</td>\n",
       "      <td>6800.0</td>\n",
       "      <td>4930.226074</td>\n",
       "      <td>0</td>\n",
       "      <td>5002.729004</td>\n",
       "      <td>4995.478418</td>\n",
       "    </tr>\n",
       "    <tr>\n",
       "      <th>72</th>\n",
       "      <td>2000-04-13</td>\n",
       "      <td>6910.0</td>\n",
       "      <td>6910.0</td>\n",
       "      <td>6910.0</td>\n",
       "      <td>6910.0</td>\n",
       "      <td>5009.978027</td>\n",
       "      <td>0</td>\n",
       "      <td>5055.896972</td>\n",
       "      <td>5136.133984</td>\n",
       "    </tr>\n",
       "    <tr>\n",
       "      <th>84</th>\n",
       "      <td>2000-05-01</td>\n",
       "      <td>6000.0</td>\n",
       "      <td>6000.0</td>\n",
       "      <td>6000.0</td>\n",
       "      <td>6000.0</td>\n",
       "      <td>4350.199707</td>\n",
       "      <td>0</td>\n",
       "      <td>4205.192220</td>\n",
       "      <td>4152.989502</td>\n",
       "    </tr>\n",
       "    <tr>\n",
       "      <th>...</th>\n",
       "      <td>...</td>\n",
       "      <td>...</td>\n",
       "      <td>...</td>\n",
       "      <td>...</td>\n",
       "      <td>...</td>\n",
       "      <td>...</td>\n",
       "      <td>...</td>\n",
       "      <td>...</td>\n",
       "      <td>...</td>\n",
       "    </tr>\n",
       "    <tr>\n",
       "      <th>5564</th>\n",
       "      <td>2022-02-28</td>\n",
       "      <td>71900.0</td>\n",
       "      <td>71900.0</td>\n",
       "      <td>71900.0</td>\n",
       "      <td>71900.0</td>\n",
       "      <td>68119.820313</td>\n",
       "      <td>0</td>\n",
       "      <td>67993.497396</td>\n",
       "      <td>68953.560938</td>\n",
       "    </tr>\n",
       "    <tr>\n",
       "      <th>5567</th>\n",
       "      <td>2022-03-04</td>\n",
       "      <td>72900.0</td>\n",
       "      <td>72900.0</td>\n",
       "      <td>72900.0</td>\n",
       "      <td>72900.0</td>\n",
       "      <td>69067.257813</td>\n",
       "      <td>0</td>\n",
       "      <td>68688.283855</td>\n",
       "      <td>68460.898438</td>\n",
       "    </tr>\n",
       "    <tr>\n",
       "      <th>5570</th>\n",
       "      <td>2022-03-10</td>\n",
       "      <td>69500.0</td>\n",
       "      <td>69500.0</td>\n",
       "      <td>69500.0</td>\n",
       "      <td>69500.0</td>\n",
       "      <td>65846.007813</td>\n",
       "      <td>0</td>\n",
       "      <td>66035.494792</td>\n",
       "      <td>67248.200000</td>\n",
       "    </tr>\n",
       "    <tr>\n",
       "      <th>5573</th>\n",
       "      <td>2022-03-15</td>\n",
       "      <td>70200.0</td>\n",
       "      <td>70200.0</td>\n",
       "      <td>70200.0</td>\n",
       "      <td>70200.0</td>\n",
       "      <td>66509.203125</td>\n",
       "      <td>0</td>\n",
       "      <td>66446.041667</td>\n",
       "      <td>66206.028125</td>\n",
       "    </tr>\n",
       "    <tr>\n",
       "      <th>5575</th>\n",
       "      <td>2022-03-17</td>\n",
       "      <td>70400.0</td>\n",
       "      <td>70400.0</td>\n",
       "      <td>70400.0</td>\n",
       "      <td>70400.0</td>\n",
       "      <td>66698.687500</td>\n",
       "      <td>0</td>\n",
       "      <td>66635.526042</td>\n",
       "      <td>66547.100000</td>\n",
       "    </tr>\n",
       "  </tbody>\n",
       "</table>\n",
       "<p>127 rows × 9 columns</p>\n",
       "</div>"
      ],
      "text/plain": [
       "            Date     Open     High      Low    Close     Adj Close  Volume  \\\n",
       "23    2000-02-04   5130.0   5130.0   5130.0   5130.0   3719.420166       0   \n",
       "41    2000-03-01   5120.0   5120.0   5120.0   5120.0   3712.169434       0   \n",
       "66    2000-04-05   6800.0   6800.0   6800.0   6800.0   4930.226074       0   \n",
       "72    2000-04-13   6910.0   6910.0   6910.0   6910.0   5009.978027       0   \n",
       "84    2000-05-01   6000.0   6000.0   6000.0   6000.0   4350.199707       0   \n",
       "...          ...      ...      ...      ...      ...           ...     ...   \n",
       "5564  2022-02-28  71900.0  71900.0  71900.0  71900.0  68119.820313       0   \n",
       "5567  2022-03-04  72900.0  72900.0  72900.0  72900.0  69067.257813       0   \n",
       "5570  2022-03-10  69500.0  69500.0  69500.0  69500.0  65846.007813       0   \n",
       "5573  2022-03-15  70200.0  70200.0  70200.0  70200.0  66509.203125       0   \n",
       "5575  2022-03-17  70400.0  70400.0  70400.0  70400.0  66698.687500       0   \n",
       "\n",
       "               3MA           5MA  \n",
       "23     3748.421631   3829.625000  \n",
       "41     3634.832520   3658.516846  \n",
       "66     5002.729004   4995.478418  \n",
       "72     5055.896972   5136.133984  \n",
       "84     4205.192220   4152.989502  \n",
       "...            ...           ...  \n",
       "5564  67993.497396  68953.560938  \n",
       "5567  68688.283855  68460.898438  \n",
       "5570  66035.494792  67248.200000  \n",
       "5573  66446.041667  66206.028125  \n",
       "5575  66635.526042  66547.100000  \n",
       "\n",
       "[127 rows x 9 columns]"
      ]
     },
     "execution_count": 10,
     "metadata": {},
     "output_type": "execute_result"
    }
   ],
   "source": [
    "raw_df.loc[raw_df['Volume']==0]"
   ]
  },
  {
   "cell_type": "code",
   "execution_count": 13,
   "id": "5b841e7f",
   "metadata": {},
   "outputs": [
    {
     "name": "stdout",
     "output_type": "stream",
     "text": [
      "Date : 0\n",
      "Open : 0\n",
      "High : 0\n",
      "Low : 0\n",
      "Close : 0\n",
      "Adj Close : 0\n",
      "Volume : 127\n",
      "3MA : 0\n",
      "5MA : 0\n"
     ]
    }
   ],
   "source": [
    "# 각 column에 0 몇개인지 확인\n",
    "\n",
    "for col in raw_df.columns:\n",
    "    missing_rows = raw_df.loc[raw_df[col] == 0].shape[0]\n",
    "    print('{} : {}'.format(col, missing_rows))"
   ]
  },
  {
   "cell_type": "code",
   "execution_count": 14,
   "id": "24466b37",
   "metadata": {},
   "outputs": [
    {
     "name": "stdout",
     "output_type": "stream",
     "text": [
      "Date : 0\n",
      "Open : 0\n",
      "High : 0\n",
      "Low : 0\n",
      "Close : 0\n",
      "Adj Close : 0\n",
      "Volume : 0\n",
      "3MA : 0\n",
      "5MA : 0\n"
     ]
    }
   ],
   "source": [
    "# 먼저 0 을 NaN 으로 바꾼후, Missing Data 처리\n",
    "raw_df['Volume'] = raw_df['Volume'].replace(0, np.nan)\n",
    "\n",
    "\n",
    "# 각 column에 0 몇개인지 확인\n",
    "for col in raw_df.columns:\n",
    "    missing_rows = raw_df.loc[raw_df[col] == 0].shape[0]\n",
    "    print('{} : {}'.format(col, missing_rows))\n"
   ]
  },
  {
   "cell_type": "code",
   "execution_count": 15,
   "id": "9269b414",
   "metadata": {},
   "outputs": [
    {
     "data": {
      "text/plain": [
       "Date           0\n",
       "Open           0\n",
       "High           0\n",
       "Low            0\n",
       "Close          0\n",
       "Adj Close      0\n",
       "Volume       127\n",
       "3MA            2\n",
       "5MA            4\n",
       "dtype: int64"
      ]
     },
     "execution_count": 15,
     "metadata": {},
     "output_type": "execute_result"
    }
   ],
   "source": [
    "# missing data 확인\n",
    "\n",
    "raw_df.isnull().sum()"
   ]
  },
  {
   "cell_type": "code",
   "execution_count": 16,
   "id": "93fdb92b",
   "metadata": {},
   "outputs": [
    {
     "data": {
      "text/plain": [
       "Date         False\n",
       "Open         False\n",
       "High         False\n",
       "Low          False\n",
       "Close        False\n",
       "Adj Close    False\n",
       "Volume        True\n",
       "3MA           True\n",
       "5MA           True\n",
       "dtype: bool"
      ]
     },
     "execution_count": 16,
     "metadata": {},
     "output_type": "execute_result"
    }
   ],
   "source": [
    "raw_df.isnull().any()"
   ]
  },
  {
   "cell_type": "code",
   "execution_count": 17,
   "id": "b12e8889",
   "metadata": {},
   "outputs": [
    {
     "data": {
      "text/html": [
       "<div>\n",
       "<style scoped>\n",
       "    .dataframe tbody tr th:only-of-type {\n",
       "        vertical-align: middle;\n",
       "    }\n",
       "\n",
       "    .dataframe tbody tr th {\n",
       "        vertical-align: top;\n",
       "    }\n",
       "\n",
       "    .dataframe thead th {\n",
       "        text-align: right;\n",
       "    }\n",
       "</style>\n",
       "<table border=\"1\" class=\"dataframe\">\n",
       "  <thead>\n",
       "    <tr style=\"text-align: right;\">\n",
       "      <th></th>\n",
       "      <th>Date</th>\n",
       "      <th>Open</th>\n",
       "      <th>High</th>\n",
       "      <th>Low</th>\n",
       "      <th>Close</th>\n",
       "      <th>Adj Close</th>\n",
       "      <th>Volume</th>\n",
       "      <th>3MA</th>\n",
       "      <th>5MA</th>\n",
       "    </tr>\n",
       "  </thead>\n",
       "  <tbody>\n",
       "  </tbody>\n",
       "</table>\n",
       "</div>"
      ],
      "text/plain": [
       "Empty DataFrame\n",
       "Columns: [Date, Open, High, Low, Close, Adj Close, Volume, 3MA, 5MA]\n",
       "Index: []"
      ]
     },
     "execution_count": 17,
     "metadata": {},
     "output_type": "execute_result"
    }
   ],
   "source": [
    "raw_df.loc[raw_df['Open'].isna()]"
   ]
  },
  {
   "cell_type": "code",
   "execution_count": 21,
   "id": "ab8d8de0",
   "metadata": {},
   "outputs": [
    {
     "data": {
      "text/plain": [
       "(6041, 9)"
      ]
     },
     "execution_count": 21,
     "metadata": {},
     "output_type": "execute_result"
    }
   ],
   "source": [
    "# missing data 처리\n",
    "\n",
    "raw_df = raw_df.dropna()\n",
    "raw_df.shape\n",
    "# raw_df.isnull().sum()"
   ]
  },
  {
   "cell_type": "code",
   "execution_count": 22,
   "id": "ba60d066",
   "metadata": {},
   "outputs": [
    {
     "data": {
      "text/html": [
       "<div>\n",
       "<style scoped>\n",
       "    .dataframe tbody tr th:only-of-type {\n",
       "        vertical-align: middle;\n",
       "    }\n",
       "\n",
       "    .dataframe tbody tr th {\n",
       "        vertical-align: top;\n",
       "    }\n",
       "\n",
       "    .dataframe thead th {\n",
       "        text-align: right;\n",
       "    }\n",
       "</style>\n",
       "<table border=\"1\" class=\"dataframe\">\n",
       "  <thead>\n",
       "    <tr style=\"text-align: right;\">\n",
       "      <th></th>\n",
       "      <th>Open</th>\n",
       "      <th>High</th>\n",
       "      <th>Low</th>\n",
       "      <th>Close</th>\n",
       "      <th>Adj Close</th>\n",
       "      <th>Volume</th>\n",
       "      <th>3MA</th>\n",
       "      <th>5MA</th>\n",
       "    </tr>\n",
       "  </thead>\n",
       "  <tbody>\n",
       "    <tr>\n",
       "      <th>0</th>\n",
       "      <td>0.034868</td>\n",
       "      <td>0.032008</td>\n",
       "      <td>0.036288</td>\n",
       "      <td>0.034440</td>\n",
       "      <td>0.025683</td>\n",
       "      <td>0.285359</td>\n",
       "      <td>0.024137</td>\n",
       "      <td>0.024544</td>\n",
       "    </tr>\n",
       "    <tr>\n",
       "      <th>1</th>\n",
       "      <td>0.037375</td>\n",
       "      <td>0.035517</td>\n",
       "      <td>0.038470</td>\n",
       "      <td>0.034440</td>\n",
       "      <td>0.025683</td>\n",
       "      <td>0.363715</td>\n",
       "      <td>0.024560</td>\n",
       "      <td>0.023968</td>\n",
       "    </tr>\n",
       "    <tr>\n",
       "      <th>2</th>\n",
       "      <td>0.034982</td>\n",
       "      <td>0.031689</td>\n",
       "      <td>0.036518</td>\n",
       "      <td>0.033873</td>\n",
       "      <td>0.025260</td>\n",
       "      <td>0.177799</td>\n",
       "      <td>0.025067</td>\n",
       "      <td>0.024205</td>\n",
       "    </tr>\n",
       "    <tr>\n",
       "      <th>3</th>\n",
       "      <td>0.034868</td>\n",
       "      <td>0.031689</td>\n",
       "      <td>0.036059</td>\n",
       "      <td>0.033760</td>\n",
       "      <td>0.025176</td>\n",
       "      <td>0.250704</td>\n",
       "      <td>0.024898</td>\n",
       "      <td>0.024358</td>\n",
       "    </tr>\n",
       "    <tr>\n",
       "      <th>4</th>\n",
       "      <td>0.036235</td>\n",
       "      <td>0.033177</td>\n",
       "      <td>0.037437</td>\n",
       "      <td>0.035120</td>\n",
       "      <td>0.026190</td>\n",
       "      <td>0.300555</td>\n",
       "      <td>0.025067</td>\n",
       "      <td>0.024850</td>\n",
       "    </tr>\n",
       "    <tr>\n",
       "      <th>...</th>\n",
       "      <td>...</td>\n",
       "      <td>...</td>\n",
       "      <td>...</td>\n",
       "      <td>...</td>\n",
       "      <td>...</td>\n",
       "      <td>...</td>\n",
       "      <td>...</td>\n",
       "      <td>...</td>\n",
       "    </tr>\n",
       "    <tr>\n",
       "      <th>6036</th>\n",
       "      <td>0.833637</td>\n",
       "      <td>0.776691</td>\n",
       "      <td>0.824299</td>\n",
       "      <td>0.815339</td>\n",
       "      <td>0.847356</td>\n",
       "      <td>0.099646</td>\n",
       "      <td>0.842882</td>\n",
       "      <td>0.833895</td>\n",
       "    </tr>\n",
       "    <tr>\n",
       "      <th>6037</th>\n",
       "      <td>0.827940</td>\n",
       "      <td>0.777754</td>\n",
       "      <td>0.831190</td>\n",
       "      <td>0.824402</td>\n",
       "      <td>0.856678</td>\n",
       "      <td>0.059759</td>\n",
       "      <td>0.845993</td>\n",
       "      <td>0.843487</td>\n",
       "    </tr>\n",
       "    <tr>\n",
       "      <th>6038</th>\n",
       "      <td>0.842753</td>\n",
       "      <td>0.785198</td>\n",
       "      <td>0.839228</td>\n",
       "      <td>0.831200</td>\n",
       "      <td>0.863669</td>\n",
       "      <td>0.065100</td>\n",
       "      <td>0.856494</td>\n",
       "      <td>0.851909</td>\n",
       "    </tr>\n",
       "    <tr>\n",
       "      <th>6039</th>\n",
       "      <td>0.853008</td>\n",
       "      <td>0.797958</td>\n",
       "      <td>0.856454</td>\n",
       "      <td>0.843661</td>\n",
       "      <td>0.876487</td>\n",
       "      <td>0.080509</td>\n",
       "      <td>0.866216</td>\n",
       "      <td>0.857758</td>\n",
       "    </tr>\n",
       "    <tr>\n",
       "      <th>6040</th>\n",
       "      <td>0.875798</td>\n",
       "      <td>0.816036</td>\n",
       "      <td>0.875976</td>\n",
       "      <td>0.862921</td>\n",
       "      <td>0.896295</td>\n",
       "      <td>0.053654</td>\n",
       "      <td>0.879439</td>\n",
       "      <td>0.870625</td>\n",
       "    </tr>\n",
       "  </tbody>\n",
       "</table>\n",
       "<p>6041 rows × 8 columns</p>\n",
       "</div>"
      ],
      "text/plain": [
       "          Open      High       Low     Close  Adj Close    Volume       3MA  \\\n",
       "0     0.034868  0.032008  0.036288  0.034440   0.025683  0.285359  0.024137   \n",
       "1     0.037375  0.035517  0.038470  0.034440   0.025683  0.363715  0.024560   \n",
       "2     0.034982  0.031689  0.036518  0.033873   0.025260  0.177799  0.025067   \n",
       "3     0.034868  0.031689  0.036059  0.033760   0.025176  0.250704  0.024898   \n",
       "4     0.036235  0.033177  0.037437  0.035120   0.026190  0.300555  0.025067   \n",
       "...        ...       ...       ...       ...        ...       ...       ...   \n",
       "6036  0.833637  0.776691  0.824299  0.815339   0.847356  0.099646  0.842882   \n",
       "6037  0.827940  0.777754  0.831190  0.824402   0.856678  0.059759  0.845993   \n",
       "6038  0.842753  0.785198  0.839228  0.831200   0.863669  0.065100  0.856494   \n",
       "6039  0.853008  0.797958  0.856454  0.843661   0.876487  0.080509  0.866216   \n",
       "6040  0.875798  0.816036  0.875976  0.862921   0.896295  0.053654  0.879439   \n",
       "\n",
       "           5MA  \n",
       "0     0.024544  \n",
       "1     0.023968  \n",
       "2     0.024205  \n",
       "3     0.024358  \n",
       "4     0.024850  \n",
       "...        ...  \n",
       "6036  0.833895  \n",
       "6037  0.843487  \n",
       "6038  0.851909  \n",
       "6039  0.857758  \n",
       "6040  0.870625  \n",
       "\n",
       "[6041 rows x 8 columns]"
      ]
     },
     "execution_count": 22,
     "metadata": {},
     "output_type": "execute_result"
    }
   ],
   "source": [
    "# 정규화 (Date 제외한 모든 수치부분 정규화)\n",
    "\n",
    "from sklearn.preprocessing import MinMaxScaler\n",
    "\n",
    "scaler = MinMaxScaler()\n",
    "\n",
    "scale_columns = raw_df.columns[1:]\n",
    "\n",
    "scaled_df = scaler.fit_transform(raw_df[scale_columns])\n",
    "\n",
    "scaled_df = pd.DataFrame(scaled_df, columns=scale_columns)\n",
    "\n",
    "scaled_df"
   ]
  },
  {
   "cell_type": "markdown",
   "id": "b6d0bda2",
   "metadata": {},
   "source": [
    "#### 주가예측을 위해 3MA, 5MA, Adj Close 항목을 feature 선정\n",
    "\n",
    "* 정답은 Adj Close 선정\n",
    "* 시계열 데이터를 위한 window_size = 40 선정"
   ]
  },
  {
   "cell_type": "code",
   "execution_count": 23,
   "id": "0fcda956",
   "metadata": {},
   "outputs": [],
   "source": [
    "# 입력 파라미터 feature, label => numpy type\n",
    "\n",
    "def make_sequene_dataset(feature, label, window_size):\n",
    "\n",
    "    feature_list = []      # 생성될 feature list\n",
    "    label_list = []        # 생성될 label list\n",
    "\n",
    "    for i in range(len(feature)-window_size):\n",
    "        feature_list.append(feature[i : i + window_size])\n",
    "        label_list.append(label[i + window_size])\n",
    "\n",
    "    return np.array(feature_list), np.array(label_list)"
   ]
  },
  {
   "cell_type": "code",
   "execution_count": 118,
   "id": "723b649a",
   "metadata": {},
   "outputs": [],
   "source": [
    "# feature_df, label_df 생성\n",
    "\n",
    "feature_col = ['3MA', '5MA', 'Adj Close']\n",
    "label_col = ['Adj Close']\n",
    "\n",
    "feature_df = pd.DataFrame(scaled_df, columns=feature_col)\n",
    "label_df = pd.DataFrame(scaled_df, columns=label_col)"
   ]
  },
  {
   "cell_type": "code",
   "execution_count": 119,
   "id": "0b29cb0c",
   "metadata": {},
   "outputs": [
    {
     "name": "stdout",
     "output_type": "stream",
     "text": [
      "(6041, 3) (6041, 1)\n"
     ]
    }
   ],
   "source": [
    "# DataFrame => Numpy 변환\n",
    "\n",
    "feature_np = feature_df.to_numpy()\n",
    "label_np = label_df.to_numpy()\n",
    "\n",
    "print(feature_np.shape, label_np.shape)"
   ]
  },
  {
   "cell_type": "markdown",
   "id": "e6a214ad",
   "metadata": {},
   "source": [
    "#### 시계열 데이터 생성 (make_sequence_dataset)"
   ]
  },
  {
   "cell_type": "code",
   "execution_count": 120,
   "id": "0d903a1f",
   "metadata": {},
   "outputs": [
    {
     "name": "stdout",
     "output_type": "stream",
     "text": [
      "(6001, 40, 3) (6001, 1)\n"
     ]
    }
   ],
   "source": [
    "window_size = 40\n",
    "\n",
    "X, Y = make_sequene_dataset(feature_np, label_np, window_size)\n",
    "\n",
    "print(X.shape, Y.shape)"
   ]
  },
  {
   "cell_type": "code",
   "execution_count": 121,
   "id": "752c9085",
   "metadata": {},
   "outputs": [
    {
     "name": "stdout",
     "output_type": "stream",
     "text": [
      "(5801, 40, 3) (5801, 1)\n",
      "(200, 40, 3) (200, 1)\n"
     ]
    }
   ],
   "source": [
    "# train, test 분리\n",
    "\n",
    "#split = int(len(X)*0.95)\n",
    "split = -200\n",
    "\n",
    "x_train = X[0:split]\n",
    "y_train = Y[0:split]\n",
    "\n",
    "x_test = X[split:]\n",
    "y_test = Y[split:]\n",
    "\n",
    "print(x_train.shape, y_train.shape)\n",
    "print(x_test.shape, y_test.shape)"
   ]
  },
  {
   "cell_type": "markdown",
   "id": "5b78377e",
   "metadata": {},
   "source": [
    "#### 모델 구축 및 컴파일"
   ]
  },
  {
   "cell_type": "code",
   "execution_count": 214,
   "id": "bd529823",
   "metadata": {},
   "outputs": [
    {
     "name": "stderr",
     "output_type": "stream",
     "text": [
      "c:\\Users\\USER\\miniconda3\\envs\\venv\\lib\\site-packages\\keras\\src\\layers\\rnn\\rnn.py:204: UserWarning: Do not pass an `input_shape`/`input_dim` argument to a layer. When using Sequential models, prefer using an `Input(shape)` object as the first layer in the model instead.\n",
      "  super().__init__(**kwargs)\n"
     ]
    }
   ],
   "source": [
    "# model 생성\n",
    "\n",
    "model = Sequential()\n",
    "model.add(LSTM(64, activation='tanh', return_sequences=True, input_shape=x_train[0].shape))\n",
    "# model.add(LSTM(32, activation='tanh',))\n",
    "model.add(LSTM(64, activation='tanh',))\n",
    "# model.add(GRU(64, activation='tanh',))\n",
    "model.add(Dense(1, activation='linear'))"
   ]
  },
  {
   "cell_type": "code",
   "execution_count": 215,
   "id": "05272922",
   "metadata": {},
   "outputs": [
    {
     "data": {
      "text/html": [
       "<pre style=\"white-space:pre;overflow-x:auto;line-height:normal;font-family:Menlo,'DejaVu Sans Mono',consolas,'Courier New',monospace\"><span style=\"font-weight: bold\">Model: \"sequential_53\"</span>\n",
       "</pre>\n"
      ],
      "text/plain": [
       "\u001b[1mModel: \"sequential_53\"\u001b[0m\n"
      ]
     },
     "metadata": {},
     "output_type": "display_data"
    },
    {
     "data": {
      "text/html": [
       "<pre style=\"white-space:pre;overflow-x:auto;line-height:normal;font-family:Menlo,'DejaVu Sans Mono',consolas,'Courier New',monospace\">┏━━━━━━━━━━━━━━━━━━━━━━━━━━━━━━━━━┳━━━━━━━━━━━━━━━━━━━━━━━━┳━━━━━━━━━━━━━━━┓\n",
       "┃<span style=\"font-weight: bold\"> Layer (type)                    </span>┃<span style=\"font-weight: bold\"> Output Shape           </span>┃<span style=\"font-weight: bold\">       Param # </span>┃\n",
       "┡━━━━━━━━━━━━━━━━━━━━━━━━━━━━━━━━━╇━━━━━━━━━━━━━━━━━━━━━━━━╇━━━━━━━━━━━━━━━┩\n",
       "│ lstm_60 (<span style=\"color: #0087ff; text-decoration-color: #0087ff\">LSTM</span>)                  │ (<span style=\"color: #00d7ff; text-decoration-color: #00d7ff\">None</span>, <span style=\"color: #00af00; text-decoration-color: #00af00\">40</span>, <span style=\"color: #00af00; text-decoration-color: #00af00\">64</span>)         │        <span style=\"color: #00af00; text-decoration-color: #00af00\">17,408</span> │\n",
       "├─────────────────────────────────┼────────────────────────┼───────────────┤\n",
       "│ lstm_61 (<span style=\"color: #0087ff; text-decoration-color: #0087ff\">LSTM</span>)                  │ (<span style=\"color: #00d7ff; text-decoration-color: #00d7ff\">None</span>, <span style=\"color: #00af00; text-decoration-color: #00af00\">64</span>)             │        <span style=\"color: #00af00; text-decoration-color: #00af00\">33,024</span> │\n",
       "├─────────────────────────────────┼────────────────────────┼───────────────┤\n",
       "│ dense_35 (<span style=\"color: #0087ff; text-decoration-color: #0087ff\">Dense</span>)                │ (<span style=\"color: #00d7ff; text-decoration-color: #00d7ff\">None</span>, <span style=\"color: #00af00; text-decoration-color: #00af00\">1</span>)              │            <span style=\"color: #00af00; text-decoration-color: #00af00\">65</span> │\n",
       "└─────────────────────────────────┴────────────────────────┴───────────────┘\n",
       "</pre>\n"
      ],
      "text/plain": [
       "┏━━━━━━━━━━━━━━━━━━━━━━━━━━━━━━━━━┳━━━━━━━━━━━━━━━━━━━━━━━━┳━━━━━━━━━━━━━━━┓\n",
       "┃\u001b[1m \u001b[0m\u001b[1mLayer (type)                   \u001b[0m\u001b[1m \u001b[0m┃\u001b[1m \u001b[0m\u001b[1mOutput Shape          \u001b[0m\u001b[1m \u001b[0m┃\u001b[1m \u001b[0m\u001b[1m      Param #\u001b[0m\u001b[1m \u001b[0m┃\n",
       "┡━━━━━━━━━━━━━━━━━━━━━━━━━━━━━━━━━╇━━━━━━━━━━━━━━━━━━━━━━━━╇━━━━━━━━━━━━━━━┩\n",
       "│ lstm_60 (\u001b[38;5;33mLSTM\u001b[0m)                  │ (\u001b[38;5;45mNone\u001b[0m, \u001b[38;5;34m40\u001b[0m, \u001b[38;5;34m64\u001b[0m)         │        \u001b[38;5;34m17,408\u001b[0m │\n",
       "├─────────────────────────────────┼────────────────────────┼───────────────┤\n",
       "│ lstm_61 (\u001b[38;5;33mLSTM\u001b[0m)                  │ (\u001b[38;5;45mNone\u001b[0m, \u001b[38;5;34m64\u001b[0m)             │        \u001b[38;5;34m33,024\u001b[0m │\n",
       "├─────────────────────────────────┼────────────────────────┼───────────────┤\n",
       "│ dense_35 (\u001b[38;5;33mDense\u001b[0m)                │ (\u001b[38;5;45mNone\u001b[0m, \u001b[38;5;34m1\u001b[0m)              │            \u001b[38;5;34m65\u001b[0m │\n",
       "└─────────────────────────────────┴────────────────────────┴───────────────┘\n"
      ]
     },
     "metadata": {},
     "output_type": "display_data"
    },
    {
     "data": {
      "text/html": [
       "<pre style=\"white-space:pre;overflow-x:auto;line-height:normal;font-family:Menlo,'DejaVu Sans Mono',consolas,'Courier New',monospace\"><span style=\"font-weight: bold\"> Total params: </span><span style=\"color: #00af00; text-decoration-color: #00af00\">50,497</span> (197.25 KB)\n",
       "</pre>\n"
      ],
      "text/plain": [
       "\u001b[1m Total params: \u001b[0m\u001b[38;5;34m50,497\u001b[0m (197.25 KB)\n"
      ]
     },
     "metadata": {},
     "output_type": "display_data"
    },
    {
     "data": {
      "text/html": [
       "<pre style=\"white-space:pre;overflow-x:auto;line-height:normal;font-family:Menlo,'DejaVu Sans Mono',consolas,'Courier New',monospace\"><span style=\"font-weight: bold\"> Trainable params: </span><span style=\"color: #00af00; text-decoration-color: #00af00\">50,497</span> (197.25 KB)\n",
       "</pre>\n"
      ],
      "text/plain": [
       "\u001b[1m Trainable params: \u001b[0m\u001b[38;5;34m50,497\u001b[0m (197.25 KB)\n"
      ]
     },
     "metadata": {},
     "output_type": "display_data"
    },
    {
     "data": {
      "text/html": [
       "<pre style=\"white-space:pre;overflow-x:auto;line-height:normal;font-family:Menlo,'DejaVu Sans Mono',consolas,'Courier New',monospace\"><span style=\"font-weight: bold\"> Non-trainable params: </span><span style=\"color: #00af00; text-decoration-color: #00af00\">0</span> (0.00 B)\n",
       "</pre>\n"
      ],
      "text/plain": [
       "\u001b[1m Non-trainable params: \u001b[0m\u001b[38;5;34m0\u001b[0m (0.00 B)\n"
      ]
     },
     "metadata": {},
     "output_type": "display_data"
    }
   ],
   "source": [
    "model.compile(loss='mse', optimizer='adam', metrics=['mae'])\n",
    "\n",
    "model.summary()"
   ]
  },
  {
   "cell_type": "markdown",
   "id": "61bbcf73",
   "metadata": {},
   "source": [
    "#### 모델 학습 (EarlyStopping 적용)"
   ]
  },
  {
   "cell_type": "code",
   "execution_count": 216,
   "id": "108cfc08",
   "metadata": {},
   "outputs": [
    {
     "name": "stdout",
     "output_type": "stream",
     "text": [
      "Epoch 1/100\n",
      "\u001b[1m363/363\u001b[0m \u001b[32m━━━━━━━━━━━━━━━━━━━━\u001b[0m\u001b[37m\u001b[0m \u001b[1m8s\u001b[0m 16ms/step - loss: 0.0041 - mae: 0.0279 - val_loss: 0.0017 - val_mae: 0.0320\n",
      "Epoch 2/100\n",
      "\u001b[1m363/363\u001b[0m \u001b[32m━━━━━━━━━━━━━━━━━━━━\u001b[0m\u001b[37m\u001b[0m \u001b[1m5s\u001b[0m 14ms/step - loss: 2.2032e-04 - mae: 0.0094 - val_loss: 0.0028 - val_mae: 0.0452\n",
      "Epoch 3/100\n",
      "\u001b[1m363/363\u001b[0m \u001b[32m━━━━━━━━━━━━━━━━━━━━\u001b[0m\u001b[37m\u001b[0m \u001b[1m5s\u001b[0m 14ms/step - loss: 2.4476e-04 - mae: 0.0096 - val_loss: 0.0010 - val_mae: 0.0242\n",
      "Epoch 4/100\n",
      "\u001b[1m363/363\u001b[0m \u001b[32m━━━━━━━━━━━━━━━━━━━━\u001b[0m\u001b[37m\u001b[0m \u001b[1m5s\u001b[0m 13ms/step - loss: 1.8193e-04 - mae: 0.0087 - val_loss: 0.0012 - val_mae: 0.0274\n",
      "Epoch 5/100\n",
      "\u001b[1m363/363\u001b[0m \u001b[32m━━━━━━━━━━━━━━━━━━━━\u001b[0m\u001b[37m\u001b[0m \u001b[1m5s\u001b[0m 13ms/step - loss: 1.4368e-04 - mae: 0.0077 - val_loss: 7.5996e-04 - val_mae: 0.0211\n",
      "Epoch 6/100\n",
      "\u001b[1m363/363\u001b[0m \u001b[32m━━━━━━━━━━━━━━━━━━━━\u001b[0m\u001b[37m\u001b[0m \u001b[1m5s\u001b[0m 13ms/step - loss: 1.3556e-04 - mae: 0.0075 - val_loss: 5.6829e-04 - val_mae: 0.0177\n",
      "Epoch 7/100\n",
      "\u001b[1m363/363\u001b[0m \u001b[32m━━━━━━━━━━━━━━━━━━━━\u001b[0m\u001b[37m\u001b[0m \u001b[1m5s\u001b[0m 14ms/step - loss: 1.1435e-04 - mae: 0.0070 - val_loss: 5.9438e-04 - val_mae: 0.0185\n",
      "Epoch 8/100\n",
      "\u001b[1m363/363\u001b[0m \u001b[32m━━━━━━━━━━━━━━━━━━━━\u001b[0m\u001b[37m\u001b[0m \u001b[1m5s\u001b[0m 14ms/step - loss: 1.1719e-04 - mae: 0.0070 - val_loss: 4.9812e-04 - val_mae: 0.0165\n",
      "Epoch 9/100\n",
      "\u001b[1m363/363\u001b[0m \u001b[32m━━━━━━━━━━━━━━━━━━━━\u001b[0m\u001b[37m\u001b[0m \u001b[1m5s\u001b[0m 14ms/step - loss: 1.0494e-04 - mae: 0.0067 - val_loss: 4.8164e-04 - val_mae: 0.0165\n",
      "Epoch 10/100\n",
      "\u001b[1m363/363\u001b[0m \u001b[32m━━━━━━━━━━━━━━━━━━━━\u001b[0m\u001b[37m\u001b[0m \u001b[1m5s\u001b[0m 14ms/step - loss: 1.0616e-04 - mae: 0.0067 - val_loss: 8.4602e-04 - val_mae: 0.0238\n",
      "Epoch 11/100\n",
      "\u001b[1m363/363\u001b[0m \u001b[32m━━━━━━━━━━━━━━━━━━━━\u001b[0m\u001b[37m\u001b[0m \u001b[1m5s\u001b[0m 14ms/step - loss: 7.1239e-05 - mae: 0.0056 - val_loss: 7.1775e-04 - val_mae: 0.0221\n",
      "Epoch 12/100\n",
      "\u001b[1m363/363\u001b[0m \u001b[32m━━━━━━━━━━━━━━━━━━━━\u001b[0m\u001b[37m\u001b[0m \u001b[1m5s\u001b[0m 14ms/step - loss: 8.5005e-05 - mae: 0.0060 - val_loss: 3.0615e-04 - val_mae: 0.0123\n",
      "Epoch 13/100\n",
      "\u001b[1m363/363\u001b[0m \u001b[32m━━━━━━━━━━━━━━━━━━━━\u001b[0m\u001b[37m\u001b[0m \u001b[1m5s\u001b[0m 14ms/step - loss: 7.0747e-05 - mae: 0.0055 - val_loss: 2.8998e-04 - val_mae: 0.0121\n",
      "Epoch 14/100\n",
      "\u001b[1m363/363\u001b[0m \u001b[32m━━━━━━━━━━━━━━━━━━━━\u001b[0m\u001b[37m\u001b[0m \u001b[1m5s\u001b[0m 14ms/step - loss: 6.5061e-05 - mae: 0.0055 - val_loss: 2.7688e-04 - val_mae: 0.0120\n",
      "Epoch 15/100\n",
      "\u001b[1m363/363\u001b[0m \u001b[32m━━━━━━━━━━━━━━━━━━━━\u001b[0m\u001b[37m\u001b[0m \u001b[1m5s\u001b[0m 14ms/step - loss: 5.0719e-05 - mae: 0.0047 - val_loss: 2.5845e-04 - val_mae: 0.0114\n",
      "Epoch 16/100\n",
      "\u001b[1m363/363\u001b[0m \u001b[32m━━━━━━━━━━━━━━━━━━━━\u001b[0m\u001b[37m\u001b[0m \u001b[1m5s\u001b[0m 14ms/step - loss: 6.9198e-05 - mae: 0.0054 - val_loss: 2.5174e-04 - val_mae: 0.0114\n",
      "Epoch 17/100\n",
      "\u001b[1m363/363\u001b[0m \u001b[32m━━━━━━━━━━━━━━━━━━━━\u001b[0m\u001b[37m\u001b[0m \u001b[1m5s\u001b[0m 14ms/step - loss: 6.0358e-05 - mae: 0.0050 - val_loss: 2.8956e-04 - val_mae: 0.0128\n",
      "Epoch 18/100\n",
      "\u001b[1m363/363\u001b[0m \u001b[32m━━━━━━━━━━━━━━━━━━━━\u001b[0m\u001b[37m\u001b[0m \u001b[1m5s\u001b[0m 14ms/step - loss: 5.8070e-05 - mae: 0.0051 - val_loss: 4.0467e-04 - val_mae: 0.0160\n",
      "Epoch 19/100\n",
      "\u001b[1m363/363\u001b[0m \u001b[32m━━━━━━━━━━━━━━━━━━━━\u001b[0m\u001b[37m\u001b[0m \u001b[1m5s\u001b[0m 14ms/step - loss: 4.2789e-05 - mae: 0.0043 - val_loss: 2.7536e-04 - val_mae: 0.0123\n",
      "Epoch 20/100\n",
      "\u001b[1m363/363\u001b[0m \u001b[32m━━━━━━━━━━━━━━━━━━━━\u001b[0m\u001b[37m\u001b[0m \u001b[1m5s\u001b[0m 14ms/step - loss: 6.2086e-05 - mae: 0.0052 - val_loss: 2.4962e-04 - val_mae: 0.0116\n",
      "Epoch 21/100\n",
      "\u001b[1m363/363\u001b[0m \u001b[32m━━━━━━━━━━━━━━━━━━━━\u001b[0m\u001b[37m\u001b[0m \u001b[1m5s\u001b[0m 14ms/step - loss: 5.0164e-05 - mae: 0.0047 - val_loss: 3.8595e-04 - val_mae: 0.0154\n",
      "Epoch 22/100\n",
      "\u001b[1m363/363\u001b[0m \u001b[32m━━━━━━━━━━━━━━━━━━━━\u001b[0m\u001b[37m\u001b[0m \u001b[1m5s\u001b[0m 14ms/step - loss: 6.3925e-05 - mae: 0.0052 - val_loss: 2.8634e-04 - val_mae: 0.0126\n",
      "Epoch 23/100\n",
      "\u001b[1m363/363\u001b[0m \u001b[32m━━━━━━━━━━━━━━━━━━━━\u001b[0m\u001b[37m\u001b[0m \u001b[1m5s\u001b[0m 14ms/step - loss: 5.9819e-05 - mae: 0.0052 - val_loss: 2.4691e-04 - val_mae: 0.0115\n",
      "Epoch 24/100\n",
      "\u001b[1m363/363\u001b[0m \u001b[32m━━━━━━━━━━━━━━━━━━━━\u001b[0m\u001b[37m\u001b[0m \u001b[1m5s\u001b[0m 14ms/step - loss: 5.5277e-05 - mae: 0.0048 - val_loss: 4.8088e-04 - val_mae: 0.0178\n",
      "Epoch 25/100\n",
      "\u001b[1m363/363\u001b[0m \u001b[32m━━━━━━━━━━━━━━━━━━━━\u001b[0m\u001b[37m\u001b[0m \u001b[1m5s\u001b[0m 14ms/step - loss: 5.3324e-05 - mae: 0.0048 - val_loss: 3.3730e-04 - val_mae: 0.0141\n",
      "Epoch 26/100\n",
      "\u001b[1m363/363\u001b[0m \u001b[32m━━━━━━━━━━━━━━━━━━━━\u001b[0m\u001b[37m\u001b[0m \u001b[1m5s\u001b[0m 14ms/step - loss: 5.5047e-05 - mae: 0.0048 - val_loss: 3.4414e-04 - val_mae: 0.0143\n",
      "Epoch 27/100\n",
      "\u001b[1m363/363\u001b[0m \u001b[32m━━━━━━━━━━━━━━━━━━━━\u001b[0m\u001b[37m\u001b[0m \u001b[1m5s\u001b[0m 14ms/step - loss: 4.5401e-05 - mae: 0.0044 - val_loss: 3.8181e-04 - val_mae: 0.0152\n",
      "Epoch 28/100\n",
      "\u001b[1m363/363\u001b[0m \u001b[32m━━━━━━━━━━━━━━━━━━━━\u001b[0m\u001b[37m\u001b[0m \u001b[1m5s\u001b[0m 14ms/step - loss: 4.9941e-05 - mae: 0.0048 - val_loss: 3.9552e-04 - val_mae: 0.0157\n"
     ]
    },
    {
     "data": {
      "text/plain": [
       "<keras.src.callbacks.history.History at 0x29044129ff0>"
      ]
     },
     "execution_count": 216,
     "metadata": {},
     "output_type": "execute_result"
    }
   ],
   "source": [
    "from tensorflow.keras.callbacks import EarlyStopping\n",
    "\n",
    "early_stopping = EarlyStopping(monitor='val_loss', patience=5)\n",
    "\n",
    "model.fit(x_train, y_train,\n",
    "          epochs=100,\n",
    "          batch_size=16,\n",
    "          callbacks=early_stopping,\n",
    "          validation_data=(x_test, y_test))\n"
   ]
  },
  {
   "cell_type": "markdown",
   "id": "c7a6d05a",
   "metadata": {},
   "source": [
    "#### 예측을 통한 정답과의 비교 (오차계산 MAPE 사용, 평균절대값백분율오차)"
   ]
  },
  {
   "cell_type": "code",
   "execution_count": 217,
   "id": "f6c91c19",
   "metadata": {},
   "outputs": [
    {
     "name": "stdout",
     "output_type": "stream",
     "text": [
      "\u001b[1m7/7\u001b[0m \u001b[32m━━━━━━━━━━━━━━━━━━━━\u001b[0m\u001b[37m\u001b[0m \u001b[1m1s\u001b[0m 45ms/step\n"
     ]
    },
    {
     "data": {
      "image/png": "[encoded data removed]",
      "text/plain": [
       "<Figure size 1200x600 with 1 Axes>"
      ]
     },
     "metadata": {},
     "output_type": "display_data"
    }
   ],
   "source": [
    "pred = model.predict(x_test)\n",
    "\n",
    "plt.figure(figsize=(12, 6))\n",
    "plt.title('3MA + 5MA + Adj Close, window_size=40')\n",
    "plt.ylabel('adj close')\n",
    "plt.xlabel('period')\n",
    "plt.plot(y_test, label='actual')\n",
    "plt.plot(pred, label='prediction')\n",
    "plt.grid()\n",
    "plt.legend(loc='best')\n",
    "\n",
    "plt.show()"
   ]
  },
  {
   "cell_type": "code",
   "execution_count": 218,
   "id": "d47d75e9",
   "metadata": {},
   "outputs": [
    {
     "name": "stdout",
     "output_type": "stream",
     "text": [
      "1.8066615882555266\n"
     ]
    }
   ],
   "source": [
    "# 평균절대값백분율오차계산 (MAPE)\n",
    "\n",
    "print(np.sum(abs(y_test - pred) / y_test) / len(x_test) * 100)"
   ]
  },
  {
   "cell_type": "code",
   "execution_count": null,
   "id": "b118f531",
   "metadata": {},
   "outputs": [],
   "source": []
  }
 ],
 "metadata": {
  "kernelspec": {
   "display_name": "Python 3 (ipykernel)",
   "language": "python",
   "name": "python3"
  },
  "language_info": {
   "codemirror_mode": {
    "name": "ipython",
    "version": 3
   },
   "file_extension": ".py",
   "mimetype": "text/x-python",
   "name": "python",
   "nbconvert_exporter": "python",
   "pygments_lexer": "ipython3",
   "version": "3.10.14"
  }
 },
 "nbformat": 4,
 "nbformat_minor": 5
}
