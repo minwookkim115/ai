{
 "cells": [
  {
   "cell_type": "markdown",
   "id": "739c2cfb",
   "metadata": {
    "id": "739c2cfb"
   },
   "source": [
    "# 함수형 API"
   ]
  },
  {
   "cell_type": "markdown",
   "id": "bbfd8c3c",
   "metadata": {
    "id": "bbfd8c3c"
   },
   "source": [
    "우리는 여태까지 Sequential API를 이용해서 신경망을 구성해왔습니다.  \n",
    "Sequential API는 사용하기 매우 편리하지만 선형적인 신경망만을 구성할 수 있습니다.  \n",
    "![](https://drive.google.com/thumbnail?id=1bEbvUTjJzfU1Rx0CwZxeEH1lUiSu2UPi&sz=s4000)\n",
    "\n",
    "함수형 API를 이용해 신경망을 구성하는 방법을 보겠습니다.  \n",
    "함수형 API는 선형적인 신경망을 넘어 2개 이상의 입력층, 중간층, 출력층을 가진 신경망을 구성하게 해줍니다.  \n",
    "구성하는 방법은 수학에서 함수의 합성, 공장에서의 컨베이어 벨트 시스템과 유사합니다.  \n",
    "![](https://drive.google.com/thumbnail?id=12MB2hlGGg6R5aS9TjBjI3mep92ZpCHaQ&sz=s4000)\n",
    "\n",
    "---\n",
    "[tf.keras.Input](https://www.tensorflow.org/api_docs/python/tf/keras/Input)를 이용해 심볼릭 텐서(symbolic tensor)를 만듭니다.  \n",
    "\n",
    "심볼릭 텐서는 수학으로 치면 미지수 $x$라고 생각하시면 됩니다.  \n",
    "shape만 고정되있고 임의의 값을 취할 수 있는 텐서입니다.  \n",
    "이 예에서 inputs는 임의의 3차원 벡터를 취할수 있습니다."
   ]
  },
  {
   "cell_type": "code",
   "execution_count": 1,
   "id": "f31cd6fd",
   "metadata": {
    "id": "f31cd6fd"
   },
   "outputs": [
    {
     "name": "stdout",
     "output_type": "stream",
     "text": [
      "(None, 3)\n",
      "float32\n"
     ]
    }
   ],
   "source": [
    "from tensorflow import keras\n",
    "from keras.layers import Dense\n",
    "\n",
    "inputs = keras.Input(shape=(3,))\n",
    "print(inputs.shape)\n",
    "print(inputs.dtype)"
   ]
  },
  {
   "cell_type": "markdown",
   "id": "e96c433e",
   "metadata": {
    "id": "e96c433e"
   },
   "source": [
    "층을 통과시켜서 새로운 심볼릭 텐서 2개를 만들었습니다.  \n",
    "각각 64차원, 10차원 벡터인데 값이 정해지지는 않았습니다.  \n",
    "수학으로 치면 $y=f(x)$, $z=g(y)$를 생각하는 것과 같습니다."
   ]
  },
  {
   "cell_type": "code",
   "execution_count": 2,
   "id": "c5ae0772",
   "metadata": {
    "id": "c5ae0772"
   },
   "outputs": [
    {
     "name": "stdout",
     "output_type": "stream",
     "text": [
      "features : (None, 64), float32\n",
      "outputs : (None, 10), float32\n"
     ]
    }
   ],
   "source": [
    "features = Dense(64, activation=\"relu\")(inputs)\n",
    "outputs = Dense(10, activation=\"softmax\")(features)\n",
    "\n",
    "print(f\"features : {features.shape}, {features.dtype}\")\n",
    "print(f\"outputs : {outputs.shape}, {outputs.dtype}\")"
   ]
  },
  {
   "cell_type": "markdown",
   "id": "bc3583bb",
   "metadata": {
    "id": "bc3583bb"
   },
   "source": [
    "[tf.keras.Model](https://www.tensorflow.org/api_docs/python/tf/keras/Model)에 인수로 입력 심볼릭 텐서와 출력 심볼릭 텐서를 지정해 줌으로써 신경망을 구성할수 있습니다.  \n",
    "수학으로 치면 $z=(g \\circ f)(x)$를 생각하는 것과 같습니다."
   ]
  },
  {
   "cell_type": "code",
   "execution_count": 3,
   "id": "139bc8b4",
   "metadata": {
    "id": "139bc8b4"
   },
   "outputs": [
    {
     "data": {
      "text/html": [
       "<pre style=\"white-space:pre;overflow-x:auto;line-height:normal;font-family:Menlo,'DejaVu Sans Mono',consolas,'Courier New',monospace\"><span style=\"font-weight: bold\">Model: \"functional\"</span>\n",
       "</pre>\n"
      ],
      "text/plain": [
       "\u001b[1mModel: \"functional\"\u001b[0m\n"
      ]
     },
     "metadata": {},
     "output_type": "display_data"
    },
    {
     "data": {
      "text/html": [
       "<pre style=\"white-space:pre;overflow-x:auto;line-height:normal;font-family:Menlo,'DejaVu Sans Mono',consolas,'Courier New',monospace\">┏━━━━━━━━━━━━━━━━━━━━━━━━━━━━━━━━━┳━━━━━━━━━━━━━━━━━━━━━━━━┳━━━━━━━━━━━━━━━┓\n",
       "┃<span style=\"font-weight: bold\"> Layer (type)                    </span>┃<span style=\"font-weight: bold\"> Output Shape           </span>┃<span style=\"font-weight: bold\">       Param # </span>┃\n",
       "┡━━━━━━━━━━━━━━━━━━━━━━━━━━━━━━━━━╇━━━━━━━━━━━━━━━━━━━━━━━━╇━━━━━━━━━━━━━━━┩\n",
       "│ input_layer (<span style=\"color: #0087ff; text-decoration-color: #0087ff\">InputLayer</span>)        │ (<span style=\"color: #00d7ff; text-decoration-color: #00d7ff\">None</span>, <span style=\"color: #00af00; text-decoration-color: #00af00\">3</span>)              │             <span style=\"color: #00af00; text-decoration-color: #00af00\">0</span> │\n",
       "├─────────────────────────────────┼────────────────────────┼───────────────┤\n",
       "│ dense (<span style=\"color: #0087ff; text-decoration-color: #0087ff\">Dense</span>)                   │ (<span style=\"color: #00d7ff; text-decoration-color: #00d7ff\">None</span>, <span style=\"color: #00af00; text-decoration-color: #00af00\">64</span>)             │           <span style=\"color: #00af00; text-decoration-color: #00af00\">256</span> │\n",
       "├─────────────────────────────────┼────────────────────────┼───────────────┤\n",
       "│ dense_1 (<span style=\"color: #0087ff; text-decoration-color: #0087ff\">Dense</span>)                 │ (<span style=\"color: #00d7ff; text-decoration-color: #00d7ff\">None</span>, <span style=\"color: #00af00; text-decoration-color: #00af00\">10</span>)             │           <span style=\"color: #00af00; text-decoration-color: #00af00\">650</span> │\n",
       "└─────────────────────────────────┴────────────────────────┴───────────────┘\n",
       "</pre>\n"
      ],
      "text/plain": [
       "┏━━━━━━━━━━━━━━━━━━━━━━━━━━━━━━━━━┳━━━━━━━━━━━━━━━━━━━━━━━━┳━━━━━━━━━━━━━━━┓\n",
       "┃\u001b[1m \u001b[0m\u001b[1mLayer (type)                   \u001b[0m\u001b[1m \u001b[0m┃\u001b[1m \u001b[0m\u001b[1mOutput Shape          \u001b[0m\u001b[1m \u001b[0m┃\u001b[1m \u001b[0m\u001b[1m      Param #\u001b[0m\u001b[1m \u001b[0m┃\n",
       "┡━━━━━━━━━━━━━━━━━━━━━━━━━━━━━━━━━╇━━━━━━━━━━━━━━━━━━━━━━━━╇━━━━━━━━━━━━━━━┩\n",
       "│ input_layer (\u001b[38;5;33mInputLayer\u001b[0m)        │ (\u001b[38;5;45mNone\u001b[0m, \u001b[38;5;34m3\u001b[0m)              │             \u001b[38;5;34m0\u001b[0m │\n",
       "├─────────────────────────────────┼────────────────────────┼───────────────┤\n",
       "│ dense (\u001b[38;5;33mDense\u001b[0m)                   │ (\u001b[38;5;45mNone\u001b[0m, \u001b[38;5;34m64\u001b[0m)             │           \u001b[38;5;34m256\u001b[0m │\n",
       "├─────────────────────────────────┼────────────────────────┼───────────────┤\n",
       "│ dense_1 (\u001b[38;5;33mDense\u001b[0m)                 │ (\u001b[38;5;45mNone\u001b[0m, \u001b[38;5;34m10\u001b[0m)             │           \u001b[38;5;34m650\u001b[0m │\n",
       "└─────────────────────────────────┴────────────────────────┴───────────────┘\n"
      ]
     },
     "metadata": {},
     "output_type": "display_data"
    },
    {
     "data": {
      "text/html": [
       "<pre style=\"white-space:pre;overflow-x:auto;line-height:normal;font-family:Menlo,'DejaVu Sans Mono',consolas,'Courier New',monospace\"><span style=\"font-weight: bold\"> Total params: </span><span style=\"color: #00af00; text-decoration-color: #00af00\">906</span> (3.54 KB)\n",
       "</pre>\n"
      ],
      "text/plain": [
       "\u001b[1m Total params: \u001b[0m\u001b[38;5;34m906\u001b[0m (3.54 KB)\n"
      ]
     },
     "metadata": {},
     "output_type": "display_data"
    },
    {
     "data": {
      "text/html": [
       "<pre style=\"white-space:pre;overflow-x:auto;line-height:normal;font-family:Menlo,'DejaVu Sans Mono',consolas,'Courier New',monospace\"><span style=\"font-weight: bold\"> Trainable params: </span><span style=\"color: #00af00; text-decoration-color: #00af00\">906</span> (3.54 KB)\n",
       "</pre>\n"
      ],
      "text/plain": [
       "\u001b[1m Trainable params: \u001b[0m\u001b[38;5;34m906\u001b[0m (3.54 KB)\n"
      ]
     },
     "metadata": {},
     "output_type": "display_data"
    },
    {
     "data": {
      "text/html": [
       "<pre style=\"white-space:pre;overflow-x:auto;line-height:normal;font-family:Menlo,'DejaVu Sans Mono',consolas,'Courier New',monospace\"><span style=\"font-weight: bold\"> Non-trainable params: </span><span style=\"color: #00af00; text-decoration-color: #00af00\">0</span> (0.00 B)\n",
       "</pre>\n"
      ],
      "text/plain": [
       "\u001b[1m Non-trainable params: \u001b[0m\u001b[38;5;34m0\u001b[0m (0.00 B)\n"
      ]
     },
     "metadata": {},
     "output_type": "display_data"
    }
   ],
   "source": [
    "model = keras.Model(inputs=inputs, outputs=outputs)\n",
    "\n",
    "model.summary()"
   ]
  },
  {
   "cell_type": "markdown",
   "id": "f1ebea1e",
   "metadata": {
    "id": "f1ebea1e"
   },
   "source": [
    "**[실습1] (5분) Sequential API로 구현했던 다음 이진분류 신경망을 함수형 API로 다시 구현하고 summary를 출력하시오.**  \n",
    "![](https://drive.google.com/thumbnail?id=1qyTwfr1hPiFzpAflIPrlbjykCY9XGUT3&sz=s4000)"
   ]
  },
  {
   "cell_type": "code",
   "execution_count": 4,
   "id": "601787e8",
   "metadata": {
    "id": "601787e8"
   },
   "outputs": [
    {
     "data": {
      "text/html": [
       "<pre style=\"white-space:pre;overflow-x:auto;line-height:normal;font-family:Menlo,'DejaVu Sans Mono',consolas,'Courier New',monospace\"><span style=\"font-weight: bold\">Model: \"functional_1\"</span>\n",
       "</pre>\n"
      ],
      "text/plain": [
       "\u001b[1mModel: \"functional_1\"\u001b[0m\n"
      ]
     },
     "metadata": {},
     "output_type": "display_data"
    },
    {
     "data": {
      "text/html": [
       "<pre style=\"white-space:pre;overflow-x:auto;line-height:normal;font-family:Menlo,'DejaVu Sans Mono',consolas,'Courier New',monospace\">┏━━━━━━━━━━━━━━━━━━━━━━━━━━━━━━━━━┳━━━━━━━━━━━━━━━━━━━━━━━━┳━━━━━━━━━━━━━━━┓\n",
       "┃<span style=\"font-weight: bold\"> Layer (type)                    </span>┃<span style=\"font-weight: bold\"> Output Shape           </span>┃<span style=\"font-weight: bold\">       Param # </span>┃\n",
       "┡━━━━━━━━━━━━━━━━━━━━━━━━━━━━━━━━━╇━━━━━━━━━━━━━━━━━━━━━━━━╇━━━━━━━━━━━━━━━┩\n",
       "│ input_layer_1 (<span style=\"color: #0087ff; text-decoration-color: #0087ff\">InputLayer</span>)      │ (<span style=\"color: #00d7ff; text-decoration-color: #00d7ff\">None</span>, <span style=\"color: #00af00; text-decoration-color: #00af00\">10000</span>)          │             <span style=\"color: #00af00; text-decoration-color: #00af00\">0</span> │\n",
       "├─────────────────────────────────┼────────────────────────┼───────────────┤\n",
       "│ dense_2 (<span style=\"color: #0087ff; text-decoration-color: #0087ff\">Dense</span>)                 │ (<span style=\"color: #00d7ff; text-decoration-color: #00d7ff\">None</span>, <span style=\"color: #00af00; text-decoration-color: #00af00\">16</span>)             │       <span style=\"color: #00af00; text-decoration-color: #00af00\">160,016</span> │\n",
       "├─────────────────────────────────┼────────────────────────┼───────────────┤\n",
       "│ dense_3 (<span style=\"color: #0087ff; text-decoration-color: #0087ff\">Dense</span>)                 │ (<span style=\"color: #00d7ff; text-decoration-color: #00d7ff\">None</span>, <span style=\"color: #00af00; text-decoration-color: #00af00\">16</span>)             │           <span style=\"color: #00af00; text-decoration-color: #00af00\">272</span> │\n",
       "├─────────────────────────────────┼────────────────────────┼───────────────┤\n",
       "│ dense_4 (<span style=\"color: #0087ff; text-decoration-color: #0087ff\">Dense</span>)                 │ (<span style=\"color: #00d7ff; text-decoration-color: #00d7ff\">None</span>, <span style=\"color: #00af00; text-decoration-color: #00af00\">1</span>)              │            <span style=\"color: #00af00; text-decoration-color: #00af00\">17</span> │\n",
       "└─────────────────────────────────┴────────────────────────┴───────────────┘\n",
       "</pre>\n"
      ],
      "text/plain": [
       "┏━━━━━━━━━━━━━━━━━━━━━━━━━━━━━━━━━┳━━━━━━━━━━━━━━━━━━━━━━━━┳━━━━━━━━━━━━━━━┓\n",
       "┃\u001b[1m \u001b[0m\u001b[1mLayer (type)                   \u001b[0m\u001b[1m \u001b[0m┃\u001b[1m \u001b[0m\u001b[1mOutput Shape          \u001b[0m\u001b[1m \u001b[0m┃\u001b[1m \u001b[0m\u001b[1m      Param #\u001b[0m\u001b[1m \u001b[0m┃\n",
       "┡━━━━━━━━━━━━━━━━━━━━━━━━━━━━━━━━━╇━━━━━━━━━━━━━━━━━━━━━━━━╇━━━━━━━━━━━━━━━┩\n",
       "│ input_layer_1 (\u001b[38;5;33mInputLayer\u001b[0m)      │ (\u001b[38;5;45mNone\u001b[0m, \u001b[38;5;34m10000\u001b[0m)          │             \u001b[38;5;34m0\u001b[0m │\n",
       "├─────────────────────────────────┼────────────────────────┼───────────────┤\n",
       "│ dense_2 (\u001b[38;5;33mDense\u001b[0m)                 │ (\u001b[38;5;45mNone\u001b[0m, \u001b[38;5;34m16\u001b[0m)             │       \u001b[38;5;34m160,016\u001b[0m │\n",
       "├─────────────────────────────────┼────────────────────────┼───────────────┤\n",
       "│ dense_3 (\u001b[38;5;33mDense\u001b[0m)                 │ (\u001b[38;5;45mNone\u001b[0m, \u001b[38;5;34m16\u001b[0m)             │           \u001b[38;5;34m272\u001b[0m │\n",
       "├─────────────────────────────────┼────────────────────────┼───────────────┤\n",
       "│ dense_4 (\u001b[38;5;33mDense\u001b[0m)                 │ (\u001b[38;5;45mNone\u001b[0m, \u001b[38;5;34m1\u001b[0m)              │            \u001b[38;5;34m17\u001b[0m │\n",
       "└─────────────────────────────────┴────────────────────────┴───────────────┘\n"
      ]
     },
     "metadata": {},
     "output_type": "display_data"
    },
    {
     "data": {
      "text/html": [
       "<pre style=\"white-space:pre;overflow-x:auto;line-height:normal;font-family:Menlo,'DejaVu Sans Mono',consolas,'Courier New',monospace\"><span style=\"font-weight: bold\"> Total params: </span><span style=\"color: #00af00; text-decoration-color: #00af00\">160,305</span> (626.19 KB)\n",
       "</pre>\n"
      ],
      "text/plain": [
       "\u001b[1m Total params: \u001b[0m\u001b[38;5;34m160,305\u001b[0m (626.19 KB)\n"
      ]
     },
     "metadata": {},
     "output_type": "display_data"
    },
    {
     "data": {
      "text/html": [
       "<pre style=\"white-space:pre;overflow-x:auto;line-height:normal;font-family:Menlo,'DejaVu Sans Mono',consolas,'Courier New',monospace\"><span style=\"font-weight: bold\"> Trainable params: </span><span style=\"color: #00af00; text-decoration-color: #00af00\">160,305</span> (626.19 KB)\n",
       "</pre>\n"
      ],
      "text/plain": [
       "\u001b[1m Trainable params: \u001b[0m\u001b[38;5;34m160,305\u001b[0m (626.19 KB)\n"
      ]
     },
     "metadata": {},
     "output_type": "display_data"
    },
    {
     "data": {
      "text/html": [
       "<pre style=\"white-space:pre;overflow-x:auto;line-height:normal;font-family:Menlo,'DejaVu Sans Mono',consolas,'Courier New',monospace\"><span style=\"font-weight: bold\"> Non-trainable params: </span><span style=\"color: #00af00; text-decoration-color: #00af00\">0</span> (0.00 B)\n",
       "</pre>\n"
      ],
      "text/plain": [
       "\u001b[1m Non-trainable params: \u001b[0m\u001b[38;5;34m0\u001b[0m (0.00 B)\n"
      ]
     },
     "metadata": {},
     "output_type": "display_data"
    }
   ],
   "source": [
    "from keras.models import Model\n",
    "from keras.layers import Input\n",
    "\n",
    "input_ = Input(shape=(10000,))\n",
    "\n",
    "x1 = Dense(16, activation='relu')(input_)\n",
    "x2 = Dense(16, activation='relu')(x1)\n",
    "\n",
    "output_ = Dense(1, activation='softmax')(x2)\n",
    "\n",
    "model = Model(inputs=input_, outputs=output_)\n",
    "\n",
    "model.summary()"
   ]
  },
  {
   "cell_type": "markdown",
   "id": "6c74294a",
   "metadata": {
    "id": "6c74294a"
   },
   "source": [
    "함수형 API를 사용해서 다중입력-다중출력 신경망을 구성해 보겠습니다.  \n",
    "어떤 회사에서 홈페이지를 통해 고객으로부터 클레임을 접수받는다고 하죠.  \n",
    "고객은 제목란과 본문란에 클레임을 입력하고 체크 버튼을 눌러서 100개 카테고리중에 해당하는 만큼 선택한다고 하겠습니다.  \n",
    "여러분이 설계할 인공지능은 이를 입력받아 네 부서중 담당할 부서를 하나 선택하고 우선처리점수를 부여할 수 있어야 합니다.  \n",
    "앞에서 했던 텍스트 전처리 방식을 적용한다고 가정하겠습니다.  \n",
    "그러면 고객이 입력한 제목과 본문은 10,000차원 벡터로 전처리될것입니다.  \n",
    "\n",
    "[Concatenate](https://www.tensorflow.org/api_docs/python/tf/keras/layers/Concatenate)층에서는 입력 데이터들을 이어붙입니다.  \n",
    "이어붙이는 축은 디폴트값이 axis=-1입니다.  \n",
    "여기서는 행렬들이 입력될테니 옆으로 이어붙이겠네요.  \n",
    "실제로 10,000차원 + 10,000차원 + 100차원 = 20,100차원을 출력합니다.  \n",
    "\n",
    "네 부서중 담당부서 하나를 선택하는 문제는 다중분류문제이고 우선처리점수를 부여하는 문제는 회기문제입니다.  \n",
    "담당부서를 출력하는 층은 softmax로 끝나고 뉴런수가 넷입니다.  \n",
    "우선처리점수는 0부터 1까지라고 하겠습니다.  \n",
    "회귀문제이긴 한데 출력값이 0과 1사이여야하므로 우선처리점수를 출력하는 층은 sigmoid로 끝나고 하나의 뉴런을 갖습니다."
   ]
  },
  {
   "cell_type": "code",
   "execution_count": null,
   "id": "d26a319a",
   "metadata": {
    "id": "d26a319a"
   },
   "outputs": [],
   "source": [
    "from keras.layers import Concatenate\n",
    "from tensorflow.keras.utils import plot_model\n",
    "\n",
    "vocabulary_size = 10000\n",
    "num_tags = 100\n",
    "num_departments = 4\n",
    "\n",
    "title = keras.Input(shape=(vocabulary_size,), name=\"title\")\n",
    "text_body = keras.Input(shape=(vocabulary_size,), name=\"text_body\")\n",
    "tags = keras.Input(shape=(num_tags,), name=\"tags\")\n",
    "\n",
    "features = Concatenate()([title, text_body, tags])\n",
    "features = Dense(64, activation=\"relu\")(features)\n",
    "\n",
    "priority = Dense(1, activation=\"sigmoid\", name=\"priority\")(features)\n",
    "department = Dense(num_departments, activation=\"softmax\", name=\"department\")(features)\n",
    "\n",
    "model = keras.Model(inputs=[title, text_body, tags], outputs=[priority, department])\n",
    "\n",
    "plot_model(model, show_shapes=True, show_layer_activations=True)"
   ]
  },
  {
   "cell_type": "markdown",
   "id": "d4437acd",
   "metadata": {
    "id": "d4437acd"
   },
   "source": [
    "데이터를 랜덤하게 1,280개 만들어서 학습시키겠습니다.  \n",
    "제목 데이터과 텍스트 데이터는 랜덤하게 0과 1로 이루어진 1,280$\\times$10,000 행렬이고 태그 데이터는 랜덤하게 0과 1로 이루어진 1,280$\\times$100 행렬입니다.  \n",
    "우선처리점수 라벨은 0과 1사이에 랜덤하게 뽑은 1,280$\\times$1 행렬이고 부서 라벨은 랜덤한 4차원 원 핫 벡터들을 쌓아올린 1,280$\\times$4 행렬입니다.\n",
    "\n",
    "---\n",
    "분류와 회귀를 동시에 생각하는 신경망이기 때문에 학습설정시 우선처리점수부여는 평균제곱오차와 평균절대오차를 담당부서선택은 교차엔트로피와 정확도를 손실함수와 평가지표로 각각 선택해줍니다."
   ]
  },
  {
   "cell_type": "code",
   "execution_count": null,
   "id": "97573707",
   "metadata": {
    "id": "97573707"
   },
   "outputs": [],
   "source": [
    "import numpy as np\n",
    "\n",
    "num_samples = 1280\n",
    "\n",
    "title_data = np.random.randint(0, 2, size=(num_samples, vocabulary_size))\n",
    "text_body_data = np.random.randint(0, 2, size=(num_samples, vocabulary_size))\n",
    "tags_data = np.random.randint(0, 2, size=(num_samples, num_tags))\n",
    "\n",
    "priority_data = np.random.random(size=(num_samples, 1))\n",
    "department_data = np.zeros((num_samples, num_departments))\n",
    "department_data[range(num_samples), np.random.choice(num_departments, num_samples)] = 1\n",
    "\n",
    "model.compile(optimizer=\"rmsprop\",\n",
    "              loss=[\"mean_squared_error\", \"categorical_crossentropy\"],\n",
    "              metrics=[[\"mean_absolute_error\"], [\"accuracy\"]])\n",
    "model.fit([title_data, text_body_data, tags_data],\n",
    "          [priority_data, department_data],\n",
    "          epochs=1)\n",
    "model.evaluate([title_data, text_body_data, tags_data],\n",
    "               [priority_data, department_data])\n",
    "priority_preds, department_preds = model.predict([title_data, text_body_data, tags_data])"
   ]
  },
  {
   "cell_type": "markdown",
   "id": "acfc479e",
   "metadata": {
    "id": "acfc479e"
   },
   "source": [
    "위에서처럼 리스트로 입력하면 순서를 신경써야 합니다.  \n",
    "딕셔너리로 입력할수도 있습니다."
   ]
  },
  {
   "cell_type": "code",
   "execution_count": null,
   "id": "5415275a",
   "metadata": {
    "id": "5415275a"
   },
   "outputs": [],
   "source": [
    "model.compile(optimizer=\"rmsprop\",\n",
    "              loss={\"priority\": \"mean_squared_error\", \"department\": \"categorical_crossentropy\"},\n",
    "              metrics={\"priority\": \"mean_absolute_error\", \"department\": \"accuracy\"})\n",
    "model.fit({\"title\": title_data, \"text_body\": text_body_data, \"tags\": tags_data},\n",
    "          {\"priority\": priority_data, \"department\": department_data},\n",
    "          epochs=1)\n",
    "model.evaluate({\"title\": title_data, \"text_body\": text_body_data, \"tags\": tags_data},\n",
    "               {\"priority\": priority_data, \"department\": department_data})\n",
    "priority_preds, department_preds = model.predict(\n",
    "    {\"title\": title_data, \"text_body\": text_body_data, \"tags\": tags_data})"
   ]
  },
  {
   "cell_type": "markdown",
   "id": "b4c0a28c",
   "metadata": {
    "id": "b4c0a28c"
   },
   "source": [
    "첫번째 Affine층이 0부터 세면 4번째네요."
   ]
  },
  {
   "cell_type": "code",
   "execution_count": null,
   "id": "f03699af",
   "metadata": {
    "id": "f03699af"
   },
   "outputs": [],
   "source": [
    "model.summary()"
   ]
  },
  {
   "cell_type": "markdown",
   "id": "f6d25138",
   "metadata": {
    "id": "f6d25138"
   },
   "source": [
    "서비스가 시작되고 시간이 지나자 회사에서 클레임 처리 난이도를 상중하로 분류하는 기능을 인공지능에 추가하하고 싶어합니다.  \n",
    "첫번째 Affine층의 출력값을 받아서 3중 분류하는 층에 입력해야합니다.  \n",
    "분류문제이므로 softmax로 끝납니다.  \n",
    "새로 만들지 않고 기존 신경망에 새로운 층을 추가 함으로써 업데이트가 가능합니다.  \n",
    "이는 서비스 기간동안 미세조정한 기존 파라미터를 그대로 가져올수 있다는 것을 의미합니다."
   ]
  },
  {
   "cell_type": "code",
   "execution_count": null,
   "id": "284ca402",
   "metadata": {
    "id": "284ca402"
   },
   "outputs": [],
   "source": [
    "features = model.layers[4].output\n",
    "num_difficulty=3\n",
    "difficulty = Dense(num_difficulty, activation=\"softmax\", name=\"difficulty\")(features)\n",
    "\n",
    "new_model = keras.Model(\n",
    "    inputs=[title, text_body, tags],\n",
    "    outputs=[priority, department, difficulty])\n",
    "\n",
    "plot_model(new_model, show_shapes=True, show_layer_activations=True)"
   ]
  },
  {
   "cell_type": "markdown",
   "id": "01edffa2",
   "metadata": {
    "id": "01edffa2"
   },
   "source": [
    "**[실습2] (10분) 난이도 데이터를 랜덤하게 만든후 위 신경망에 대해 학습, 평가, 예측 과정을 진행하시오.**"
   ]
  },
  {
   "cell_type": "code",
   "execution_count": null,
   "id": "5e127467",
   "metadata": {
    "id": "5e127467"
   },
   "outputs": [],
   "source": []
  },
  {
   "cell_type": "markdown",
   "id": "2779982d",
   "metadata": {
    "id": "2779982d"
   },
   "source": [
    "# Subclassing API"
   ]
  },
  {
   "cell_type": "markdown",
   "id": "01605a6f",
   "metadata": {
    "id": "01605a6f"
   },
   "source": [
    "Subclassing API는 상속을 통해 신경망 클래스를 정의합니다.\n",
    "- 상속받을 클래스는 [tf.keras.Model](https://www.tensorflow.org/api_docs/python/tf/keras/Model)입니다.\n",
    "- 초기화할때 `super().__init__()`로 부모 클래스를 초기화합니다.\n",
    "- 초기화할때 각 층의 인스턴스를 만듭니다. 밑바닥부터 시작하는 딥러닝 코드도 그렇습니다.\n",
    "- 순전파는 `call`메서드로 작성합니다.  밑바닥부터 시작하는 딥러닝 코드의 `predict`메서드와 같은 역할입니다.\n",
    "- 각 층의 순전파는 `__call__` 메서드로 작성되어 있기 때문에 순전파시 메서드 이름을 따로 붙일 필요가 없고 각층의 인스턴스 이름이면 충분합니다. 밑바닥부터 시작하는 딥러닝 코드에서는 forward 메서드를 붙였습니다.  \n",
    "![](https://drive.google.com/thumbnail?id=1biPbvoEMm1S1cE593pVijgM2dgyLcgaI&sz=s4000)"
   ]
  },
  {
   "cell_type": "code",
   "execution_count": null,
   "id": "f4b9b0a7",
   "metadata": {
    "id": "f4b9b0a7"
   },
   "outputs": [],
   "source": [
    "class CustomerClaimModel(keras.Model):\n",
    "\n",
    "    def __init__(self, num_departments):\n",
    "        super().__init__()\n",
    "        self.concat_layer = Concatenate()\n",
    "        self.mixing_layer = Dense(64, activation=\"relu\")\n",
    "        self.priority_scorer = Dense(1, activation=\"sigmoid\")\n",
    "        self.department_classifier = Dense(num_departments, activation=\"softmax\")\n",
    "\n",
    "    def call(self, inputs):\n",
    "        title = inputs[\"title\"]\n",
    "        text_body = inputs[\"text_body\"]\n",
    "        tags = inputs[\"tags\"]\n",
    "\n",
    "        features = self.concat_layer([title, text_body, tags])\n",
    "        features = self.mixing_layer(features)\n",
    "        priority = self.priority_scorer(features)\n",
    "        department = self.department_classifier(features)\n",
    "        return priority, department"
   ]
  },
  {
   "cell_type": "markdown",
   "id": "f7e59756",
   "metadata": {
    "id": "f7e59756"
   },
   "source": [
    "인스턴스로 신경망을 생성합니다.  \n",
    "[tf.keras.Model](https://www.tensorflow.org/api_docs/python/tf/keras/Model)를 상속받았기 때문에 comple, fit, evaluate, predict 메서드를 모두 사용할 수 있습니다."
   ]
  },
  {
   "cell_type": "code",
   "execution_count": null,
   "id": "caba16be",
   "metadata": {
    "id": "caba16be"
   },
   "outputs": [],
   "source": [
    "model = CustomerClaimModel(num_departments=4)\n",
    "\n",
    "model.compile(optimizer=\"rmsprop\",\n",
    "              loss=[\"mean_squared_error\", \"categorical_crossentropy\"],\n",
    "              metrics=[[\"mean_absolute_error\"], [\"accuracy\"]])\n",
    "model.fit({\"title\": title_data,\n",
    "           \"text_body\": text_body_data,\n",
    "           \"tags\": tags_data},\n",
    "          [priority_data, department_data],\n",
    "          epochs=1)\n",
    "model.evaluate({\"title\": title_data,\n",
    "                \"text_body\": text_body_data,\n",
    "                \"tags\": tags_data},\n",
    "               [priority_data, department_data])\n",
    "priority_preds, department_preds = model.predict({\"title\": title_data,\n",
    "                                                  \"text_body\": text_body_data,\n",
    "                                                  \"tags\": tags_data})"
   ]
  },
  {
   "cell_type": "markdown",
   "id": "4ab39983",
   "metadata": {
    "id": "4ab39983"
   },
   "source": [
    "**[실습3] (10분) 1번 실습문제에서 함수형 API로 구현했던 신경망을 Subclassing API로 다시 구현하시오.**  \n",
    "![](https://drive.google.com/thumbnail?id=1qyTwfr1hPiFzpAflIPrlbjykCY9XGUT3&sz=s4000)"
   ]
  },
  {
   "cell_type": "code",
   "execution_count": null,
   "id": "7d6f5972",
   "metadata": {
    "id": "7d6f5972"
   },
   "outputs": [],
   "source": []
  },
  {
   "cell_type": "markdown",
   "id": "c5d98f81",
   "metadata": {
    "id": "c5d98f81"
   },
   "source": [
    "**[실습4] (5분) 2번 실습문제에서 훈련시킨 신경망을 Subclassing API로 다시 구현하시오.**"
   ]
  },
  {
   "cell_type": "code",
   "execution_count": null,
   "id": "8b65891c",
   "metadata": {
    "id": "8b65891c"
   },
   "outputs": [],
   "source": []
  }
 ],
 "metadata": {
  "colab": {
   "provenance": []
  },
  "kernelspec": {
   "display_name": "Python 3 (ipykernel)",
   "language": "python",
   "name": "python3"
  },
  "language_info": {
   "codemirror_mode": {
    "name": "ipython",
    "version": 3
   },
   "file_extension": ".py",
   "mimetype": "text/x-python",
   "name": "python",
   "nbconvert_exporter": "python",
   "pygments_lexer": "ipython3",
   "version": "3.10.14"
  }
 },
 "nbformat": 4,
 "nbformat_minor": 5
}
