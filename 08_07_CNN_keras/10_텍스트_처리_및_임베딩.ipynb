{
  "cells": [
    {
      "cell_type": "markdown",
      "metadata": {
        "id": "IflaNMlDefSR"
      },
      "source": [
        "# 케라스 텍스트 처리 및 임베딩\n",
        "\n",
        "- 코드 참조: 케라스 창시자에게 배우는 딥러닝\n",
        "\n"
      ]
    },
    {
      "cell_type": "markdown",
      "metadata": {
        "id": "4FUSW6WsehVW"
      },
      "source": [
        "## 용어 설명\n",
        "\n",
        "- `토큰(token)`\n",
        "  - 텍스트를 나누는 단위\n",
        "\n",
        "  - 토큰화(tokenization): 토큰으로 나누는 작업\n",
        "\n",
        "- `n-gram`\n",
        "  - 문장에서 추출한 N개(또는 그 이하)의 연속된 단어 그룹\n",
        "\n",
        "  - 같은 개념이 '문자'에도 적용가능\n",
        "\n",
        "  <img src=\"https://www.sqlservercentral.com/wp-content/uploads/legacy/0bf6a2bd621db172dba029ce3c712280a3f6aab3/29444.jpg\">\n",
        "\n",
        "  <sub>출처: https://www.sqlservercentral.com/articles/nasty-fast-n-grams-part-1-character-level-unigrams</sub>"
      ]
    },
    {
      "cell_type": "markdown",
      "metadata": {
        "id": "7pLA61IbtnZC"
      },
      "source": [
        "## 문자 수준 원-핫 인코딩"
      ]
    },
    {
      "cell_type": "code",
      "execution_count": 5,
      "metadata": {
        "id": "uo2drvFOebkZ"
      },
      "outputs": [],
      "source": [
        "import numpy as np\n",
        "\n",
        "samples = ['The cat sat on the mat.',\n",
        "           'The dog ate my homework.']\n",
        "\n",
        "token_index = {}"
      ]
    },
    {
      "cell_type": "code",
      "execution_count": 7,
      "metadata": {
        "id": "Ot1p-zxItyA6"
      },
      "outputs": [
        {
          "name": "stdout",
          "output_type": "stream",
          "text": [
            "{'The': 1, 'cat': 2, 'sat': 3, 'on': 4, 'the': 5, 'mat.': 6, 'dog': 7, 'ate': 8, 'my': 9, 'homework.': 10}\n"
          ]
        }
      ],
      "source": [
        "for sample in samples:\n",
        "    for word in sample.split():\n",
        "        if word not in token_index:\n",
        "            token_index[word] = len(token_index) + 1\n",
        "\n",
        "print(token_index)\n",
        "\n",
        "max_len = 10\n",
        "results = np.zeros(shape=(len(samples),\n",
        "                          max_len,\n",
        "                          max(token_index.values()) + 1))\n"
      ]
    },
    {
      "cell_type": "code",
      "execution_count": 8,
      "metadata": {
        "id": "l-yNFl8TuKMt"
      },
      "outputs": [
        {
          "data": {
            "text/plain": [
              "array([[[0., 1., 0., 0., 0., 0., 0., 0., 0., 0., 0.],\n",
              "        [0., 0., 1., 0., 0., 0., 0., 0., 0., 0., 0.],\n",
              "        [0., 0., 0., 1., 0., 0., 0., 0., 0., 0., 0.],\n",
              "        [0., 0., 0., 0., 1., 0., 0., 0., 0., 0., 0.],\n",
              "        [0., 0., 0., 0., 0., 1., 0., 0., 0., 0., 0.],\n",
              "        [0., 0., 0., 0., 0., 0., 1., 0., 0., 0., 0.],\n",
              "        [0., 0., 0., 0., 0., 0., 0., 0., 0., 0., 0.],\n",
              "        [0., 0., 0., 0., 0., 0., 0., 0., 0., 0., 0.],\n",
              "        [0., 0., 0., 0., 0., 0., 0., 0., 0., 0., 0.],\n",
              "        [0., 0., 0., 0., 0., 0., 0., 0., 0., 0., 0.]],\n",
              "\n",
              "       [[0., 1., 0., 0., 0., 0., 0., 0., 0., 0., 0.],\n",
              "        [0., 0., 0., 0., 0., 0., 0., 1., 0., 0., 0.],\n",
              "        [0., 0., 0., 0., 0., 0., 0., 0., 1., 0., 0.],\n",
              "        [0., 0., 0., 0., 0., 0., 0., 0., 0., 1., 0.],\n",
              "        [0., 0., 0., 0., 0., 0., 0., 0., 0., 0., 1.],\n",
              "        [0., 0., 0., 0., 0., 0., 0., 0., 0., 0., 0.],\n",
              "        [0., 0., 0., 0., 0., 0., 0., 0., 0., 0., 0.],\n",
              "        [0., 0., 0., 0., 0., 0., 0., 0., 0., 0., 0.],\n",
              "        [0., 0., 0., 0., 0., 0., 0., 0., 0., 0., 0.],\n",
              "        [0., 0., 0., 0., 0., 0., 0., 0., 0., 0., 0.]]])"
            ]
          },
          "execution_count": 8,
          "metadata": {},
          "output_type": "execute_result"
        }
      ],
      "source": [
        "for i, sample in enumerate(samples):\n",
        "    for j, word in list(enumerate(sample.split()))[:max_len]:\n",
        "        index = token_index.get(word)\n",
        "        results[i, j, index] = 1.\n",
        "\n",
        "results"
      ]
    },
    {
      "cell_type": "markdown",
      "metadata": {
        "id": "FTQMJ5f7uicB"
      },
      "source": [
        "## 케라스를 사용한 단어 수준 원-핫 인코딩\n",
        "\n",
        "- `fit_on_texts()`\n",
        "\n",
        "- `texts_to_sequences()`\n",
        "\n",
        "- `texts_to_matrix()`"
      ]
    },
    {
      "cell_type": "code",
      "execution_count": 9,
      "metadata": {
        "id": "yGzuiBqwukx7"
      },
      "outputs": [
        {
          "name": "stdout",
          "output_type": "stream",
          "text": [
            "9개의 고유한 토큰을 찾았습니다.\n"
          ]
        }
      ],
      "source": [
        "from tensorflow.keras.preprocessing.text import Tokenizer\n",
        "\n",
        "samples = ['The cat sat on the mat.',\n",
        "           'The dog ate my homework.']\n",
        "\n",
        "tokenizer = Tokenizer(num_words=1000)\n",
        "tokenizer.fit_on_texts(samples)\n",
        "\n",
        "sequences = tokenizer.texts_to_sequences(samples)\n",
        "\n",
        "one_hot_results = tokenizer.texts_to_matrix(samples, mode='binary')\n",
        "\n",
        "word_index = tokenizer.word_index\n",
        "print('%s개의 고유한 토큰을 찾았습니다.' % len(word_index)) # 위에는 10개"
      ]
    },
    {
      "cell_type": "code",
      "execution_count": 10,
      "metadata": {
        "id": "2zjbtYPbukvm"
      },
      "outputs": [
        {
          "data": {
            "text/plain": [
              "[[1, 2, 3, 4, 1, 5], [1, 6, 7, 8, 9]]"
            ]
          },
          "execution_count": 10,
          "metadata": {},
          "output_type": "execute_result"
        }
      ],
      "source": [
        "sequences"
      ]
    },
    {
      "cell_type": "code",
      "execution_count": 11,
      "metadata": {
        "id": "akOCIduiy9Be"
      },
      "outputs": [
        {
          "name": "stdout",
          "output_type": "stream",
          "text": [
            "(2, 1000)\n",
            "[[0. 1. 1. ... 0. 0. 0.]\n",
            " [0. 1. 0. ... 0. 0. 0.]]\n"
          ]
        }
      ],
      "source": [
        "print(one_hot_results.shape)\n",
        "print(one_hot_results)"
      ]
    },
    {
      "cell_type": "code",
      "execution_count": 12,
      "metadata": {
        "id": "a9glsKtCzDJZ"
      },
      "outputs": [
        {
          "data": {
            "text/plain": [
              "{'the': 1,\n",
              " 'cat': 2,\n",
              " 'sat': 3,\n",
              " 'on': 4,\n",
              " 'mat': 5,\n",
              " 'dog': 6,\n",
              " 'ate': 7,\n",
              " 'my': 8,\n",
              " 'homework': 9}"
            ]
          },
          "execution_count": 12,
          "metadata": {},
          "output_type": "execute_result"
        }
      ],
      "source": [
        "word_index"
      ]
    },
    {
      "cell_type": "markdown",
      "metadata": {
        "id": "0b4thb4_xoJd"
      },
      "source": [
        "### 토큰화 예제\n",
        "\n",
        "- `OOV` : Out of Vocabulary\n",
        "  - 새로운 문장에서 기존에 토큰화한 문장에 존재하지 않으면 OOV로 대체됨"
      ]
    },
    {
      "cell_type": "code",
      "execution_count": 15,
      "metadata": {
        "id": "VXSiy6AzxqYZ"
      },
      "outputs": [
        {
          "name": "stdout",
          "output_type": "stream",
          "text": [
            "{'<OOV>': 1, \"i'm\": 2, 'the': 3, 'student': 4, 'smartest': 5, 'best': 6}\n"
          ]
        }
      ],
      "source": [
        "from tensorflow.keras.preprocessing.text import Tokenizer\n",
        "\n",
        "samples = [\"I'm the smartest student.\",\n",
        "           \"I'm the best student.\"]\n",
        "\n",
        "tokenizer = Tokenizer(num_words=10, oov_token='<OOV>')\n",
        "tokenizer.fit_on_texts(samples)\n",
        "\n",
        "sequences = tokenizer.texts_to_sequences(samples)\n",
        "\n",
        "binary_results = tokenizer.texts_to_matrix(samples, mode='binary')\n",
        "\n",
        "word_index = tokenizer.word_index\n",
        "\n",
        "print(word_index) # 순서대로 안나오는 이유"
      ]
    },
    {
      "cell_type": "code",
      "execution_count": 16,
      "metadata": {
        "id": "7SaLoGGXxqb0"
      },
      "outputs": [
        {
          "data": {
            "text/plain": [
              "array([[0., 0., 1., 1., 1., 1., 0., 0., 0., 0.],\n",
              "       [0., 0., 1., 1., 1., 0., 1., 0., 0., 0.]])"
            ]
          },
          "execution_count": 16,
          "metadata": {},
          "output_type": "execute_result"
        }
      ],
      "source": [
        "binary_results"
      ]
    },
    {
      "cell_type": "markdown",
      "metadata": {
        "id": "dA5--lIu0ReW"
      },
      "source": [
        "테스트"
      ]
    },
    {
      "cell_type": "code",
      "execution_count": 19,
      "metadata": {
        "id": "KVNkjjvx0QIv"
      },
      "outputs": [],
      "source": [
        "test = [\"I'm the best student ever.\"]\n",
        "test_seq = tokenizer.texts_to_sequences(test)"
      ]
    },
    {
      "cell_type": "code",
      "execution_count": 20,
      "metadata": {
        "id": "DbbaoH2E38CX"
      },
      "outputs": [
        {
          "name": "stdout",
          "output_type": "stream",
          "text": [
            "word_index: {'<OOV>': 1, \"i'm\": 2, 'the': 3, 'student': 4, 'smartest': 5, 'best': 6}\n",
            "test text: [\"I'm the best student ever.\"]\n",
            "test_seq: [[2, 3, 6, 4, 1]]\n"
          ]
        }
      ],
      "source": [
        "print('word_index:', tokenizer.word_index)\n",
        "print('test text:', test)\n",
        "print('test_seq:', test_seq)"
      ]
    },
    {
      "cell_type": "markdown",
      "metadata": {
        "id": "DJbDRYOmsVhf"
      },
      "source": [
        "## 원-핫 단어 벡터와 단어 임베딩\n",
        "\n",
        "- `원-핫 단어 벡터`\n",
        "  - 데이터가 희소(sparse)\n",
        "\n",
        "  - 고차원\n",
        "\n",
        "- `단어 임베딩`\n",
        "  - 밀집(dense)\n",
        "\n",
        "  - 저차원\n",
        "\n",
        "  <img src=\"https://freecontent.manning.com/wp-content/uploads/Chollet_DLfT_02.png\" width=\"400\">\n",
        "\n",
        "  <sub>출처: https://freecontent.manning.com/deep-learning-for-text/</sub>"
      ]
    },
    {
      "cell_type": "markdown",
      "metadata": {
        "id": "v8czQwhBvcw3"
      },
      "source": [
        "## 단어 임베딩\n",
        "- 단어간 벡터사이의 **거리가 가까운**, 즉 비슷한 단어들끼리 임베딩\n",
        "\n",
        "- 거리 외에 임베딩 공간의 특정 방향도 의미를 가질 수 있음\n",
        "\n",
        "\n",
        "<img src=\"https://miro.medium.com/max/3010/1*OEmWDt4eztOcm5pr2QbxfA.png\">\n",
        "\n",
        "<sub>출처: https://towardsdatascience.com/creating-word-embeddings-coding-the-word2vec-algorithm-in-python-using-deep-learning-b337d0ba17a8</sub>\n"
      ]
    },
    {
      "cell_type": "markdown",
      "metadata": {
        "id": "ziKlhWUK1Wwx"
      },
      "source": [
        "## Embedding Layer\n",
        "\n",
        "- 특정 단어를 나타내는 정수 인덱스를 밀집 벡터(dense vector)로 매핑하는 딕셔너리 레이어\n",
        "\n",
        "- 입력: `(samples, sequence_length)`\n",
        "\n",
        "- 출력: `(samples, sequnece_length, dim)`"
      ]
    },
    {
      "cell_type": "code",
      "execution_count": 21,
      "metadata": {
        "id": "gNiREoxJvTa-"
      },
      "outputs": [
        {
          "data": {
            "text/plain": [
              "<Embedding name=embedding, built=False>"
            ]
          },
          "execution_count": 21,
          "metadata": {},
          "output_type": "execute_result"
        }
      ],
      "source": [
        "from tensorflow.keras.layers import Embedding\n",
        "\n",
        "embedding_layer = Embedding(1000, 64)\n",
        "embedding_layer"
      ]
    },
    {
      "cell_type": "markdown",
      "metadata": {
        "id": "0T4R-JlP2-6k"
      },
      "source": [
        "## 예제 : IMDB 데이터\n",
        "\n",
        "- 인터넷 영화 데이터베이스(Internet Movie Database)\n",
        "\n",
        "- 양극단의 리뷰 5만개로 이루어진 데이터셋\n",
        "  - 훈련데이터: 25,000개\n",
        "  - 테스트데이터 : 25,000개\n",
        "\n",
        "  <img src=\"https://encrypted-tbn0.gstatic.com/images?q=tbn%3AANd9GcQlk-f2SHB6-Vs3RWwIugMctsyEn2QVZWC5KQ&usqp=CAU\">\n",
        "\n",
        "- https://www.imdb.com/interfaces/"
      ]
    },
    {
      "cell_type": "markdown",
      "metadata": {
        "id": "gxmuXi9L3-O2"
      },
      "source": [
        "### module import"
      ]
    },
    {
      "cell_type": "code",
      "execution_count": 22,
      "metadata": {
        "id": "XrfsUoGS2EVN"
      },
      "outputs": [],
      "source": [
        "from tensorflow.keras.datasets import imdb\n",
        "from tensorflow.keras.models import Sequential\n",
        "from tensorflow.keras.layers import Flatten, Dense, Embedding"
      ]
    },
    {
      "cell_type": "markdown",
      "metadata": {
        "id": "YyMXXlpY4Ajz"
      },
      "source": [
        "### 데이터 로드"
      ]
    },
    {
      "cell_type": "code",
      "execution_count": 24,
      "metadata": {
        "id": "wNnbw2tH2EiP"
      },
      "outputs": [],
      "source": [
        "num_words = 1000\n",
        "max_len = 20\n",
        "\n",
        "(x_train, y_train), (x_test, y_test) = imdb.load_data(num_words=num_words)"
      ]
    },
    {
      "cell_type": "code",
      "execution_count": 25,
      "metadata": {
        "id": "OGnkPs_U2Ezk"
      },
      "outputs": [
        {
          "name": "stdout",
          "output_type": "stream",
          "text": [
            "(25000,)\n",
            "(25000,)\n",
            "(25000,)\n",
            "(25000,)\n"
          ]
        }
      ],
      "source": [
        "print(x_train.shape)\n",
        "print(y_train.shape)\n",
        "print(x_test.shape)\n",
        "print(y_test.shape)"
      ]
    },
    {
      "cell_type": "markdown",
      "metadata": {
        "id": "bvtDvmuX4_JB"
      },
      "source": [
        "### 데이터 확인\n",
        "- 긍정: 1\n",
        "- 부정: 0"
      ]
    },
    {
      "cell_type": "code",
      "execution_count": 26,
      "metadata": {
        "id": "wFruX-Vp2ExJ"
      },
      "outputs": [
        {
          "name": "stdout",
          "output_type": "stream",
          "text": [
            "[1, 14, 22, 16, 43, 530, 973, 2, 2, 65, 458, 2, 66, 2, 4, 173, 36, 256, 5, 25, 100, 43, 838, 112, 50, 670, 2, 9, 35, 480, 284, 5, 150, 4, 172, 112, 167, 2, 336, 385, 39, 4, 172, 2, 2, 17, 546, 38, 13, 447, 4, 192, 50, 16, 6, 147, 2, 19, 14, 22, 4, 2, 2, 469, 4, 22, 71, 87, 12, 16, 43, 530, 38, 76, 15, 13, 2, 4, 22, 17, 515, 17, 12, 16, 626, 18, 2, 5, 62, 386, 12, 8, 316, 8, 106, 5, 4, 2, 2, 16, 480, 66, 2, 33, 4, 130, 12, 16, 38, 619, 5, 25, 124, 51, 36, 135, 48, 25, 2, 33, 6, 22, 12, 215, 28, 77, 52, 5, 14, 407, 16, 82, 2, 8, 4, 107, 117, 2, 15, 256, 4, 2, 7, 2, 5, 723, 36, 71, 43, 530, 476, 26, 400, 317, 46, 7, 4, 2, 2, 13, 104, 88, 4, 381, 15, 297, 98, 32, 2, 56, 26, 141, 6, 194, 2, 18, 4, 226, 22, 21, 134, 476, 26, 480, 5, 144, 30, 2, 18, 51, 36, 28, 224, 92, 25, 104, 4, 226, 65, 16, 38, 2, 88, 12, 16, 283, 5, 16, 2, 113, 103, 32, 15, 16, 2, 19, 178, 32]\n",
            "1\n"
          ]
        }
      ],
      "source": [
        "print(x_train[0])\n",
        "print(y_train[0])"
      ]
    },
    {
      "cell_type": "code",
      "execution_count": 27,
      "metadata": {
        "id": "xSZ37jXC5qoj"
      },
      "outputs": [
        {
          "name": "stdout",
          "output_type": "stream",
          "text": [
            "긍정 : [1, 14, 22, 16, 43, 530, 973, 2, 2, 65, 458, 2, 66, 2, 4, 173, 36, 256, 5, 25, 100, 43, 838, 112, 50, 670, 2, 9, 35, 480, 284, 5, 150, 4, 172, 112, 167, 2, 336, 385, 39, 4, 172, 2, 2, 17, 546, 38, 13, 447, 4, 192, 50, 16, 6, 147, 2, 19, 14, 22, 4, 2, 2, 469, 4, 22, 71, 87, 12, 16, 43, 530, 38, 76, 15, 13, 2, 4, 22, 17, 515, 17, 12, 16, 626, 18, 2, 5, 62, 386, 12, 8, 316, 8, 106, 5, 4, 2, 2, 16, 480, 66, 2, 33, 4, 130, 12, 16, 38, 619, 5, 25, 124, 51, 36, 135, 48, 25, 2, 33, 6, 22, 12, 215, 28, 77, 52, 5, 14, 407, 16, 82, 2, 8, 4, 107, 117, 2, 15, 256, 4, 2, 7, 2, 5, 723, 36, 71, 43, 530, 476, 26, 400, 317, 46, 7, 4, 2, 2, 13, 104, 88, 4, 381, 15, 297, 98, 32, 2, 56, 26, 141, 6, 194, 2, 18, 4, 226, 22, 21, 134, 476, 26, 480, 5, 144, 30, 2, 18, 51, 36, 28, 224, 92, 25, 104, 4, 226, 65, 16, 38, 2, 88, 12, 16, 283, 5, 16, 2, 113, 103, 32, 15, 16, 2, 19, 178, 32]\n",
            "부정 : [1, 194, 2, 194, 2, 78, 228, 5, 6, 2, 2, 2, 134, 26, 4, 715, 8, 118, 2, 14, 394, 20, 13, 119, 954, 189, 102, 5, 207, 110, 2, 21, 14, 69, 188, 8, 30, 23, 7, 4, 249, 126, 93, 4, 114, 9, 2, 2, 5, 647, 4, 116, 9, 35, 2, 4, 229, 9, 340, 2, 4, 118, 9, 4, 130, 2, 19, 4, 2, 5, 89, 29, 952, 46, 37, 4, 455, 9, 45, 43, 38, 2, 2, 398, 4, 2, 26, 2, 5, 163, 11, 2, 2, 4, 2, 9, 194, 775, 7, 2, 2, 349, 2, 148, 605, 2, 2, 15, 123, 125, 68, 2, 2, 15, 349, 165, 2, 98, 5, 4, 228, 9, 43, 2, 2, 15, 299, 120, 5, 120, 174, 11, 220, 175, 136, 50, 9, 2, 228, 2, 5, 2, 656, 245, 2, 5, 4, 2, 131, 152, 491, 18, 2, 32, 2, 2, 14, 9, 6, 371, 78, 22, 625, 64, 2, 9, 8, 168, 145, 23, 4, 2, 15, 16, 4, 2, 5, 28, 6, 52, 154, 462, 33, 89, 78, 285, 16, 145, 95]\n",
            "부정 : [1, 14, 47, 8, 30, 31, 7, 4, 249, 108, 7, 4, 2, 54, 61, 369, 13, 71, 149, 14, 22, 112, 4, 2, 311, 12, 16, 2, 33, 75, 43, 2, 296, 4, 86, 320, 35, 534, 19, 263, 2, 2, 4, 2, 33, 89, 78, 12, 66, 16, 4, 360, 7, 4, 58, 316, 334, 11, 4, 2, 43, 645, 662, 8, 257, 85, 2, 42, 2, 2, 83, 68, 2, 15, 36, 165, 2, 278, 36, 69, 2, 780, 8, 106, 14, 2, 2, 18, 6, 22, 12, 215, 28, 610, 40, 6, 87, 326, 23, 2, 21, 23, 22, 12, 272, 40, 57, 31, 11, 4, 22, 47, 6, 2, 51, 9, 170, 23, 595, 116, 595, 2, 13, 191, 79, 638, 89, 2, 14, 9, 8, 106, 607, 624, 35, 534, 6, 227, 7, 129, 113]\n",
            "긍정 : [1, 4, 2, 2, 33, 2, 4, 2, 432, 111, 153, 103, 4, 2, 13, 70, 131, 67, 11, 61, 2, 744, 35, 2, 761, 61, 2, 452, 2, 4, 985, 7, 2, 59, 166, 4, 105, 216, 2, 41, 2, 9, 15, 7, 35, 744, 2, 31, 8, 4, 687, 23, 4, 2, 2, 6, 2, 42, 38, 39, 121, 59, 456, 10, 10, 7, 265, 12, 575, 111, 153, 159, 59, 16, 2, 21, 25, 586, 482, 39, 4, 96, 59, 716, 12, 4, 172, 65, 9, 579, 11, 2, 4, 2, 5, 2, 7, 2, 17, 13, 2, 12, 19, 6, 464, 31, 314, 11, 2, 6, 719, 605, 11, 8, 202, 27, 310, 4, 2, 2, 8, 2, 58, 10, 10, 537, 2, 180, 40, 14, 413, 173, 7, 263, 112, 37, 152, 377, 4, 537, 263, 846, 579, 178, 54, 75, 71, 476, 36, 413, 263, 2, 182, 5, 17, 75, 2, 922, 36, 279, 131, 2, 17, 2, 42, 17, 35, 921, 2, 192, 5, 2, 2, 19, 2, 217, 2, 2, 537, 2, 2, 5, 736, 10, 10, 61, 403, 9, 2, 40, 61, 2, 5, 27, 2, 159, 90, 263, 2, 2, 309, 8, 178, 5, 82, 2, 4, 65, 15, 2, 145, 143, 2, 12, 2, 537, 746, 537, 537, 15, 2, 4, 2, 594, 7, 2, 94, 2, 2, 2, 11, 2, 4, 538, 7, 2, 246, 2, 9, 2, 11, 635, 14, 9, 51, 408, 12, 94, 318, 2, 12, 47, 6, 2, 936, 5, 2, 2, 19, 49, 7, 4, 2, 2, 2, 25, 80, 126, 842, 10, 10, 2, 2, 2, 27, 2, 11, 2, 2, 159, 27, 341, 29, 2, 19, 2, 173, 7, 90, 2, 8, 30, 11, 4, 2, 86, 2, 8, 2, 46, 11, 2, 21, 29, 9, 2, 23, 4, 2, 2, 793, 6, 2, 2, 2, 10, 10, 246, 50, 9, 6, 2, 2, 746, 90, 29, 2, 8, 124, 4, 882, 4, 882, 496, 27, 2, 2, 537, 121, 127, 2, 130, 5, 29, 494, 8, 124, 4, 882, 496, 4, 341, 7, 27, 846, 10, 10, 29, 9, 2, 8, 97, 6, 236, 2, 2, 8, 4, 2, 7, 31, 7, 2, 91, 2, 2, 70, 4, 882, 30, 579, 42, 9, 12, 32, 11, 537, 10, 10, 11, 14, 65, 44, 537, 75, 2, 2, 2, 2, 2, 4, 2, 7, 154, 5, 4, 518, 53, 2, 2, 7, 2, 882, 11, 399, 38, 75, 257, 2, 19, 2, 17, 29, 456, 4, 65, 7, 27, 205, 113, 10, 10, 2, 4, 2, 2, 9, 242, 4, 91, 2, 2, 5, 2, 307, 22, 7, 2, 126, 93, 40, 2, 13, 188, 2, 2, 19, 4, 2, 7, 2, 537, 23, 53, 537, 21, 82, 40, 2, 13, 2, 14, 280, 13, 219, 4, 2, 431, 758, 859, 4, 953, 2, 2, 7, 2, 5, 94, 40, 25, 238, 60, 2, 4, 2, 804, 2, 7, 4, 2, 132, 8, 67, 6, 22, 15, 9, 283, 8, 2, 14, 31, 9, 242, 955, 48, 25, 279, 2, 23, 12, 2, 195, 25, 238, 60, 796, 2, 4, 671, 7, 2, 5, 4, 559, 154, 888, 7, 726, 50, 26, 49, 2, 15, 566, 30, 579, 21, 64, 2]\n",
            "부정 : [1, 249, 2, 7, 61, 113, 10, 10, 13, 2, 14, 20, 56, 33, 2, 18, 457, 88, 13, 2, 2, 45, 2, 13, 70, 79, 49, 706, 919, 13, 16, 355, 340, 355, 2, 96, 143, 4, 22, 32, 289, 7, 61, 369, 71, 2, 5, 13, 16, 131, 2, 249, 114, 249, 229, 249, 20, 13, 28, 126, 110, 13, 473, 8, 569, 61, 419, 56, 429, 6, 2, 18, 35, 534, 95, 474, 570, 5, 25, 124, 138, 88, 12, 421, 2, 52, 725, 2, 61, 419, 11, 13, 2, 15, 2, 20, 11, 4, 2, 5, 296, 12, 2, 5, 15, 421, 128, 74, 233, 334, 207, 126, 224, 12, 562, 298, 2, 2, 7, 2, 5, 516, 988, 43, 8, 79, 120, 15, 595, 13, 784, 25, 2, 18, 165, 170, 143, 19, 14, 5, 2, 6, 226, 251, 7, 61, 113]\n",
            "부정 : [1, 778, 128, 74, 12, 630, 163, 15, 4, 2, 2, 2, 2, 32, 85, 156, 45, 40, 148, 139, 121, 664, 665, 10, 10, 2, 173, 4, 749, 2, 16, 2, 8, 4, 226, 65, 12, 43, 127, 24, 2, 10, 10]\n",
            "긍정 : [1, 2, 365, 2, 5, 2, 354, 11, 14, 2, 2, 7, 2, 2, 2, 356, 44, 4, 2, 500, 746, 5, 200, 4, 2, 11, 2, 2, 2, 2, 2, 5, 2, 26, 6, 2, 2, 17, 369, 37, 215, 2, 143, 2, 5, 2, 8, 2, 15, 36, 119, 257, 85, 52, 486, 9, 6, 2, 2, 63, 271, 6, 196, 96, 949, 2, 4, 2, 7, 4, 2, 2, 819, 63, 47, 77, 2, 180, 6, 227, 11, 94, 2, 2, 13, 423, 4, 168, 7, 4, 22, 5, 89, 665, 71, 270, 56, 5, 13, 197, 12, 161, 2, 99, 76, 23, 2, 7, 419, 665, 40, 91, 85, 108, 7, 4, 2, 5, 2, 81, 55, 52, 2]\n",
            "부정 : [1, 4, 2, 716, 4, 65, 7, 4, 689, 2, 2, 2, 2, 2, 2, 2, 2, 2, 2, 2, 2, 2, 4, 2, 628, 2, 37, 9, 150, 4, 2, 2, 11, 2, 4, 2, 847, 313, 6, 176, 2, 9, 2, 138, 9, 2, 19, 4, 96, 183, 26, 4, 192, 15, 27, 2, 799, 2, 2, 588, 84, 11, 4, 2, 152, 339, 2, 42, 2, 2, 2, 345, 2, 2, 142, 43, 218, 208, 54, 29, 853, 659, 46, 4, 882, 183, 80, 115, 30, 4, 172, 174, 10, 10, 2, 398, 2, 2, 526, 34, 2, 2, 2, 2, 17, 4, 2, 2, 871, 64, 85, 22, 2, 2, 38, 230, 9, 4, 2, 2, 251, 2, 2, 195, 301, 14, 16, 31, 7, 4, 2, 8, 783, 2, 33, 4, 2, 103, 465, 2, 42, 845, 45, 446, 11, 2, 19, 184, 76, 32, 4, 2, 207, 110, 13, 197, 4, 2, 16, 601, 964, 2, 595, 13, 258, 4, 2, 66, 338, 55, 2, 4, 550, 728, 65, 2, 8, 2, 61, 2, 42, 2, 61, 602, 120, 45, 2, 6, 320, 786, 99, 196, 2, 786, 2, 4, 225, 4, 373, 2, 33, 4, 130, 63, 69, 72, 2, 46, 2, 225, 14, 66, 194, 2, 2, 56, 8, 803, 2, 6, 2, 155, 11, 4, 2, 2, 45, 853, 2, 8, 30, 6, 117, 430, 19, 6, 2, 9, 15, 66, 424, 8, 2, 178, 9, 15, 66, 424, 8, 2, 178, 9, 15, 66, 142, 15, 9, 424, 8, 28, 178, 662, 44, 12, 17, 4, 130, 898, 2, 9, 6, 2, 267, 185, 430, 4, 118, 2, 277, 15, 4, 2, 100, 216, 56, 19, 4, 357, 114, 2, 367, 45, 115, 93, 788, 121, 4, 2, 79, 32, 68, 278, 39, 8, 818, 162, 2, 237, 600, 7, 98, 306, 8, 157, 549, 628, 11, 6, 2, 13, 824, 15, 2, 76, 42, 138, 36, 774, 77, 2, 159, 150, 4, 229, 497, 8, 2, 11, 175, 251, 453, 19, 2, 189, 12, 43, 127, 6, 394, 292, 7, 2, 4, 107, 8, 4, 2, 15, 2, 2, 9, 906, 42, 2, 6, 66, 78, 22, 15, 13, 244, 2, 8, 135, 233, 52, 44, 10, 10, 466, 112, 398, 526, 34, 4, 2, 2, 2, 2, 225, 57, 599, 133, 225, 6, 227, 7, 541, 2, 6, 171, 139, 7, 539, 2, 56, 11, 6, 2, 21, 164, 25, 426, 81, 33, 344, 624, 19, 6, 2, 7, 2, 2, 6, 2, 4, 22, 9, 2, 629, 237, 45, 188, 6, 55, 655, 707, 2, 956, 225, 2, 841, 42, 2, 225, 6, 2, 2, 2, 2, 21, 4, 2, 9, 364, 23, 4, 2, 2, 225, 24, 76, 133, 18, 4, 189, 2, 10, 10, 814, 11, 2, 11, 2, 14, 47, 15, 682, 364, 352, 168, 44, 12, 45, 24, 913, 93, 21, 247, 2, 4, 116, 34, 35, 2, 8, 72, 177, 9, 164, 8, 901, 344, 44, 13, 191, 135, 13, 126, 421, 233, 18, 259, 10, 10, 4, 2, 2, 4, 2, 2, 7, 112, 199, 753, 357, 39, 63, 12, 115, 2, 763, 8, 15, 35, 2, 2, 65, 57, 599, 6, 2, 277, 2, 37, 25, 92, 202, 6, 2, 44, 25, 28, 6, 22, 15, 122, 24, 2, 72, 33, 32]\n",
            "긍정 : [1, 43, 188, 46, 5, 566, 264, 51, 6, 530, 664, 14, 9, 2, 81, 25, 2, 46, 7, 6, 20, 750, 11, 141, 2, 5, 2, 2, 102, 28, 413, 38, 120, 2, 15, 4, 2, 7, 2, 142, 371, 318, 5, 955, 2, 571, 2, 2, 122, 14, 8, 72, 54, 12, 86, 385, 46, 5, 14, 20, 9, 399, 8, 72, 150, 13, 161, 124, 6, 155, 44, 14, 159, 170, 83, 12, 5, 51, 6, 866, 48, 25, 842, 4, 2, 25, 238, 79, 4, 547, 15, 14, 9, 31, 7, 148, 2, 102, 44, 35, 480, 2, 2, 19, 120, 4, 350, 228, 5, 269, 8, 28, 178, 2, 2, 7, 51, 6, 87, 65, 12, 9, 979, 21, 95, 24, 2, 178, 11, 2, 14, 9, 24, 15, 20, 4, 84, 376, 4, 65, 14, 127, 141, 6, 52, 292, 7, 2, 175, 561, 7, 68, 2, 137, 75, 2, 68, 182, 5, 235, 175, 333, 19, 98, 50, 9, 38, 76, 724, 4, 2, 15, 166, 285, 36, 140, 143, 38, 76, 53, 2, 2, 4, 2, 16, 82, 6, 87, 2, 44, 2, 2, 5, 800, 4, 2, 11, 35, 2, 96, 21, 14, 22, 9, 76, 53, 7, 6, 406, 65, 13, 43, 219, 12, 639, 21, 13, 80, 140, 5, 135, 15, 14, 9, 31, 7, 4, 118, 2, 13, 28, 126, 110]\n",
            "부정 : [1, 14, 20, 47, 111, 439, 2, 19, 12, 15, 166, 12, 216, 125, 40, 6, 364, 352, 707, 2, 39, 294, 11, 22, 396, 13, 28, 8, 202, 12, 2, 23, 94, 2, 151, 111, 211, 469, 4, 20, 13, 258, 546, 2, 2, 12, 16, 38, 78, 33, 211, 15, 12, 16, 2, 63, 93, 12, 6, 253, 106, 10, 10, 48, 335, 267, 18, 6, 364, 2, 2, 20, 19, 6, 2, 7, 2, 189, 5, 6, 2, 7, 2, 2, 95, 2, 6, 2, 7, 2, 2, 49, 369, 120, 5, 28, 49, 253, 10, 10, 13, 2, 19, 85, 795, 15, 4, 481, 9, 55, 78, 807, 9, 375, 8, 2, 8, 794, 76, 7, 4, 58, 5, 4, 816, 9, 243, 7, 43, 50]\n"
          ]
        }
      ],
      "source": [
        "for i in range(10):\n",
        "    if y_train[i] == 0:\n",
        "      label = '부정'\n",
        "    else:\n",
        "      label = '긍정'\n",
        "    print(label, ':', x_train[i])"
      ]
    },
    {
      "cell_type": "markdown",
      "metadata": {
        "id": "WyIx55fz5SzY"
      },
      "source": [
        "### (참고) IMDB 데이터셋에서 가장 많이 사용된 단어"
      ]
    },
    {
      "cell_type": "code",
      "execution_count": 28,
      "metadata": {
        "id": "KvpkbtUV2EwF"
      },
      "outputs": [
        {
          "name": "stdout",
          "output_type": "stream",
          "text": [
            "the\n",
            "and\n",
            "a\n",
            "of\n",
            "to\n"
          ]
        }
      ],
      "source": [
        "word_index = {}\n",
        "\n",
        "for key, val in imdb.get_word_index().items():\n",
        "    word_index[val] = key\n",
        "\n",
        "for i in range(1, 6):\n",
        "    print(word_index[i])\n"
      ]
    },
    {
      "cell_type": "markdown",
      "metadata": {
        "id": "izJKnVgY7NWl"
      },
      "source": [
        "### 데이터 전처리\n",
        "- 모든 데이터를 같은 길이로 맞추기\n",
        "\n",
        "  - `pad_sequence()`\n",
        "    - 데이터가 maxlen보다 길면 데이터를 자름\n",
        "\n",
        "    - 데이터가 짧으면 `padding` 설정\n",
        "      - `pre`: 데이터 앞에 0으로 채움\n",
        "      -  `post`: 데이터 뒤에 0으로 채움\n",
        "\n",
        "\n",
        "- 모든 데이터(문장 하나하나)가 같은 길이로 맞추어야 `Embedding` 레이어를 사용할 수 있음"
      ]
    },
    {
      "cell_type": "code",
      "execution_count": 29,
      "metadata": {
        "id": "oAF2ZRV32Eup"
      },
      "outputs": [],
      "source": [
        "from tensorflow.keras.preprocessing.sequence import pad_sequences\n",
        "\n",
        "pad_x_train = pad_sequences(x_train, maxlen=max_len, padding='pre')\n",
        "pad_x_test = pad_sequences(x_test, maxlen=max_len, padding='pre')"
      ]
    },
    {
      "cell_type": "code",
      "execution_count": 30,
      "metadata": {
        "id": "NOEVDkuD2EqT"
      },
      "outputs": [
        {
          "name": "stdout",
          "output_type": "stream",
          "text": [
            "218\n",
            "20\n"
          ]
        }
      ],
      "source": [
        "print(len(x_train[0]))\n",
        "print(len(pad_x_train[0]))"
      ]
    },
    {
      "cell_type": "code",
      "execution_count": 31,
      "metadata": {
        "id": "nwpMCUb92Eoe"
      },
      "outputs": [
        {
          "name": "stdout",
          "output_type": "stream",
          "text": [
            "[1, 14, 22, 16, 43, 530, 973, 2, 2, 65, 458, 2, 66, 2, 4, 173, 36, 256, 5, 25, 100, 43, 838, 112, 50, 670, 2, 9, 35, 480, 284, 5, 150, 4, 172, 112, 167, 2, 336, 385, 39, 4, 172, 2, 2, 17, 546, 38, 13, 447, 4, 192, 50, 16, 6, 147, 2, 19, 14, 22, 4, 2, 2, 469, 4, 22, 71, 87, 12, 16, 43, 530, 38, 76, 15, 13, 2, 4, 22, 17, 515, 17, 12, 16, 626, 18, 2, 5, 62, 386, 12, 8, 316, 8, 106, 5, 4, 2, 2, 16, 480, 66, 2, 33, 4, 130, 12, 16, 38, 619, 5, 25, 124, 51, 36, 135, 48, 25, 2, 33, 6, 22, 12, 215, 28, 77, 52, 5, 14, 407, 16, 82, 2, 8, 4, 107, 117, 2, 15, 256, 4, 2, 7, 2, 5, 723, 36, 71, 43, 530, 476, 26, 400, 317, 46, 7, 4, 2, 2, 13, 104, 88, 4, 381, 15, 297, 98, 32, 2, 56, 26, 141, 6, 194, 2, 18, 4, 226, 22, 21, 134, 476, 26, 480, 5, 144, 30, 2, 18, 51, 36, 28, 224, 92, 25, 104, 4, 226, 65, 16, 38, 2, 88, 12, 16, 283, 5, 16, 2, 113, 103, 32, 15, 16, 2, 19, 178, 32]\n",
            "[ 65  16  38   2  88  12  16 283   5  16   2 113 103  32  15  16   2  19\n",
            " 178  32]\n"
          ]
        }
      ],
      "source": [
        "print(x_train[0])\n",
        "print(pad_x_train[0]) # 짜른 기준이 뭐지??"
      ]
    },
    {
      "cell_type": "markdown",
      "metadata": {
        "id": "iVSjFumg-TBt"
      },
      "source": [
        "### 모델 구성"
      ]
    },
    {
      "cell_type": "code",
      "execution_count": 32,
      "metadata": {
        "id": "Blq1UZP92Ed4"
      },
      "outputs": [
        {
          "name": "stderr",
          "output_type": "stream",
          "text": [
            "c:\\Users\\USER\\miniconda3\\envs\\venv\\lib\\site-packages\\keras\\src\\layers\\core\\embedding.py:90: UserWarning: Argument `input_length` is deprecated. Just remove it.\n",
            "  warnings.warn(\n"
          ]
        },
        {
          "data": {
            "text/html": [
              "<pre style=\"white-space:pre;overflow-x:auto;line-height:normal;font-family:Menlo,'DejaVu Sans Mono',consolas,'Courier New',monospace\"><span style=\"font-weight: bold\">Model: \"sequential\"</span>\n",
              "</pre>\n"
            ],
            "text/plain": [
              "\u001b[1mModel: \"sequential\"\u001b[0m\n"
            ]
          },
          "metadata": {},
          "output_type": "display_data"
        },
        {
          "data": {
            "text/html": [
              "<pre style=\"white-space:pre;overflow-x:auto;line-height:normal;font-family:Menlo,'DejaVu Sans Mono',consolas,'Courier New',monospace\">┏━━━━━━━━━━━━━━━━━━━━━━━━━━━━━━━━━┳━━━━━━━━━━━━━━━━━━━━━━━━┳━━━━━━━━━━━━━━━┓\n",
              "┃<span style=\"font-weight: bold\"> Layer (type)                    </span>┃<span style=\"font-weight: bold\"> Output Shape           </span>┃<span style=\"font-weight: bold\">       Param # </span>┃\n",
              "┡━━━━━━━━━━━━━━━━━━━━━━━━━━━━━━━━━╇━━━━━━━━━━━━━━━━━━━━━━━━╇━━━━━━━━━━━━━━━┩\n",
              "│ embedding_1 (<span style=\"color: #0087ff; text-decoration-color: #0087ff\">Embedding</span>)         │ ?                      │   <span style=\"color: #00af00; text-decoration-color: #00af00\">0</span> (unbuilt) │\n",
              "├─────────────────────────────────┼────────────────────────┼───────────────┤\n",
              "│ flatten (<span style=\"color: #0087ff; text-decoration-color: #0087ff\">Flatten</span>)               │ ?                      │   <span style=\"color: #00af00; text-decoration-color: #00af00\">0</span> (unbuilt) │\n",
              "├─────────────────────────────────┼────────────────────────┼───────────────┤\n",
              "│ dense (<span style=\"color: #0087ff; text-decoration-color: #0087ff\">Dense</span>)                   │ ?                      │   <span style=\"color: #00af00; text-decoration-color: #00af00\">0</span> (unbuilt) │\n",
              "└─────────────────────────────────┴────────────────────────┴───────────────┘\n",
              "</pre>\n"
            ],
            "text/plain": [
              "┏━━━━━━━━━━━━━━━━━━━━━━━━━━━━━━━━━┳━━━━━━━━━━━━━━━━━━━━━━━━┳━━━━━━━━━━━━━━━┓\n",
              "┃\u001b[1m \u001b[0m\u001b[1mLayer (type)                   \u001b[0m\u001b[1m \u001b[0m┃\u001b[1m \u001b[0m\u001b[1mOutput Shape          \u001b[0m\u001b[1m \u001b[0m┃\u001b[1m \u001b[0m\u001b[1m      Param #\u001b[0m\u001b[1m \u001b[0m┃\n",
              "┡━━━━━━━━━━━━━━━━━━━━━━━━━━━━━━━━━╇━━━━━━━━━━━━━━━━━━━━━━━━╇━━━━━━━━━━━━━━━┩\n",
              "│ embedding_1 (\u001b[38;5;33mEmbedding\u001b[0m)         │ ?                      │   \u001b[38;5;34m0\u001b[0m (unbuilt) │\n",
              "├─────────────────────────────────┼────────────────────────┼───────────────┤\n",
              "│ flatten (\u001b[38;5;33mFlatten\u001b[0m)               │ ?                      │   \u001b[38;5;34m0\u001b[0m (unbuilt) │\n",
              "├─────────────────────────────────┼────────────────────────┼───────────────┤\n",
              "│ dense (\u001b[38;5;33mDense\u001b[0m)                   │ ?                      │   \u001b[38;5;34m0\u001b[0m (unbuilt) │\n",
              "└─────────────────────────────────┴────────────────────────┴───────────────┘\n"
            ]
          },
          "metadata": {},
          "output_type": "display_data"
        },
        {
          "data": {
            "text/html": [
              "<pre style=\"white-space:pre;overflow-x:auto;line-height:normal;font-family:Menlo,'DejaVu Sans Mono',consolas,'Courier New',monospace\"><span style=\"font-weight: bold\"> Total params: </span><span style=\"color: #00af00; text-decoration-color: #00af00\">0</span> (0.00 B)\n",
              "</pre>\n"
            ],
            "text/plain": [
              "\u001b[1m Total params: \u001b[0m\u001b[38;5;34m0\u001b[0m (0.00 B)\n"
            ]
          },
          "metadata": {},
          "output_type": "display_data"
        },
        {
          "data": {
            "text/html": [
              "<pre style=\"white-space:pre;overflow-x:auto;line-height:normal;font-family:Menlo,'DejaVu Sans Mono',consolas,'Courier New',monospace\"><span style=\"font-weight: bold\"> Trainable params: </span><span style=\"color: #00af00; text-decoration-color: #00af00\">0</span> (0.00 B)\n",
              "</pre>\n"
            ],
            "text/plain": [
              "\u001b[1m Trainable params: \u001b[0m\u001b[38;5;34m0\u001b[0m (0.00 B)\n"
            ]
          },
          "metadata": {},
          "output_type": "display_data"
        },
        {
          "data": {
            "text/html": [
              "<pre style=\"white-space:pre;overflow-x:auto;line-height:normal;font-family:Menlo,'DejaVu Sans Mono',consolas,'Courier New',monospace\"><span style=\"font-weight: bold\"> Non-trainable params: </span><span style=\"color: #00af00; text-decoration-color: #00af00\">0</span> (0.00 B)\n",
              "</pre>\n"
            ],
            "text/plain": [
              "\u001b[1m Non-trainable params: \u001b[0m\u001b[38;5;34m0\u001b[0m (0.00 B)\n"
            ]
          },
          "metadata": {},
          "output_type": "display_data"
        }
      ],
      "source": [
        "model = Sequential()\n",
        "\n",
        "model.add(Embedding(input_dim=num_words, output_dim=32, input_length=max_len))\n",
        "model.add(Flatten())\n",
        "model.add(Dense(1, activation='sigmoid'))\n",
        "\n",
        "model.summary()"
      ]
    },
    {
      "cell_type": "markdown",
      "metadata": {
        "id": "H1VqPWEa-m9i"
      },
      "source": [
        "### 모델 컴파일 및 학습"
      ]
    },
    {
      "cell_type": "code",
      "execution_count": 33,
      "metadata": {
        "id": "CEXe_6de2EcK"
      },
      "outputs": [],
      "source": [
        "model.compile(optimizer='rmsprop',\n",
        "              loss='binary_crossentropy',\n",
        "              metrics=['acc'])"
      ]
    },
    {
      "cell_type": "code",
      "execution_count": 34,
      "metadata": {
        "id": "Xr3pegjQ2Eal"
      },
      "outputs": [
        {
          "name": "stdout",
          "output_type": "stream",
          "text": [
            "Epoch 1/10\n",
            "\u001b[1m625/625\u001b[0m \u001b[32m━━━━━━━━━━━━━━━━━━━━\u001b[0m\u001b[37m\u001b[0m \u001b[1m2s\u001b[0m 2ms/step - acc: 0.5814 - loss: 0.6719 - val_acc: 0.7026 - val_loss: 0.5656\n",
            "Epoch 2/10\n",
            "\u001b[1m625/625\u001b[0m \u001b[32m━━━━━━━━━━━━━━━━━━━━\u001b[0m\u001b[37m\u001b[0m \u001b[1m1s\u001b[0m 1ms/step - acc: 0.7424 - loss: 0.5239 - val_acc: 0.7250 - val_loss: 0.5360\n",
            "Epoch 3/10\n",
            "\u001b[1m625/625\u001b[0m \u001b[32m━━━━━━━━━━━━━━━━━━━━\u001b[0m\u001b[37m\u001b[0m \u001b[1m1s\u001b[0m 1ms/step - acc: 0.7666 - loss: 0.4808 - val_acc: 0.7236 - val_loss: 0.5319\n",
            "Epoch 4/10\n",
            "\u001b[1m625/625\u001b[0m \u001b[32m━━━━━━━━━━━━━━━━━━━━\u001b[0m\u001b[37m\u001b[0m \u001b[1m1s\u001b[0m 1ms/step - acc: 0.7819 - loss: 0.4538 - val_acc: 0.7222 - val_loss: 0.5403\n",
            "Epoch 5/10\n",
            "\u001b[1m625/625\u001b[0m \u001b[32m━━━━━━━━━━━━━━━━━━━━\u001b[0m\u001b[37m\u001b[0m \u001b[1m1s\u001b[0m 1ms/step - acc: 0.7908 - loss: 0.4407 - val_acc: 0.7292 - val_loss: 0.5351\n",
            "Epoch 6/10\n",
            "\u001b[1m625/625\u001b[0m \u001b[32m━━━━━━━━━━━━━━━━━━━━\u001b[0m\u001b[37m\u001b[0m \u001b[1m1s\u001b[0m 1ms/step - acc: 0.8121 - loss: 0.4114 - val_acc: 0.7238 - val_loss: 0.5447\n",
            "Epoch 7/10\n",
            "\u001b[1m625/625\u001b[0m \u001b[32m━━━━━━━━━━━━━━━━━━━━\u001b[0m\u001b[37m\u001b[0m \u001b[1m1s\u001b[0m 1ms/step - acc: 0.8231 - loss: 0.3953 - val_acc: 0.7226 - val_loss: 0.5582\n",
            "Epoch 8/10\n",
            "\u001b[1m625/625\u001b[0m \u001b[32m━━━━━━━━━━━━━━━━━━━━\u001b[0m\u001b[37m\u001b[0m \u001b[1m1s\u001b[0m 1ms/step - acc: 0.8416 - loss: 0.3680 - val_acc: 0.7178 - val_loss: 0.5681\n",
            "Epoch 9/10\n",
            "\u001b[1m625/625\u001b[0m \u001b[32m━━━━━━━━━━━━━━━━━━━━\u001b[0m\u001b[37m\u001b[0m \u001b[1m1s\u001b[0m 1ms/step - acc: 0.8522 - loss: 0.3509 - val_acc: 0.7168 - val_loss: 0.5826\n",
            "Epoch 10/10\n",
            "\u001b[1m625/625\u001b[0m \u001b[32m━━━━━━━━━━━━━━━━━━━━\u001b[0m\u001b[37m\u001b[0m \u001b[1m1s\u001b[0m 1ms/step - acc: 0.8669 - loss: 0.3285 - val_acc: 0.7114 - val_loss: 0.5984\n"
          ]
        }
      ],
      "source": [
        "history = model.fit(pad_x_train, y_train,\n",
        "          epochs=10,\n",
        "          batch_size=32,\n",
        "          validation_split=0.2)"
      ]
    },
    {
      "cell_type": "markdown",
      "metadata": {
        "id": "-gNKkWKP_3c0"
      },
      "source": [
        "### 시각화"
      ]
    },
    {
      "cell_type": "code",
      "execution_count": 35,
      "metadata": {
        "id": "PYKPQO1B_-EJ"
      },
      "outputs": [
        {
          "name": "stdout",
          "output_type": "stream",
          "text": [
            "dict_keys(['acc', 'loss', 'val_acc', 'val_loss'])\n"
          ]
        }
      ],
      "source": [
        "import matplotlib.pyplot as plt\n",
        "\n",
        "history_dict = history.history\n",
        "print(history_dict.keys())\n",
        "\n",
        "loss = history_dict['loss']\n",
        "val_loss = history_dict['val_loss']\n",
        "acc = history_dict['acc']\n",
        "val_acc = history_dict['val_acc']\n",
        "\n",
        "epochs = range(1, len(loss) + 1)"
      ]
    },
    {
      "cell_type": "code",
      "execution_count": 36,
      "metadata": {
        "id": "vMP67mYsAQ9q"
      },
      "outputs": [
        {
          "data": {
            "image/png": "[encoded data removed]",
            "text/plain": [
              "<Figure size 640x480 with 1 Axes>"
            ]
          },
          "metadata": {},
          "output_type": "display_data"
        },
        {
          "data": {
            "image/png": "[encoded data removed]",
            "text/plain": [
              "<Figure size 640x480 with 1 Axes>"
            ]
          },
          "metadata": {},
          "output_type": "display_data"
        }
      ],
      "source": [
        "plt.plot(epochs, loss, 'b-', label='Training loss')\n",
        "plt.plot(epochs, val_loss, 'r:', label='Validation loss')\n",
        "plt.legend()\n",
        "plt.grid()\n",
        "\n",
        "plt.figure()\n",
        "plt.plot(epochs, acc, 'b-', label='Training acc')\n",
        "plt.plot(epochs, val_acc, 'r:', label='Validation acc')\n",
        "plt.legend()\n",
        "plt.grid()\n",
        "plt.show()"
      ]
    },
    {
      "cell_type": "markdown",
      "metadata": {
        "id": "3GtELilA_avO"
      },
      "source": [
        "### 모델 평가"
      ]
    },
    {
      "cell_type": "code",
      "execution_count": 37,
      "metadata": {
        "id": "_U0Dz9je2ESh"
      },
      "outputs": [
        {
          "name": "stdout",
          "output_type": "stream",
          "text": [
            "\u001b[1m782/782\u001b[0m \u001b[32m━━━━━━━━━━━━━━━━━━━━\u001b[0m\u001b[37m\u001b[0m \u001b[1m0s\u001b[0m 599us/step - acc: 0.7071 - loss: 0.6030\n"
          ]
        },
        {
          "data": {
            "text/plain": [
              "[0.5964224338531494, 0.7112799882888794]"
            ]
          },
          "execution_count": 37,
          "metadata": {},
          "output_type": "execute_result"
        }
      ],
      "source": [
        "model.evaluate(pad_x_test, y_test)"
      ]
    },
    {
      "cell_type": "markdown",
      "metadata": {
        "id": "6aJqudd0AwGa"
      },
      "source": [
        "### 단어의 수를 늘린 후 재학습"
      ]
    },
    {
      "cell_type": "code",
      "execution_count": 38,
      "metadata": {
        "id": "C1itQHMDA1hn"
      },
      "outputs": [],
      "source": [
        "num_words = 1000\n",
        "max_len = 500\n",
        "\n",
        "pad_x_train2 = pad_sequences(x_train, maxlen=max_len, padding='pre')\n",
        "pad_x_test2 = pad_sequences(x_test, maxlen=max_len, padding='pre')"
      ]
    },
    {
      "cell_type": "markdown",
      "metadata": {
        "id": "e2WL_yueBibH"
      },
      "source": [
        "데이터 확인"
      ]
    },
    {
      "cell_type": "code",
      "execution_count": 39,
      "metadata": {
        "id": "AydBwyBMA1ku"
      },
      "outputs": [
        {
          "name": "stdout",
          "output_type": "stream",
          "text": [
            "[1, 14, 22, 16, 43, 530, 973, 2, 2, 65, 458, 2, 66, 2, 4, 173, 36, 256, 5, 25, 100, 43, 838, 112, 50, 670, 2, 9, 35, 480, 284, 5, 150, 4, 172, 112, 167, 2, 336, 385, 39, 4, 172, 2, 2, 17, 546, 38, 13, 447, 4, 192, 50, 16, 6, 147, 2, 19, 14, 22, 4, 2, 2, 469, 4, 22, 71, 87, 12, 16, 43, 530, 38, 76, 15, 13, 2, 4, 22, 17, 515, 17, 12, 16, 626, 18, 2, 5, 62, 386, 12, 8, 316, 8, 106, 5, 4, 2, 2, 16, 480, 66, 2, 33, 4, 130, 12, 16, 38, 619, 5, 25, 124, 51, 36, 135, 48, 25, 2, 33, 6, 22, 12, 215, 28, 77, 52, 5, 14, 407, 16, 82, 2, 8, 4, 107, 117, 2, 15, 256, 4, 2, 7, 2, 5, 723, 36, 71, 43, 530, 476, 26, 400, 317, 46, 7, 4, 2, 2, 13, 104, 88, 4, 381, 15, 297, 98, 32, 2, 56, 26, 141, 6, 194, 2, 18, 4, 226, 22, 21, 134, 476, 26, 480, 5, 144, 30, 2, 18, 51, 36, 28, 224, 92, 25, 104, 4, 226, 65, 16, 38, 2, 88, 12, 16, 283, 5, 16, 2, 113, 103, 32, 15, 16, 2, 19, 178, 32]\n",
            "[  0   0   0   0   0   0   0   0   0   0   0   0   0   0   0   0   0   0\n",
            "   0   0   0   0   0   0   0   0   0   0   0   0   0   0   0   0   0   0\n",
            "   0   0   0   0   0   0   0   0   0   0   0   0   0   0   0   0   0   0\n",
            "   0   0   0   0   0   0   0   0   0   0   0   0   0   0   0   0   0   0\n",
            "   0   0   0   0   0   0   0   0   0   0   0   0   0   0   0   0   0   0\n",
            "   0   0   0   0   0   0   0   0   0   0   0   0   0   0   0   0   0   0\n",
            "   0   0   0   0   0   0   0   0   0   0   0   0   0   0   0   0   0   0\n",
            "   0   0   0   0   0   0   0   0   0   0   0   0   0   0   0   0   0   0\n",
            "   0   0   0   0   0   0   0   0   0   0   0   0   0   0   0   0   0   0\n",
            "   0   0   0   0   0   0   0   0   0   0   0   0   0   0   0   0   0   0\n",
            "   0   0   0   0   0   0   0   0   0   0   0   0   0   0   0   0   0   0\n",
            "   0   0   0   0   0   0   0   0   0   0   0   0   0   0   0   0   0   0\n",
            "   0   0   0   0   0   0   0   0   0   0   0   0   0   0   0   0   0   0\n",
            "   0   0   0   0   0   0   0   0   0   0   0   0   0   0   0   0   0   0\n",
            "   0   0   0   0   0   0   0   0   0   0   0   0   0   0   0   0   0   0\n",
            "   0   0   0   0   0   0   0   0   0   0   0   0   1  14  22  16  43 530\n",
            " 973   2   2  65 458   2  66   2   4 173  36 256   5  25 100  43 838 112\n",
            "  50 670   2   9  35 480 284   5 150   4 172 112 167   2 336 385  39   4\n",
            " 172   2   2  17 546  38  13 447   4 192  50  16   6 147   2  19  14  22\n",
            "   4   2   2 469   4  22  71  87  12  16  43 530  38  76  15  13   2   4\n",
            "  22  17 515  17  12  16 626  18   2   5  62 386  12   8 316   8 106   5\n",
            "   4   2   2  16 480  66   2  33   4 130  12  16  38 619   5  25 124  51\n",
            "  36 135  48  25   2  33   6  22  12 215  28  77  52   5  14 407  16  82\n",
            "   2   8   4 107 117   2  15 256   4   2   7   2   5 723  36  71  43 530\n",
            " 476  26 400 317  46   7   4   2   2  13 104  88   4 381  15 297  98  32\n",
            "   2  56  26 141   6 194   2  18   4 226  22  21 134 476  26 480   5 144\n",
            "  30   2  18  51  36  28 224  92  25 104   4 226  65  16  38   2  88  12\n",
            "  16 283   5  16   2 113 103  32  15  16   2  19 178  32]\n"
          ]
        }
      ],
      "source": [
        "print(x_train[0])\n",
        "print(pad_x_train2[0])"
      ]
    },
    {
      "cell_type": "code",
      "execution_count": 40,
      "metadata": {
        "id": "mK2kQxNUA1eB"
      },
      "outputs": [
        {
          "name": "stderr",
          "output_type": "stream",
          "text": [
            "c:\\Users\\USER\\miniconda3\\envs\\venv\\lib\\site-packages\\keras\\src\\layers\\core\\embedding.py:90: UserWarning: Argument `input_length` is deprecated. Just remove it.\n",
            "  warnings.warn(\n"
          ]
        },
        {
          "data": {
            "text/html": [
              "<pre style=\"white-space:pre;overflow-x:auto;line-height:normal;font-family:Menlo,'DejaVu Sans Mono',consolas,'Courier New',monospace\"><span style=\"font-weight: bold\">Model: \"sequential_1\"</span>\n",
              "</pre>\n"
            ],
            "text/plain": [
              "\u001b[1mModel: \"sequential_1\"\u001b[0m\n"
            ]
          },
          "metadata": {},
          "output_type": "display_data"
        },
        {
          "data": {
            "text/html": [
              "<pre style=\"white-space:pre;overflow-x:auto;line-height:normal;font-family:Menlo,'DejaVu Sans Mono',consolas,'Courier New',monospace\">┏━━━━━━━━━━━━━━━━━━━━━━━━━━━━━━━━━┳━━━━━━━━━━━━━━━━━━━━━━━━┳━━━━━━━━━━━━━━━┓\n",
              "┃<span style=\"font-weight: bold\"> Layer (type)                    </span>┃<span style=\"font-weight: bold\"> Output Shape           </span>┃<span style=\"font-weight: bold\">       Param # </span>┃\n",
              "┡━━━━━━━━━━━━━━━━━━━━━━━━━━━━━━━━━╇━━━━━━━━━━━━━━━━━━━━━━━━╇━━━━━━━━━━━━━━━┩\n",
              "│ embedding_2 (<span style=\"color: #0087ff; text-decoration-color: #0087ff\">Embedding</span>)         │ ?                      │   <span style=\"color: #00af00; text-decoration-color: #00af00\">0</span> (unbuilt) │\n",
              "├─────────────────────────────────┼────────────────────────┼───────────────┤\n",
              "│ flatten_1 (<span style=\"color: #0087ff; text-decoration-color: #0087ff\">Flatten</span>)             │ ?                      │   <span style=\"color: #00af00; text-decoration-color: #00af00\">0</span> (unbuilt) │\n",
              "├─────────────────────────────────┼────────────────────────┼───────────────┤\n",
              "│ dense_1 (<span style=\"color: #0087ff; text-decoration-color: #0087ff\">Dense</span>)                 │ ?                      │   <span style=\"color: #00af00; text-decoration-color: #00af00\">0</span> (unbuilt) │\n",
              "└─────────────────────────────────┴────────────────────────┴───────────────┘\n",
              "</pre>\n"
            ],
            "text/plain": [
              "┏━━━━━━━━━━━━━━━━━━━━━━━━━━━━━━━━━┳━━━━━━━━━━━━━━━━━━━━━━━━┳━━━━━━━━━━━━━━━┓\n",
              "┃\u001b[1m \u001b[0m\u001b[1mLayer (type)                   \u001b[0m\u001b[1m \u001b[0m┃\u001b[1m \u001b[0m\u001b[1mOutput Shape          \u001b[0m\u001b[1m \u001b[0m┃\u001b[1m \u001b[0m\u001b[1m      Param #\u001b[0m\u001b[1m \u001b[0m┃\n",
              "┡━━━━━━━━━━━━━━━━━━━━━━━━━━━━━━━━━╇━━━━━━━━━━━━━━━━━━━━━━━━╇━━━━━━━━━━━━━━━┩\n",
              "│ embedding_2 (\u001b[38;5;33mEmbedding\u001b[0m)         │ ?                      │   \u001b[38;5;34m0\u001b[0m (unbuilt) │\n",
              "├─────────────────────────────────┼────────────────────────┼───────────────┤\n",
              "│ flatten_1 (\u001b[38;5;33mFlatten\u001b[0m)             │ ?                      │   \u001b[38;5;34m0\u001b[0m (unbuilt) │\n",
              "├─────────────────────────────────┼────────────────────────┼───────────────┤\n",
              "│ dense_1 (\u001b[38;5;33mDense\u001b[0m)                 │ ?                      │   \u001b[38;5;34m0\u001b[0m (unbuilt) │\n",
              "└─────────────────────────────────┴────────────────────────┴───────────────┘\n"
            ]
          },
          "metadata": {},
          "output_type": "display_data"
        },
        {
          "data": {
            "text/html": [
              "<pre style=\"white-space:pre;overflow-x:auto;line-height:normal;font-family:Menlo,'DejaVu Sans Mono',consolas,'Courier New',monospace\"><span style=\"font-weight: bold\"> Total params: </span><span style=\"color: #00af00; text-decoration-color: #00af00\">0</span> (0.00 B)\n",
              "</pre>\n"
            ],
            "text/plain": [
              "\u001b[1m Total params: \u001b[0m\u001b[38;5;34m0\u001b[0m (0.00 B)\n"
            ]
          },
          "metadata": {},
          "output_type": "display_data"
        },
        {
          "data": {
            "text/html": [
              "<pre style=\"white-space:pre;overflow-x:auto;line-height:normal;font-family:Menlo,'DejaVu Sans Mono',consolas,'Courier New',monospace\"><span style=\"font-weight: bold\"> Trainable params: </span><span style=\"color: #00af00; text-decoration-color: #00af00\">0</span> (0.00 B)\n",
              "</pre>\n"
            ],
            "text/plain": [
              "\u001b[1m Trainable params: \u001b[0m\u001b[38;5;34m0\u001b[0m (0.00 B)\n"
            ]
          },
          "metadata": {},
          "output_type": "display_data"
        },
        {
          "data": {
            "text/html": [
              "<pre style=\"white-space:pre;overflow-x:auto;line-height:normal;font-family:Menlo,'DejaVu Sans Mono',consolas,'Courier New',monospace\"><span style=\"font-weight: bold\"> Non-trainable params: </span><span style=\"color: #00af00; text-decoration-color: #00af00\">0</span> (0.00 B)\n",
              "</pre>\n"
            ],
            "text/plain": [
              "\u001b[1m Non-trainable params: \u001b[0m\u001b[38;5;34m0\u001b[0m (0.00 B)\n"
            ]
          },
          "metadata": {},
          "output_type": "display_data"
        }
      ],
      "source": [
        "model = Sequential()\n",
        "\n",
        "model.add(Embedding(input_dim=num_words, output_dim=32, input_length=max_len))\n",
        "model.add(Flatten())\n",
        "model.add(Dense(1, activation='sigmoid'))\n",
        "\n",
        "model.summary()\n",
        "\n",
        "model.compile(optimizer='rmsprop',\n",
        "              loss='binary_crossentropy',\n",
        "              metrics=['acc'])"
      ]
    },
    {
      "cell_type": "code",
      "execution_count": 41,
      "metadata": {
        "id": "I5BK5HXnBtIN"
      },
      "outputs": [
        {
          "name": "stdout",
          "output_type": "stream",
          "text": [
            "Epoch 1/10\n",
            "\u001b[1m625/625\u001b[0m \u001b[32m━━━━━━━━━━━━━━━━━━━━\u001b[0m\u001b[37m\u001b[0m \u001b[1m3s\u001b[0m 3ms/step - acc: 0.6124 - loss: 0.6375 - val_acc: 0.8286 - val_loss: 0.3923\n",
            "Epoch 2/10\n",
            "\u001b[1m625/625\u001b[0m \u001b[32m━━━━━━━━━━━━━━━━━━━━\u001b[0m\u001b[37m\u001b[0m \u001b[1m2s\u001b[0m 3ms/step - acc: 0.8426 - loss: 0.3620 - val_acc: 0.8280 - val_loss: 0.3866\n",
            "Epoch 3/10\n",
            "\u001b[1m625/625\u001b[0m \u001b[32m━━━━━━━━━━━━━━━━━━━━\u001b[0m\u001b[37m\u001b[0m \u001b[1m2s\u001b[0m 3ms/step - acc: 0.8784 - loss: 0.2932 - val_acc: 0.8302 - val_loss: 0.3923\n",
            "Epoch 4/10\n",
            "\u001b[1m625/625\u001b[0m \u001b[32m━━━━━━━━━━━━━━━━━━━━\u001b[0m\u001b[37m\u001b[0m \u001b[1m2s\u001b[0m 3ms/step - acc: 0.8998 - loss: 0.2485 - val_acc: 0.8370 - val_loss: 0.3828\n",
            "Epoch 5/10\n",
            "\u001b[1m625/625\u001b[0m \u001b[32m━━━━━━━━━━━━━━━━━━━━\u001b[0m\u001b[37m\u001b[0m \u001b[1m2s\u001b[0m 3ms/step - acc: 0.9318 - loss: 0.1872 - val_acc: 0.8332 - val_loss: 0.3994\n",
            "Epoch 6/10\n",
            "\u001b[1m625/625\u001b[0m \u001b[32m━━━━━━━━━━━━━━━━━━━━\u001b[0m\u001b[37m\u001b[0m \u001b[1m2s\u001b[0m 3ms/step - acc: 0.9497 - loss: 0.1494 - val_acc: 0.8318 - val_loss: 0.4221\n",
            "Epoch 7/10\n",
            "\u001b[1m625/625\u001b[0m \u001b[32m━━━━━━━━━━━━━━━━━━━━\u001b[0m\u001b[37m\u001b[0m \u001b[1m2s\u001b[0m 3ms/step - acc: 0.9649 - loss: 0.1175 - val_acc: 0.8258 - val_loss: 0.4679\n",
            "Epoch 8/10\n",
            "\u001b[1m625/625\u001b[0m \u001b[32m━━━━━━━━━━━━━━━━━━━━\u001b[0m\u001b[37m\u001b[0m \u001b[1m2s\u001b[0m 3ms/step - acc: 0.9760 - loss: 0.0887 - val_acc: 0.8208 - val_loss: 0.4973\n",
            "Epoch 9/10\n",
            "\u001b[1m625/625\u001b[0m \u001b[32m━━━━━━━━━━━━━━━━━━━━\u001b[0m\u001b[37m\u001b[0m \u001b[1m2s\u001b[0m 3ms/step - acc: 0.9844 - loss: 0.0666 - val_acc: 0.8202 - val_loss: 0.5283\n",
            "Epoch 10/10\n",
            "\u001b[1m625/625\u001b[0m \u001b[32m━━━━━━━━━━━━━━━━━━━━\u001b[0m\u001b[37m\u001b[0m \u001b[1m2s\u001b[0m 3ms/step - acc: 0.9914 - loss: 0.0491 - val_acc: 0.8174 - val_loss: 0.5720\n"
          ]
        }
      ],
      "source": [
        "history2 = model.fit(pad_x_train2, y_train,\n",
        "                    epochs=10,\n",
        "                    batch_size=32,\n",
        "                    validation_split=0.2)"
      ]
    },
    {
      "cell_type": "code",
      "execution_count": 42,
      "metadata": {
        "id": "odClZim0Bs-O"
      },
      "outputs": [
        {
          "name": "stdout",
          "output_type": "stream",
          "text": [
            "dict_keys(['acc', 'loss', 'val_acc', 'val_loss'])\n"
          ]
        }
      ],
      "source": [
        "import matplotlib.pyplot as plt\n",
        "\n",
        "history_dict2 = history2.history\n",
        "print(history_dict.keys())\n",
        "\n",
        "loss = history_dict2['loss']\n",
        "val_loss = history_dict2['val_loss']\n",
        "acc = history_dict2['acc']\n",
        "val_acc = history_dict2['val_acc']\n",
        "\n",
        "epochs = range(1, len(loss) + 1)"
      ]
    },
    {
      "cell_type": "code",
      "execution_count": 43,
      "metadata": {
        "id": "rVPTlmjZB--j"
      },
      "outputs": [
        {
          "data": {
            "image/png": "[encoded data removed]",
            "text/plain": [
              "<Figure size 640x480 with 1 Axes>"
            ]
          },
          "metadata": {},
          "output_type": "display_data"
        },
        {
          "data": {
            "image/png": "[encoded data removed]",
            "text/plain": [
              "<Figure size 640x480 with 1 Axes>"
            ]
          },
          "metadata": {},
          "output_type": "display_data"
        }
      ],
      "source": [
        "plt.plot(epochs, loss, 'b-', label='Training loss')\n",
        "plt.plot(epochs, val_loss, 'r:', label='Validation loss')\n",
        "plt.legend()\n",
        "plt.grid()\n",
        "\n",
        "plt.figure()\n",
        "plt.plot(epochs, acc, 'b-', label='Training acc')\n",
        "plt.plot(epochs, val_acc, 'r:', label='Validation acc')\n",
        "plt.legend()\n",
        "plt.grid()\n",
        "plt.show()"
      ]
    },
    {
      "cell_type": "code",
      "execution_count": 44,
      "metadata": {
        "id": "mZ5WbSX_CHUa"
      },
      "outputs": [
        {
          "name": "stdout",
          "output_type": "stream",
          "text": [
            "\u001b[1m782/782\u001b[0m \u001b[32m━━━━━━━━━━━━━━━━━━━━\u001b[0m\u001b[37m\u001b[0m \u001b[1m1s\u001b[0m 816us/step - acc: 0.8222 - loss: 0.5477\n"
          ]
        },
        {
          "data": {
            "text/plain": [
              "[0.5471149682998657, 0.8234800100326538]"
            ]
          },
          "execution_count": 44,
          "metadata": {},
          "output_type": "execute_result"
        }
      ],
      "source": [
        "model.evaluate(pad_x_test2, y_test)"
      ]
    },
    {
      "cell_type": "markdown",
      "metadata": {
        "id": "6I0C5ueK73_g"
      },
      "source": [
        "위의 결과도 나쁘지 않으나 과적합이 되는 이유\n",
        "- 단어간 관계나 문장 구조 등 의미적 연결을 고려하지 않음\n",
        "\n",
        "- 시퀀스 전체를 고려한 특성을 학습하는 것은 `Embedding`층 위에 `RNN`층이나 `1D 합성곱`을 추가하는 것이 좋음\n"
      ]
    },
    {
      "cell_type": "markdown",
      "metadata": {
        "id": "Ta_Ktilw73_h"
      },
      "source": [
        "## 단어 임베딩의 종류\n",
        "- LSA\n",
        "\n",
        "- Word2Vec\n",
        "\n",
        "- GloVe\n",
        "\n",
        "- FastText\n",
        "\n",
        "- etc..\n",
        "\n",
        "<!-- ## 사전 훈련된 모델\n",
        "https://github.com/Hironsan/awesome-embedding-models#pre-trained-word-vectors -->"
      ]
    },
    {
      "cell_type": "markdown",
      "metadata": {
        "id": "ud_-PnE873_h"
      },
      "source": [
        "## Word2Vec\n",
        "\n",
        "- 2013년, Mikolov 와 동료들이 제안한 모형\n",
        "\n",
        "- 분류 등과 같이 별도의 레이블이 없이 텍스트 자체만 있어도 학습이 가능\n",
        "\n",
        "- Word2Vec의 방식  \n",
        "  주변 단어의 관계를 이용\n",
        "\n",
        "  - CBOW(continuous bag-of-words)\n",
        "    - 주변단어의 임베딩을 더해서 대상단어를 예측\n",
        "\n",
        "  - Skip-Gram\n",
        "    - 대상 단어의 임베딩으로 주변단어를 예측\n",
        "\n",
        "    - 일반적으로 CBOW보다 성능이 좋은 편\n",
        "\n",
        "    - 한번에 여러 단어를 예측해야하기 때문에 비효율적  \n",
        "      최근에는 **negative sampling**이라는 방법을 사용\n",
        "\n",
        "  <img src=\"https://www.researchgate.net/publication/328160770/figure/fig14/AS:679665089925122@1539056193562/CBOW-and-Skip-Gram-neural-architectures.ppm\">\n",
        "\n",
        "  <sub>출처: https://www.researchgate.net/figure/CBOW-and-Skip-Gram-neural-architectures_fig14_328160770</sub>"
      ]
    },
    {
      "cell_type": "markdown",
      "metadata": {
        "id": "IImEBTAw73_h"
      },
      "source": [
        "### 구텐베르크 프로젝트 예제\n",
        "- 코드 출처 : http://doc.mindscale.kr/km/unstructured/11.html"
      ]
    },
    {
      "cell_type": "code",
      "execution_count": 45,
      "metadata": {
        "id": "O3HdJU7973_h"
      },
      "outputs": [],
      "source": [
        "import requests\n",
        "import re"
      ]
    },
    {
      "cell_type": "markdown",
      "metadata": {
        "id": "Ww3UwfBu73_j"
      },
      "source": [
        "### 데이터 다운로드"
      ]
    },
    {
      "cell_type": "code",
      "execution_count": 46,
      "metadata": {
        "id": "I3OVWgzq73_j"
      },
      "outputs": [],
      "source": [
        "res = requests.get('http://www.gutenberg.org/files/2591/2591-0.txt')"
      ]
    },
    {
      "cell_type": "markdown",
      "metadata": {
        "id": "GWq3UXrb73_k"
      },
      "source": [
        "### 데이터 전처리"
      ]
    },
    {
      "cell_type": "code",
      "execution_count": 47,
      "metadata": {
        "id": "0gUUDrZ273_l"
      },
      "outputs": [],
      "source": [
        "grimm = res.text[2801:530661]\n",
        "grimm = re.sub(r'[^a-zA-z\\.]', ' ', grimm)\n",
        "sentences = grimm.split('. ')\n",
        "data = [s.split() for s in sentences]"
      ]
    },
    {
      "cell_type": "code",
      "execution_count": 48,
      "metadata": {
        "id": "z-L4XE5m73_n"
      },
      "outputs": [
        {
          "data": {
            "text/plain": [
              "3468"
            ]
          },
          "execution_count": 48,
          "metadata": {},
          "output_type": "execute_result"
        }
      ],
      "source": [
        "len(data)"
      ]
    },
    {
      "cell_type": "code",
      "execution_count": 49,
      "metadata": {
        "id": "AKvPelJI73_p"
      },
      "outputs": [
        {
          "data": {
            "text/plain": [
              "['SECOND',\n",
              " 'STORY',\n",
              " 'THE',\n",
              " 'SALAD',\n",
              " 'THE',\n",
              " 'STORY',\n",
              " 'OF',\n",
              " 'THE',\n",
              " 'YOUTH',\n",
              " 'WHO',\n",
              " 'WENT',\n",
              " 'FORTH',\n",
              " 'TO',\n",
              " 'LEARN',\n",
              " 'WHAT',\n",
              " 'FEAR',\n",
              " 'WAS',\n",
              " 'KING',\n",
              " 'GRISLY',\n",
              " 'BEARD',\n",
              " 'IRON',\n",
              " 'HANS',\n",
              " 'CAT',\n",
              " 'SKIN',\n",
              " 'SNOW',\n",
              " 'WHITE',\n",
              " 'AND',\n",
              " 'ROSE',\n",
              " 'RED',\n",
              " 'THE',\n",
              " 'BROTHERS',\n",
              " 'GRIMM',\n",
              " 'FAIRY',\n",
              " 'TALES',\n",
              " 'THE',\n",
              " 'GOLDEN',\n",
              " 'BIRD',\n",
              " 'A',\n",
              " 'certain',\n",
              " 'king',\n",
              " 'had',\n",
              " 'a',\n",
              " 'beautiful',\n",
              " 'garden',\n",
              " 'and',\n",
              " 'in',\n",
              " 'the',\n",
              " 'garden',\n",
              " 'stood',\n",
              " 'a',\n",
              " 'tree',\n",
              " 'which',\n",
              " 'bore',\n",
              " 'golden',\n",
              " 'apples']"
            ]
          },
          "execution_count": 49,
          "metadata": {},
          "output_type": "execute_result"
        }
      ],
      "source": [
        "data[0]"
      ]
    },
    {
      "cell_type": "markdown",
      "metadata": {
        "id": "DtGbFupQ73_q"
      },
      "source": [
        "`gensim` 패키지로부터 WordVec을 불러오기"
      ]
    },
    {
      "cell_type": "code",
      "execution_count": 51,
      "metadata": {
        "id": "B_DpKzfb73_r"
      },
      "outputs": [],
      "source": [
        "from gensim.models.word2vec import Word2Vec"
      ]
    },
    {
      "cell_type": "markdown",
      "metadata": {
        "id": "Qetkdwa_73_s"
      },
      "source": [
        "`sg` 인자에 0을 넘겨주면 CBOW, 1을 넘겨주면 Skip-gram"
      ]
    },
    {
      "cell_type": "code",
      "execution_count": 52,
      "metadata": {
        "id": "tAHpdmW173_s"
      },
      "outputs": [],
      "source": [
        "model = Word2Vec(data, sg=1, vector_size=100, window=3, min_count=3, workers=4)"
      ]
    },
    {
      "cell_type": "markdown",
      "metadata": {
        "id": "PAbHRstj73_v"
      },
      "source": [
        "### 모델 저장 및 로드"
      ]
    },
    {
      "cell_type": "code",
      "execution_count": 53,
      "metadata": {
        "id": "y-Quf97y73_v"
      },
      "outputs": [],
      "source": [
        "model.save('word2vec.model')"
      ]
    },
    {
      "cell_type": "code",
      "execution_count": 54,
      "metadata": {
        "id": "JT46WXaj73_x"
      },
      "outputs": [],
      "source": [
        "pretrained_model = Word2Vec.load('word2vec.model')"
      ]
    },
    {
      "cell_type": "markdown",
      "metadata": {
        "id": "eAaiFUId73_0"
      },
      "source": [
        "### 단어를 벡터로 변환\n",
        "- `wv`"
      ]
    },
    {
      "cell_type": "code",
      "execution_count": 55,
      "metadata": {
        "id": "-p-jlF8373_0"
      },
      "outputs": [
        {
          "data": {
            "text/plain": [
              "array([-0.12417696,  0.13143969,  0.08471574,  0.2130082 , -0.01254607,\n",
              "       -0.33003995,  0.17874098,  0.5376661 , -0.18763138, -0.0783434 ,\n",
              "       -0.01111855, -0.24133834, -0.03830223,  0.21427327,  0.02198627,\n",
              "       -0.22413959,  0.08466358, -0.31327945, -0.01787804, -0.3493676 ,\n",
              "        0.11327072,  0.0899285 ,  0.18434098, -0.10836067,  0.14663824,\n",
              "       -0.06380378, -0.06502759,  0.02647705, -0.00724996, -0.07762552,\n",
              "        0.03116618, -0.02260992,  0.21928458, -0.15104774, -0.01479691,\n",
              "        0.16750719, -0.00147564, -0.04834011, -0.13199514, -0.16823857,\n",
              "       -0.01224228, -0.16002703, -0.04128069,  0.03749553,  0.02629786,\n",
              "        0.08784956, -0.19971816, -0.1748703 ,  0.20171438,  0.04687404,\n",
              "        0.11332445, -0.11488077, -0.06271812, -0.01710295,  0.05298222,\n",
              "        0.02569976,  0.12987484,  0.08738696, -0.18215014,  0.01393691,\n",
              "        0.09834168,  0.04770513,  0.024411  , -0.03319447, -0.23160489,\n",
              "        0.36954245,  0.05542956,  0.22515671, -0.31849417,  0.26678082,\n",
              "       -0.01547073,  0.00591673,  0.20042937, -0.08542871,  0.253497  ,\n",
              "       -0.1411199 ,  0.05336348, -0.09750365, -0.03824649,  0.04872129,\n",
              "       -0.1911082 ,  0.11490992, -0.14257842,  0.21635878, -0.15823704,\n",
              "        0.12042772,  0.13809133, -0.01512445,  0.16137055,  0.00222305,\n",
              "        0.15339221, -0.00655816,  0.01640996,  0.05481568,  0.17691612,\n",
              "        0.15638478, -0.02200817, -0.16307606, -0.13794939,  0.05135354],\n",
              "      dtype=float32)"
            ]
          },
          "execution_count": 55,
          "metadata": {},
          "output_type": "execute_result"
        }
      ],
      "source": [
        "pretrained_model.wv['princess']"
      ]
    },
    {
      "cell_type": "markdown",
      "metadata": {
        "id": "zF1Ud2VK73_2"
      },
      "source": [
        "### 유추 또는 유비(analogy)\n",
        "- `wv.similarity()`에 두 단어를 넘겨주면 코사인 유사도를 구할 수 있음"
      ]
    },
    {
      "cell_type": "code",
      "execution_count": 65,
      "metadata": {
        "id": "n6EZcuj_73_2"
      },
      "outputs": [
        {
          "data": {
            "text/plain": [
              "0.9070399"
            ]
          },
          "execution_count": 65,
          "metadata": {},
          "output_type": "execute_result"
        }
      ],
      "source": [
        "pretrained_model.wv.similarity('king', 'man')"
      ]
    },
    {
      "cell_type": "markdown",
      "metadata": {
        "id": "VvlbGf_k73_4"
      },
      "source": [
        "- `wv.most_similar()`에 단어를 넘겨주면 가장 유사한 단어를 추출할 수 있음"
      ]
    },
    {
      "cell_type": "code",
      "execution_count": 66,
      "metadata": {
        "id": "uNz_ajtS73_4"
      },
      "outputs": [
        {
          "data": {
            "text/plain": [
              "[('daughter', 0.9304121136665344),\n",
              " ('son', 0.9301179647445679),\n",
              " ('woman', 0.9211077690124512),\n",
              " ('man', 0.9070398211479187),\n",
              " ('fox', 0.8818628787994385),\n",
              " ('miller', 0.8778377175331116),\n",
              " ('cook', 0.8691607713699341),\n",
              " ('queen', 0.8680206537246704),\n",
              " ('boy', 0.8577591776847839),\n",
              " ('young', 0.8550867438316345)]"
            ]
          },
          "execution_count": 66,
          "metadata": {},
          "output_type": "execute_result"
        }
      ],
      "source": [
        "pretrained_model.wv.most_similar('king')"
      ]
    },
    {
      "cell_type": "markdown",
      "metadata": {
        "id": "CvyIH-g-73_7"
      },
      "source": [
        "- `wv_most_similar()`에 `positive`와 `negative`라는 옵션을 넘길 수 있음"
      ]
    },
    {
      "cell_type": "code",
      "execution_count": 69,
      "metadata": {
        "id": "ty6Dhte-73_7"
      },
      "outputs": [
        {
          "data": {
            "text/plain": [
              "[('cow', 0.9589031934738159),\n",
              " ('lion', 0.9542911052703857),\n",
              " ('giant', 0.9515944123268127),\n",
              " ('husband', 0.9495589733123779),\n",
              " ('friend', 0.9476664662361145),\n",
              " ('mouse', 0.9474453926086426),\n",
              " ('word', 0.947316586971283),\n",
              " ('cat', 0.9464669227600098),\n",
              " ('grandmother', 0.9461795687675476),\n",
              " ('master', 0.9453179240226746)]"
            ]
          },
          "execution_count": 69,
          "metadata": {},
          "output_type": "execute_result"
        }
      ],
      "source": [
        "pretrained_model.wv.most_similar(positive=['man', 'prince'], negative=['woman'])"
      ]
    },
    {
      "cell_type": "markdown",
      "metadata": {
        "id": "xOpA5Aaa73_9"
      },
      "source": [
        "### gensim으로 학습된 단어 임베딩을 Keras에서 불러오기"
      ]
    },
    {
      "cell_type": "code",
      "execution_count": 70,
      "metadata": {
        "id": "k7QqtHhC73_9"
      },
      "outputs": [],
      "source": [
        "from keras.models import Sequential\n",
        "from keras.layers import Embedding"
      ]
    },
    {
      "cell_type": "code",
      "execution_count": 71,
      "metadata": {
        "id": "G9LrBGOw73_-"
      },
      "outputs": [
        {
          "name": "stdout",
          "output_type": "stream",
          "text": [
            "2446\n",
            "100\n"
          ]
        }
      ],
      "source": [
        "num_words, emb_dim = pretrained_model.wv.vectors.shape\n",
        "\n",
        "print(num_words)\n",
        "print(emb_dim)"
      ]
    },
    {
      "cell_type": "markdown",
      "metadata": {
        "id": "ui9L8Nn574AA"
      },
      "source": [
        "### gensim으로 학습된 단어 임베딩을 케라스의 임베딩 레이어의 가중치로 설정"
      ]
    },
    {
      "cell_type": "code",
      "execution_count": 72,
      "metadata": {
        "id": "59oRg3bU74AA"
      },
      "outputs": [],
      "source": [
        "emb = Embedding(input_dim=num_words, output_dim=emb_dim,\n",
        "                trainable=False, weights=[pretrained_model.wv.vectors])"
      ]
    },
    {
      "cell_type": "code",
      "execution_count": 73,
      "metadata": {
        "id": "cH7X-lB_74AC"
      },
      "outputs": [],
      "source": [
        "model = Sequential()\n",
        "model.add(emb)"
      ]
    },
    {
      "cell_type": "code",
      "execution_count": 74,
      "metadata": {
        "id": "kQFXfXdY74AE"
      },
      "outputs": [
        {
          "data": {
            "text/html": [
              "<pre style=\"white-space:pre;overflow-x:auto;line-height:normal;font-family:Menlo,'DejaVu Sans Mono',consolas,'Courier New',monospace\"><span style=\"font-weight: bold\">Model: \"sequential_2\"</span>\n",
              "</pre>\n"
            ],
            "text/plain": [
              "\u001b[1mModel: \"sequential_2\"\u001b[0m\n"
            ]
          },
          "metadata": {},
          "output_type": "display_data"
        },
        {
          "data": {
            "text/html": [
              "<pre style=\"white-space:pre;overflow-x:auto;line-height:normal;font-family:Menlo,'DejaVu Sans Mono',consolas,'Courier New',monospace\">┏━━━━━━━━━━━━━━━━━━━━━━━━━━━━━━━━━┳━━━━━━━━━━━━━━━━━━━━━━━━┳━━━━━━━━━━━━━━━┓\n",
              "┃<span style=\"font-weight: bold\"> Layer (type)                    </span>┃<span style=\"font-weight: bold\"> Output Shape           </span>┃<span style=\"font-weight: bold\">       Param # </span>┃\n",
              "┡━━━━━━━━━━━━━━━━━━━━━━━━━━━━━━━━━╇━━━━━━━━━━━━━━━━━━━━━━━━╇━━━━━━━━━━━━━━━┩\n",
              "│ embedding_3 (<span style=\"color: #0087ff; text-decoration-color: #0087ff\">Embedding</span>)         │ ?                      │       <span style=\"color: #00af00; text-decoration-color: #00af00\">244,600</span> │\n",
              "└─────────────────────────────────┴────────────────────────┴───────────────┘\n",
              "</pre>\n"
            ],
            "text/plain": [
              "┏━━━━━━━━━━━━━━━━━━━━━━━━━━━━━━━━━┳━━━━━━━━━━━━━━━━━━━━━━━━┳━━━━━━━━━━━━━━━┓\n",
              "┃\u001b[1m \u001b[0m\u001b[1mLayer (type)                   \u001b[0m\u001b[1m \u001b[0m┃\u001b[1m \u001b[0m\u001b[1mOutput Shape          \u001b[0m\u001b[1m \u001b[0m┃\u001b[1m \u001b[0m\u001b[1m      Param #\u001b[0m\u001b[1m \u001b[0m┃\n",
              "┡━━━━━━━━━━━━━━━━━━━━━━━━━━━━━━━━━╇━━━━━━━━━━━━━━━━━━━━━━━━╇━━━━━━━━━━━━━━━┩\n",
              "│ embedding_3 (\u001b[38;5;33mEmbedding\u001b[0m)         │ ?                      │       \u001b[38;5;34m244,600\u001b[0m │\n",
              "└─────────────────────────────────┴────────────────────────┴───────────────┘\n"
            ]
          },
          "metadata": {},
          "output_type": "display_data"
        },
        {
          "data": {
            "text/html": [
              "<pre style=\"white-space:pre;overflow-x:auto;line-height:normal;font-family:Menlo,'DejaVu Sans Mono',consolas,'Courier New',monospace\"><span style=\"font-weight: bold\"> Total params: </span><span style=\"color: #00af00; text-decoration-color: #00af00\">244,600</span> (955.47 KB)\n",
              "</pre>\n"
            ],
            "text/plain": [
              "\u001b[1m Total params: \u001b[0m\u001b[38;5;34m244,600\u001b[0m (955.47 KB)\n"
            ]
          },
          "metadata": {},
          "output_type": "display_data"
        },
        {
          "data": {
            "text/html": [
              "<pre style=\"white-space:pre;overflow-x:auto;line-height:normal;font-family:Menlo,'DejaVu Sans Mono',consolas,'Courier New',monospace\"><span style=\"font-weight: bold\"> Trainable params: </span><span style=\"color: #00af00; text-decoration-color: #00af00\">0</span> (0.00 B)\n",
              "</pre>\n"
            ],
            "text/plain": [
              "\u001b[1m Trainable params: \u001b[0m\u001b[38;5;34m0\u001b[0m (0.00 B)\n"
            ]
          },
          "metadata": {},
          "output_type": "display_data"
        },
        {
          "data": {
            "text/html": [
              "<pre style=\"white-space:pre;overflow-x:auto;line-height:normal;font-family:Menlo,'DejaVu Sans Mono',consolas,'Courier New',monospace\"><span style=\"font-weight: bold\"> Non-trainable params: </span><span style=\"color: #00af00; text-decoration-color: #00af00\">244,600</span> (955.47 KB)\n",
              "</pre>\n"
            ],
            "text/plain": [
              "\u001b[1m Non-trainable params: \u001b[0m\u001b[38;5;34m244,600\u001b[0m (955.47 KB)\n"
            ]
          },
          "metadata": {},
          "output_type": "display_data"
        }
      ],
      "source": [
        "model.summary()"
      ]
    },
    {
      "cell_type": "code",
      "execution_count": 75,
      "metadata": {
        "id": "X4cQ79h874AH"
      },
      "outputs": [],
      "source": [
        "i = pretrained_model.wv.index_to_key.index('princess')"
      ]
    },
    {
      "cell_type": "code",
      "execution_count": 76,
      "metadata": {
        "id": "XvlxA7lL74AL"
      },
      "outputs": [
        {
          "name": "stdout",
          "output_type": "stream",
          "text": [
            "\u001b[1m1/1\u001b[0m \u001b[32m━━━━━━━━━━━━━━━━━━━━\u001b[0m\u001b[37m\u001b[0m \u001b[1m0s\u001b[0m 29ms/step\n"
          ]
        },
        {
          "data": {
            "text/plain": [
              "array([[[-0.12417696,  0.13143969,  0.08471574,  0.2130082 ,\n",
              "         -0.01254607, -0.33003995,  0.17874098,  0.5376661 ,\n",
              "         -0.18763138, -0.0783434 , -0.01111855, -0.24133834,\n",
              "         -0.03830223,  0.21427327,  0.02198627, -0.22413959,\n",
              "          0.08466358, -0.31327945, -0.01787804, -0.3493676 ,\n",
              "          0.11327072,  0.0899285 ,  0.18434098, -0.10836067,\n",
              "          0.14663824, -0.06380378, -0.06502759,  0.02647705,\n",
              "         -0.00724996, -0.07762552,  0.03116618, -0.02260992,\n",
              "          0.21928458, -0.15104774, -0.01479691,  0.16750719,\n",
              "         -0.00147564, -0.04834011, -0.13199514, -0.16823857,\n",
              "         -0.01224228, -0.16002703, -0.04128069,  0.03749553,\n",
              "          0.02629786,  0.08784956, -0.19971816, -0.1748703 ,\n",
              "          0.20171438,  0.04687404,  0.11332445, -0.11488077,\n",
              "         -0.06271812, -0.01710295,  0.05298222,  0.02569976,\n",
              "          0.12987484,  0.08738696, -0.18215014,  0.01393691,\n",
              "          0.09834168,  0.04770513,  0.024411  , -0.03319447,\n",
              "         -0.23160489,  0.36954245,  0.05542956,  0.22515671,\n",
              "         -0.31849417,  0.26678082, -0.01547073,  0.00591673,\n",
              "          0.20042937, -0.08542871,  0.253497  , -0.1411199 ,\n",
              "          0.05336348, -0.09750365, -0.03824649,  0.04872129,\n",
              "         -0.1911082 ,  0.11490992, -0.14257842,  0.21635878,\n",
              "         -0.15823704,  0.12042772,  0.13809133, -0.01512445,\n",
              "          0.16137055,  0.00222305,  0.15339221, -0.00655816,\n",
              "          0.01640996,  0.05481568,  0.17691612,  0.15638478,\n",
              "         -0.02200817, -0.16307606, -0.13794939,  0.05135354]]],\n",
              "      dtype=float32)"
            ]
          },
          "execution_count": 76,
          "metadata": {},
          "output_type": "execute_result"
        }
      ],
      "source": [
        "model.predict(np.array([[i]]))"
      ]
    },
    {
      "cell_type": "markdown",
      "metadata": {
        "id": "LabagywRwG25"
      },
      "source": [
        "## Keras에서 Word2Vec 직접 학습\n",
        "- 코드 출처 : http://doc.mindscale.kr/km/unstructured/11.html"
      ]
    },
    {
      "cell_type": "markdown",
      "metadata": {
        "id": "DYKQ4bBOwN7v"
      },
      "source": [
        "### 데이터 준비"
      ]
    },
    {
      "cell_type": "code",
      "execution_count": 77,
      "metadata": {
        "id": "iAAM9mxWwMaw"
      },
      "outputs": [],
      "source": [
        "from tensorflow.keras.datasets import imdb\n",
        "\n",
        "(x_train, y_train), (x_test, y_test) = imdb.load_data()"
      ]
    },
    {
      "cell_type": "markdown",
      "metadata": {
        "id": "Fk5L0JTOwhjW"
      },
      "source": [
        "- 단어 번호와 단어의 관계를 사전으로 만듦\n",
        "\n",
        "- 1번은 문장의 시작, 2번은 사전에 없는 단어(OOV)로 미리 지정"
      ]
    },
    {
      "cell_type": "code",
      "execution_count": 79,
      "metadata": {
        "id": "8z0ZJDXIwNBZ"
      },
      "outputs": [
        {
          "data": {
            "text/plain": [
              "{'fawn': 34701,\n",
              " 'tsukino': 52006,\n",
              " 'nunnery': 52007,\n",
              " 'sonja': 16816,\n",
              " 'vani': 63951,\n",
              " 'woods': 1408,\n",
              " 'spiders': 16115,\n",
              " 'hanging': 2345,\n",
              " 'woody': 2289,\n",
              " 'trawling': 52008,\n",
              " \"hold's\": 52009,\n",
              " 'comically': 11307,\n",
              " 'localized': 40830,\n",
              " 'disobeying': 30568,\n",
              " \"'royale\": 52010,\n",
              " \"harpo's\": 40831,\n",
              " 'canet': 52011,\n",
              " 'aileen': 19313,\n",
              " 'acurately': 52012,\n",
              " \"diplomat's\": 52013,\n",
              " 'rickman': 25242,\n",
              " 'arranged': 6746,\n",
              " 'rumbustious': 52014,\n",
              " 'familiarness': 52015,\n",
              " \"spider'\": 52016,\n",
              " 'hahahah': 68804,\n",
              " \"wood'\": 52017,\n",
              " 'transvestism': 40833,\n",
              " \"hangin'\": 34702,\n",
              " 'bringing': 2338,\n",
              " 'seamier': 40834,\n",
              " 'wooded': 34703,\n",
              " 'bravora': 52018,\n",
              " 'grueling': 16817,\n",
              " 'wooden': 1636,\n",
              " 'wednesday': 16818,\n",
              " \"'prix\": 52019,\n",
              " 'altagracia': 34704,\n",
              " 'circuitry': 52020,\n",
              " 'crotch': 11585,\n",
              " 'busybody': 57766,\n",
              " \"tart'n'tangy\": 52021,\n",
              " 'burgade': 14129,\n",
              " 'thrace': 52023,\n",
              " \"tom's\": 11038,\n",
              " 'snuggles': 52025,\n",
              " 'francesco': 29114,\n",
              " 'complainers': 52027,\n",
              " 'templarios': 52125,\n",
              " '272': 40835,\n",
              " '273': 52028,\n",
              " 'zaniacs': 52130,\n",
              " '275': 34706,\n",
              " 'consenting': 27631,\n",
              " 'snuggled': 40836,\n",
              " 'inanimate': 15492,\n",
              " 'uality': 52030,\n",
              " 'bronte': 11926,\n",
              " 'errors': 4010,\n",
              " 'dialogs': 3230,\n",
              " \"yomada's\": 52031,\n",
              " \"madman's\": 34707,\n",
              " 'dialoge': 30585,\n",
              " 'usenet': 52033,\n",
              " 'videodrome': 40837,\n",
              " \"kid'\": 26338,\n",
              " 'pawed': 52034,\n",
              " \"'girlfriend'\": 30569,\n",
              " \"'pleasure\": 52035,\n",
              " \"'reloaded'\": 52036,\n",
              " \"kazakos'\": 40839,\n",
              " 'rocque': 52037,\n",
              " 'mailings': 52038,\n",
              " 'brainwashed': 11927,\n",
              " 'mcanally': 16819,\n",
              " \"tom''\": 52039,\n",
              " 'kurupt': 25243,\n",
              " 'affiliated': 21905,\n",
              " 'babaganoosh': 52040,\n",
              " \"noe's\": 40840,\n",
              " 'quart': 40841,\n",
              " 'kids': 359,\n",
              " 'uplifting': 5034,\n",
              " 'controversy': 7093,\n",
              " 'kida': 21906,\n",
              " 'kidd': 23379,\n",
              " \"error'\": 52041,\n",
              " 'neurologist': 52042,\n",
              " 'spotty': 18510,\n",
              " 'cobblers': 30570,\n",
              " 'projection': 9878,\n",
              " 'fastforwarding': 40842,\n",
              " 'sters': 52043,\n",
              " \"eggar's\": 52044,\n",
              " 'etherything': 52045,\n",
              " 'gateshead': 40843,\n",
              " 'airball': 34708,\n",
              " 'unsinkable': 25244,\n",
              " 'stern': 7180,\n",
              " \"cervi's\": 52046,\n",
              " 'dnd': 40844,\n",
              " 'dna': 11586,\n",
              " 'insecurity': 20598,\n",
              " \"'reboot'\": 52047,\n",
              " 'trelkovsky': 11037,\n",
              " 'jaekel': 52048,\n",
              " 'sidebars': 52049,\n",
              " \"sforza's\": 52050,\n",
              " 'distortions': 17633,\n",
              " 'mutinies': 52051,\n",
              " 'sermons': 30602,\n",
              " '7ft': 40846,\n",
              " 'boobage': 52052,\n",
              " \"o'bannon's\": 52053,\n",
              " 'populations': 23380,\n",
              " 'chulak': 52054,\n",
              " 'mesmerize': 27633,\n",
              " 'quinnell': 52055,\n",
              " 'yahoo': 10307,\n",
              " 'meteorologist': 52057,\n",
              " 'beswick': 42577,\n",
              " 'boorman': 15493,\n",
              " 'voicework': 40847,\n",
              " \"ster'\": 52058,\n",
              " 'blustering': 22922,\n",
              " 'hj': 52059,\n",
              " 'intake': 27634,\n",
              " 'morally': 5621,\n",
              " 'jumbling': 40849,\n",
              " 'bowersock': 52060,\n",
              " \"'porky's'\": 52061,\n",
              " 'gershon': 16821,\n",
              " 'ludicrosity': 40850,\n",
              " 'coprophilia': 52062,\n",
              " 'expressively': 40851,\n",
              " \"india's\": 19500,\n",
              " \"post's\": 34710,\n",
              " 'wana': 52063,\n",
              " 'wang': 5283,\n",
              " 'wand': 30571,\n",
              " 'wane': 25245,\n",
              " 'edgeways': 52321,\n",
              " 'titanium': 34711,\n",
              " 'pinta': 40852,\n",
              " 'want': 178,\n",
              " 'pinto': 30572,\n",
              " 'whoopdedoodles': 52065,\n",
              " 'tchaikovsky': 21908,\n",
              " 'travel': 2103,\n",
              " \"'victory'\": 52066,\n",
              " 'copious': 11928,\n",
              " 'gouge': 22433,\n",
              " \"chapters'\": 52067,\n",
              " 'barbra': 6702,\n",
              " 'uselessness': 30573,\n",
              " \"wan'\": 52068,\n",
              " 'assimilated': 27635,\n",
              " 'petiot': 16116,\n",
              " 'most\\x85and': 52069,\n",
              " 'dinosaurs': 3930,\n",
              " 'wrong': 352,\n",
              " 'seda': 52070,\n",
              " 'stollen': 52071,\n",
              " 'sentencing': 34712,\n",
              " 'ouroboros': 40853,\n",
              " 'assimilates': 40854,\n",
              " 'colorfully': 40855,\n",
              " 'glenne': 27636,\n",
              " 'dongen': 52072,\n",
              " 'subplots': 4760,\n",
              " 'kiloton': 52073,\n",
              " 'chandon': 23381,\n",
              " \"effect'\": 34713,\n",
              " 'snugly': 27637,\n",
              " 'kuei': 40856,\n",
              " 'welcomed': 9092,\n",
              " 'dishonor': 30071,\n",
              " 'concurrence': 52075,\n",
              " 'stoicism': 23382,\n",
              " \"guys'\": 14896,\n",
              " \"beroemd'\": 52077,\n",
              " 'butcher': 6703,\n",
              " \"melfi's\": 40857,\n",
              " 'aargh': 30623,\n",
              " 'playhouse': 20599,\n",
              " 'wickedly': 11308,\n",
              " 'fit': 1180,\n",
              " 'labratory': 52078,\n",
              " 'lifeline': 40859,\n",
              " 'screaming': 1927,\n",
              " 'fix': 4287,\n",
              " 'cineliterate': 52079,\n",
              " 'fic': 52080,\n",
              " 'fia': 52081,\n",
              " 'fig': 34714,\n",
              " 'fmvs': 52082,\n",
              " 'fie': 52083,\n",
              " 'reentered': 52084,\n",
              " 'fin': 30574,\n",
              " 'doctresses': 52085,\n",
              " 'fil': 52086,\n",
              " 'zucker': 12606,\n",
              " 'ached': 31931,\n",
              " 'counsil': 52088,\n",
              " 'paterfamilias': 52089,\n",
              " 'songwriter': 13885,\n",
              " 'shivam': 34715,\n",
              " 'hurting': 9654,\n",
              " 'effects': 299,\n",
              " 'slauther': 52090,\n",
              " \"'flame'\": 52091,\n",
              " 'sommerset': 52092,\n",
              " 'interwhined': 52093,\n",
              " 'whacking': 27638,\n",
              " 'bartok': 52094,\n",
              " 'barton': 8775,\n",
              " 'frewer': 21909,\n",
              " \"fi'\": 52095,\n",
              " 'ingrid': 6192,\n",
              " 'stribor': 30575,\n",
              " 'approporiately': 52096,\n",
              " 'wobblyhand': 52097,\n",
              " 'tantalisingly': 52098,\n",
              " 'ankylosaurus': 52099,\n",
              " 'parasites': 17634,\n",
              " 'childen': 52100,\n",
              " \"jenkins'\": 52101,\n",
              " 'metafiction': 52102,\n",
              " 'golem': 17635,\n",
              " 'indiscretion': 40860,\n",
              " \"reeves'\": 23383,\n",
              " \"inamorata's\": 57781,\n",
              " 'brittannica': 52104,\n",
              " 'adapt': 7916,\n",
              " \"russo's\": 30576,\n",
              " 'guitarists': 48246,\n",
              " 'abbott': 10553,\n",
              " 'abbots': 40861,\n",
              " 'lanisha': 17649,\n",
              " 'magickal': 40863,\n",
              " 'mattter': 52105,\n",
              " \"'willy\": 52106,\n",
              " 'pumpkins': 34716,\n",
              " 'stuntpeople': 52107,\n",
              " 'estimate': 30577,\n",
              " 'ugghhh': 40864,\n",
              " 'gameplay': 11309,\n",
              " \"wern't\": 52108,\n",
              " \"n'sync\": 40865,\n",
              " 'sickeningly': 16117,\n",
              " 'chiara': 40866,\n",
              " 'disturbed': 4011,\n",
              " 'portmanteau': 40867,\n",
              " 'ineffectively': 52109,\n",
              " \"duchonvey's\": 82143,\n",
              " \"nasty'\": 37519,\n",
              " 'purpose': 1285,\n",
              " 'lazers': 52112,\n",
              " 'lightened': 28105,\n",
              " 'kaliganj': 52113,\n",
              " 'popularism': 52114,\n",
              " \"damme's\": 18511,\n",
              " 'stylistics': 30578,\n",
              " 'mindgaming': 52115,\n",
              " 'spoilerish': 46449,\n",
              " \"'corny'\": 52117,\n",
              " 'boerner': 34718,\n",
              " 'olds': 6792,\n",
              " 'bakelite': 52118,\n",
              " 'renovated': 27639,\n",
              " 'forrester': 27640,\n",
              " \"lumiere's\": 52119,\n",
              " 'gaskets': 52024,\n",
              " 'needed': 884,\n",
              " 'smight': 34719,\n",
              " 'master': 1297,\n",
              " \"edie's\": 25905,\n",
              " 'seeber': 40868,\n",
              " 'hiya': 52120,\n",
              " 'fuzziness': 52121,\n",
              " 'genesis': 14897,\n",
              " 'rewards': 12607,\n",
              " 'enthrall': 30579,\n",
              " \"'about\": 40869,\n",
              " \"recollection's\": 52122,\n",
              " 'mutilated': 11039,\n",
              " 'fatherlands': 52123,\n",
              " \"fischer's\": 52124,\n",
              " 'positively': 5399,\n",
              " '270': 34705,\n",
              " 'ahmed': 34720,\n",
              " 'zatoichi': 9836,\n",
              " 'bannister': 13886,\n",
              " 'anniversaries': 52127,\n",
              " \"helm's\": 30580,\n",
              " \"'work'\": 52128,\n",
              " 'exclaimed': 34721,\n",
              " \"'unfunny'\": 52129,\n",
              " '274': 52029,\n",
              " 'feeling': 544,\n",
              " \"wanda's\": 52131,\n",
              " 'dolan': 33266,\n",
              " '278': 52133,\n",
              " 'peacoat': 52134,\n",
              " 'brawny': 40870,\n",
              " 'mishra': 40871,\n",
              " 'worlders': 40872,\n",
              " 'protags': 52135,\n",
              " 'skullcap': 52136,\n",
              " 'dastagir': 57596,\n",
              " 'affairs': 5622,\n",
              " 'wholesome': 7799,\n",
              " 'hymen': 52137,\n",
              " 'paramedics': 25246,\n",
              " 'unpersons': 52138,\n",
              " 'heavyarms': 52139,\n",
              " 'affaire': 52140,\n",
              " 'coulisses': 52141,\n",
              " 'hymer': 40873,\n",
              " 'kremlin': 52142,\n",
              " 'shipments': 30581,\n",
              " 'pixilated': 52143,\n",
              " \"'00s\": 30582,\n",
              " 'diminishing': 18512,\n",
              " 'cinematic': 1357,\n",
              " 'resonates': 14898,\n",
              " 'simplify': 40874,\n",
              " \"nature'\": 40875,\n",
              " 'temptresses': 40876,\n",
              " 'reverence': 16822,\n",
              " 'resonated': 19502,\n",
              " 'dailey': 34722,\n",
              " '2\\x85': 52144,\n",
              " 'treize': 27641,\n",
              " 'majo': 52145,\n",
              " 'kiya': 21910,\n",
              " 'woolnough': 52146,\n",
              " 'thanatos': 39797,\n",
              " 'sandoval': 35731,\n",
              " 'dorama': 40879,\n",
              " \"o'shaughnessy\": 52147,\n",
              " 'tech': 4988,\n",
              " 'fugitives': 32018,\n",
              " 'teck': 30583,\n",
              " \"'e'\": 76125,\n",
              " 'doesn’t': 40881,\n",
              " 'purged': 52149,\n",
              " 'saying': 657,\n",
              " \"martians'\": 41095,\n",
              " 'norliss': 23418,\n",
              " 'dickey': 27642,\n",
              " 'dicker': 52152,\n",
              " \"'sependipity\": 52153,\n",
              " 'padded': 8422,\n",
              " 'ordell': 57792,\n",
              " \"sturges'\": 40882,\n",
              " 'independentcritics': 52154,\n",
              " 'tempted': 5745,\n",
              " \"atkinson's\": 34724,\n",
              " 'hounded': 25247,\n",
              " 'apace': 52155,\n",
              " 'clicked': 15494,\n",
              " \"'humor'\": 30584,\n",
              " \"martino's\": 17177,\n",
              " \"'supporting\": 52156,\n",
              " 'warmongering': 52032,\n",
              " \"zemeckis's\": 34725,\n",
              " 'lube': 21911,\n",
              " 'shocky': 52157,\n",
              " 'plate': 7476,\n",
              " 'plata': 40883,\n",
              " 'sturgess': 40884,\n",
              " \"nerds'\": 40885,\n",
              " 'plato': 20600,\n",
              " 'plath': 34726,\n",
              " 'platt': 40886,\n",
              " 'mcnab': 52159,\n",
              " 'clumsiness': 27643,\n",
              " 'altogether': 3899,\n",
              " 'massacring': 42584,\n",
              " 'bicenntinial': 52160,\n",
              " 'skaal': 40887,\n",
              " 'droning': 14360,\n",
              " 'lds': 8776,\n",
              " 'jaguar': 21912,\n",
              " \"cale's\": 34727,\n",
              " 'nicely': 1777,\n",
              " 'mummy': 4588,\n",
              " \"lot's\": 18513,\n",
              " 'patch': 10086,\n",
              " 'kerkhof': 50202,\n",
              " \"leader's\": 52161,\n",
              " \"'movie\": 27644,\n",
              " 'uncomfirmed': 52162,\n",
              " 'heirloom': 40888,\n",
              " 'wrangle': 47360,\n",
              " 'emotion\\x85': 52163,\n",
              " \"'stargate'\": 52164,\n",
              " 'pinoy': 40889,\n",
              " 'conchatta': 40890,\n",
              " 'broeke': 41128,\n",
              " 'advisedly': 40891,\n",
              " \"barker's\": 17636,\n",
              " 'descours': 52166,\n",
              " 'lots': 772,\n",
              " 'lotr': 9259,\n",
              " 'irs': 9879,\n",
              " 'lott': 52167,\n",
              " 'xvi': 40892,\n",
              " 'irk': 34728,\n",
              " 'irl': 52168,\n",
              " 'ira': 6887,\n",
              " 'belzer': 21913,\n",
              " 'irc': 52169,\n",
              " 'ire': 27645,\n",
              " 'requisites': 40893,\n",
              " 'discipline': 7693,\n",
              " 'lyoko': 52961,\n",
              " 'extend': 11310,\n",
              " 'nature': 873,\n",
              " \"'dickie'\": 52170,\n",
              " 'optimist': 40894,\n",
              " 'lapping': 30586,\n",
              " 'superficial': 3900,\n",
              " 'vestment': 52171,\n",
              " 'extent': 2823,\n",
              " 'tendons': 52172,\n",
              " \"heller's\": 52173,\n",
              " 'quagmires': 52174,\n",
              " 'miyako': 52175,\n",
              " 'moocow': 20601,\n",
              " \"coles'\": 52176,\n",
              " 'lookit': 40895,\n",
              " 'ravenously': 52177,\n",
              " 'levitating': 40896,\n",
              " 'perfunctorily': 52178,\n",
              " 'lookin': 30587,\n",
              " \"lot'\": 40898,\n",
              " 'lookie': 52179,\n",
              " 'fearlessly': 34870,\n",
              " 'libyan': 52181,\n",
              " 'fondles': 40899,\n",
              " 'gopher': 35714,\n",
              " 'wearying': 40901,\n",
              " \"nz's\": 52182,\n",
              " 'minuses': 27646,\n",
              " 'puposelessly': 52183,\n",
              " 'shandling': 52184,\n",
              " 'decapitates': 31268,\n",
              " 'humming': 11929,\n",
              " \"'nother\": 40902,\n",
              " 'smackdown': 21914,\n",
              " 'underdone': 30588,\n",
              " 'frf': 40903,\n",
              " 'triviality': 52185,\n",
              " 'fro': 25248,\n",
              " 'bothers': 8777,\n",
              " \"'kensington\": 52186,\n",
              " 'much': 73,\n",
              " 'muco': 34730,\n",
              " 'wiseguy': 22615,\n",
              " \"richie's\": 27648,\n",
              " 'tonino': 40904,\n",
              " 'unleavened': 52187,\n",
              " 'fry': 11587,\n",
              " \"'tv'\": 40905,\n",
              " 'toning': 40906,\n",
              " 'obese': 14361,\n",
              " 'sensationalized': 30589,\n",
              " 'spiv': 40907,\n",
              " 'spit': 6259,\n",
              " 'arkin': 7364,\n",
              " 'charleton': 21915,\n",
              " 'jeon': 16823,\n",
              " 'boardroom': 21916,\n",
              " 'doubts': 4989,\n",
              " 'spin': 3084,\n",
              " 'hepo': 53083,\n",
              " 'wildcat': 27649,\n",
              " 'venoms': 10584,\n",
              " 'misconstrues': 52191,\n",
              " 'mesmerising': 18514,\n",
              " 'misconstrued': 40908,\n",
              " 'rescinds': 52192,\n",
              " 'prostrate': 52193,\n",
              " 'majid': 40909,\n",
              " 'climbed': 16479,\n",
              " 'canoeing': 34731,\n",
              " 'majin': 52195,\n",
              " 'animie': 57804,\n",
              " 'sylke': 40910,\n",
              " 'conditioned': 14899,\n",
              " 'waddell': 40911,\n",
              " '3\\x85': 52196,\n",
              " 'hyperdrive': 41188,\n",
              " 'conditioner': 34732,\n",
              " 'bricklayer': 53153,\n",
              " 'hong': 2576,\n",
              " 'memoriam': 52198,\n",
              " 'inventively': 30592,\n",
              " \"levant's\": 25249,\n",
              " 'portobello': 20638,\n",
              " 'remand': 52200,\n",
              " 'mummified': 19504,\n",
              " 'honk': 27650,\n",
              " 'spews': 19505,\n",
              " 'visitations': 40912,\n",
              " 'mummifies': 52201,\n",
              " 'cavanaugh': 25250,\n",
              " 'zeon': 23385,\n",
              " \"jungle's\": 40913,\n",
              " 'viertel': 34733,\n",
              " 'frenchmen': 27651,\n",
              " 'torpedoes': 52202,\n",
              " 'schlessinger': 52203,\n",
              " 'torpedoed': 34734,\n",
              " 'blister': 69876,\n",
              " 'cinefest': 52204,\n",
              " 'furlough': 34735,\n",
              " 'mainsequence': 52205,\n",
              " 'mentors': 40914,\n",
              " 'academic': 9094,\n",
              " 'stillness': 20602,\n",
              " 'academia': 40915,\n",
              " 'lonelier': 52206,\n",
              " 'nibby': 52207,\n",
              " \"losers'\": 52208,\n",
              " 'cineastes': 40916,\n",
              " 'corporate': 4449,\n",
              " 'massaging': 40917,\n",
              " 'bellow': 30593,\n",
              " 'absurdities': 19506,\n",
              " 'expetations': 53241,\n",
              " 'nyfiken': 40918,\n",
              " 'mehras': 75638,\n",
              " 'lasse': 52209,\n",
              " 'visability': 52210,\n",
              " 'militarily': 33946,\n",
              " \"elder'\": 52211,\n",
              " 'gainsbourg': 19023,\n",
              " 'hah': 20603,\n",
              " 'hai': 13420,\n",
              " 'haj': 34736,\n",
              " 'hak': 25251,\n",
              " 'hal': 4311,\n",
              " 'ham': 4892,\n",
              " 'duffer': 53259,\n",
              " 'haa': 52213,\n",
              " 'had': 66,\n",
              " 'advancement': 11930,\n",
              " 'hag': 16825,\n",
              " \"hand'\": 25252,\n",
              " 'hay': 13421,\n",
              " 'mcnamara': 20604,\n",
              " \"mozart's\": 52214,\n",
              " 'duffel': 30731,\n",
              " 'haq': 30594,\n",
              " 'har': 13887,\n",
              " 'has': 44,\n",
              " 'hat': 2401,\n",
              " 'hav': 40919,\n",
              " 'haw': 30595,\n",
              " 'figtings': 52215,\n",
              " 'elders': 15495,\n",
              " 'underpanted': 52216,\n",
              " 'pninson': 52217,\n",
              " 'unequivocally': 27652,\n",
              " \"barbara's\": 23673,\n",
              " \"bello'\": 52219,\n",
              " 'indicative': 12997,\n",
              " 'yawnfest': 40920,\n",
              " 'hexploitation': 52220,\n",
              " \"loder's\": 52221,\n",
              " 'sleuthing': 27653,\n",
              " \"justin's\": 32622,\n",
              " \"'ball\": 52222,\n",
              " \"'summer\": 52223,\n",
              " \"'demons'\": 34935,\n",
              " \"mormon's\": 52225,\n",
              " \"laughton's\": 34737,\n",
              " 'debell': 52226,\n",
              " 'shipyard': 39724,\n",
              " 'unabashedly': 30597,\n",
              " 'disks': 40401,\n",
              " 'crowd': 2290,\n",
              " 'crowe': 10087,\n",
              " \"vancouver's\": 56434,\n",
              " 'mosques': 34738,\n",
              " 'crown': 6627,\n",
              " 'culpas': 52227,\n",
              " 'crows': 27654,\n",
              " 'surrell': 53344,\n",
              " 'flowless': 52229,\n",
              " 'sheirk': 52230,\n",
              " \"'three\": 40923,\n",
              " \"peterson'\": 52231,\n",
              " 'ooverall': 52232,\n",
              " 'perchance': 40924,\n",
              " 'bottom': 1321,\n",
              " 'chabert': 53363,\n",
              " 'sneha': 52233,\n",
              " 'inhuman': 13888,\n",
              " 'ichii': 52234,\n",
              " 'ursla': 52235,\n",
              " 'completly': 30598,\n",
              " 'moviedom': 40925,\n",
              " 'raddick': 52236,\n",
              " 'brundage': 51995,\n",
              " 'brigades': 40926,\n",
              " 'starring': 1181,\n",
              " \"'goal'\": 52237,\n",
              " 'caskets': 52238,\n",
              " 'willcock': 52239,\n",
              " \"threesome's\": 52240,\n",
              " \"mosque'\": 52241,\n",
              " \"cover's\": 52242,\n",
              " 'spaceships': 17637,\n",
              " 'anomalous': 40927,\n",
              " 'ptsd': 27655,\n",
              " 'shirdan': 52243,\n",
              " 'obscenity': 21962,\n",
              " 'lemmings': 30599,\n",
              " 'duccio': 30600,\n",
              " \"levene's\": 52244,\n",
              " \"'gorby'\": 52245,\n",
              " \"teenager's\": 25255,\n",
              " 'marshall': 5340,\n",
              " 'honeymoon': 9095,\n",
              " 'shoots': 3231,\n",
              " 'despised': 12258,\n",
              " 'okabasho': 52246,\n",
              " 'fabric': 8289,\n",
              " 'cannavale': 18515,\n",
              " 'raped': 3537,\n",
              " \"tutt's\": 52247,\n",
              " 'grasping': 17638,\n",
              " 'despises': 18516,\n",
              " \"thief's\": 40928,\n",
              " 'rapes': 8926,\n",
              " 'raper': 52248,\n",
              " \"eyre'\": 27656,\n",
              " 'walchek': 52249,\n",
              " \"elmo's\": 23386,\n",
              " 'perfumes': 40929,\n",
              " 'spurting': 21918,\n",
              " \"exposition'\\x85\": 52250,\n",
              " 'denoting': 52251,\n",
              " 'thesaurus': 34740,\n",
              " \"shoot'\": 40930,\n",
              " 'bonejack': 49759,\n",
              " 'simpsonian': 52253,\n",
              " 'hebetude': 30601,\n",
              " \"hallow's\": 34741,\n",
              " 'desperation\\x85': 52254,\n",
              " 'incinerator': 34742,\n",
              " 'congratulations': 10308,\n",
              " 'humbled': 52255,\n",
              " \"else's\": 5924,\n",
              " 'trelkovski': 40845,\n",
              " \"rape'\": 52256,\n",
              " \"'chapters'\": 59386,\n",
              " '1600s': 52257,\n",
              " 'martian': 7253,\n",
              " 'nicest': 25256,\n",
              " 'eyred': 52259,\n",
              " 'passenger': 9457,\n",
              " 'disgrace': 6041,\n",
              " 'moderne': 52260,\n",
              " 'barrymore': 5120,\n",
              " 'yankovich': 52261,\n",
              " 'moderns': 40931,\n",
              " 'studliest': 52262,\n",
              " 'bedsheet': 52263,\n",
              " 'decapitation': 14900,\n",
              " 'slurring': 52264,\n",
              " \"'nunsploitation'\": 52265,\n",
              " \"'character'\": 34743,\n",
              " 'cambodia': 9880,\n",
              " 'rebelious': 52266,\n",
              " 'pasadena': 27657,\n",
              " 'crowne': 40932,\n",
              " \"'bedchamber\": 52267,\n",
              " 'conjectural': 52268,\n",
              " 'appologize': 52269,\n",
              " 'halfassing': 52270,\n",
              " 'paycheque': 57816,\n",
              " 'palms': 20606,\n",
              " \"'islands\": 52271,\n",
              " 'hawked': 40933,\n",
              " 'palme': 21919,\n",
              " 'conservatively': 40934,\n",
              " 'larp': 64007,\n",
              " 'palma': 5558,\n",
              " 'smelling': 21920,\n",
              " 'aragorn': 12998,\n",
              " 'hawker': 52272,\n",
              " 'hawkes': 52273,\n",
              " 'explosions': 3975,\n",
              " 'loren': 8059,\n",
              " \"pyle's\": 52274,\n",
              " 'shootout': 6704,\n",
              " \"mike's\": 18517,\n",
              " \"driscoll's\": 52275,\n",
              " 'cogsworth': 40935,\n",
              " \"britian's\": 52276,\n",
              " 'childs': 34744,\n",
              " \"portrait's\": 52277,\n",
              " 'chain': 3626,\n",
              " 'whoever': 2497,\n",
              " 'puttered': 52278,\n",
              " 'childe': 52279,\n",
              " 'maywether': 52280,\n",
              " 'chair': 3036,\n",
              " \"rance's\": 52281,\n",
              " 'machu': 34745,\n",
              " 'ballet': 4517,\n",
              " 'grapples': 34746,\n",
              " 'summerize': 76152,\n",
              " 'freelance': 30603,\n",
              " \"andrea's\": 52283,\n",
              " '\\x91very': 52284,\n",
              " 'coolidge': 45879,\n",
              " 'mache': 18518,\n",
              " 'balled': 52285,\n",
              " 'grappled': 40937,\n",
              " 'macha': 18519,\n",
              " 'underlining': 21921,\n",
              " 'macho': 5623,\n",
              " 'oversight': 19507,\n",
              " 'machi': 25257,\n",
              " 'verbally': 11311,\n",
              " 'tenacious': 21922,\n",
              " 'windshields': 40938,\n",
              " 'paychecks': 18557,\n",
              " 'jerk': 3396,\n",
              " \"good'\": 11931,\n",
              " 'prancer': 34748,\n",
              " 'prances': 21923,\n",
              " 'olympus': 52286,\n",
              " 'lark': 21924,\n",
              " 'embark': 10785,\n",
              " 'gloomy': 7365,\n",
              " 'jehaan': 52287,\n",
              " 'turaqui': 52288,\n",
              " \"child'\": 20607,\n",
              " 'locked': 2894,\n",
              " 'pranced': 52289,\n",
              " 'exact': 2588,\n",
              " 'unattuned': 52290,\n",
              " 'minute': 783,\n",
              " 'skewed': 16118,\n",
              " 'hodgins': 40940,\n",
              " 'skewer': 34749,\n",
              " 'think\\x85': 52291,\n",
              " 'rosenstein': 38765,\n",
              " 'helmit': 52292,\n",
              " 'wrestlemanias': 34750,\n",
              " 'hindered': 16826,\n",
              " \"martha's\": 30604,\n",
              " 'cheree': 52293,\n",
              " \"pluckin'\": 52294,\n",
              " 'ogles': 40941,\n",
              " 'heavyweight': 11932,\n",
              " 'aada': 82190,\n",
              " 'chopping': 11312,\n",
              " 'strongboy': 61534,\n",
              " 'hegemonic': 41342,\n",
              " 'adorns': 40942,\n",
              " 'xxth': 41346,\n",
              " 'nobuhiro': 34751,\n",
              " 'capitães': 52298,\n",
              " 'kavogianni': 52299,\n",
              " 'antwerp': 13422,\n",
              " 'celebrated': 6538,\n",
              " 'roarke': 52300,\n",
              " 'baggins': 40943,\n",
              " 'cheeseburgers': 31270,\n",
              " 'matras': 52301,\n",
              " \"nineties'\": 52302,\n",
              " \"'craig'\": 52303,\n",
              " 'celebrates': 12999,\n",
              " 'unintentionally': 3383,\n",
              " 'drafted': 14362,\n",
              " 'climby': 52304,\n",
              " '303': 52305,\n",
              " 'oldies': 18520,\n",
              " 'climbs': 9096,\n",
              " 'honour': 9655,\n",
              " 'plucking': 34752,\n",
              " '305': 30074,\n",
              " 'address': 5514,\n",
              " 'menjou': 40944,\n",
              " \"'freak'\": 42592,\n",
              " 'dwindling': 19508,\n",
              " 'benson': 9458,\n",
              " 'white’s': 52307,\n",
              " 'shamelessness': 40945,\n",
              " 'impacted': 21925,\n",
              " 'upatz': 52308,\n",
              " 'cusack': 3840,\n",
              " \"flavia's\": 37567,\n",
              " 'effette': 52309,\n",
              " 'influx': 34753,\n",
              " 'boooooooo': 52310,\n",
              " 'dimitrova': 52311,\n",
              " 'houseman': 13423,\n",
              " 'bigas': 25259,\n",
              " 'boylen': 52312,\n",
              " 'phillipenes': 52313,\n",
              " 'fakery': 40946,\n",
              " \"grandpa's\": 27658,\n",
              " 'darnell': 27659,\n",
              " 'undergone': 19509,\n",
              " 'handbags': 52315,\n",
              " 'perished': 21926,\n",
              " 'pooped': 37778,\n",
              " 'vigour': 27660,\n",
              " 'opposed': 3627,\n",
              " 'etude': 52316,\n",
              " \"caine's\": 11799,\n",
              " 'doozers': 52317,\n",
              " 'photojournals': 34754,\n",
              " 'perishes': 52318,\n",
              " 'constrains': 34755,\n",
              " 'migenes': 40948,\n",
              " 'consoled': 30605,\n",
              " 'alastair': 16827,\n",
              " 'wvs': 52319,\n",
              " 'ooooooh': 52320,\n",
              " 'approving': 34756,\n",
              " 'consoles': 40949,\n",
              " 'disparagement': 52064,\n",
              " 'futureistic': 52322,\n",
              " 'rebounding': 52323,\n",
              " \"'date\": 52324,\n",
              " 'gregoire': 52325,\n",
              " 'rutherford': 21927,\n",
              " 'americanised': 34757,\n",
              " 'novikov': 82196,\n",
              " 'following': 1042,\n",
              " 'munroe': 34758,\n",
              " \"morita'\": 52326,\n",
              " 'christenssen': 52327,\n",
              " 'oatmeal': 23106,\n",
              " 'fossey': 25260,\n",
              " 'livered': 40950,\n",
              " 'listens': 13000,\n",
              " \"'marci\": 76164,\n",
              " \"otis's\": 52330,\n",
              " 'thanking': 23387,\n",
              " 'maude': 16019,\n",
              " 'extensions': 34759,\n",
              " 'ameteurish': 52332,\n",
              " \"commender's\": 52333,\n",
              " 'agricultural': 27661,\n",
              " 'convincingly': 4518,\n",
              " 'fueled': 17639,\n",
              " 'mahattan': 54014,\n",
              " \"paris's\": 40952,\n",
              " 'vulkan': 52336,\n",
              " 'stapes': 52337,\n",
              " 'odysessy': 52338,\n",
              " 'harmon': 12259,\n",
              " 'surfing': 4252,\n",
              " 'halloran': 23494,\n",
              " 'unbelieveably': 49580,\n",
              " \"'offed'\": 52339,\n",
              " 'quadrant': 30607,\n",
              " 'inhabiting': 19510,\n",
              " 'nebbish': 34760,\n",
              " 'forebears': 40953,\n",
              " 'skirmish': 34761,\n",
              " 'ocassionally': 52340,\n",
              " \"'resist\": 52341,\n",
              " 'impactful': 21928,\n",
              " 'spicier': 52342,\n",
              " 'touristy': 40954,\n",
              " \"'football'\": 52343,\n",
              " 'webpage': 40955,\n",
              " 'exurbia': 52345,\n",
              " 'jucier': 52346,\n",
              " 'professors': 14901,\n",
              " 'structuring': 34762,\n",
              " 'jig': 30608,\n",
              " 'overlord': 40956,\n",
              " 'disconnect': 25261,\n",
              " 'sniffle': 82201,\n",
              " 'slimeball': 40957,\n",
              " 'jia': 40958,\n",
              " 'milked': 16828,\n",
              " 'banjoes': 40959,\n",
              " 'jim': 1237,\n",
              " 'workforces': 52348,\n",
              " 'jip': 52349,\n",
              " 'rotweiller': 52350,\n",
              " 'mundaneness': 34763,\n",
              " \"'ninja'\": 52351,\n",
              " \"dead'\": 11040,\n",
              " \"cipriani's\": 40960,\n",
              " 'modestly': 20608,\n",
              " \"professor'\": 52352,\n",
              " 'shacked': 40961,\n",
              " 'bashful': 34764,\n",
              " 'sorter': 23388,\n",
              " 'overpowering': 16120,\n",
              " 'workmanlike': 18521,\n",
              " 'henpecked': 27662,\n",
              " 'sorted': 18522,\n",
              " \"jōb's\": 52354,\n",
              " \"'always\": 52355,\n",
              " \"'baptists\": 34765,\n",
              " 'dreamcatchers': 52356,\n",
              " \"'silence'\": 52357,\n",
              " 'hickory': 21929,\n",
              " 'fun\\x97yet': 52358,\n",
              " 'breakumentary': 52359,\n",
              " 'didn': 15496,\n",
              " 'didi': 52360,\n",
              " 'pealing': 52361,\n",
              " 'dispite': 40962,\n",
              " \"italy's\": 25262,\n",
              " 'instability': 21930,\n",
              " 'quarter': 6539,\n",
              " 'quartet': 12608,\n",
              " 'padmé': 52362,\n",
              " \"'bleedmedry\": 52363,\n",
              " 'pahalniuk': 52364,\n",
              " 'honduras': 52365,\n",
              " 'bursting': 10786,\n",
              " \"pablo's\": 41465,\n",
              " 'irremediably': 52367,\n",
              " 'presages': 40963,\n",
              " 'bowlegged': 57832,\n",
              " 'dalip': 65183,\n",
              " 'entering': 6260,\n",
              " 'newsradio': 76172,\n",
              " 'presaged': 54150,\n",
              " \"giallo's\": 27663,\n",
              " 'bouyant': 40964,\n",
              " 'amerterish': 52368,\n",
              " 'rajni': 18523,\n",
              " 'leeves': 30610,\n",
              " 'macauley': 34767,\n",
              " 'seriously': 612,\n",
              " 'sugercoma': 52369,\n",
              " 'grimstead': 52370,\n",
              " \"'fairy'\": 52371,\n",
              " 'zenda': 30611,\n",
              " \"'twins'\": 52372,\n",
              " 'realisation': 17640,\n",
              " 'highsmith': 27664,\n",
              " 'raunchy': 7817,\n",
              " 'incentives': 40965,\n",
              " 'flatson': 52374,\n",
              " 'snooker': 35097,\n",
              " 'crazies': 16829,\n",
              " 'crazier': 14902,\n",
              " 'grandma': 7094,\n",
              " 'napunsaktha': 52375,\n",
              " 'workmanship': 30612,\n",
              " 'reisner': 52376,\n",
              " \"sanford's\": 61306,\n",
              " '\\x91doña': 52377,\n",
              " 'modest': 6108,\n",
              " \"everything's\": 19153,\n",
              " 'hamer': 40966,\n",
              " \"couldn't'\": 52379,\n",
              " 'quibble': 13001,\n",
              " 'socking': 52380,\n",
              " 'tingler': 21931,\n",
              " 'gutman': 52381,\n",
              " 'lachlan': 40967,\n",
              " 'tableaus': 52382,\n",
              " 'headbanger': 52383,\n",
              " 'spoken': 2847,\n",
              " 'cerebrally': 34768,\n",
              " \"'road\": 23490,\n",
              " 'tableaux': 21932,\n",
              " \"proust's\": 40968,\n",
              " 'periodical': 40969,\n",
              " \"shoveller's\": 52385,\n",
              " 'tamara': 25263,\n",
              " 'affords': 17641,\n",
              " 'concert': 3249,\n",
              " \"yara's\": 87955,\n",
              " 'someome': 52386,\n",
              " 'lingering': 8424,\n",
              " \"abraham's\": 41511,\n",
              " 'beesley': 34769,\n",
              " 'cherbourg': 34770,\n",
              " 'kagan': 28624,\n",
              " 'snatch': 9097,\n",
              " \"miyazaki's\": 9260,\n",
              " 'absorbs': 25264,\n",
              " \"koltai's\": 40970,\n",
              " 'tingled': 64027,\n",
              " 'crossroads': 19511,\n",
              " 'rehab': 16121,\n",
              " 'falworth': 52389,\n",
              " 'sequals': 52390,\n",
              " ...}"
            ]
          },
          "execution_count": 79,
          "metadata": {},
          "output_type": "execute_result"
        }
      ],
      "source": [
        "word_index = imdb.get_word_index()\n",
        "word_index"
      ]
    },
    {
      "cell_type": "code",
      "execution_count": 80,
      "metadata": {
        "id": "-yChdBdPwNXJ"
      },
      "outputs": [],
      "source": [
        "index_word = {idx+3: word for word, idx in word_index.items()}"
      ]
    },
    {
      "cell_type": "code",
      "execution_count": 81,
      "metadata": {
        "id": "91eKCMmAwNUC"
      },
      "outputs": [],
      "source": [
        "index_word[1] = '<start>'\n",
        "index_word[2] = '<unknown>'"
      ]
    },
    {
      "cell_type": "code",
      "execution_count": 82,
      "metadata": {
        "id": "Y__1WJwRwNPv"
      },
      "outputs": [
        {
          "data": {
            "text/plain": [
              "\"<start> this film was just brilliant casting location scenery story direction everyone's really suited the part they played and you could just imagine being there robert redford's is an amazing actor and now the same being director norman's father came from the same scottish island as myself so i loved the fact there was a real connection with this film the witty remarks throughout the film were great it was just brilliant so much that i bought the film as soon as it was released for retail and would recommend it to everyone to watch and the fly fishing was amazing really cried at the end it was so sad and you know what they say if you cry at a film it must have been good and this definitely was also congratulations to the two little boy's that played the part's of norman and paul they were just brilliant children are often left out of the praising list i think because the stars that play them all grown up are such a big profile for the whole film but these children are amazing and should be praised for what they have done don't you think the whole story was so lovely because it was true and was someone's life after all that was shared with us all\""
            ]
          },
          "execution_count": 82,
          "metadata": {},
          "output_type": "execute_result"
        }
      ],
      "source": [
        "' '.join(index_word[i] for i in x_train[0])"
      ]
    },
    {
      "cell_type": "code",
      "execution_count": 83,
      "metadata": {
        "id": "EaGhJIVmrP9_"
      },
      "outputs": [],
      "source": [
        "num_words = max(index_word) + 1"
      ]
    },
    {
      "cell_type": "markdown",
      "metadata": {
        "id": "mMALXKTqwwiC"
      },
      "source": [
        "### 텍스트를 단어 번호로 바꾸기"
      ]
    },
    {
      "cell_type": "code",
      "execution_count": 84,
      "metadata": {
        "id": "xeN_pdjQwNJ_"
      },
      "outputs": [],
      "source": [
        "texts = []\n",
        "for data in x_train:\n",
        "  text = ' '.join(index_word[i] for i in data)\n",
        "  texts.append(text)"
      ]
    },
    {
      "cell_type": "code",
      "execution_count": 87,
      "metadata": {
        "id": "hUS0FSYhwNFv"
      },
      "outputs": [
        {
          "data": {
            "text/plain": [
              "25000"
            ]
          },
          "execution_count": 87,
          "metadata": {},
          "output_type": "execute_result"
        }
      ],
      "source": [
        "len(texts)"
      ]
    },
    {
      "cell_type": "markdown",
      "metadata": {
        "id": "NbYuIJsDw_oE"
      },
      "source": [
        "- `Tokenizer`를 사용해 텍스트를 단어로 바꿈"
      ]
    },
    {
      "cell_type": "code",
      "execution_count": 88,
      "metadata": {
        "id": "gLZpRTuWwM6V"
      },
      "outputs": [],
      "source": [
        "from tensorflow.keras.preprocessing.text import Tokenizer"
      ]
    },
    {
      "cell_type": "code",
      "execution_count": 89,
      "metadata": {
        "id": "D6Z1SZGcwM4P"
      },
      "outputs": [
        {
          "data": {
            "text/plain": [
              "[28, 11, 19, 13, 41, 526, 968, 1618, 1381, 63]"
            ]
          },
          "execution_count": 89,
          "metadata": {},
          "output_type": "execute_result"
        }
      ],
      "source": [
        "tok = Tokenizer()\n",
        "tok.fit_on_texts(texts)\n",
        "\n",
        "new_data = tok.texts_to_sequences(texts)\n",
        "new_data[0][:10] # 아래랑 두개가 다른 이유?"
      ]
    },
    {
      "cell_type": "code",
      "execution_count": 90,
      "metadata": {
        "id": "M8KjcGjXwM1b"
      },
      "outputs": [
        {
          "data": {
            "text/plain": [
              "[1, 14, 22, 16, 43, 530, 973, 1622, 1385, 65]"
            ]
          },
          "execution_count": 90,
          "metadata": {},
          "output_type": "execute_result"
        }
      ],
      "source": [
        "x_train[0][:10]"
      ]
    },
    {
      "cell_type": "markdown",
      "metadata": {
        "id": "F3GI6tWsxOW4"
      },
      "source": [
        "### 단어쌍 만들기"
      ]
    },
    {
      "cell_type": "code",
      "execution_count": 91,
      "metadata": {
        "id": "3E26bWQpwMzM"
      },
      "outputs": [
        {
          "name": "stdout",
          "output_type": "stream",
          "text": [
            "88581\n"
          ]
        }
      ],
      "source": [
        "from tensorflow.keras.preprocessing.sequence import make_sampling_table, skipgrams\n",
        "\n",
        "VOCAB_SIZE  = len(tok.word_index)\n",
        "print(VOCAB_SIZE)"
      ]
    },
    {
      "cell_type": "markdown",
      "metadata": {
        "id": "lZei9Z6dxUfq"
      },
      "source": [
        "- 단어를 무작위로 추출하면 자주 나오는 단어가 더 많이 나오게됨\n",
        "\n",
        "- 이를 방지하기위해 단어를 추출할 확률의 균형을 맞춘 샘플링 표를 생성"
      ]
    },
    {
      "cell_type": "code",
      "execution_count": 92,
      "metadata": {
        "id": "Hrq-4NLIwMtW"
      },
      "outputs": [],
      "source": [
        "table = make_sampling_table(VOCAB_SIZE)"
      ]
    },
    {
      "cell_type": "markdown",
      "metadata": {
        "id": "DTSq3M6jxhkm"
      },
      "source": [
        "- 두 단어씩 뽑아 좌우 2단어(`window_size=2`)안에 들어있는 경우가 있는지 없는지 확인하여 데이터를 생성"
      ]
    },
    {
      "cell_type": "code",
      "execution_count": 93,
      "metadata": {
        "id": "D6-bDT9YwMrG"
      },
      "outputs": [],
      "source": [
        "couples, labels = skipgrams(data, VOCAB_SIZE, window_size=2, sampling_table=table)"
      ]
    },
    {
      "cell_type": "code",
      "execution_count": 94,
      "metadata": {
        "id": "_oeEFedSxnQE"
      },
      "outputs": [
        {
          "data": {
            "text/plain": [
              "[[2098, 29654], [8368, 87083], [405, 101], [2098, 405], [9685, 6139]]"
            ]
          },
          "execution_count": 94,
          "metadata": {},
          "output_type": "execute_result"
        }
      ],
      "source": [
        "couples[:5]"
      ]
    },
    {
      "cell_type": "markdown",
      "metadata": {
        "id": "TvAwr1p-xqpj"
      },
      "source": [
        "- `labels`에는 윈도우 안에 들어있는 경우가 있으면 1, 없으면 0"
      ]
    },
    {
      "cell_type": "code",
      "execution_count": 95,
      "metadata": {
        "id": "DiPr7jT4wMoO"
      },
      "outputs": [
        {
          "data": {
            "text/plain": [
              "[0, 0, 1, 1, 1]"
            ]
          },
          "execution_count": 95,
          "metadata": {},
          "output_type": "execute_result"
        }
      ],
      "source": [
        "labels[:5]"
      ]
    },
    {
      "cell_type": "markdown",
      "metadata": {
        "id": "zjthr4cNxweK"
      },
      "source": [
        "- 대상 단어는 `word_target`으로, 맥락 단어는 `word_context`로 모음"
      ]
    },
    {
      "cell_type": "code",
      "execution_count": 96,
      "metadata": {
        "id": "qgS6eHs6wMlC"
      },
      "outputs": [],
      "source": [
        "word_target, word_context = zip(*couples)"
      ]
    },
    {
      "cell_type": "markdown",
      "metadata": {
        "id": "7UV4xAnHx3Va"
      },
      "source": [
        "- 배열로 바꾼다."
      ]
    },
    {
      "cell_type": "code",
      "execution_count": 98,
      "metadata": {
        "id": "GZCjveJnwMK_"
      },
      "outputs": [],
      "source": [
        "word_target = np.asarray(word_target, dtype='int32')\n",
        "word_context = np.asarray(word_context, dtype='int32')\n",
        "labels = np.asarray(labels, dtype='int32')"
      ]
    },
    {
      "cell_type": "code",
      "execution_count": 99,
      "metadata": {
        "id": "nG9C3Hh-05Cs"
      },
      "outputs": [
        {
          "data": {
            "text/plain": [
              "(272,)"
            ]
          },
          "execution_count": 99,
          "metadata": {},
          "output_type": "execute_result"
        }
      ],
      "source": [
        "word_target.shape"
      ]
    },
    {
      "cell_type": "code",
      "execution_count": 100,
      "metadata": {
        "id": "b0qHTB8p07_8"
      },
      "outputs": [
        {
          "data": {
            "text/plain": [
              "(272,)"
            ]
          },
          "execution_count": 100,
          "metadata": {},
          "output_type": "execute_result"
        }
      ],
      "source": [
        "word_context.shape"
      ]
    },
    {
      "cell_type": "markdown",
      "metadata": {
        "id": "TUuQwrXox8RL"
      },
      "source": [
        "### Skip-gram 모형\n",
        "\n",
        "- Skip-gram 모형은 함수형 API를 사용해야 함"
      ]
    },
    {
      "cell_type": "code",
      "execution_count": 101,
      "metadata": {
        "id": "a9CKMy83yBxR"
      },
      "outputs": [],
      "source": [
        "from tensorflow.keras.layers import Activation, Dot, Embedding, Flatten, Input, Reshape\n",
        "from tensorflow.keras.models import Model"
      ]
    },
    {
      "cell_type": "code",
      "execution_count": 102,
      "metadata": {
        "id": "8lF-kveeyBue"
      },
      "outputs": [],
      "source": [
        "def build_model():\n",
        "    input_target = Input(shape=(1,))\n",
        "    input_context = Input(shape=(1,))\n",
        "\n",
        "    emb = Embedding(input_dim=VOCAB_SIZE, output_dim=8)\n",
        "    target = emb(input_target)\n",
        "    context = emb(input_context)\n",
        "\n",
        "    dot = Dot(axes=2)([target, context])\n",
        "    flatten = Reshape((1,))(dot)\n",
        "    output = Activation('sigmoid')(flatten)\n",
        "\n",
        "    skipgram = Model(inputs=[input_target, input_context], outputs=output)\n",
        "\n",
        "    return skipgram"
      ]
    },
    {
      "cell_type": "code",
      "execution_count": 103,
      "metadata": {
        "id": "e2Fc8rddyBsV"
      },
      "outputs": [
        {
          "data": {
            "text/html": [
              "<pre style=\"white-space:pre;overflow-x:auto;line-height:normal;font-family:Menlo,'DejaVu Sans Mono',consolas,'Courier New',monospace\"><span style=\"font-weight: bold\">Model: \"functional_3\"</span>\n",
              "</pre>\n"
            ],
            "text/plain": [
              "\u001b[1mModel: \"functional_3\"\u001b[0m\n"
            ]
          },
          "metadata": {},
          "output_type": "display_data"
        },
        {
          "data": {
            "text/html": [
              "<pre style=\"white-space:pre;overflow-x:auto;line-height:normal;font-family:Menlo,'DejaVu Sans Mono',consolas,'Courier New',monospace\">┏━━━━━━━━━━━━━━━━━━━━━┳━━━━━━━━━━━━━━━━━━━┳━━━━━━━━━━━━┳━━━━━━━━━━━━━━━━━━━┓\n",
              "┃<span style=\"font-weight: bold\"> Layer (type)        </span>┃<span style=\"font-weight: bold\"> Output Shape      </span>┃<span style=\"font-weight: bold\">    Param # </span>┃<span style=\"font-weight: bold\"> Connected to      </span>┃\n",
              "┡━━━━━━━━━━━━━━━━━━━━━╇━━━━━━━━━━━━━━━━━━━╇━━━━━━━━━━━━╇━━━━━━━━━━━━━━━━━━━┩\n",
              "│ input_layer_3       │ (<span style=\"color: #00d7ff; text-decoration-color: #00d7ff\">None</span>, <span style=\"color: #00af00; text-decoration-color: #00af00\">1</span>)         │          <span style=\"color: #00af00; text-decoration-color: #00af00\">0</span> │ -                 │\n",
              "│ (<span style=\"color: #0087ff; text-decoration-color: #0087ff\">InputLayer</span>)        │                   │            │                   │\n",
              "├─────────────────────┼───────────────────┼────────────┼───────────────────┤\n",
              "│ input_layer_4       │ (<span style=\"color: #00d7ff; text-decoration-color: #00d7ff\">None</span>, <span style=\"color: #00af00; text-decoration-color: #00af00\">1</span>)         │          <span style=\"color: #00af00; text-decoration-color: #00af00\">0</span> │ -                 │\n",
              "│ (<span style=\"color: #0087ff; text-decoration-color: #0087ff\">InputLayer</span>)        │                   │            │                   │\n",
              "├─────────────────────┼───────────────────┼────────────┼───────────────────┤\n",
              "│ embedding_4         │ (<span style=\"color: #00d7ff; text-decoration-color: #00d7ff\">None</span>, <span style=\"color: #00af00; text-decoration-color: #00af00\">1</span>, <span style=\"color: #00af00; text-decoration-color: #00af00\">8</span>)      │    <span style=\"color: #00af00; text-decoration-color: #00af00\">708,648</span> │ input_layer_3[<span style=\"color: #00af00; text-decoration-color: #00af00\">0</span>]… │\n",
              "│ (<span style=\"color: #0087ff; text-decoration-color: #0087ff\">Embedding</span>)         │                   │            │ input_layer_4[<span style=\"color: #00af00; text-decoration-color: #00af00\">0</span>]… │\n",
              "├─────────────────────┼───────────────────┼────────────┼───────────────────┤\n",
              "│ dot (<span style=\"color: #0087ff; text-decoration-color: #0087ff\">Dot</span>)           │ (<span style=\"color: #00d7ff; text-decoration-color: #00d7ff\">None</span>, <span style=\"color: #00af00; text-decoration-color: #00af00\">1</span>, <span style=\"color: #00af00; text-decoration-color: #00af00\">1</span>)      │          <span style=\"color: #00af00; text-decoration-color: #00af00\">0</span> │ embedding_4[<span style=\"color: #00af00; text-decoration-color: #00af00\">0</span>][<span style=\"color: #00af00; text-decoration-color: #00af00\">0</span>… │\n",
              "│                     │                   │            │ embedding_4[<span style=\"color: #00af00; text-decoration-color: #00af00\">1</span>][<span style=\"color: #00af00; text-decoration-color: #00af00\">0</span>] │\n",
              "├─────────────────────┼───────────────────┼────────────┼───────────────────┤\n",
              "│ reshape (<span style=\"color: #0087ff; text-decoration-color: #0087ff\">Reshape</span>)   │ (<span style=\"color: #00d7ff; text-decoration-color: #00d7ff\">None</span>, <span style=\"color: #00af00; text-decoration-color: #00af00\">1</span>)         │          <span style=\"color: #00af00; text-decoration-color: #00af00\">0</span> │ dot[<span style=\"color: #00af00; text-decoration-color: #00af00\">0</span>][<span style=\"color: #00af00; text-decoration-color: #00af00\">0</span>]         │\n",
              "├─────────────────────┼───────────────────┼────────────┼───────────────────┤\n",
              "│ activation          │ (<span style=\"color: #00d7ff; text-decoration-color: #00d7ff\">None</span>, <span style=\"color: #00af00; text-decoration-color: #00af00\">1</span>)         │          <span style=\"color: #00af00; text-decoration-color: #00af00\">0</span> │ reshape[<span style=\"color: #00af00; text-decoration-color: #00af00\">0</span>][<span style=\"color: #00af00; text-decoration-color: #00af00\">0</span>]     │\n",
              "│ (<span style=\"color: #0087ff; text-decoration-color: #0087ff\">Activation</span>)        │                   │            │                   │\n",
              "└─────────────────────┴───────────────────┴────────────┴───────────────────┘\n",
              "</pre>\n"
            ],
            "text/plain": [
              "┏━━━━━━━━━━━━━━━━━━━━━┳━━━━━━━━━━━━━━━━━━━┳━━━━━━━━━━━━┳━━━━━━━━━━━━━━━━━━━┓\n",
              "┃\u001b[1m \u001b[0m\u001b[1mLayer (type)       \u001b[0m\u001b[1m \u001b[0m┃\u001b[1m \u001b[0m\u001b[1mOutput Shape     \u001b[0m\u001b[1m \u001b[0m┃\u001b[1m \u001b[0m\u001b[1m   Param #\u001b[0m\u001b[1m \u001b[0m┃\u001b[1m \u001b[0m\u001b[1mConnected to     \u001b[0m\u001b[1m \u001b[0m┃\n",
              "┡━━━━━━━━━━━━━━━━━━━━━╇━━━━━━━━━━━━━━━━━━━╇━━━━━━━━━━━━╇━━━━━━━━━━━━━━━━━━━┩\n",
              "│ input_layer_3       │ (\u001b[38;5;45mNone\u001b[0m, \u001b[38;5;34m1\u001b[0m)         │          \u001b[38;5;34m0\u001b[0m │ -                 │\n",
              "│ (\u001b[38;5;33mInputLayer\u001b[0m)        │                   │            │                   │\n",
              "├─────────────────────┼───────────────────┼────────────┼───────────────────┤\n",
              "│ input_layer_4       │ (\u001b[38;5;45mNone\u001b[0m, \u001b[38;5;34m1\u001b[0m)         │          \u001b[38;5;34m0\u001b[0m │ -                 │\n",
              "│ (\u001b[38;5;33mInputLayer\u001b[0m)        │                   │            │                   │\n",
              "├─────────────────────┼───────────────────┼────────────┼───────────────────┤\n",
              "│ embedding_4         │ (\u001b[38;5;45mNone\u001b[0m, \u001b[38;5;34m1\u001b[0m, \u001b[38;5;34m8\u001b[0m)      │    \u001b[38;5;34m708,648\u001b[0m │ input_layer_3[\u001b[38;5;34m0\u001b[0m]… │\n",
              "│ (\u001b[38;5;33mEmbedding\u001b[0m)         │                   │            │ input_layer_4[\u001b[38;5;34m0\u001b[0m]… │\n",
              "├─────────────────────┼───────────────────┼────────────┼───────────────────┤\n",
              "│ dot (\u001b[38;5;33mDot\u001b[0m)           │ (\u001b[38;5;45mNone\u001b[0m, \u001b[38;5;34m1\u001b[0m, \u001b[38;5;34m1\u001b[0m)      │          \u001b[38;5;34m0\u001b[0m │ embedding_4[\u001b[38;5;34m0\u001b[0m][\u001b[38;5;34m0\u001b[0m… │\n",
              "│                     │                   │            │ embedding_4[\u001b[38;5;34m1\u001b[0m][\u001b[38;5;34m0\u001b[0m] │\n",
              "├─────────────────────┼───────────────────┼────────────┼───────────────────┤\n",
              "│ reshape (\u001b[38;5;33mReshape\u001b[0m)   │ (\u001b[38;5;45mNone\u001b[0m, \u001b[38;5;34m1\u001b[0m)         │          \u001b[38;5;34m0\u001b[0m │ dot[\u001b[38;5;34m0\u001b[0m][\u001b[38;5;34m0\u001b[0m]         │\n",
              "├─────────────────────┼───────────────────┼────────────┼───────────────────┤\n",
              "│ activation          │ (\u001b[38;5;45mNone\u001b[0m, \u001b[38;5;34m1\u001b[0m)         │          \u001b[38;5;34m0\u001b[0m │ reshape[\u001b[38;5;34m0\u001b[0m][\u001b[38;5;34m0\u001b[0m]     │\n",
              "│ (\u001b[38;5;33mActivation\u001b[0m)        │                   │            │                   │\n",
              "└─────────────────────┴───────────────────┴────────────┴───────────────────┘\n"
            ]
          },
          "metadata": {},
          "output_type": "display_data"
        },
        {
          "data": {
            "text/html": [
              "<pre style=\"white-space:pre;overflow-x:auto;line-height:normal;font-family:Menlo,'DejaVu Sans Mono',consolas,'Courier New',monospace\"><span style=\"font-weight: bold\"> Total params: </span><span style=\"color: #00af00; text-decoration-color: #00af00\">708,648</span> (2.70 MB)\n",
              "</pre>\n"
            ],
            "text/plain": [
              "\u001b[1m Total params: \u001b[0m\u001b[38;5;34m708,648\u001b[0m (2.70 MB)\n"
            ]
          },
          "metadata": {},
          "output_type": "display_data"
        },
        {
          "data": {
            "text/html": [
              "<pre style=\"white-space:pre;overflow-x:auto;line-height:normal;font-family:Menlo,'DejaVu Sans Mono',consolas,'Courier New',monospace\"><span style=\"font-weight: bold\"> Trainable params: </span><span style=\"color: #00af00; text-decoration-color: #00af00\">708,648</span> (2.70 MB)\n",
              "</pre>\n"
            ],
            "text/plain": [
              "\u001b[1m Trainable params: \u001b[0m\u001b[38;5;34m708,648\u001b[0m (2.70 MB)\n"
            ]
          },
          "metadata": {},
          "output_type": "display_data"
        },
        {
          "data": {
            "text/html": [
              "<pre style=\"white-space:pre;overflow-x:auto;line-height:normal;font-family:Menlo,'DejaVu Sans Mono',consolas,'Courier New',monospace\"><span style=\"font-weight: bold\"> Non-trainable params: </span><span style=\"color: #00af00; text-decoration-color: #00af00\">0</span> (0.00 B)\n",
              "</pre>\n"
            ],
            "text/plain": [
              "\u001b[1m Non-trainable params: \u001b[0m\u001b[38;5;34m0\u001b[0m (0.00 B)\n"
            ]
          },
          "metadata": {},
          "output_type": "display_data"
        }
      ],
      "source": [
        "model = build_model()\n",
        "model.summary()"
      ]
    },
    {
      "cell_type": "markdown",
      "metadata": {
        "id": "lNoK_w8FynTj"
      },
      "source": [
        "### 모델 컴파일 및 학습"
      ]
    },
    {
      "cell_type": "code",
      "execution_count": 104,
      "metadata": {
        "id": "VMbpVz81yBpf"
      },
      "outputs": [
        {
          "name": "stdout",
          "output_type": "stream",
          "text": [
            "Epoch 1/30\n",
            "\u001b[1m9/9\u001b[0m \u001b[32m━━━━━━━━━━━━━━━━━━━━\u001b[0m\u001b[37m\u001b[0m \u001b[1m1s\u001b[0m 6ms/step - accuracy: 0.4567 - loss: 0.6931  \n",
            "Epoch 2/30\n",
            "\u001b[1m9/9\u001b[0m \u001b[32m━━━━━━━━━━━━━━━━━━━━\u001b[0m\u001b[37m\u001b[0m \u001b[1m0s\u001b[0m 7ms/step - accuracy: 0.5890 - loss: 0.6928\n",
            "Epoch 3/30\n",
            "\u001b[1m9/9\u001b[0m \u001b[32m━━━━━━━━━━━━━━━━━━━━\u001b[0m\u001b[37m\u001b[0m \u001b[1m0s\u001b[0m 10ms/step - accuracy: 0.7071 - loss: 0.6924\n",
            "Epoch 4/30\n",
            "\u001b[1m9/9\u001b[0m \u001b[32m━━━━━━━━━━━━━━━━━━━━\u001b[0m\u001b[37m\u001b[0m \u001b[1m0s\u001b[0m 5ms/step - accuracy: 0.7702 - loss: 0.6919 \n",
            "Epoch 5/30\n",
            "\u001b[1m9/9\u001b[0m \u001b[32m━━━━━━━━━━━━━━━━━━━━\u001b[0m\u001b[37m\u001b[0m \u001b[1m0s\u001b[0m 6ms/step - accuracy: 0.8619 - loss: 0.6915 \n",
            "Epoch 6/30\n",
            "\u001b[1m9/9\u001b[0m \u001b[32m━━━━━━━━━━━━━━━━━━━━\u001b[0m\u001b[37m\u001b[0m \u001b[1m0s\u001b[0m 7ms/step - accuracy: 0.9228 - loss: 0.6907\n",
            "Epoch 7/30\n",
            "\u001b[1m9/9\u001b[0m \u001b[32m━━━━━━━━━━━━━━━━━━━━\u001b[0m\u001b[37m\u001b[0m \u001b[1m0s\u001b[0m 6ms/step - accuracy: 0.9004 - loss: 0.6900\n",
            "Epoch 8/30\n",
            "\u001b[1m9/9\u001b[0m \u001b[32m━━━━━━━━━━━━━━━━━━━━\u001b[0m\u001b[37m\u001b[0m \u001b[1m0s\u001b[0m 6ms/step - accuracy: 0.9473 - loss: 0.6890 \n",
            "Epoch 9/30\n",
            "\u001b[1m9/9\u001b[0m \u001b[32m━━━━━━━━━━━━━━━━━━━━\u001b[0m\u001b[37m\u001b[0m \u001b[1m0s\u001b[0m 7ms/step - accuracy: 0.9742 - loss: 0.6878\n",
            "Epoch 10/30\n",
            "\u001b[1m9/9\u001b[0m \u001b[32m━━━━━━━━━━━━━━━━━━━━\u001b[0m\u001b[37m\u001b[0m \u001b[1m0s\u001b[0m 5ms/step - accuracy: 0.9714 - loss: 0.6861 \n",
            "Epoch 11/30\n",
            "\u001b[1m9/9\u001b[0m \u001b[32m━━━━━━━━━━━━━━━━━━━━\u001b[0m\u001b[37m\u001b[0m \u001b[1m0s\u001b[0m 5ms/step - accuracy: 0.9909 - loss: 0.6844 \n",
            "Epoch 12/30\n",
            "\u001b[1m9/9\u001b[0m \u001b[32m━━━━━━━━━━━━━━━━━━━━\u001b[0m\u001b[37m\u001b[0m \u001b[1m0s\u001b[0m 6ms/step - accuracy: 0.9885 - loss: 0.6823 \n",
            "Epoch 13/30\n",
            "\u001b[1m9/9\u001b[0m \u001b[32m━━━━━━━━━━━━━━━━━━━━\u001b[0m\u001b[37m\u001b[0m \u001b[1m0s\u001b[0m 5ms/step - accuracy: 0.9835 - loss: 0.6801 \n",
            "Epoch 14/30\n",
            "\u001b[1m9/9\u001b[0m \u001b[32m━━━━━━━━━━━━━━━━━━━━\u001b[0m\u001b[37m\u001b[0m \u001b[1m0s\u001b[0m 6ms/step - accuracy: 0.9916 - loss: 0.6764\n",
            "Epoch 15/30\n",
            "\u001b[1m9/9\u001b[0m \u001b[32m━━━━━━━━━━━━━━━━━━━━\u001b[0m\u001b[37m\u001b[0m \u001b[1m0s\u001b[0m 6ms/step - accuracy: 0.9883 - loss: 0.6734 \n",
            "Epoch 16/30\n",
            "\u001b[1m9/9\u001b[0m \u001b[32m━━━━━━━━━━━━━━━━━━━━\u001b[0m\u001b[37m\u001b[0m \u001b[1m0s\u001b[0m 4ms/step - accuracy: 0.9965 - loss: 0.6689 \n",
            "Epoch 17/30\n",
            "\u001b[1m9/9\u001b[0m \u001b[32m━━━━━━━━━━━━━━━━━━━━\u001b[0m\u001b[37m\u001b[0m \u001b[1m0s\u001b[0m 6ms/step - accuracy: 0.9979 - loss: 0.6642 \n",
            "Epoch 18/30\n",
            "\u001b[1m9/9\u001b[0m \u001b[32m━━━━━━━━━━━━━━━━━━━━\u001b[0m\u001b[37m\u001b[0m \u001b[1m0s\u001b[0m 8ms/step - accuracy: 0.9973 - loss: 0.6603\n",
            "Epoch 19/30\n",
            "\u001b[1m9/9\u001b[0m \u001b[32m━━━━━━━━━━━━━━━━━━━━\u001b[0m\u001b[37m\u001b[0m \u001b[1m0s\u001b[0m 5ms/step - accuracy: 0.9993 - loss: 0.6542 \n",
            "Epoch 20/30\n",
            "\u001b[1m9/9\u001b[0m \u001b[32m━━━━━━━━━━━━━━━━━━━━\u001b[0m\u001b[37m\u001b[0m \u001b[1m0s\u001b[0m 6ms/step - accuracy: 0.9979 - loss: 0.6493 \n",
            "Epoch 21/30\n",
            "\u001b[1m9/9\u001b[0m \u001b[32m━━━━━━━━━━━━━━━━━━━━\u001b[0m\u001b[37m\u001b[0m \u001b[1m0s\u001b[0m 6ms/step - accuracy: 0.9965 - loss: 0.6429 \n",
            "Epoch 22/30\n",
            "\u001b[1m9/9\u001b[0m \u001b[32m━━━━━━━━━━━━━━━━━━━━\u001b[0m\u001b[37m\u001b[0m \u001b[1m0s\u001b[0m 5ms/step - accuracy: 0.9973 - loss: 0.6374 \n",
            "Epoch 23/30\n",
            "\u001b[1m9/9\u001b[0m \u001b[32m━━━━━━━━━━━━━━━━━━━━\u001b[0m\u001b[37m\u001b[0m \u001b[1m0s\u001b[0m 7ms/step - accuracy: 0.9984 - loss: 0.6283\n",
            "Epoch 24/30\n",
            "\u001b[1m9/9\u001b[0m \u001b[32m━━━━━━━━━━━━━━━━━━━━\u001b[0m\u001b[37m\u001b[0m \u001b[1m0s\u001b[0m 7ms/step - accuracy: 0.9908 - loss: 0.6232\n",
            "Epoch 25/30\n",
            "\u001b[1m9/9\u001b[0m \u001b[32m━━━━━━━━━━━━━━━━━━━━\u001b[0m\u001b[37m\u001b[0m \u001b[1m0s\u001b[0m 7ms/step - accuracy: 0.9955 - loss: 0.6123\n",
            "Epoch 26/30\n",
            "\u001b[1m9/9\u001b[0m \u001b[32m━━━━━━━━━━━━━━━━━━━━\u001b[0m\u001b[37m\u001b[0m \u001b[1m0s\u001b[0m 6ms/step - accuracy: 0.9955 - loss: 0.6060 \n",
            "Epoch 27/30\n",
            "\u001b[1m9/9\u001b[0m \u001b[32m━━━━━━━━━━━━━━━━━━━━\u001b[0m\u001b[37m\u001b[0m \u001b[1m0s\u001b[0m 5ms/step - accuracy: 0.9973 - loss: 0.5965 \n",
            "Epoch 28/30\n",
            "\u001b[1m9/9\u001b[0m \u001b[32m━━━━━━━━━━━━━━━━━━━━\u001b[0m\u001b[37m\u001b[0m \u001b[1m0s\u001b[0m 7ms/step - accuracy: 0.9973 - loss: 0.5890\n",
            "Epoch 29/30\n",
            "\u001b[1m9/9\u001b[0m \u001b[32m━━━━━━━━━━━━━━━━━━━━\u001b[0m\u001b[37m\u001b[0m \u001b[1m0s\u001b[0m 5ms/step - accuracy: 0.9908 - loss: 0.5819 \n",
            "Epoch 30/30\n",
            "\u001b[1m9/9\u001b[0m \u001b[32m━━━━━━━━━━━━━━━━━━━━\u001b[0m\u001b[37m\u001b[0m \u001b[1m0s\u001b[0m 4ms/step - accuracy: 0.9908 - loss: 0.5694 \n"
          ]
        },
        {
          "data": {
            "text/plain": [
              "<keras.src.callbacks.history.History at 0x1ac5fae6170>"
            ]
          },
          "execution_count": 104,
          "metadata": {},
          "output_type": "execute_result"
        }
      ],
      "source": [
        "from tensorflow.keras.optimizers import Adam\n",
        "\n",
        "model.compile(optimizer=Adam(),\n",
        "              loss='binary_crossentropy',\n",
        "              metrics=['accuracy'])\n",
        "\n",
        "model.fit([word_target, word_context], labels, epochs=30)"
      ]
    },
    {
      "cell_type": "markdown",
      "metadata": {
        "id": "n0UeghEry79L"
      },
      "source": [
        "### 임베딩 레이어 저장 및 로드"
      ]
    },
    {
      "cell_type": "code",
      "execution_count": 105,
      "metadata": {
        "id": "2IN6guOA3Ko0"
      },
      "outputs": [],
      "source": [
        "emb = model.layers[2]"
      ]
    },
    {
      "cell_type": "code",
      "execution_count": 106,
      "metadata": {
        "id": "xX43O7414P6n"
      },
      "outputs": [
        {
          "data": {
            "text/plain": [
              "[array([[-0.01083937,  0.04047922,  0.01964029, ...,  0.04459696,\n",
              "         -0.00045272, -0.04199777],\n",
              "        [-0.02689885,  0.02130233,  0.03962186, ..., -0.03560372,\n",
              "          0.03307935,  0.03955176],\n",
              "        [ 0.02211699, -0.04365204, -0.00269835, ...,  0.01209824,\n",
              "          0.02746416, -0.02770383],\n",
              "        ...,\n",
              "        [-0.04596616,  0.02471882,  0.01906793, ..., -0.02994674,\n",
              "          0.0109111 , -0.01895323],\n",
              "        [-0.03556548, -0.02058005, -0.02698201, ..., -0.0343134 ,\n",
              "         -0.01990497,  0.04249343],\n",
              "        [-0.03324982, -0.04970095, -0.00718348, ..., -0.02745894,\n",
              "          0.00767623, -0.00050183]], dtype=float32)]"
            ]
          },
          "execution_count": 106,
          "metadata": {},
          "output_type": "execute_result"
        }
      ],
      "source": [
        "emb.get_weights()"
      ]
    },
    {
      "cell_type": "code",
      "execution_count": 107,
      "metadata": {
        "id": "BrDMmB1IyBfq"
      },
      "outputs": [],
      "source": [
        "np.save('emb.npy', emb.get_weights()[0])"
      ]
    },
    {
      "cell_type": "markdown",
      "metadata": {
        "id": "M9wTT_VQzDsl"
      },
      "source": [
        "- 임베딩 레이어 로드"
      ]
    },
    {
      "cell_type": "code",
      "execution_count": 108,
      "metadata": {
        "id": "Ku3DFkCRzHT5"
      },
      "outputs": [],
      "source": [
        "w = np.load('emb.npy')"
      ]
    },
    {
      "cell_type": "code",
      "execution_count": 109,
      "metadata": {
        "id": "4GrBDYbVix4G"
      },
      "outputs": [
        {
          "data": {
            "text/plain": [
              "(88581, 8)"
            ]
          },
          "execution_count": 109,
          "metadata": {},
          "output_type": "execute_result"
        }
      ],
      "source": [
        "w.shape"
      ]
    },
    {
      "cell_type": "markdown",
      "metadata": {
        "id": "6faI7skDzKdW"
      },
      "source": [
        "- 임베딩 레이어를 추가할때 `trainable`를 `False`로 하면 추가학습이 이루어 지지 않는다."
      ]
    },
    {
      "cell_type": "code",
      "execution_count": 110,
      "metadata": {
        "id": "yck0fHeTi_VU"
      },
      "outputs": [
        {
          "data": {
            "text/plain": [
              "88588"
            ]
          },
          "execution_count": 110,
          "metadata": {},
          "output_type": "execute_result"
        }
      ],
      "source": [
        "num_words"
      ]
    },
    {
      "cell_type": "code",
      "execution_count": 111,
      "metadata": {
        "id": "yBrWD06mzHQ0"
      },
      "outputs": [
        {
          "name": "stderr",
          "output_type": "stream",
          "text": [
            "c:\\Users\\USER\\miniconda3\\envs\\venv\\lib\\site-packages\\keras\\src\\layers\\core\\embedding.py:90: UserWarning: Argument `input_length` is deprecated. Just remove it.\n",
            "  warnings.warn(\n"
          ]
        }
      ],
      "source": [
        "emb_ff = Embedding(input_dim=VOCAB_SIZE, output_dim=8,\n",
        "                   input_length=30, weights=[w], trainable=False)"
      ]
    },
    {
      "cell_type": "markdown",
      "metadata": {
        "id": "nLok-gV3YwY2"
      },
      "source": [
        "## 사전 훈련된 단어 임베딩 사용하기 : GloVe 임베딩\n",
        "\n",
        "- 코드 출처: 케라스 창시자에게 배우는 딥러닝"
      ]
    },
    {
      "cell_type": "markdown",
      "metadata": {
        "id": "mSyfRbEhb8WK"
      },
      "source": [
        "### 원본 IMDB 텍스트 내려받기\n",
        "- http://mng.bz/0tIo"
      ]
    },
    {
      "cell_type": "code",
      "execution_count": 113,
      "metadata": {
        "id": "smv3ryyCb_U5"
      },
      "outputs": [
        {
          "name": "stderr",
          "output_type": "stream",
          "text": [
            "--2024-08-16 10:27:01--  http://mng.bz/0tIo\n",
            "Resolving mng.bz (mng.bz)... 54.148.47.75, 54.214.168.24, 52.33.202.248, ...\n",
            "Connecting to mng.bz (mng.bz)|54.148.47.75|:80... connected.\n",
            "HTTP request sent, awaiting response... 301 Moved Permanently\n",
            "Location: https://mng.bz:443/0tIo [following]\n",
            "--2024-08-16 10:27:01--  https://mng.bz/0tIo\n",
            "Connecting to mng.bz (mng.bz)|54.148.47.75|:443... connected.\n",
            "HTTP request sent, awaiting response... 301 \n",
            "Location: http://s3.amazonaws.com/text-datasets/aclImdb.zip [following]\n",
            "--2024-08-16 10:27:02--  http://s3.amazonaws.com/text-datasets/aclImdb.zip\n",
            "Resolving s3.amazonaws.com (s3.amazonaws.com)... 54.231.164.56, 54.231.161.240, 16.182.108.56, ...\n",
            "Connecting to s3.amazonaws.com (s3.amazonaws.com)|54.231.164.56|:80... connected.\n",
            "HTTP request sent, awaiting response... 200 OK\n",
            "Length: 60711700 (58M) [application/zip]\n",
            "Saving to: '0tIo'\n",
            "\n",
            "     0K .......... .......... .......... .......... ..........  0%  720K 82s\n",
            "    50K .......... .......... .......... .......... ..........  0% 3.99M 48s\n",
            "   100K .......... .......... .......... .......... ..........  0% 28.4M 33s\n",
            "   150K .......... .......... .......... .......... ..........  0% 3.65M 29s\n",
            "   200K .......... .......... .......... .......... ..........  0% 20.7M 23s\n",
            "   250K .......... .......... .......... .......... ..........  0% 17.9M 20s\n",
            "   300K .......... .......... .......... .......... ..........  0% 3.92M 19s\n",
            "   350K .......... .......... .......... .......... ..........  0% 16.8M 17s\n",
            "   400K .......... .......... .......... .......... ..........  0%  842M 15s\n",
            "   450K .......... .......... .......... .......... ..........  0% 3.05M 16s\n",
            "   500K .......... .......... .......... .......... ..........  0%  954G 14s\n",
            "   550K .......... .......... .......... .......... ..........  1% 3.63M 14s\n",
            "   600K .......... .......... .......... .......... ..........  1%  177M 13s\n",
            "   650K .......... .......... .......... .......... ..........  1% 42.3M 12s\n",
            "   700K .......... .......... .......... .......... ..........  1% 1.83M 14s\n",
            "   750K .......... .......... .......... .......... ..........  1% 24.9M 13s\n",
            "   800K .......... .......... .......... .......... ..........  1% 9.12M 13s\n",
            "   850K .......... .......... .......... .......... ..........  1% 3.89M 13s\n",
            "   900K .......... .......... .......... .......... ..........  1%  151M 12s\n",
            "   950K .......... .......... .......... .......... ..........  1% 4.44M 12s\n",
            "  1000K .......... .......... .......... .......... ..........  1% 15.2M 12s\n",
            "  1050K .......... .......... .......... .......... ..........  1%  126M 11s\n",
            "  1100K .......... .......... .......... .......... ..........  1% 1.38M 12s\n",
            "  1150K .......... .......... .......... .......... ..........  2% 15.4M 12s\n",
            "  1200K .......... .......... .......... .......... ..........  2% 2.15M 13s\n",
            "  1250K .......... .......... .......... .......... ..........  2% 18.7M 12s\n",
            "  1300K .......... .......... .......... .......... ..........  2% 17.5M 12s\n",
            "  1350K .......... .......... .......... .......... ..........  2% 1.25M 13s\n",
            "  1400K .......... .......... .......... .......... ..........  2% 16.4M 13s\n",
            "  1450K .......... .......... .......... .......... ..........  2%  136M 12s\n",
            "  1500K .......... .......... .......... .......... ..........  2% 22.2M 12s\n",
            "  1550K .......... .......... .......... .......... ..........  2% 5.08M 12s\n",
            "  1600K .......... .......... .......... .......... ..........  2%  111M 12s\n",
            "  1650K .......... .......... .......... .......... ..........  2% 99.7M 11s\n",
            "  1700K .......... .......... .......... .......... ..........  2%  130M 11s\n",
            "  1750K .......... .......... .......... .......... ..........  3% 7.19M 11s\n",
            "  1800K .......... .......... .......... .......... ..........  3% 13.7M 11s\n",
            "  1850K .......... .......... .......... .......... ..........  3% 24.0M 10s\n",
            "  1900K .......... .......... .......... .......... ..........  3% 15.5M 10s\n",
            "  1950K .......... .......... .......... .......... ..........  3%  954G 10s\n",
            "  2000K .......... .......... .......... .......... ..........  3% 1.34M 11s\n",
            "  2050K .......... .......... .......... .......... ..........  3% 17.1M 11s\n",
            "  2100K .......... .......... .......... .......... ..........  3% 9.51M 10s\n",
            "  2150K .......... .......... .......... .......... ..........  3%  954G 10s\n",
            "  2200K .......... .......... .......... .......... ..........  3%  110M 10s\n",
            "  2250K .......... .......... .......... .......... ..........  3%  112M 10s\n",
            "  2300K .......... .......... .......... .......... ..........  3% 6.40M 10s\n",
            "  2350K .......... .......... .......... .......... ..........  4%  954G 9s\n",
            "  2400K .......... .......... .......... .......... ..........  4% 28.2M 9s\n",
            "  2450K .......... .......... .......... .......... ..........  4% 14.2M 9s\n",
            "  2500K .......... .......... .......... .......... ..........  4%  241M 9s\n",
            "  2550K .......... .......... .......... .......... ..........  4% 10.7M 9s\n",
            "  2600K .......... .......... .......... .......... ..........  4% 15.8M 9s\n",
            "  2650K .......... .......... .......... .......... ..........  4% 10.7M 9s\n",
            "  2700K .......... .......... .......... .......... ..........  4%  954G 9s\n",
            "  2750K .......... .......... .......... .......... ..........  4%  168M 8s\n",
            "  2800K .......... .......... .......... .......... ..........  4% 1.47M 9s\n",
            "  2850K .......... .......... .......... .......... ..........  4% 74.1M 9s\n",
            "  2900K .......... .......... .......... .......... ..........  4% 89.5M 9s\n",
            "  2950K .......... .......... .......... .......... ..........  5% 32.3M 9s\n",
            "  3000K .......... .......... .......... .......... ..........  5% 5.76M 9s\n",
            "  3050K .......... .......... .......... .......... ..........  5% 18.0M 8s\n",
            "  3100K .......... .......... .......... .......... ..........  5%  954G 8s\n",
            "  3150K .......... .......... .......... .......... ..........  5% 4.79M 8s\n",
            "  3200K .......... .......... .......... .......... ..........  5%  954G 8s\n",
            "  3250K .......... .......... .......... .......... ..........  5% 82.9M 8s\n",
            "  3300K .......... .......... .......... .......... ..........  5% 4.46M 8s\n",
            "  3350K .......... .......... .......... .......... ..........  5%  954G 8s\n",
            "  3400K .......... .......... .......... .......... ..........  5%  195M 8s\n",
            "  3450K .......... .......... .......... .......... ..........  5% 11.5M 8s\n",
            "  3500K .......... .......... .......... .......... ..........  5%  440M 8s\n",
            "  3550K .......... .......... .......... .......... ..........  6% 10.8M 8s\n",
            "  3600K .......... .......... .......... .......... ..........  6% 15.1M 8s\n",
            "  3650K .......... .......... .......... .......... ..........  6%  224M 8s\n",
            "  3700K .......... .......... .......... .......... ..........  6% 3.04M 8s\n",
            "  3750K .......... .......... .......... .......... ..........  6% 3.78M 8s\n",
            "  3800K .......... .......... .......... .......... ..........  6%  534M 8s\n",
            "  3850K .......... .......... .......... .......... ..........  6% 6.46M 8s\n",
            "  3900K .......... .......... .......... .......... ..........  6%  295M 8s\n",
            "  3950K .......... .......... .......... .......... ..........  6% 10.3M 7s\n",
            "  4000K .......... .......... .......... .......... ..........  6%  954G 7s\n",
            "  4050K .......... .......... .......... .......... ..........  6%  456M 7s\n",
            "  4100K .......... .......... .......... .......... ..........  6% 9.54M 7s\n",
            "  4150K .......... .......... .......... .......... ..........  7%  161M 7s\n",
            "  4200K .......... .......... .......... .......... ..........  7% 4.67M 7s\n",
            "  4250K .......... .......... .......... .......... ..........  7%  482M 7s\n",
            "  4300K .......... .......... .......... .......... ..........  7% 10.5M 7s\n",
            "  4350K .......... .......... .......... .......... ..........  7% 15.7M 7s\n",
            "  4400K .......... .......... .......... .......... ..........  7%  333M 7s\n",
            "  4450K .......... .......... .......... .......... ..........  7% 6.21M 7s\n",
            "  4500K .......... .......... .......... .......... ..........  7%  262M 7s\n",
            "  4550K .......... .......... .......... .......... ..........  7%  954G 7s\n",
            "  4600K .......... .......... .......... .......... ..........  7%  280M 7s\n",
            "  4650K .......... .......... .......... .......... ..........  7% 11.8M 7s\n",
            "  4700K .......... .......... .......... .......... ..........  8%  151M 7s\n",
            "  4750K .......... .......... .......... .......... ..........  8%  954G 7s\n",
            "  4800K .......... .......... .......... .......... ..........  8% 5.94M 7s\n",
            "  4850K .......... .......... .......... .......... ..........  8%  447M 7s\n",
            "  4900K .......... .......... .......... .......... ..........  8%  954G 6s\n",
            "  4950K .......... .......... .......... .......... ..........  8% 10.2M 6s\n",
            "  5000K .......... .......... .......... .......... ..........  8% 17.1M 6s\n",
            "  5050K .......... .......... .......... .......... ..........  8% 7.27M 6s\n",
            "  5100K .......... .......... .......... .......... ..........  8%  954G 6s\n",
            "  5150K .......... .......... .......... .......... ..........  8% 19.5M 6s\n",
            "  5200K .......... .......... .......... .......... ..........  8%  954G 6s\n",
            "  5250K .......... .......... .......... .......... ..........  8%  251M 6s\n",
            "  5300K .......... .......... .......... .......... ..........  9% 3.27M 6s\n",
            "  5350K .......... .......... .......... .......... ..........  9%  954G 6s\n",
            "  5400K .......... .......... .......... .......... ..........  9%  480M 6s\n",
            "  5450K .......... .......... .......... .......... ..........  9%  410M 6s\n",
            "  5500K .......... .......... .......... .......... ..........  9%  530M 6s\n",
            "  5550K .......... .......... .......... .......... ..........  9% 38.1M 6s\n",
            "  5600K .......... .......... .......... .......... ..........  9% 14.8M 6s\n",
            "  5650K .......... .......... .......... .......... ..........  9%  954G 6s\n",
            "  5700K .......... .......... .......... .......... ..........  9% 25.5M 6s\n",
            "  5750K .......... .......... .......... .......... ..........  9% 14.8M 6s\n",
            "  5800K .......... .......... .......... .......... ..........  9%  778M 6s\n",
            "  5850K .......... .......... .......... .......... ..........  9% 23.1M 6s\n",
            "  5900K .......... .......... .......... .......... .......... 10% 13.1M 6s\n",
            "  5950K .......... .......... .......... .......... .......... 10%  256M 6s\n",
            "  6000K .......... .......... .......... .......... .......... 10% 3.62M 6s\n",
            "  6050K .......... .......... .......... .......... .......... 10%  954G 6s\n",
            "  6100K .......... .......... .......... .......... .......... 10% 4.23M 6s\n",
            "  6150K .......... .......... .......... .......... .......... 10% 7.33M 6s\n",
            "  6200K .......... .......... .......... .......... .......... 10%  429M 6s\n",
            "  6250K .......... .......... .......... .......... .......... 10%  954G 6s\n",
            "  6300K .......... .......... .......... .......... .......... 10% 11.0M 6s\n",
            "  6350K .......... .......... .......... .......... .......... 10%  408M 6s\n",
            "  6400K .......... .......... .......... .......... .......... 10% 3.18M 6s\n",
            "  6450K .......... .......... .......... .......... .......... 10%  398M 6s\n",
            "  6500K .......... .......... .......... .......... .......... 11%  954G 6s\n",
            "  6550K .......... .......... .......... .......... .......... 11%  223M 5s\n",
            "  6600K .......... .......... .......... .......... .......... 11% 1.61M 6s\n",
            "  6650K .......... .......... .......... .......... .......... 11%  383M 6s\n",
            "  6700K .......... .......... .......... .......... .......... 11%  735M 6s\n",
            "  6750K .......... .......... .......... .......... .......... 11%  954G 6s\n",
            "  6800K .......... .......... .......... .......... .......... 11% 5.14M 6s\n",
            "  6850K .......... .......... .......... .......... .......... 11% 9.78M 6s\n",
            "  6900K .......... .......... .......... .......... .......... 11%  221M 6s\n",
            "  6950K .......... .......... .......... .......... .......... 11% 24.1M 5s\n",
            "  7000K .......... .......... .......... .......... .......... 11% 14.9M 5s\n",
            "  7050K .......... .......... .......... .......... .......... 11% 16.3M 5s\n",
            "  7100K .......... .......... .......... .......... .......... 12% 8.83M 5s\n",
            "  7150K .......... .......... .......... .......... .......... 12%  954G 5s\n",
            "  7200K .......... .......... .......... .......... .......... 12%  456M 5s\n",
            "  7250K .......... .......... .......... .......... .......... 12% 9.35M 5s\n",
            "  7300K .......... .......... .......... .......... .......... 12%  769M 5s\n",
            "  7350K .......... .......... .......... .......... .......... 12% 4.59M 5s\n",
            "  7400K .......... .......... .......... .......... .......... 12%  453M 5s\n",
            "  7450K .......... .......... .......... .......... .......... 12%  954G 5s\n",
            "  7500K .......... .......... .......... .......... .......... 12%  908M 5s\n",
            "  7550K .......... .......... .......... .......... .......... 12% 10.1M 5s\n",
            "  7600K .......... .......... .......... .......... .......... 12%  744M 5s\n",
            "  7650K .......... .......... .......... .......... .......... 12% 16.7M 5s\n",
            "  7700K .......... .......... .......... .......... .......... 13% 15.2M 5s\n",
            "  7750K .......... .......... .......... .......... .......... 13% 8.80M 5s\n",
            "  7800K .......... .......... .......... .......... .......... 13%  576M 5s\n",
            "  7850K .......... .......... .......... .......... .......... 13%  475M 5s\n",
            "  7900K .......... .......... .......... .......... .......... 13% 9.70M 5s\n",
            "  7950K .......... .......... .......... .......... .......... 13%  954G 5s\n",
            "  8000K .......... .......... .......... .......... .......... 13%  676M 5s\n",
            "  8050K .......... .......... .......... .......... .......... 13% 3.86M 5s\n",
            "  8100K .......... .......... .......... .......... .......... 13%  678M 5s\n",
            "  8150K .......... .......... .......... .......... .......... 13%  954G 5s\n",
            "  8200K .......... .......... .......... .......... .......... 13% 3.11M 5s\n",
            "  8250K .......... .......... .......... .......... .......... 13%  254M 5s\n",
            "  8300K .......... .......... .......... .......... .......... 14%  199M 5s\n",
            "  8350K .......... .......... .......... .......... .......... 14%  443M 5s\n",
            "  8400K .......... .......... .......... .......... .......... 14%  954G 5s\n",
            "  8450K .......... .......... .......... .......... .......... 14% 10.3M 5s\n",
            "  8500K .......... .......... .......... .......... .......... 14%  352M 5s\n",
            "  8550K .......... .......... .......... .......... .......... 14% 3.99M 5s\n",
            "  8600K .......... .......... .......... .......... .......... 14%  954G 5s\n",
            "  8650K .......... .......... .......... .......... .......... 14% 14.9M 5s\n",
            "  8700K .......... .......... .......... .......... .......... 14% 5.70M 5s\n",
            "  8750K .......... .......... .......... .......... .......... 14% 14.0M 5s\n",
            "  8800K .......... .......... .......... .......... .......... 14% 3.26M 5s\n",
            "  8850K .......... .......... .......... .......... .......... 15%  954G 5s\n",
            "  8900K .......... .......... .......... .......... .......... 15% 6.39M 5s\n",
            "  8950K .......... .......... .......... .......... .......... 15%  954G 5s\n",
            "  9000K .......... .......... .......... .......... .......... 15% 18.7M 5s\n",
            "  9050K .......... .......... .......... .......... .......... 15% 3.14M 5s\n",
            "  9100K .......... .......... .......... .......... .......... 15%  323M 5s\n",
            "  9150K .......... .......... .......... .......... .......... 15%  713M 5s\n",
            "  9200K .......... .......... .......... .......... .......... 15% 21.2M 5s\n",
            "  9250K .......... .......... .......... .......... .......... 15% 1.84M 5s\n",
            "  9300K .......... .......... .......... .......... .......... 15%  347M 5s\n",
            "  9350K .......... .......... .......... .......... .......... 15%  684M 5s\n",
            "  9400K .......... .......... .......... .......... .......... 15%  954G 5s\n",
            "  9450K .......... .......... .......... .......... .......... 16% 7.74M 5s\n",
            "  9500K .......... .......... .......... .......... .......... 16%  954G 5s\n",
            "  9550K .......... .......... .......... .......... .......... 16% 7.01M 5s\n",
            "  9600K .......... .......... .......... .......... .......... 16%  481M 5s\n",
            "  9650K .......... .......... .......... .......... .......... 16% 17.5M 5s\n",
            "  9700K .......... .......... .......... .......... .......... 16% 24.7M 5s\n",
            "  9750K .......... .......... .......... .......... .......... 16%  446M 5s\n",
            "  9800K .......... .......... .......... .......... .......... 16% 5.63M 5s\n",
            "  9850K .......... .......... .......... .......... .......... 16%  954G 5s\n",
            "  9900K .......... .......... .......... .......... .......... 16%  423M 5s\n",
            "  9950K .......... .......... .......... .......... .......... 16%  848M 5s\n",
            " 10000K .......... .......... .......... .......... .......... 16% 9.11M 5s\n",
            " 10050K .......... .......... .......... .......... .......... 17%  954G 5s\n",
            " 10100K .......... .......... .......... .......... .......... 17%  185M 5s\n",
            " 10150K .......... .......... .......... .......... .......... 17% 9.20M 5s\n",
            " 10200K .......... .......... .......... .......... .......... 17%  386M 5s\n",
            " 10250K .......... .......... .......... .......... .......... 17% 5.77M 5s\n",
            " 10300K .......... .......... .......... .......... .......... 17%  390M 5s\n",
            " 10350K .......... .......... .......... .......... .......... 17%  720M 5s\n",
            " 10400K .......... .......... .......... .......... .......... 17% 7.56M 5s\n",
            " 10450K .......... .......... .......... .......... .......... 17%  954G 4s\n",
            " 10500K .......... .......... .......... .......... .......... 17%  366M 4s\n",
            " 10550K .......... .......... .......... .......... .......... 17% 8.93M 4s\n",
            " 10600K .......... .......... .......... .......... .......... 17%  237M 4s\n",
            " 10650K .......... .......... .......... .......... .......... 18% 16.6M 4s\n",
            " 10700K .......... .......... .......... .......... .......... 18%  954G 4s\n",
            " 10750K .......... .......... .......... .......... .......... 18% 9.31M 4s\n",
            " 10800K .......... .......... .......... .......... .......... 18% 14.8M 4s\n",
            " 10850K .......... .......... .......... .......... .......... 18%  187M 4s\n",
            " 10900K .......... .......... .......... .......... .......... 18% 6.50M 4s\n",
            " 10950K .......... .......... .......... .......... .......... 18%  241M 4s\n",
            " 11000K .......... .......... .......... .......... .......... 18%  347M 4s\n",
            " 11050K .......... .......... .......... .......... .......... 18% 9.90M 4s\n",
            " 11100K .......... .......... .......... .......... .......... 18%  174M 4s\n",
            " 11150K .......... .......... .......... .......... .......... 18% 3.30M 4s\n",
            " 11200K .......... .......... .......... .......... .......... 18% 15.0M 4s\n",
            " 11250K .......... .......... .......... .......... .......... 19%  954G 4s\n",
            " 11300K .......... .......... .......... .......... .......... 19% 6.78M 4s\n",
            " 11350K .......... .......... .......... .......... .......... 19% 13.3M 4s\n",
            " 11400K .......... .......... .......... .......... .......... 19%  227M 4s\n",
            " 11450K .......... .......... .......... .......... .......... 19% 8.98M 4s\n",
            " 11500K .......... .......... .......... .......... .......... 19% 14.6M 4s\n",
            " 11550K .......... .......... .......... .......... .......... 19% 22.8M 4s\n",
            " 11600K .......... .......... .......... .......... .......... 19% 14.7M 4s\n",
            " 11650K .......... .......... .......... .......... .......... 19%  954G 4s\n",
            " 11700K .......... .......... .......... .......... .......... 19% 28.4M 4s\n",
            " 11750K .......... .......... .......... .......... .......... 19% 14.5M 4s\n",
            " 11800K .......... .......... .......... .......... .......... 19%  215M 4s\n",
            " 11850K .......... .......... .......... .......... .......... 20% 32.7M 4s\n",
            " 11900K .......... .......... .......... .......... .......... 20% 12.9M 4s\n",
            " 11950K .......... .......... .......... .......... .......... 20%  224M 4s\n",
            " 12000K .......... .......... .......... .......... .......... 20% 3.77M 4s\n",
            " 12050K .......... .......... .......... .......... .......... 20% 12.6M 4s\n",
            " 12100K .......... .......... .......... .......... .......... 20% 31.3M 4s\n",
            " 12150K .......... .......... .......... .......... .......... 20% 14.4M 4s\n",
            " 12200K .......... .......... .......... .......... .......... 20%  954G 4s\n",
            " 12250K .......... .......... .......... .......... .......... 20% 24.4M 4s\n",
            " 12300K .......... .......... .......... .......... .......... 20% 14.9M 4s\n",
            " 12350K .......... .......... .......... .......... .......... 20%  145M 4s\n",
            " 12400K .......... .......... .......... .......... .......... 20% 27.0M 4s\n",
            " 12450K .......... .......... .......... .......... .......... 21% 13.8M 4s\n",
            " 12500K .......... .......... .......... .......... .......... 21% 73.9M 4s\n",
            " 12550K .......... .......... .......... .......... .......... 21% 3.46M 4s\n",
            " 12600K .......... .......... .......... .......... .......... 21% 14.7M 4s\n",
            " 12650K .......... .......... .......... .......... .......... 21% 4.14M 4s\n",
            " 12700K .......... .......... .......... .......... .......... 21% 25.9M 4s\n",
            " 12750K .......... .......... .......... .......... .......... 21% 16.0M 4s\n",
            " 12800K .......... .......... .......... .......... .......... 21% 12.9M 4s\n",
            " 12850K .......... .......... .......... .......... .......... 21%  514M 4s\n",
            " 12900K .......... .......... .......... .......... .......... 21% 15.3M 4s\n",
            " 12950K .......... .......... .......... .......... .......... 21% 13.8M 4s\n",
            " 13000K .......... .......... .......... .......... .......... 22% 16.1M 4s\n",
            " 13050K .......... .......... .......... .......... .......... 22%  954G 4s\n",
            " 13100K .......... .......... .......... .......... .......... 22% 24.0M 4s\n",
            " 13150K .......... .......... .......... .......... .......... 22% 13.4M 4s\n",
            " 13200K .......... .......... .......... .......... .......... 22%  464M 4s\n",
            " 13250K .......... .......... .......... .......... .......... 22% 24.7M 4s\n",
            " 13300K .......... .......... .......... .......... .......... 22% 14.1M 4s\n",
            " 13350K .......... .......... .......... .......... .......... 22%  421M 4s\n",
            " 13400K .......... .......... .......... .......... .......... 22% 26.3M 4s\n",
            " 13450K .......... .......... .......... .......... .......... 22% 6.59M 4s\n",
            " 13500K .......... .......... .......... .......... .......... 22%  341M 4s\n",
            " 13550K .......... .......... .......... .......... .......... 22% 17.3M 4s\n",
            " 13600K .......... .......... .......... .......... .......... 23%  954G 4s\n",
            " 13650K .......... .......... .......... .......... .......... 23% 15.8M 4s\n",
            " 13700K .......... .......... .......... .......... .......... 23% 15.2M 4s\n",
            " 13750K .......... .......... .......... .......... .......... 23%  351M 4s\n",
            " 13800K .......... .......... .......... .......... .......... 23% 9.85M 4s\n",
            " 13850K .......... .......... .......... .......... .......... 23% 15.5M 4s\n",
            " 13900K .......... .......... .......... .......... .......... 23% 22.3M 4s\n",
            " 13950K .......... .......... .......... .......... .......... 23% 14.5M 4s\n",
            " 14000K .......... .......... .......... .......... .......... 23%  954G 4s\n",
            " 14050K .......... .......... .......... .......... .......... 23% 24.4M 4s\n",
            " 14100K .......... .......... .......... .......... .......... 23% 14.4M 4s\n",
            " 14150K .......... .......... .......... .......... .......... 23%  230M 4s\n",
            " 14200K .......... .......... .......... .......... .......... 24% 4.68M 4s\n",
            " 14250K .......... .......... .......... .......... .......... 24% 14.6M 4s\n",
            " 14300K .......... .......... .......... .......... .......... 24%  177M 4s\n",
            " 14350K .......... .......... .......... .......... .......... 24% 10.8M 4s\n",
            " 14400K .......... .......... .......... .......... .......... 24% 16.2M 4s\n",
            " 14450K .......... .......... .......... .......... .......... 24% 21.3M 4s\n",
            " 14500K .......... .......... .......... .......... .......... 24% 16.1M 4s\n",
            " 14550K .......... .......... .......... .......... .......... 24%  954G 4s\n",
            " 14600K .......... .......... .......... .......... .......... 24% 3.54M 4s\n",
            " 14650K .......... .......... .......... .......... .......... 24%  954G 4s\n",
            " 14700K .......... .......... .......... .......... .......... 24%  311M 4s\n",
            " 14750K .......... .......... .......... .......... .......... 24% 30.9M 4s\n",
            " 14800K .......... .......... .......... .......... .......... 25% 15.3M 4s\n",
            " 14850K .......... .......... .......... .......... .......... 25%  337M 4s\n",
            " 14900K .......... .......... .......... .......... .......... 25% 4.14M 4s\n",
            " 14950K .......... .......... .......... .......... .......... 25% 15.1M 4s\n",
            " 15000K .......... .......... .......... .......... .......... 25% 18.1M 4s\n",
            " 15050K .......... .......... .......... .......... .......... 25% 15.3M 4s\n",
            " 15100K .......... .......... .......... .......... .......... 25%  954G 4s\n",
            " 15150K .......... .......... .......... .......... .......... 25% 22.4M 4s\n",
            " 15200K .......... .......... .......... .......... .......... 25% 10.1M 4s\n",
            " 15250K .......... .......... .......... .......... .......... 25%  954G 4s\n",
            " 15300K .......... .......... .......... .......... .......... 25%  513M 4s\n",
            " 15350K .......... .......... .......... .......... .......... 25% 5.37M 4s\n",
            " 15400K .......... .......... .......... .......... .......... 26%  176M 4s\n",
            " 15450K .......... .......... .......... .......... .......... 26% 9.89M 4s\n",
            " 15500K .......... .......... .......... .......... .......... 26% 20.5M 4s\n",
            " 15550K .......... .......... .......... .......... .......... 26%  271M 4s\n",
            " 15600K .......... .......... .......... .......... .......... 26% 9.74M 4s\n",
            " 15650K .......... .......... .......... .......... .......... 26%  954G 4s\n",
            " 15700K .......... .......... .......... .......... .......... 26%  364M 4s\n",
            " 15750K .......... .......... .......... .......... .......... 26% 8.84M 4s\n",
            " 15800K .......... .......... .......... .......... .......... 26%  336M 4s\n",
            " 15850K .......... .......... .......... .......... .......... 26% 20.7M 4s\n",
            " 15900K .......... .......... .......... .......... .......... 26% 9.35M 4s\n",
            " 15950K .......... .......... .......... .......... .......... 26%  162M 3s\n",
            " 16000K .......... .......... .......... .......... .......... 27%  954G 3s\n",
            " 16050K .......... .......... .......... .......... .......... 27%  160M 3s\n",
            " 16100K .......... .......... .......... .......... .......... 27% 11.5M 3s\n",
            " 16150K .......... .......... .......... .......... .......... 27%  272M 3s\n",
            " 16200K .......... .......... .......... .......... .......... 27% 27.3M 3s\n",
            " 16250K .......... .......... .......... .......... .......... 27% 8.67M 3s\n",
            " 16300K .......... .......... .......... .......... .......... 27% 8.71M 3s\n",
            " 16350K .......... .......... .......... .......... .......... 27%  132M 3s\n",
            " 16400K .......... .......... .......... .......... .......... 27%  196M 3s\n",
            " 16450K .......... .......... .......... .......... .......... 27% 24.9M 3s\n",
            " 16500K .......... .......... .......... .......... .......... 27% 26.8M 3s\n",
            " 16550K .......... .......... .......... .......... .......... 27% 16.3M 3s\n",
            " 16600K .......... .......... .......... .......... .......... 28%  954G 3s\n",
            " 16650K .......... .......... .......... .......... .......... 28% 39.8M 3s\n",
            " 16700K .......... .......... .......... .......... .......... 28% 15.8M 3s\n",
            " 16750K .......... .......... .......... .......... .......... 28%  212M 3s\n",
            " 16800K .......... .......... .......... .......... .......... 28% 6.11M 3s\n",
            " 16850K .......... .......... .......... .......... .......... 28% 16.1M 3s\n",
            " 16900K .......... .......... .......... .......... .......... 28%  125M 3s\n",
            " 16950K .......... .......... .......... .......... .......... 28% 6.95M 3s\n",
            " 17000K .......... .......... .......... .......... .......... 28% 14.2M 3s\n",
            " 17050K .......... .......... .......... .......... .......... 28% 5.60M 3s\n",
            " 17100K .......... .......... .......... .......... .......... 28% 15.5M 3s\n",
            " 17150K .......... .......... .......... .......... .......... 29%  954G 3s\n",
            " 17200K .......... .......... .......... .......... .......... 29% 12.2M 3s\n",
            " 17250K .......... .......... .......... .......... .......... 29% 20.2M 3s\n",
            " 17300K .......... .......... .......... .......... .......... 29%  228M 3s\n",
            " 17350K .......... .......... .......... .......... .......... 29% 4.11M 3s\n",
            " 17400K .......... .......... .......... .......... .......... 29%  954G 3s\n",
            " 17450K .......... .......... .......... .......... .......... 29% 7.30M 3s\n",
            " 17500K .......... .......... .......... .......... .......... 29% 15.0M 3s\n",
            " 17550K .......... .......... .......... .......... .......... 29% 6.26M 3s\n",
            " 17600K .......... .......... .......... .......... .......... 29%  954G 3s\n",
            " 17650K .......... .......... .......... .......... .......... 29% 15.7M 3s\n",
            " 17700K .......... .......... .......... .......... .......... 29%  121M 3s\n",
            " 17750K .......... .......... .......... .......... .......... 30% 11.4M 3s\n",
            " 17800K .......... .......... .......... .......... .......... 30% 16.3M 3s\n",
            " 17850K .......... .......... .......... .......... .......... 30% 21.5M 3s\n",
            " 17900K .......... .......... .......... .......... .......... 30% 3.52M 3s\n",
            " 17950K .......... .......... .......... .......... .......... 30%  954G 3s\n",
            " 18000K .......... .......... .......... .......... .......... 30%  204M 3s\n",
            " 18050K .......... .......... .......... .......... .......... 30% 11.1M 3s\n",
            " 18100K .......... .......... .......... .......... .......... 30%  526M 3s\n",
            " 18150K .......... .......... .......... .......... .......... 30% 17.7M 3s\n",
            " 18200K .......... .......... .......... .......... .......... 30% 15.8M 3s\n",
            " 18250K .......... .......... .......... .......... .......... 30%  858M 3s\n",
            " 18300K .......... .......... .......... .......... .......... 30% 16.8M 3s\n",
            " 18350K .......... .......... .......... .......... .......... 31%  954G 3s\n",
            " 18400K .......... .......... .......... .......... .......... 31% 7.33M 3s\n",
            " 18450K .......... .......... .......... .......... .......... 31% 14.7M 3s\n",
            " 18500K .......... .......... .......... .......... .......... 31% 29.7M 3s\n",
            " 18550K .......... .......... .......... .......... .......... 31%  954G 3s\n",
            " 18600K .......... .......... .......... .......... .......... 31% 15.6M 3s\n",
            " 18650K .......... .......... .......... .......... .......... 31% 11.1M 3s\n",
            " 18700K .......... .......... .......... .......... .......... 31% 6.22M 3s\n",
            " 18750K .......... .......... .......... .......... .......... 31%  954G 3s\n",
            " 18800K .......... .......... .......... .......... .......... 31%  437M 3s\n",
            " 18850K .......... .......... .......... .......... .......... 31% 9.57M 3s\n",
            " 18900K .......... .......... .......... .......... .......... 31%  381M 3s\n",
            " 18950K .......... .......... .......... .......... .......... 32% 19.1M 3s\n",
            " 19000K .......... .......... .......... .......... .......... 32% 4.71M 3s\n",
            " 19050K .......... .......... .......... .......... .......... 32%  146M 3s\n",
            " 19100K .......... .......... .......... .......... .......... 32%  139M 3s\n",
            " 19150K .......... .......... .......... .......... .......... 32%  200M 3s\n",
            " 19200K .......... .......... .......... .......... .......... 32% 30.1M 3s\n",
            " 19250K .......... .......... .......... .......... .......... 32% 8.37M 3s\n",
            " 19300K .......... .......... .......... .......... .......... 32%  954G 3s\n",
            " 19350K .......... .......... .......... .......... .......... 32% 19.1M 3s\n",
            " 19400K .......... .......... .......... .......... .......... 32% 15.8M 3s\n",
            " 19450K .......... .......... .......... .......... .......... 32% 21.4M 3s\n",
            " 19500K .......... .......... .......... .......... .......... 32%  139M 3s\n",
            " 19550K .......... .......... .......... .......... .......... 33% 21.3M 3s\n",
            " 19600K .......... .......... .......... .......... .......... 33%  156M 3s\n",
            " 19650K .......... .......... .......... .......... .......... 33% 54.2M 3s\n",
            " 19700K .......... .......... .......... .......... .......... 33% 13.2M 3s\n",
            " 19750K .......... .......... .......... .......... .......... 33% 21.0M 3s\n",
            " 19800K .......... .......... .......... .......... .......... 33% 9.22M 3s\n",
            " 19850K .......... .......... .......... .......... .......... 33%  954G 3s\n",
            " 19900K .......... .......... .......... .......... .......... 33%  106M 3s\n",
            " 19950K .......... .......... .......... .......... .......... 33% 10.4M 3s\n",
            " 20000K .......... .......... .......... .......... .......... 33%  954G 3s\n",
            " 20050K .......... .......... .......... .......... .......... 33% 2.33M 3s\n",
            " 20100K .......... .......... .......... .......... .......... 33%  143M 3s\n",
            " 20150K .......... .......... .......... .......... .......... 34% 23.6M 3s\n",
            " 20200K .......... .......... .......... .......... .......... 34% 5.75M 3s\n",
            " 20250K .......... .......... .......... .......... .......... 34%  160M 3s\n",
            " 20300K .......... .......... .......... .......... .......... 34% 19.4M 3s\n",
            " 20350K .......... .......... .......... .......... .......... 34%  185M 3s\n",
            " 20400K .......... .......... .......... .......... .......... 34% 29.0M 3s\n",
            " 20450K .......... .......... .......... .......... .......... 34% 15.8M 3s\n",
            " 20500K .......... .......... .......... .......... .......... 34% 33.4M 3s\n",
            " 20550K .......... .......... .......... .......... .......... 34% 14.4M 3s\n",
            " 20600K .......... .......... .......... .......... .......... 34%  954G 3s\n",
            " 20650K .......... .......... .......... .......... .......... 34% 24.2M 3s\n",
            " 20700K .......... .......... .......... .......... .......... 34% 15.0M 3s\n",
            " 20750K .......... .......... .......... .......... .......... 35% 77.8M 3s\n",
            " 20800K .......... .......... .......... .......... .......... 35% 1.76M 3s\n",
            " 20850K .......... .......... .......... .......... .......... 35%  230M 3s\n",
            " 20900K .......... .......... .......... .......... .......... 35%  954G 3s\n",
            " 20950K .......... .......... .......... .......... .......... 35% 5.20M 3s\n",
            " 21000K .......... .......... .......... .......... .......... 35%  190M 3s\n",
            " 21050K .......... .......... .......... .......... .......... 35%  954G 3s\n",
            " 21100K .......... .......... .......... .......... .......... 35%  370M 3s\n",
            " 21150K .......... .......... .......... .......... .......... 35%  481M 3s\n",
            " 21200K .......... .......... .......... .......... .......... 35% 2.67M 3s\n",
            " 21250K .......... .......... .......... .......... .......... 35% 14.7M 3s\n",
            " 21300K .......... .......... .......... .......... .......... 36%  954G 3s\n",
            " 21350K .......... .......... .......... .......... .......... 36% 9.64M 3s\n",
            " 21400K .......... .......... .......... .......... .......... 36%  259M 3s\n",
            " 21450K .......... .......... .......... .......... .......... 36% 41.3M 3s\n",
            " 21500K .......... .......... .......... .......... .......... 36% 15.1M 3s\n",
            " 21550K .......... .......... .......... .......... .......... 36%  314M 3s\n",
            " 21600K .......... .......... .......... .......... .......... 36% 16.0M 3s\n",
            " 21650K .......... .......... .......... .......... .......... 36% 5.99M 3s\n",
            " 21700K .......... .......... .......... .......... .......... 36%  198M 3s\n",
            " 21750K .......... .......... .......... .......... .......... 36%  488M 3s\n",
            " 21800K .......... .......... .......... .......... .......... 36%  954G 3s\n",
            " 21850K .......... .......... .......... .......... .......... 36% 18.8M 3s\n",
            " 21900K .......... .......... .......... .......... .......... 37% 15.9M 3s\n",
            " 21950K .......... .......... .......... .......... .......... 37%  163M 3s\n",
            " 22000K .......... .......... .......... .......... .......... 37% 6.88M 3s\n",
            " 22050K .......... .......... .......... .......... .......... 37%  954G 3s\n",
            " 22100K .......... .......... .......... .......... .......... 37% 15.5M 3s\n",
            " 22150K .......... .......... .......... .......... .......... 37% 9.63M 3s\n",
            " 22200K .......... .......... .......... .......... .......... 37%  454M 3s\n",
            " 22250K .......... .......... .......... .......... .......... 37% 9.29M 3s\n",
            " 22300K .......... .......... .......... .......... .......... 37%  954G 3s\n",
            " 22350K .......... .......... .......... .......... .......... 37% 15.0M 3s\n",
            " 22400K .......... .......... .......... .......... .......... 37% 9.59M 3s\n",
            " 22450K .......... .......... .......... .......... .......... 37%  421M 3s\n",
            " 22500K .......... .......... .......... .......... .......... 38%  954G 3s\n",
            " 22550K .......... .......... .......... .......... .......... 38%  209M 3s\n",
            " 22600K .......... .......... .......... .......... .......... 38% 11.7M 3s\n",
            " 22650K .......... .......... .......... .......... .......... 38% 9.44M 3s\n",
            " 22700K .......... .......... .......... .......... .......... 38%  954G 3s\n",
            " 22750K .......... .......... .......... .......... .......... 38%  638M 3s\n",
            " 22800K .......... .......... .......... .......... .......... 38% 8.54M 3s\n",
            " 22850K .......... .......... .......... .......... .......... 38% 81.6M 3s\n",
            " 22900K .......... .......... .......... .......... .......... 38% 22.0M 3s\n",
            " 22950K .......... .......... .......... .......... .......... 38%  954G 3s\n",
            " 23000K .......... .......... .......... .......... .......... 38% 37.7M 3s\n",
            " 23050K .......... .......... .......... .......... .......... 38% 9.25M 3s\n",
            " 23100K .......... .......... .......... .......... .......... 39%  145M 3s\n",
            " 23150K .......... .......... .......... .......... .......... 39% 90.9M 3s\n",
            " 23200K .......... .......... .......... .......... .......... 39% 6.86M 3s\n",
            " 23250K .......... .......... .......... .......... .......... 39%  133M 3s\n",
            " 23300K .......... .......... .......... .......... .......... 39%  183M 3s\n",
            " 23350K .......... .......... .......... .......... .......... 39% 83.6M 3s\n",
            " 23400K .......... .......... .......... .......... .......... 39% 13.4M 3s\n",
            " 23450K .......... .......... .......... .......... .......... 39%  124M 3s\n",
            " 23500K .......... .......... .......... .......... .......... 39% 58.1M 3s\n",
            " 23550K .......... .......... .......... .......... .......... 39% 14.1M 3s\n",
            " 23600K .......... .......... .......... .......... .......... 39%  159M 3s\n",
            " 23650K .......... .......... .......... .......... .......... 39% 31.2M 3s\n",
            " 23700K .......... .......... .......... .......... .......... 40% 15.9M 3s\n",
            " 23750K .......... .......... .......... .......... .......... 40% 25.5M 3s\n",
            " 23800K .......... .......... .......... .......... .......... 40% 15.7M 3s\n",
            " 23850K .......... .......... .......... .......... .......... 40%  954G 3s\n",
            " 23900K .......... .......... .......... .......... .......... 40% 21.4M 3s\n",
            " 23950K .......... .......... .......... .......... .......... 40% 19.0M 3s\n",
            " 24000K .......... .......... .......... .......... .......... 40% 24.4M 3s\n",
            " 24050K .......... .......... .......... .......... .......... 40%  175M 3s\n",
            " 24100K .......... .......... .......... .......... .......... 40% 15.3M 3s\n",
            " 24150K .......... .......... .......... .......... .......... 40%  159M 3s\n",
            " 24200K .......... .......... .......... .......... .......... 40% 29.2M 3s\n",
            " 24250K .......... .......... .......... .......... .......... 40% 15.7M 3s\n",
            " 24300K .......... .......... .......... .......... .......... 41% 18.6M 3s\n",
            " 24350K .......... .......... .......... .......... .......... 41% 18.1M 3s\n",
            " 24400K .......... .......... .......... .......... .......... 41% 28.4M 3s\n",
            " 24450K .......... .......... .......... .......... .......... 41%  954G 2s\n",
            " 24500K .......... .......... .......... .......... .......... 41% 14.4M 2s\n",
            " 24550K .......... .......... .......... .......... .......... 41% 76.4M 2s\n",
            " 24600K .......... .......... .......... .......... .......... 41% 38.7M 2s\n",
            " 24650K .......... .......... .......... .......... .......... 41% 14.7M 2s\n",
            " 24700K .......... .......... .......... .......... .......... 41% 29.6M 2s\n",
            " 24750K .......... .......... .......... .......... .......... 41% 14.8M 2s\n",
            " 24800K .......... .......... .......... .......... .......... 41%  954G 2s\n",
            " 24850K .......... .......... .......... .......... .......... 41% 19.7M 2s\n",
            " 24900K .......... .......... .......... .......... .......... 42% 18.2M 2s\n",
            " 24950K .......... .......... .......... .......... .......... 42% 15.1M 2s\n",
            " 25000K .......... .......... .......... .......... .......... 42%  153M 2s\n",
            " 25050K .......... .......... .......... .......... .......... 42% 62.6M 2s\n",
            " 25100K .......... .......... .......... .......... .......... 42% 14.1M 2s\n",
            " 25150K .......... .......... .......... .......... .......... 42%  837K 2s\n",
            " 25200K .......... .......... .......... .......... .......... 42% 17.6M 2s\n",
            " 25250K .......... .......... .......... .......... .......... 42% 21.0M 2s\n",
            " 25300K .......... .......... .......... .......... .......... 42%  954G 2s\n",
            " 25350K .......... .......... .......... .......... .......... 42% 19.1M 2s\n",
            " 25400K .......... .......... .......... .......... .......... 42% 25.9M 2s\n",
            " 25450K .......... .......... .......... .......... .......... 43% 89.4M 2s\n",
            " 25500K .......... .......... .......... .......... .......... 43% 24.5M 2s\n",
            " 25550K .......... .......... .......... .......... .......... 43% 29.2M 2s\n",
            " 25600K .......... .......... .......... .......... .......... 43%  113M 2s\n",
            " 25650K .......... .......... .......... .......... .......... 43% 15.9M 2s\n",
            " 25700K .......... .......... .......... .......... .......... 43% 45.3M 2s\n",
            " 25750K .......... .......... .......... .......... .......... 43% 13.5M 2s\n",
            " 25800K .......... .......... .......... .......... .......... 43%  954G 2s\n",
            " 25850K .......... .......... .......... .......... .......... 43% 44.7M 2s\n",
            " 25900K .......... .......... .......... .......... .......... 43% 8.49M 2s\n",
            " 25950K .......... .......... .......... .......... .......... 43%  141M 2s\n",
            " 26000K .......... .......... .......... .......... .......... 43% 42.5M 2s\n",
            " 26050K .......... .......... .......... .......... .......... 44% 20.4M 2s\n",
            " 26100K .......... .......... .......... .......... .......... 44% 22.4M 2s\n",
            " 26150K .......... .......... .......... .......... .......... 44% 14.8M 2s\n",
            " 26200K .......... .......... .......... .......... .......... 44%  104M 2s\n",
            " 26250K .......... .......... .......... .......... .......... 44% 49.8M 2s\n",
            " 26300K .......... .......... .......... .......... .......... 44% 13.9M 2s\n",
            " 26350K .......... .......... .......... .......... .......... 44% 92.4M 2s\n",
            " 26400K .......... .......... .......... .......... .......... 44% 13.1M 2s\n",
            " 26450K .......... .......... .......... .......... .......... 44%  954G 2s\n",
            " 26500K .......... .......... .......... .......... .......... 44% 23.8M 2s\n",
            " 26550K .......... .......... .......... .......... .......... 44% 10.3M 2s\n",
            " 26600K .......... .......... .......... .......... .......... 44%  954G 2s\n",
            " 26650K .......... .......... .......... .......... .......... 45%  599M 2s\n",
            " 26700K .......... .......... .......... .......... .......... 45% 5.70M 2s\n",
            " 26750K .......... .......... .......... .......... .......... 45%  452M 2s\n",
            " 26800K .......... .......... .......... .......... .......... 45%  954G 2s\n",
            " 26850K .......... .......... .......... .......... .......... 45% 8.46M 2s\n",
            " 26900K .......... .......... .......... .......... .......... 45%  768M 2s\n",
            " 26950K .......... .......... .......... .......... .......... 45% 8.68M 2s\n",
            " 27000K .......... .......... .......... .......... .......... 45%  490M 2s\n",
            " 27050K .......... .......... .......... .......... .......... 45%  954G 2s\n",
            " 27100K .......... .......... .......... .......... .......... 45% 7.48M 2s\n",
            " 27150K .......... .......... .......... .......... .......... 45%  494M 2s\n",
            " 27200K .......... .......... .......... .......... .......... 45% 11.0M 2s\n",
            " 27250K .......... .......... .......... .......... .......... 46%  320M 2s\n",
            " 27300K .......... .......... .......... .......... .......... 46%  954G 2s\n",
            " 27350K .......... .......... .......... .......... .......... 46% 10.2M 2s\n",
            " 27400K .......... .......... .......... .......... .......... 46%  459M 2s\n",
            " 27450K .......... .......... .......... .......... .......... 46% 4.94M 2s\n",
            " 27500K .......... .......... .......... .......... .......... 46%  954G 2s\n",
            " 27550K .......... .......... .......... .......... .......... 46%  432M 2s\n",
            " 27600K .......... .......... .......... .......... .......... 46%  954M 2s\n",
            " 27650K .......... .......... .......... .......... .......... 46%  532M 2s\n",
            " 27700K .......... .......... .......... .......... .......... 46% 11.5M 2s\n",
            " 27750K .......... .......... .......... .......... .......... 46% 15.0M 2s\n",
            " 27800K .......... .......... .......... .......... .......... 46%  349M 2s\n",
            " 27850K .......... .......... .......... .......... .......... 47%  301M 2s\n",
            " 27900K .......... .......... .......... .......... .......... 47%  771M 2s\n",
            " 27950K .......... .......... .......... .......... .......... 47% 6.57M 2s\n",
            " 28000K .......... .......... .......... .......... .......... 47%  518M 2s\n",
            " 28050K .......... .......... .......... .......... .......... 47% 6.00M 2s\n",
            " 28100K .......... .......... .......... .......... .......... 47%  954G 2s\n",
            " 28150K .......... .......... .......... .......... .......... 47%  229M 2s\n",
            " 28200K .......... .......... .......... .......... .......... 47%  523M 2s\n",
            " 28250K .......... .......... .......... .......... .......... 47%  620M 2s\n",
            " 28300K .......... .......... .......... .......... .......... 47% 13.1M 2s\n",
            " 28350K .......... .......... .......... .......... .......... 47% 3.52M 2s\n",
            " 28400K .......... .......... .......... .......... .......... 47%  954G 2s\n",
            " 28450K .......... .......... .......... .......... .......... 48% 23.4M 2s\n",
            " 28500K .......... .......... .......... .......... .......... 48%  309M 2s\n",
            " 28550K .......... .......... .......... .......... .......... 48% 7.58M 2s\n",
            " 28600K .......... .......... .......... .......... .......... 48%  675M 2s\n",
            " 28650K .......... .......... .......... .......... .......... 48% 13.8M 2s\n",
            " 28700K .......... .......... .......... .......... .......... 48%  184M 2s\n",
            " 28750K .......... .......... .......... .......... .......... 48% 5.99M 2s\n",
            " 28800K .......... .......... .......... .......... .......... 48% 13.7M 2s\n",
            " 28850K .......... .......... .......... .......... .......... 48%  163M 2s\n",
            " 28900K .......... .......... .......... .......... .......... 48% 4.31M 2s\n",
            " 28950K .......... .......... .......... .......... .......... 48%  954G 2s\n",
            " 29000K .......... .......... .......... .......... .......... 48% 5.84M 2s\n",
            " 29050K .......... .......... .......... .......... .......... 49% 13.9M 2s\n",
            " 29100K .......... .......... .......... .......... .......... 49%  954G 2s\n",
            " 29150K .......... .......... .......... .......... .......... 49% 3.23M 2s\n",
            " 29200K .......... .......... .......... .......... .......... 49% 14.2M 2s\n",
            " 29250K .......... .......... .......... .......... .......... 49%  157M 2s\n",
            " 29300K .......... .......... .......... .......... .......... 49% 6.46M 2s\n",
            " 29350K .......... .......... .......... .......... .......... 49% 13.7M 2s\n",
            " 29400K .......... .......... .......... .......... .......... 49%  158M 2s\n",
            " 29450K .......... .......... .......... .......... .......... 49% 7.82M 2s\n",
            " 29500K .......... .......... .......... .......... .......... 49%  954G 2s\n",
            " 29550K .......... .......... .......... .......... .......... 49% 15.4M 2s\n",
            " 29600K .......... .......... .......... .......... .......... 50% 13.5M 2s\n",
            " 29650K .......... .......... .......... .......... .......... 50% 89.8M 2s\n",
            " 29700K .......... .......... .......... .......... .......... 50% 28.1M 2s\n",
            " 29750K .......... .......... .......... .......... .......... 50% 28.6M 2s\n",
            " 29800K .......... .......... .......... .......... .......... 50% 17.1M 2s\n",
            " 29850K .......... .......... .......... .......... .......... 50% 14.1M 2s\n",
            " 29900K .......... .......... .......... .......... .......... 50%  245M 2s\n",
            " 29950K .......... .......... .......... .......... .......... 50% 20.5M 2s\n",
            " 30000K .......... .......... .......... .......... .......... 50% 13.0M 2s\n",
            " 30050K .......... .......... .......... .......... .......... 50% 20.2M 2s\n",
            " 30100K .......... .......... .......... .......... .......... 50% 14.1M 2s\n",
            " 30150K .......... .......... .......... .......... .......... 50%  954G 2s\n",
            " 30200K .......... .......... .......... .......... .......... 51% 23.9M 2s\n",
            " 30250K .......... .......... .......... .......... .......... 51% 16.1M 2s\n",
            " 30300K .......... .......... .......... .......... .......... 51%  260M 2s\n",
            " 30350K .......... .......... .......... .......... .......... 51% 33.8M 2s\n",
            " 30400K .......... .......... .......... .......... .......... 51% 14.7M 2s\n",
            " 30450K .......... .......... .......... .......... .......... 51%  298M 2s\n",
            " 30500K .......... .......... .......... .......... .......... 51% 9.82M 2s\n",
            " 30550K .......... .......... .......... .......... .......... 51%  954G 2s\n",
            " 30600K .......... .......... .......... .......... .......... 51% 18.8M 2s\n",
            " 30650K .......... .......... .......... .......... .......... 51% 14.8M 2s\n",
            " 30700K .......... .......... .......... .......... .......... 51%  177M 2s\n",
            " 30750K .......... .......... .......... .......... .......... 51% 35.8M 2s\n",
            " 30800K .......... .......... .......... .......... .......... 52% 12.9M 2s\n",
            " 30850K .......... .......... .......... .......... .......... 52% 95.1M 2s\n",
            " 30900K .......... .......... .......... .......... .......... 52% 17.2M 2s\n",
            " 30950K .......... .......... .......... .......... .......... 52% 15.2M 2s\n",
            " 31000K .......... .......... .......... .......... .......... 52% 25.5M 2s\n",
            " 31050K .......... .......... .......... .......... .......... 52% 16.0M 2s\n",
            " 31100K .......... .......... .......... .......... .......... 52%  954G 2s\n",
            " 31150K .......... .......... .......... .......... .......... 52% 22.2M 2s\n",
            " 31200K .......... .......... .......... .......... .......... 52% 13.2M 2s\n",
            " 31250K .......... .......... .......... .......... .......... 52%  227M 2s\n",
            " 31300K .......... .......... .......... .......... .......... 52% 23.9M 2s\n",
            " 31350K .......... .......... .......... .......... .......... 52% 15.1M 2s\n",
            " 31400K .......... .......... .......... .......... .......... 53%  101M 2s\n",
            " 31450K .......... .......... .......... .......... .......... 53% 27.7M 2s\n",
            " 31500K .......... .......... .......... .......... .......... 53% 15.1M 2s\n",
            " 31550K .......... .......... .......... .......... .......... 53% 10.2M 2s\n",
            " 31600K .......... .......... .......... .......... .......... 53% 5.47M 2s\n",
            " 31650K .......... .......... .......... .......... .......... 53% 16.4M 2s\n",
            " 31700K .......... .......... .......... .......... .......... 53%  184M 2s\n",
            " 31750K .......... .......... .......... .......... .......... 53% 16.9M 2s\n",
            " 31800K .......... .......... .......... .......... .......... 53% 14.0M 2s\n",
            " 31850K .......... .......... .......... .......... .......... 53%  234M 2s\n",
            " 31900K .......... .......... .......... .......... .......... 53% 18.1M 2s\n",
            " 31950K .......... .......... .......... .......... .......... 53% 17.3M 2s\n",
            " 32000K .......... .......... .......... .......... .......... 54% 22.1M 2s\n",
            " 32050K .......... .......... .......... .......... .......... 54% 15.8M 2s\n",
            " 32100K .......... .......... .......... .......... .......... 54%  141M 2s\n",
            " 32150K .......... .......... .......... .......... .......... 54% 9.35M 2s\n",
            " 32200K .......... .......... .......... .......... .......... 54% 14.8M 2s\n",
            " 32250K .......... .......... .......... .......... .......... 54%  186M 2s\n",
            " 32300K .......... .......... .......... .......... .......... 54% 29.0M 2s\n",
            " 32350K .......... .......... .......... .......... .......... 54% 14.4M 2s\n",
            " 32400K .......... .......... .......... .......... .......... 54%  184M 2s\n",
            " 32450K .......... .......... .......... .......... .......... 54% 9.43M 2s\n",
            " 32500K .......... .......... .......... .......... .......... 54%  954G 2s\n",
            " 32550K .......... .......... .......... .......... .......... 54% 19.4M 2s\n",
            " 32600K .......... .......... .......... .......... .......... 55% 12.9M 2s\n",
            " 32650K .......... .......... .......... .......... .......... 55%  210M 2s\n",
            " 32700K .......... .......... .......... .......... .......... 55% 26.5M 2s\n",
            " 32750K .......... .......... .......... .......... .......... 55% 14.0M 2s\n",
            " 32800K .......... .......... .......... .......... .......... 55%  122M 2s\n",
            " 32850K .......... .......... .......... .......... .......... 55% 24.9M 2s\n",
            " 32900K .......... .......... .......... .......... .......... 55% 13.7M 2s\n",
            " 32950K .......... .......... .......... .......... .......... 55% 21.8M 2s\n",
            " 33000K .......... .......... .......... .......... .......... 55% 15.3M 2s\n",
            " 33050K .......... .......... .......... .......... .......... 55%  954G 2s\n",
            " 33100K .......... .......... .......... .......... .......... 55% 11.8M 2s\n",
            " 33150K .......... .......... .......... .......... .......... 55% 17.1M 2s\n",
            " 33200K .......... .......... .......... .......... .......... 56%  954G 2s\n",
            " 33250K .......... .......... .......... .......... .......... 56% 23.3M 2s\n",
            " 33300K .......... .......... .......... .......... .......... 56% 14.9M 2s\n",
            " 33350K .......... .......... .......... .......... .......... 56% 25.4M 2s\n",
            " 33400K .......... .......... .......... .......... .......... 56%  207M 2s\n",
            " 33450K .......... .......... .......... .......... .......... 56% 16.1M 2s\n",
            " 33500K .......... .......... .......... .......... .......... 56%  201M 2s\n",
            " 33550K .......... .......... .......... .......... .......... 56% 8.86M 2s\n",
            " 33600K .......... .......... .......... .......... .......... 56%  954G 2s\n",
            " 33650K .......... .......... .......... .......... .......... 56% 29.4M 2s\n",
            " 33700K .......... .......... .......... .......... .......... 56% 14.1M 2s\n",
            " 33750K .......... .......... .......... .......... .......... 57% 81.6M 2s\n",
            " 33800K .......... .......... .......... .......... .......... 57% 1.77M 2s\n",
            " 33850K .......... .......... .......... .......... .......... 57% 15.4M 2s\n",
            " 33900K .......... .......... .......... .......... .......... 57%  170M 2s\n",
            " 33950K .......... .......... .......... .......... .......... 57% 6.24M 2s\n",
            " 34000K .......... .......... .......... .......... .......... 57% 14.6M 2s\n",
            " 34050K .......... .......... .......... .......... .......... 57% 15.5M 2s\n",
            " 34100K .......... .......... .......... .......... .......... 57% 14.2M 2s\n",
            " 34150K .......... .......... .......... .......... .......... 57%  954G 2s\n",
            " 34200K .......... .......... .......... .......... .......... 57% 6.43M 2s\n",
            " 34250K .......... .......... .......... .......... .......... 57% 14.6M 2s\n",
            " 34300K .......... .......... .......... .......... .......... 57% 63.5M 2s\n",
            " 34350K .......... .......... .......... .......... .......... 58% 43.9M 2s\n",
            " 34400K .......... .......... .......... .......... .......... 58% 15.2M 2s\n",
            " 34450K .......... .......... .......... .......... .......... 58%  161M 2s\n",
            " 34500K .......... .......... .......... .......... .......... 58% 4.07M 2s\n",
            " 34550K .......... .......... .......... .......... .......... 58% 15.6M 2s\n",
            " 34600K .......... .......... .......... .......... .......... 58% 7.55M 2s\n",
            " 34650K .......... .......... .......... .......... .......... 58% 15.6M 2s\n",
            " 34700K .......... .......... .......... .......... .......... 58%  954G 2s\n",
            " 34750K .......... .......... .......... .......... .......... 58% 21.1M 2s\n",
            " 34800K .......... .......... .......... .......... .......... 58% 18.2M 2s\n",
            " 34850K .......... .......... .......... .......... .......... 58%  227M 2s\n",
            " 34900K .......... .......... .......... .......... .......... 58% 13.6M 2s\n",
            " 34950K .......... .......... .......... .......... .......... 59% 16.1M 2s\n",
            " 35000K .......... .......... .......... .......... .......... 59% 78.0M 2s\n",
            " 35050K .......... .......... .......... .......... .......... 59% 11.3M 2s\n",
            " 35100K .......... .......... .......... .......... .......... 59%  954G 2s\n",
            " 35150K .......... .......... .......... .......... .......... 59% 21.3M 2s\n",
            " 35200K .......... .......... .......... .......... .......... 59% 17.6M 2s\n",
            " 35250K .......... .......... .......... .......... .......... 59%  215M 2s\n",
            " 35300K .......... .......... .......... .......... .......... 59% 25.6M 2s\n",
            " 35350K .......... .......... .......... .......... .......... 59% 15.4M 2s\n",
            " 35400K .......... .......... .......... .......... .......... 59%  164M 2s\n",
            " 35450K .......... .......... .......... .......... .......... 59% 19.7M 2s\n",
            " 35500K .......... .......... .......... .......... .......... 59% 15.7M 2s\n",
            " 35550K .......... .......... .......... .......... .......... 60% 24.4M 2s\n",
            " 35600K .......... .......... .......... .......... .......... 60% 19.3M 2s\n",
            " 35650K .......... .......... .......... .......... .......... 60%  954G 2s\n",
            " 35700K .......... .......... .......... .......... .......... 60% 20.4M 2s\n",
            " 35750K .......... .......... .......... .......... .......... 60% 13.4M 2s\n",
            " 35800K .......... .......... .......... .......... .......... 60%  178M 2s\n",
            " 35850K .......... .......... .......... .......... .......... 60% 30.2M 2s\n",
            " 35900K .......... .......... .......... .......... .......... 60% 15.7M 2s\n",
            " 35950K .......... .......... .......... .......... .......... 60% 28.0M 2s\n",
            " 36000K .......... .......... .......... .......... .......... 60% 15.3M 2s\n",
            " 36050K .......... .......... .......... .......... .......... 60%  954G 2s\n",
            " 36100K .......... .......... .......... .......... .......... 60% 11.3M 2s\n",
            " 36150K .......... .......... .......... .......... .......... 61% 15.6M 2s\n",
            " 36200K .......... .......... .......... .......... .......... 61%  120M 2s\n",
            " 36250K .......... .......... .......... .......... .......... 61% 61.2M 2s\n",
            " 36300K .......... .......... .......... .......... .......... 61% 14.4M 2s\n",
            " 36350K .......... .......... .......... .......... .......... 61%  165M 2s\n",
            " 36400K .......... .......... .......... .......... .......... 61% 18.6M 2s\n",
            " 36450K .......... .......... .......... .......... .......... 61% 17.2M 2s\n",
            " 36500K .......... .......... .......... .......... .......... 61% 33.0M 2s\n",
            " 36550K .......... .......... .......... .......... .......... 61% 15.4M 2s\n",
            " 36600K .......... .......... .......... .......... .......... 61%  954G 1s\n",
            " 36650K .......... .......... .......... .......... .......... 61% 14.6M 1s\n",
            " 36700K .......... .......... .......... .......... .......... 61% 17.3M 1s\n",
            " 36750K .......... .......... .......... .......... .......... 62%  234M 1s\n",
            " 36800K .......... .......... .......... .......... .......... 62% 5.09M 1s\n",
            " 36850K .......... .......... .......... .......... .......... 62% 16.6M 1s\n",
            " 36900K .......... .......... .......... .......... .......... 62%  394M 1s\n",
            " 36950K .......... .......... .......... .......... .......... 62% 6.91M 1s\n",
            " 37000K .......... .......... .......... .......... .......... 62% 8.16M 1s\n",
            " 37050K .......... .......... .......... .......... .......... 62%  439M 1s\n",
            " 37100K .......... .......... .......... .......... .......... 62%  713M 1s\n",
            " 37150K .......... .......... .......... .......... .......... 62%  954G 1s\n",
            " 37200K .......... .......... .......... .......... .......... 62% 2.62M 1s\n",
            " 37250K .......... .......... .......... .......... .......... 62%  307M 1s\n",
            " 37300K .......... .......... .......... .......... .......... 62%  954G 1s\n",
            " 37350K .......... .......... .......... .......... .......... 63% 18.7M 1s\n",
            " 37400K .......... .......... .......... .......... .......... 63% 6.03M 1s\n",
            " 37450K .......... .......... .......... .......... .......... 63% 7.97M 1s\n",
            " 37500K .......... .......... .......... .......... .......... 63%  321M 1s\n",
            " 37550K .......... .......... .......... .......... .......... 63% 17.8M 1s\n",
            " 37600K .......... .......... .......... .......... .......... 63% 5.66M 1s\n",
            " 37650K .......... .......... .......... .......... .......... 63%  274M 1s\n",
            " 37700K .......... .......... .......... .......... .......... 63% 4.23M 1s\n",
            " 37750K .......... .......... .......... .......... .......... 63%  189M 1s\n",
            " 37800K .......... .......... .......... .......... .......... 63%  272M 1s\n",
            " 37850K .......... .......... .......... .......... .......... 63% 6.02M 1s\n",
            " 37900K .......... .......... .......... .......... .......... 64% 3.38M 1s\n",
            " 37950K .......... .......... .......... .......... .......... 64%  954G 1s\n",
            " 38000K .......... .......... .......... .......... .......... 64% 60.8M 1s\n",
            " 38050K .......... .......... .......... .......... .......... 64%  163M 1s\n",
            " 38100K .......... .......... .......... .......... .......... 64% 38.2M 1s\n",
            " 38150K .......... .......... .......... .......... .......... 64% 7.66M 1s\n",
            " 38200K .......... .......... .......... .......... .......... 64%  954G 1s\n",
            " 38250K .......... .......... .......... .......... .......... 64%  673M 1s\n",
            " 38300K .......... .......... .......... .......... .......... 64% 18.2M 1s\n",
            " 38350K .......... .......... .......... .......... .......... 64% 6.39M 1s\n",
            " 38400K .......... .......... .......... .......... .......... 64%  447M 1s\n",
            " 38450K .......... .......... .......... .......... .......... 64%  472M 1s\n",
            " 38500K .......... .......... .......... .......... .......... 65%  254M 1s\n",
            " 38550K .......... .......... .......... .......... .......... 65% 11.0M 1s\n",
            " 38600K .......... .......... .......... .......... .......... 65% 9.40M 1s\n",
            " 38650K .......... .......... .......... .......... .......... 65%  247M 1s\n",
            " 38700K .......... .......... .......... .......... .......... 65%  739M 1s\n",
            " 38750K .......... .......... .......... .......... .......... 65%  954G 1s\n",
            " 38800K .......... .......... .......... .......... .......... 65% 10.5M 1s\n",
            " 38850K .......... .......... .......... .......... .......... 65%  734M 1s\n",
            " 38900K .......... .......... .......... .......... .......... 65% 25.7M 1s\n",
            " 38950K .......... .......... .......... .......... .......... 65% 17.3M 1s\n",
            " 39000K .......... .......... .......... .......... .......... 65%  830M 1s\n",
            " 39050K .......... .......... .......... .......... .......... 65% 20.5M 1s\n",
            " 39100K .......... .......... .......... .......... .......... 66% 16.2M 1s\n",
            " 39150K .......... .......... .......... .......... .......... 66%  274M 1s\n",
            " 39200K .......... .......... .......... .......... .......... 66% 6.50M 1s\n",
            " 39250K .......... .......... .......... .......... .......... 66%  788M 1s\n",
            " 39300K .......... .......... .......... .......... .......... 66%  954G 1s\n",
            " 39350K .......... .......... .......... .......... .......... 66% 19.8M 1s\n",
            " 39400K .......... .......... .......... .......... .......... 66% 16.1M 1s\n",
            " 39450K .......... .......... .......... .......... .......... 66%  795M 1s\n",
            " 39500K .......... .......... .......... .......... .......... 66% 18.5M 1s\n",
            " 39550K .......... .......... .......... .......... .......... 66% 14.7M 1s\n",
            " 39600K .......... .......... .......... .......... .......... 66% 5.76M 1s\n",
            " 39650K .......... .......... .......... .......... .......... 66% 17.0M 1s\n",
            " 39700K .......... .......... .......... .......... .......... 67%  954G 1s\n",
            " 39750K .......... .......... .......... .......... .......... 67% 40.0M 1s\n",
            " 39800K .......... .......... .......... .......... .......... 67% 13.3M 1s\n",
            " 39850K .......... .......... .......... .......... .......... 67% 99.2M 1s\n",
            " 39900K .......... .......... .......... .......... .......... 67% 10.9M 1s\n",
            " 39950K .......... .......... .......... .......... .......... 67% 16.4M 1s\n",
            " 40000K .......... .......... .......... .......... .......... 67% 9.65M 1s\n",
            " 40050K .......... .......... .......... .......... .......... 67%  481M 1s\n",
            " 40100K .......... .......... .......... .......... .......... 67%  954G 1s\n",
            " 40150K .......... .......... .......... .......... .......... 67% 11.7M 1s\n",
            " 40200K .......... .......... .......... .......... .......... 67% 27.6M 1s\n",
            " 40250K .......... .......... .......... .......... .......... 67%  954G 1s\n",
            " 40300K .......... .......... .......... .......... .......... 68% 9.36M 1s\n",
            " 40350K .......... .......... .......... .......... .......... 68%  480M 1s\n",
            " 40400K .......... .......... .......... .......... .......... 68%  954G 1s\n",
            " 40450K .......... .......... .......... .......... .......... 68% 17.9M 1s\n",
            " 40500K .......... .......... .......... .......... .......... 68% 7.79M 1s\n",
            " 40550K .......... .......... .......... .......... .......... 68%  271M 1s\n",
            " 40600K .......... .......... .......... .......... .......... 68% 9.94M 1s\n",
            " 40650K .......... .......... .......... .......... .......... 68%  481M 1s\n",
            " 40700K .......... .......... .......... .......... .......... 68% 18.8M 1s\n",
            " 40750K .......... .......... .......... .......... .......... 68% 7.21M 1s\n",
            " 40800K .......... .......... .......... .......... .......... 68%  425M 1s\n",
            " 40850K .......... .......... .......... .......... .......... 68% 10.5M 1s\n",
            " 40900K .......... .......... .......... .......... .......... 69%  184M 1s\n",
            " 40950K .......... .......... .......... .......... .......... 69% 16.2M 1s\n",
            " 41000K .......... .......... .......... .......... .......... 69%  393M 1s\n",
            " 41050K .......... .......... .......... .......... .......... 69% 18.8M 1s\n",
            " 41100K .......... .......... .......... .......... .......... 69% 23.3M 1s\n",
            " 41150K .......... .......... .......... .......... .......... 69%  366M 1s\n",
            " 41200K .......... .......... .......... .......... .......... 69% 3.89M 1s\n",
            " 41250K .......... .......... .......... .......... .......... 69%  161M 1s\n",
            " 41300K .......... .......... .......... .......... .......... 69%  954G 1s\n",
            " 41350K .......... .......... .......... .......... .......... 69%  263M 1s\n",
            " 41400K .......... .......... .......... .......... .......... 69% 12.9M 1s\n",
            " 41450K .......... .......... .......... .......... .......... 69% 7.74M 1s\n",
            " 41500K .......... .......... .......... .......... .......... 70% 12.9M 1s\n",
            " 41550K .......... .......... .......... .......... .......... 70%  954G 1s\n",
            " 41600K .......... .......... .......... .......... .......... 70%  200M 1s\n",
            " 41650K .......... .......... .......... .......... .......... 70% 11.5M 1s\n",
            " 41700K .......... .......... .......... .......... .......... 70% 7.86M 1s\n",
            " 41750K .......... .......... .......... .......... .......... 70%  139M 1s\n",
            " 41800K .......... .......... .......... .......... .......... 70%  218M 1s\n",
            " 41850K .......... .......... .......... .......... .......... 70%  149M 1s\n",
            " 41900K .......... .......... .......... .......... .......... 70% 31.0M 1s\n",
            " 41950K .......... .......... .......... .......... .......... 70% 26.5M 1s\n",
            " 42000K .......... .......... .......... .......... .......... 70%  121M 1s\n",
            " 42050K .......... .......... .......... .......... .......... 71% 8.90M 1s\n",
            " 42100K .......... .......... .......... .......... .......... 71% 76.4M 1s\n",
            " 42150K .......... .......... .......... .......... .......... 71% 25.2M 1s\n",
            " 42200K .......... .......... .......... .......... .......... 71% 21.0M 1s\n",
            " 42250K .......... .......... .......... .......... .......... 71%  136M 1s\n",
            " 42300K .......... .......... .......... .......... .......... 71% 5.93M 1s\n",
            " 42350K .......... .......... .......... .......... .......... 71%  954G 1s\n",
            " 42400K .......... .......... .......... .......... .......... 71%  109M 1s\n",
            " 42450K .......... .......... .......... .......... .......... 71%  208M 1s\n",
            " 42500K .......... .......... .......... .......... .......... 71%  218M 1s\n",
            " 42550K .......... .......... .......... .......... .......... 71% 16.1M 1s\n",
            " 42600K .......... .......... .......... .......... .......... 71%  184M 1s\n",
            " 42650K .......... .......... .......... .......... .......... 72% 25.1M 1s\n",
            " 42700K .......... .......... .......... .......... .......... 72% 14.9M 1s\n",
            " 42750K .......... .......... .......... .......... .......... 72%  146M 1s\n",
            " 42800K .......... .......... .......... .......... .......... 72% 39.6M 1s\n",
            " 42850K .......... .......... .......... .......... .......... 72% 7.85M 1s\n",
            " 42900K .......... .......... .......... .......... .......... 72%  142M 1s\n",
            " 42950K .......... .......... .......... .......... .......... 72% 22.2M 1s\n",
            " 43000K .......... .......... .......... .......... .......... 72% 26.9M 1s\n",
            " 43050K .......... .......... .......... .......... .......... 72%  139M 1s\n",
            " 43100K .......... .......... .......... .......... .......... 72% 17.7M 1s\n",
            " 43150K .......... .......... .......... .......... .......... 72%  108M 1s\n",
            " 43200K .......... .......... .......... .......... .......... 72% 12.3M 1s\n",
            " 43250K .......... .......... .......... .......... .......... 73%  886K 1s\n",
            " 43300K .......... .......... .......... .......... .......... 73%  954G 1s\n",
            " 43350K .......... .......... .......... .......... .......... 73% 18.9M 1s\n",
            " 43400K .......... .......... .......... .......... .......... 73% 14.3M 1s\n",
            " 43450K .......... .......... .......... .......... .......... 73%  137M 1s\n",
            " 43500K .......... .......... .......... .......... .......... 73% 23.0M 1s\n",
            " 43550K .......... .......... .......... .......... .......... 73% 18.8M 1s\n",
            " 43600K .......... .......... .......... .......... .......... 73% 20.8M 1s\n",
            " 43650K .......... .......... .......... .......... .......... 73%  160M 1s\n",
            " 43700K .......... .......... .......... .......... .......... 73% 16.2M 1s\n",
            " 43750K .......... .......... .......... .......... .......... 73% 7.72M 1s\n",
            " 43800K .......... .......... .......... .......... .......... 73% 16.1M 1s\n",
            " 43850K .......... .......... .......... .......... .......... 74%  954G 1s\n",
            " 43900K .......... .......... .......... .......... .......... 74% 9.74M 1s\n",
            " 43950K .......... .......... .......... .......... .......... 74%  149M 1s\n",
            " 44000K .......... .......... .......... .......... .......... 74%  954G 1s\n",
            " 44050K .......... .......... .......... .......... .......... 74% 36.9M 1s\n",
            " 44100K .......... .......... .......... .......... .......... 74% 15.3M 1s\n",
            " 44150K .......... .......... .......... .......... .......... 74%  164M 1s\n",
            " 44200K .......... .......... .......... .......... .......... 74% 10.9M 1s\n",
            " 44250K .......... .......... .......... .......... .......... 74%  954G 1s\n",
            " 44300K .......... .......... .......... .......... .......... 74% 32.7M 1s\n",
            " 44350K .......... .......... .......... .......... .......... 74% 16.1M 1s\n",
            " 44400K .......... .......... .......... .......... .......... 74%  160M 1s\n",
            " 44450K .......... .......... .......... .......... .......... 75% 33.1M 1s\n",
            " 44500K .......... .......... .......... .......... .......... 75% 13.9M 1s\n",
            " 44550K .......... .......... .......... .......... .......... 75%  129M 1s\n",
            " 44600K .......... .......... .......... .......... .......... 75% 7.58M 1s\n",
            " 44650K .......... .......... .......... .......... .......... 75%  954G 1s\n",
            " 44700K .......... .......... .......... .......... .......... 75% 24.0M 1s\n",
            " 44750K .......... .......... .......... .......... .......... 75% 10.2M 1s\n",
            " 44800K .......... .......... .......... .......... .......... 75%  954G 1s\n",
            " 44850K .......... .......... .......... .......... .......... 75%  140M 1s\n",
            " 44900K .......... .......... .......... .......... .......... 75% 18.3M 1s\n",
            " 44950K .......... .......... .......... .......... .......... 75%  143M 1s\n",
            " 45000K .......... .......... .......... .......... .......... 75% 49.7M 1s\n",
            " 45050K .......... .......... .......... .......... .......... 76% 13.6M 1s\n",
            " 45100K .......... .......... .......... .......... .......... 76% 18.4M 1s\n",
            " 45150K .......... .......... .......... .......... .......... 76% 16.2M 1s\n",
            " 45200K .......... .......... .......... .......... .......... 76%  954G 1s\n",
            " 45250K .......... .......... .......... .......... .......... 76% 9.83M 1s\n",
            " 45300K .......... .......... .......... .......... .......... 76%  954G 1s\n",
            " 45350K .......... .......... .......... .......... .......... 76% 13.7M 1s\n",
            " 45400K .......... .......... .......... .......... .......... 76%  954G 1s\n",
            " 45450K .......... .......... .......... .......... .......... 76% 10.2M 1s\n",
            " 45500K .......... .......... .......... .......... .......... 76%  131M 1s\n",
            " 45550K .......... .......... .......... .......... .......... 76% 24.7M 1s\n",
            " 45600K .......... .......... .......... .......... .......... 76% 27.1M 1s\n",
            " 45650K .......... .......... .......... .......... .......... 77% 84.0M 1s\n",
            " 45700K .......... .......... .......... .......... .......... 77% 10.9M 1s\n",
            " 45750K .......... .......... .......... .......... .......... 77%  954G 1s\n",
            " 45800K .......... .......... .......... .......... .......... 77%  128M 1s\n",
            " 45850K .......... .......... .......... .......... .......... 77% 9.98M 1s\n",
            " 45900K .......... .......... .......... .......... .......... 77%  132M 1s\n",
            " 45950K .......... .......... .......... .......... .......... 77% 17.1M 1s\n",
            " 46000K .......... .......... .......... .......... .......... 77%  954G 1s\n",
            " 46050K .......... .......... .......... .......... .......... 77% 24.0M 1s\n",
            " 46100K .......... .......... .......... .......... .......... 77% 10.4M 1s\n",
            " 46150K .......... .......... .......... .......... .......... 77%  464M 1s\n",
            " 46200K .......... .......... .......... .......... .......... 78% 9.93M 1s\n",
            " 46250K .......... .......... .......... .......... .......... 78%  954G 1s\n",
            " 46300K .......... .......... .......... .......... .......... 78%  196M 1s\n",
            " 46350K .......... .......... .......... .......... .......... 78% 3.67M 1s\n",
            " 46400K .......... .......... .......... .......... .......... 78%  703M 1s\n",
            " 46450K .......... .......... .......... .......... .......... 78%  954G 1s\n",
            " 46500K .......... .......... .......... .......... .......... 78% 1003M 1s\n",
            " 46550K .......... .......... .......... .......... .......... 78% 1.08G 1s\n",
            " 46600K .......... .......... .......... .......... .......... 78% 10.8M 1s\n",
            " 46650K .......... .......... .......... .......... .......... 78%  791M 1s\n",
            " 46700K .......... .......... .......... .......... .......... 78% 9.42M 1s\n",
            " 46750K .......... .......... .......... .......... .......... 78%  954G 1s\n",
            " 46800K .......... .......... .......... .......... .......... 79% 15.7M 1s\n",
            " 46850K .......... .......... .......... .......... .......... 79% 61.6M 1s\n",
            " 46900K .......... .......... .......... .......... .......... 79% 7.39M 1s\n",
            " 46950K .......... .......... .......... .......... .......... 79%  954G 1s\n",
            " 47000K .......... .......... .......... .......... .......... 79% 34.9M 1s\n",
            " 47050K .......... .......... .......... .......... .......... 79%  932K 1s\n",
            " 47100K .......... .......... .......... .......... .......... 79%  112M 1s\n",
            " 47150K .......... .......... .......... .......... .......... 79%  954G 1s\n",
            " 47200K .......... .......... .......... .......... .......... 79% 3.32M 1s\n",
            " 47250K .......... .......... .......... .......... .......... 79%  954G 1s\n",
            " 47300K .......... .......... .......... .......... .......... 79% 20.0M 1s\n",
            " 47350K .......... .......... .......... .......... .......... 79%  954G 1s\n",
            " 47400K .......... .......... .......... .......... .......... 80% 4.66M 1s\n",
            " 47450K .......... .......... .......... .......... .......... 80% 14.9M 1s\n",
            " 47500K .......... .......... .......... .......... .......... 80%  954G 1s\n",
            " 47550K .......... .......... .......... .......... .......... 80% 19.9M 1s\n",
            " 47600K .......... .......... .......... .......... .......... 80% 14.4M 1s\n",
            " 47650K .......... .......... .......... .......... .......... 80% 98.4M 1s\n",
            " 47700K .......... .......... .......... .......... .......... 80% 21.7M 1s\n",
            " 47750K .......... .......... .......... .......... .......... 80% 14.8M 1s\n",
            " 47800K .......... .......... .......... .......... .......... 80% 14.8M 1s\n",
            " 47850K .......... .......... .......... .......... .......... 80% 15.5M 1s\n",
            " 47900K .......... .......... .......... .......... .......... 80%  954G 1s\n",
            " 47950K .......... .......... .......... .......... .......... 80% 8.98M 1s\n",
            " 48000K .......... .......... .......... .......... .......... 81% 60.1M 1s\n",
            " 48050K .......... .......... .......... .......... .......... 81%  158M 1s\n",
            " 48100K .......... .......... .......... .......... .......... 81%  954G 1s\n",
            " 48150K .......... .......... .......... .......... .......... 81% 13.5M 1s\n",
            " 48200K .......... .......... .......... .......... .......... 81%  140M 1s\n",
            " 48250K .......... .......... .......... .......... .......... 81% 50.2M 1s\n",
            " 48300K .......... .......... .......... .......... .......... 81% 13.1M 1s\n",
            " 48350K .......... .......... .......... .......... .......... 81% 11.4M 1s\n",
            " 48400K .......... .......... .......... .......... .......... 81% 13.9M 1s\n",
            " 48450K .......... .......... .......... .......... .......... 81%  954G 1s\n",
            " 48500K .......... .......... .......... .......... .......... 81% 39.9M 1s\n",
            " 48550K .......... .......... .......... .......... .......... 81% 13.4M 1s\n",
            " 48600K .......... .......... .......... .......... .......... 82% 73.3M 1s\n",
            " 48650K .......... .......... .......... .......... .......... 82% 69.9M 1s\n",
            " 48700K .......... .......... .......... .......... .......... 82% 12.8M 1s\n",
            " 48750K .......... .......... .......... .......... .......... 82%  143M 1s\n",
            " 48800K .......... .......... .......... .......... .......... 82% 10.7M 1s\n",
            " 48850K .......... .......... .......... .......... .......... 82%  149M 1s\n",
            " 48900K .......... .......... .......... .......... .......... 82% 22.3M 1s\n",
            " 48950K .......... .......... .......... .......... .......... 82% 15.5M 1s\n",
            " 49000K .......... .......... .......... .......... .......... 82% 96.2M 1s\n",
            " 49050K .......... .......... .......... .......... .......... 82% 23.2M 1s\n",
            " 49100K .......... .......... .......... .......... .......... 82% 15.4M 1s\n",
            " 49150K .......... .......... .......... .......... .......... 82% 80.6M 1s\n",
            " 49200K .......... .......... .......... .......... .......... 83% 11.8M 1s\n",
            " 49250K .......... .......... .......... .......... .......... 83%  954G 1s\n",
            " 49300K .......... .......... .......... .......... .......... 83% 14.9M 1s\n",
            " 49350K .......... .......... .......... .......... .......... 83% 16.5M 1s\n",
            " 49400K .......... .......... .......... .......... .......... 83%  954G 1s\n",
            " 49450K .......... .......... .......... .......... .......... 83% 7.79M 1s\n",
            " 49500K .......... .......... .......... .......... .......... 83% 8.22M 1s\n",
            " 49550K .......... .......... .......... .......... .......... 83%  135M 1s\n",
            " 49600K .......... .......... .......... .......... .......... 83% 19.9M 1s\n",
            " 49650K .......... .......... .......... .......... .......... 83% 13.6M 1s\n",
            " 49700K .......... .......... .......... .......... .......... 83%  134M 1s\n",
            " 49750K .......... .......... .......... .......... .......... 83% 19.1M 1s\n",
            " 49800K .......... .......... .......... .......... .......... 84% 75.4M 1s\n",
            " 49850K .......... .......... .......... .......... .......... 84%  105M 1s\n",
            " 49900K .......... .......... .......... .......... .......... 84% 2.94M 1s\n",
            " 49950K .......... .......... .......... .......... .......... 84%  108M 1s\n",
            " 50000K .......... .......... .......... .......... .......... 84%  954G 1s\n",
            " 50050K .......... .......... .......... .......... .......... 84% 21.3M 1s\n",
            " 50100K .......... .......... .......... .......... .......... 84% 28.8M 1s\n",
            " 50150K .......... .......... .......... .......... .......... 84% 13.9M 1s\n",
            " 50200K .......... .......... .......... .......... .......... 84%  954G 1s\n",
            " 50250K .......... .......... .......... .......... .......... 84% 2.00M 1s\n",
            " 50300K .......... .......... .......... .......... .......... 84% 17.6M 1s\n",
            " 50350K .......... .......... .......... .......... .......... 85% 98.5M 1s\n",
            " 50400K .......... .......... .......... .......... .......... 85% 5.79M 1s\n",
            " 50450K .......... .......... .......... .......... .......... 85% 15.3M 1s\n",
            " 50500K .......... .......... .......... .......... .......... 85%  141M 1s\n",
            " 50550K .......... .......... .......... .......... .......... 85% 4.30M 1s\n",
            " 50600K .......... .......... .......... .......... .......... 85%  954G 1s\n",
            " 50650K .......... .......... .......... .......... .......... 85% 5.46M 1s\n",
            " 50700K .......... .......... .......... .......... .......... 85% 14.7M 1s\n",
            " 50750K .......... .......... .......... .......... .......... 85%  150M 1s\n",
            " 50800K .......... .......... .......... .......... .......... 85% 7.07M 1s\n",
            " 50850K .......... .......... .......... .......... .......... 85% 15.6M 1s\n",
            " 50900K .......... .......... .......... .......... .......... 85%  130M 1s\n",
            " 50950K .......... .......... .......... .......... .......... 86% 6.54M 1s\n",
            " 51000K .......... .......... .......... .......... .......... 86% 15.5M 1s\n",
            " 51050K .......... .......... .......... .......... .......... 86%  954G 1s\n",
            " 51100K .......... .......... .......... .......... .......... 86% 22.8M 1s\n",
            " 51150K .......... .......... .......... .......... .......... 86% 15.0M 1s\n",
            " 51200K .......... .......... .......... .......... .......... 86% 21.2M 1s\n",
            " 51250K .......... .......... .......... .......... .......... 86%  954G 1s\n",
            " 51300K .......... .......... .......... .......... .......... 86% 7.91M 1s\n",
            " 51350K .......... .......... .......... .......... .......... 86%  954G 1s\n",
            " 51400K .......... .......... .......... .......... .......... 86% 16.6M 1s\n",
            " 51450K .......... .......... .......... .......... .......... 86%  954G 0s\n",
            " 51500K .......... .......... .......... .......... .......... 86% 47.2M 0s\n",
            " 51550K .......... .......... .......... .......... .......... 87% 8.88M 0s\n",
            " 51600K .......... .......... .......... .......... .......... 87%  954G 0s\n",
            " 51650K .......... .......... .......... .......... .......... 87% 62.7M 0s\n",
            " 51700K .......... .......... .......... .......... .......... 87% 28.7M 0s\n",
            " 51750K .......... .......... .......... .......... .......... 87% 21.9M 0s\n",
            " 51800K .......... .......... .......... .......... .......... 87% 22.4M 0s\n",
            " 51850K .......... .......... .......... .......... .......... 87%  954G 0s\n",
            " 51900K .......... .......... .......... .......... .......... 87% 12.6M 0s\n",
            " 51950K .......... .......... .......... .......... .......... 87% 16.2M 0s\n",
            " 52000K .......... .......... .......... .......... .......... 87% 27.0M 0s\n",
            " 52050K .......... .......... .......... .......... .......... 87% 16.9M 0s\n",
            " 52100K .......... .......... .......... .......... .......... 87%  137M 0s\n",
            " 52150K .......... .......... .......... .......... .......... 88% 25.2M 0s\n",
            " 52200K .......... .......... .......... .......... .......... 88% 13.8M 0s\n",
            " 52250K .......... .......... .......... .......... .......... 88% 95.2M 0s\n",
            " 52300K .......... .......... .......... .......... .......... 88% 11.5M 0s\n",
            " 52350K .......... .......... .......... .......... .......... 88%  124M 0s\n",
            " 52400K .......... .......... .......... .......... .......... 88% 16.3M 0s\n",
            " 52450K .......... .......... .......... .......... .......... 88% 19.3M 0s\n",
            " 52500K .......... .......... .......... .......... .......... 88% 8.10M 0s\n",
            " 52550K .......... .......... .......... .......... .......... 88%  130M 0s\n",
            " 52600K .......... .......... .......... .......... .......... 88% 4.27M 0s\n",
            " 52650K .......... .......... .......... .......... .......... 88%  954G 0s\n",
            " 52700K .......... .......... .......... .......... .......... 88% 7.22M 0s\n",
            " 52750K .......... .......... .......... .......... .......... 89%  954G 0s\n",
            " 52800K .......... .......... .......... .......... .......... 89% 5.73M 0s\n",
            " 52850K .......... .......... .......... .......... .......... 89%  954G 0s\n",
            " 52900K .......... .......... .......... .......... .......... 89%  114M 0s\n",
            " 52950K .......... .......... .......... .......... .......... 89%  107M 0s\n",
            " 53000K .......... .......... .......... .......... .......... 89% 10.0M 0s\n",
            " 53050K .......... .......... .......... .......... .......... 89% 83.1M 0s\n",
            " 53100K .......... .......... .......... .......... .......... 89%  183M 0s\n",
            " 53150K .......... .......... .......... .......... .......... 89%  954G 0s\n",
            " 53200K .......... .......... .......... .......... .......... 89% 4.97M 0s\n",
            " 53250K .......... .......... .......... .......... .......... 89% 5.51M 0s\n",
            " 53300K .......... .......... .......... .......... .......... 89%  143M 0s\n",
            " 53350K .......... .......... .......... .......... .......... 90% 4.07M 0s\n",
            " 53400K .......... .......... .......... .......... .......... 90%  954G 0s\n",
            " 53450K .......... .......... .......... .......... .......... 90%  134M 0s\n",
            " 53500K .......... .......... .......... .......... .......... 90% 4.19M 0s\n",
            " 53550K .......... .......... .......... .......... .......... 90%  150M 0s\n",
            " 53600K .......... .......... .......... .......... .......... 90% 2.90M 0s\n",
            " 53650K .......... .......... .......... .......... .......... 90% 23.0M 0s\n",
            " 53700K .......... .......... .......... .......... .......... 90% 13.4M 0s\n",
            " 53750K .......... .......... .......... .......... .......... 90%  125M 0s\n",
            " 53800K .......... .......... .......... .......... .......... 90% 2.39M 0s\n",
            " 53850K .......... .......... .......... .......... .......... 90%  108M 0s\n",
            " 53900K .......... .......... .......... .......... .......... 90%  172M 0s\n",
            " 53950K .......... .......... .......... .......... .......... 91%  954G 0s\n",
            " 54000K .......... .......... .......... .......... .......... 91% 11.5M 0s\n",
            " 54050K .......... .......... .......... .......... .......... 91%  143M 0s\n",
            " 54100K .......... .......... .......... .......... .......... 91%  954G 0s\n",
            " 54150K .......... .......... .......... .......... .......... 91% 20.6M 0s\n",
            " 54200K .......... .......... .......... .......... .......... 91% 19.5M 0s\n",
            " 54250K .......... .......... .......... .......... .......... 91% 16.5M 0s\n",
            " 54300K .......... .......... .......... .......... .......... 91% 16.6M 0s\n",
            " 54350K .......... .......... .......... .......... .......... 91%  211M 0s\n",
            " 54400K .......... .......... .......... .......... .......... 91% 8.34M 0s\n",
            " 54450K .......... .......... .......... .......... .......... 91%  158M 0s\n",
            " 54500K .......... .......... .......... .......... .......... 92% 23.0M 0s\n",
            " 54550K .......... .......... .......... .......... .......... 92% 8.94M 0s\n",
            " 54600K .......... .......... .......... .......... .......... 92%  139M 0s\n",
            " 54650K .......... .......... .......... .......... .......... 92% 15.3M 0s\n",
            " 54700K .......... .......... .......... .......... .......... 92% 18.0M 0s\n",
            " 54750K .......... .......... .......... .......... .......... 92% 17.4M 0s\n",
            " 54800K .......... .......... .......... .......... .......... 92%  173M 0s\n",
            " 54850K .......... .......... .......... .......... .......... 92% 8.87M 0s\n",
            " 54900K .......... .......... .......... .......... .......... 92% 5.57M 0s\n",
            " 54950K .......... .......... .......... .......... .......... 92%  176M 0s\n",
            " 55000K .......... .......... .......... .......... .......... 92%  312M 0s\n",
            " 55050K .......... .......... .......... .......... .......... 92%  954G 0s\n",
            " 55100K .......... .......... .......... .......... .......... 93% 27.0M 0s\n",
            " 55150K .......... .......... .......... .......... .......... 93% 6.83M 0s\n",
            " 55200K .......... .......... .......... .......... .......... 93%  224M 0s\n",
            " 55250K .......... .......... .......... .......... .......... 93%  352M 0s\n",
            " 55300K .......... .......... .......... .......... .......... 93% 20.5M 0s\n",
            " 55350K .......... .......... .......... .......... .......... 93% 5.00M 0s\n",
            " 55400K .......... .......... .......... .......... .......... 93%  210M 0s\n",
            " 55450K .......... .......... .......... .......... .......... 93% 6.37M 0s\n",
            " 55500K .......... .......... .......... .......... .......... 93%  954G 0s\n",
            " 55550K .......... .......... .......... .......... .......... 93%  180M 0s\n",
            " 55600K .......... .......... .......... .......... .......... 93% 10.1M 0s\n",
            " 55650K .......... .......... .......... .......... .......... 93%  954G 0s\n",
            " 55700K .......... .......... .......... .......... .......... 94%  168M 0s\n",
            " 55750K .......... .......... .......... .......... .......... 94% 6.79M 0s\n",
            " 55800K .......... .......... .......... .......... .......... 94%  143M 0s\n",
            " 55850K .......... .......... .......... .......... .......... 94%  954G 0s\n",
            " 55900K .......... .......... .......... .......... .......... 94% 49.1M 0s\n",
            " 55950K .......... .......... .......... .......... .......... 94% 13.8M 0s\n",
            " 56000K .......... .......... .......... .......... .......... 94%  167M 0s\n",
            " 56050K .......... .......... .......... .......... .......... 94% 1.40M 0s\n",
            " 56100K .......... .......... .......... .......... .......... 94%  954G 0s\n",
            " 56150K .......... .......... .......... .......... .......... 94%  135M 0s\n",
            " 56200K .......... .......... .......... .......... .......... 94% 22.7M 0s\n",
            " 56250K .......... .......... .......... .......... .......... 94% 3.96M 0s\n",
            " 56300K .......... .......... .......... .......... .......... 95% 11.5M 0s\n",
            " 56350K .......... .......... .......... .......... .......... 95%  954G 0s\n",
            " 56400K .......... .......... .......... .......... .......... 95%  104M 0s\n",
            " 56450K .......... .......... .......... .......... .......... 95% 2.04M 0s\n",
            " 56500K .......... .......... .......... .......... .......... 95%  954G 0s\n",
            " 56550K .......... .......... .......... .......... .......... 95%  116M 0s\n",
            " 56600K .......... .......... .......... .......... .......... 95%  186M 0s\n",
            " 56650K .......... .......... .......... .......... .......... 95% 21.5M 0s\n",
            " 56700K .......... .......... .......... .......... .......... 95%  149M 0s\n",
            " 56750K .......... .......... .......... .......... .......... 95% 6.11M 0s\n",
            " 56800K .......... .......... .......... .......... .......... 95% 14.3M 0s\n",
            " 56850K .......... .......... .......... .......... .......... 95%  163M 0s\n",
            " 56900K .......... .......... .......... .......... .......... 96% 17.0M 0s\n",
            " 56950K .......... .......... .......... .......... .......... 96% 14.6M 0s\n",
            " 57000K .......... .......... .......... .......... .......... 96% 32.1M 0s\n",
            " 57050K .......... .......... .......... .......... .......... 96% 13.0M 0s\n",
            " 57100K .......... .......... .......... .......... .......... 96%  954G 0s\n",
            " 57150K .......... .......... .......... .......... .......... 96% 23.3M 0s\n",
            " 57200K .......... .......... .......... .......... .......... 96% 12.2M 0s\n",
            " 57250K .......... .......... .......... .......... .......... 96%  110M 0s\n",
            " 57300K .......... .......... .......... .......... .......... 96% 35.2M 0s\n",
            " 57350K .......... .......... .......... .......... .......... 96% 14.3M 0s\n",
            " 57400K .......... .......... .......... .......... .......... 96%  167M 0s\n",
            " 57450K .......... .......... .......... .......... .......... 96% 31.6M 0s\n",
            " 57500K .......... .......... .......... .......... .......... 97% 14.1M 0s\n",
            " 57550K .......... .......... .......... .......... .......... 97% 6.50M 0s\n",
            " 57600K .......... .......... .......... .......... .......... 97% 14.0M 0s\n",
            " 57650K .......... .......... .......... .......... .......... 97%  954G 0s\n",
            " 57700K .......... .......... .......... .......... .......... 97% 26.5M 0s\n",
            " 57750K .......... .......... .......... .......... .......... 97% 13.2M 0s\n",
            " 57800K .......... .......... .......... .......... .......... 97%  133M 0s\n",
            " 57850K .......... .......... .......... .......... .......... 97% 5.26M 0s\n",
            " 57900K .......... .......... .......... .......... .......... 97% 8.08M 0s\n",
            " 57950K .......... .......... .......... .......... .......... 97%  110M 0s\n",
            " 58000K .......... .......... .......... .......... .......... 97%  954G 0s\n",
            " 58050K .......... .......... .......... .......... .......... 97% 15.0M 0s\n",
            " 58100K .......... .......... .......... .......... .......... 98% 13.0M 0s\n",
            " 58150K .......... .......... .......... .......... .......... 98% 12.7M 0s\n",
            " 58200K .......... .......... .......... .......... .......... 98% 14.5M 0s\n",
            " 58250K .......... .......... .......... .......... .......... 98%  954G 0s\n",
            " 58300K .......... .......... .......... .......... .......... 98% 13.1M 0s\n",
            " 58350K .......... .......... .......... .......... .......... 98% 13.8M 0s\n",
            " 58400K .......... .......... .......... .......... .......... 98%  109M 0s\n",
            " 58450K .......... .......... .......... .......... .......... 98% 24.3M 0s\n",
            " 58500K .......... .......... .......... .......... .......... 98% 14.5M 0s\n",
            " 58550K .......... .......... .......... .......... .......... 98%  168M 0s\n",
            " 58600K .......... .......... .......... .......... .......... 98% 4.60M 0s\n",
            " 58650K .......... .......... .......... .......... .......... 99%  954G 0s\n",
            " 58700K .......... .......... .......... .......... .......... 99% 15.9M 0s\n",
            " 58750K .......... .......... .......... .......... .......... 99% 14.0M 0s\n",
            " 58800K .......... .......... .......... .......... .......... 99%  125M 0s\n",
            " 58850K .......... .......... .......... .......... .......... 99% 24.8M 0s\n",
            " 58900K .......... .......... .......... .......... .......... 99% 13.3M 0s\n",
            " 58950K .......... .......... .......... .......... .......... 99%  114M 0s\n",
            " 59000K .......... .......... .......... .......... .......... 99% 9.62M 0s\n",
            " 59050K .......... .......... .......... .......... .......... 99% 20.7M 0s\n",
            " 59100K .......... .......... .......... .......... .......... 99% 14.7M 0s\n",
            " 59150K .......... .......... .......... .......... .......... 99% 11.1M 0s\n",
            " 59200K .......... .......... .......... .......... .......... 99% 33.1M 0s\n",
            " 59250K .......... .......... .......... ........             100%  739G=3.8s\n",
            "\n",
            "2024-08-16 10:27:06 (15.3 MB/s) - '0tIo' saved [60711700/60711700]\n",
            "\n"
          ]
        }
      ],
      "source": [
        "!wget --no-check-certificate http://mng.bz/0tIo"
      ]
    },
    {
      "cell_type": "code",
      "execution_count": 114,
      "metadata": {
        "id": "DbcQb_afcGUk"
      },
      "outputs": [
        {
          "name": "stderr",
          "output_type": "stream",
          "text": [
            "���� ������ �ùٸ��� �ʽ��ϴ�.\n",
            "'unzip'��(��) ���� �Ǵ� �ܺ� ����, ������ �� �ִ� ���α׷�, �Ǵ�\n",
            "��ġ ������ �ƴմϴ�.\n"
          ]
        }
      ],
      "source": [
        "!mkdir '/content/dataset'\n",
        "!unzip '/content/0tIo' -d '/content/dataset'"
      ]
    },
    {
      "cell_type": "code",
      "execution_count": null,
      "metadata": {
        "id": "ACKGbg0Aca77"
      },
      "outputs": [],
      "source": [
        "import os\n",
        "\n",
        "imdb_dir = '/dataset/aclImdb'\n",
        "train_dir = os.path.join(imdb_dir, 'train')\n",
        "\n",
        "labels=[]\n",
        "texts=[]\n",
        "\n",
        "for label_type in ['neg', 'pos']:\n",
        "    dir_name = os.path.join(train_dir, label_type)\n",
        "\n",
        "    for fname in os.listdir(dir_name):\n",
        "        if fname[-4:] == '.txt':\n",
        "            f = open(os.path.join(dir_name, fname), encoding='utf8')\n",
        "            texts.append(f.read())\n",
        "            f.close()\n",
        "\n",
        "        if label_type == 'neg':\n",
        "            labels.append(0)\n",
        "        else:\n",
        "            labels.append(1)"
      ]
    },
    {
      "cell_type": "code",
      "execution_count": null,
      "metadata": {
        "id": "3nXJ3aD7kTaT"
      },
      "outputs": [],
      "source": [
        "texts[0]"
      ]
    },
    {
      "cell_type": "code",
      "execution_count": null,
      "metadata": {
        "id": "6N-bq0Xuca52"
      },
      "outputs": [],
      "source": [
        "labels[0]"
      ]
    },
    {
      "cell_type": "markdown",
      "metadata": {
        "id": "2_tzFe1ZcmTS"
      },
      "source": [
        "### 데이터 토큰화"
      ]
    },
    {
      "cell_type": "code",
      "execution_count": null,
      "metadata": {
        "id": "1f0W0ZrXcaww"
      },
      "outputs": [],
      "source": [
        "from tensorflow.keras.preprocessing.text import Tokenizer\n",
        "from tensorflow.keras.preprocessing.sequence import pad_sequences"
      ]
    },
    {
      "cell_type": "code",
      "execution_count": null,
      "metadata": {
        "id": "equ03Kp1coOs"
      },
      "outputs": [],
      "source": [
        "max_len = 100\n",
        "training_samples = 200\n",
        "validation_samples = 10000\n",
        "max_words = 10000\n",
        "\n",
        "tokenizer = Tokenizer(num_words=max_words)\n",
        "tokenizer.fit_on_texts(texts)\n",
        "sequences = tokenizer.texts_to_sequences(texts)\n",
        "\n",
        "word_index = tokenizer.word_index\n",
        "print(len(word_index))"
      ]
    },
    {
      "cell_type": "code",
      "execution_count": null,
      "metadata": {
        "id": "KtmsLkELcoMR"
      },
      "outputs": [],
      "source": [
        "data = pad_sequences(sequences, maxlen=max_len)\n",
        "labels = np.asarray(labels)\n",
        "\n",
        "print(data.shape)\n",
        "print(labels.shape)"
      ]
    },
    {
      "cell_type": "code",
      "execution_count": null,
      "metadata": {
        "id": "UgXNbVYzcoJy"
      },
      "outputs": [],
      "source": [
        "indices = np.arange(data.shape[0])\n",
        "np.random.shuffle(indices)\n",
        "data = data[indices]\n",
        "labels = labels[indices]"
      ]
    },
    {
      "cell_type": "code",
      "execution_count": null,
      "metadata": {
        "id": "SyLStC6bc5tp"
      },
      "outputs": [],
      "source": [
        "x_train = data[:training_samples]\n",
        "y_train = labels[:training_samples]\n",
        "x_val = data[training_samples: training_samples + validation_samples]\n",
        "y_val = labels[training_samples: training_samples + validation_samples]"
      ]
    },
    {
      "cell_type": "code",
      "execution_count": null,
      "metadata": {
        "id": "0jDTfOyLc5qn"
      },
      "outputs": [],
      "source": [
        "print(x_train.shape)\n",
        "print(y_train.shape)\n",
        "print(x_val.shape)\n",
        "print(y_val.shape)"
      ]
    },
    {
      "cell_type": "markdown",
      "metadata": {
        "id": "8aqYOxwrY3k3"
      },
      "source": [
        "### GloVe 단어 임베딩 내려받기\n",
        "\n",
        "- https://nlp.stanford.edu/projects/glove\n",
        "\n",
        "- http://nlp.stanford.edu/data/glove.6B.zip\n",
        "\n",
        "- 시간 소요 (5~7m)"
      ]
    },
    {
      "cell_type": "code",
      "execution_count": null,
      "metadata": {
        "id": "F3ArVw4MYl4l"
      },
      "outputs": [],
      "source": [
        "!wget --no-check-certificate http://nlp.stanford.edu/data/glove.6B.zip"
      ]
    },
    {
      "cell_type": "code",
      "execution_count": null,
      "metadata": {
        "id": "zf35WdRSZCg8"
      },
      "outputs": [],
      "source": [
        "!mkdir '/content/dataset'\n",
        "!unzip '/content/glove.6B.zip' -d '/content/dataset/glove'"
      ]
    },
    {
      "cell_type": "markdown",
      "metadata": {
        "id": "Nx8PhOPTZKH-"
      },
      "source": [
        "### 임베딩 전처리\n",
        "- GloVe 파싱"
      ]
    },
    {
      "cell_type": "code",
      "execution_count": null,
      "metadata": {
        "id": "CCiWpI40ZKn8"
      },
      "outputs": [],
      "source": [
        "glove_dir = '/content/dataset/glove'\n",
        "\n",
        "embedding_index = {}\n",
        "f = open(os.path.join(glove_dir, 'glove.6B.100d.txt'), encoding='utf8')\n",
        "for line in f:\n",
        "    values = line.split()\n",
        "    word = values[0]\n",
        "    coefs = np.asarray(values[1:], dtype='float32')\n",
        "    embedding_index[word] = coefs\n",
        "f.close()\n",
        "\n",
        "print(len(embedding_index))"
      ]
    },
    {
      "cell_type": "code",
      "execution_count": null,
      "metadata": {
        "id": "GeyFszr_ZNOJ"
      },
      "outputs": [],
      "source": [
        "embedding_dim = 100\n",
        "max_words = 10000\n",
        "\n",
        "embedding_mat = np.zeros((max_words, embedding_dim))\n",
        "for word, i in word_index.items():\n",
        "    if i < max_words:\n",
        "        embedding_vector = embedding_index.get(word)\n",
        "        if embedding_vector is not None:\n",
        "            embedding_mat[i] = embedding_vector"
      ]
    },
    {
      "cell_type": "code",
      "execution_count": null,
      "metadata": {
        "id": "-21oMNykZNML"
      },
      "outputs": [],
      "source": [
        "embedding_mat"
      ]
    },
    {
      "cell_type": "markdown",
      "metadata": {
        "id": "XaCx6z-4epWd"
      },
      "source": [
        "### 모델 정의"
      ]
    },
    {
      "cell_type": "code",
      "execution_count": null,
      "metadata": {
        "id": "3HVcGPGyZNKN"
      },
      "outputs": [],
      "source": [
        "from tensorflow.keras.models import Sequential\n",
        "from tensorflow.keras.layers import Embedding, Flatten, Dense"
      ]
    },
    {
      "cell_type": "code",
      "execution_count": null,
      "metadata": {
        "id": "BrZQ6vsBZNIE"
      },
      "outputs": [],
      "source": [
        "model = Sequential()\n",
        "\n",
        "embedding_layer = Embedding(max_words, embedding_dim, input_length=max_len)\n",
        "model.add(embedding_layer)\n",
        "model.add(Flatten())\n",
        "model.add(Dense(32, activation='relu'))\n",
        "model.add(Dense(1, activation='sigmoid'))\n",
        "\n",
        "model.summary()"
      ]
    },
    {
      "cell_type": "code",
      "execution_count": null,
      "metadata": {
        "id": "HR65rJz_ZNGD"
      },
      "outputs": [],
      "source": []
    },
    {
      "cell_type": "code",
      "execution_count": null,
      "metadata": {
        "id": "lPS8S1QnZNEG"
      },
      "outputs": [],
      "source": [
        "model.compile(optimizer='rmsprop',\n",
        "              loss='binary_crossentropy',\n",
        "              metrics=['accuracy'])"
      ]
    },
    {
      "cell_type": "markdown",
      "metadata": {
        "id": "IG-yGYAR_5Au"
      },
      "source": []
    },
    {
      "cell_type": "code",
      "execution_count": null,
      "metadata": {
        "id": "Y3AD4ErhewTW"
      },
      "outputs": [],
      "source": [
        "history = model.fit(x_train, y_train,\n",
        "                   epochs=10,\n",
        "                    batch_size=32,\n",
        "                    validation_data=(x_val, y_val))"
      ]
    },
    {
      "cell_type": "code",
      "execution_count": null,
      "metadata": {
        "id": "CNgY-6Wgexg8"
      },
      "outputs": [],
      "source": [
        "model.save_weights(filepath='pre_trained_glove_model.weights.h5')"
      ]
    },
    {
      "cell_type": "markdown",
      "metadata": {
        "id": "k3KUBmL5e1WJ"
      },
      "source": [
        "### 시각화"
      ]
    },
    {
      "cell_type": "code",
      "execution_count": null,
      "metadata": {
        "id": "_DaQNh1oe2OZ"
      },
      "outputs": [],
      "source": [
        "loss = history.history['loss']\n",
        "val_loss = history.history['val_loss']\n",
        "acc = history.history['accuracy']\n",
        "val_acc = history.history['val_accuracy']\n",
        "\n",
        "\n",
        "epochs = range(1, len(loss) + 1)\n",
        "\n",
        "plt.plot(epochs, loss, 'b--', label='Training loss')\n",
        "plt.plot(epochs, val_loss, 'r', label='Validation loss')\n",
        "plt.legend()\n",
        "plt.grid()\n",
        "\n",
        "\n",
        "plt.figure()\n",
        "plt.plot(epochs, acc, 'b--', label='Training acc')\n",
        "plt.plot(epochs, val_acc, 'r', label='Validation acc')\n",
        "plt.legend()\n",
        "plt.grid()\n",
        "\n",
        "\n",
        "plt.show()"
      ]
    },
    {
      "cell_type": "markdown",
      "metadata": {
        "id": "aqaaNV1-e8Ua"
      },
      "source": [
        "## 사전 훈련된 단어 임베딩을 사용하지 않고 같은 모델 훈련"
      ]
    },
    {
      "cell_type": "code",
      "execution_count": null,
      "metadata": {
        "id": "ilw7D5mze5bA"
      },
      "outputs": [],
      "source": [
        "model2 = Sequential()\n",
        "\n",
        "model2.add(Embedding(max_words, embedding_dim, input_length=max_len))\n",
        "model2.add(Flatten())\n",
        "model2.add(Dense(32, activation='relu'))\n",
        "model2.add(Dense(1, activation='sigmoid'))\n",
        "\n",
        "model2.summary()"
      ]
    },
    {
      "cell_type": "code",
      "execution_count": null,
      "metadata": {
        "id": "oPRFRj-4fBmF"
      },
      "outputs": [],
      "source": [
        "model2.compile(optimizer='rmsprop',\n",
        "              loss='binary_crossentropy',\n",
        "              metrics=['accuracy'])"
      ]
    },
    {
      "cell_type": "code",
      "execution_count": null,
      "metadata": {
        "id": "Fovih46TfDT3"
      },
      "outputs": [],
      "source": [
        "history2 = model2.fit(x_train, y_train,\n",
        "                   epochs=10,\n",
        "                    batch_size=32,\n",
        "                    validation_data=(x_val, y_val))"
      ]
    },
    {
      "cell_type": "code",
      "execution_count": null,
      "metadata": {
        "id": "p-EE376cAFpP"
      },
      "outputs": [],
      "source": [
        "loss = history2.history['loss']\n",
        "val_loss = history2.history['val_loss']\n",
        "acc = history2.history['accuracy']\n",
        "val_acc = history2.history['val_accuracy']\n",
        "\n",
        "\n",
        "epochs = range(1, len(loss) + 1)\n",
        "\n",
        "plt.plot(epochs, loss, 'b--', label='Training loss')\n",
        "plt.plot(epochs, val_loss, 'r', label='Validation loss')\n",
        "plt.legend()\n",
        "plt.grid()\n",
        "\n",
        "\n",
        "plt.figure()\n",
        "plt.plot(epochs, acc, 'b--', label='Training acc')\n",
        "plt.plot(epochs, val_acc, 'r', label='Validation acc')\n",
        "plt.legend()\n",
        "plt.grid()\n",
        "\n",
        "\n",
        "plt.show()"
      ]
    },
    {
      "cell_type": "markdown",
      "metadata": {
        "id": "VdexZ7i1fUo6"
      },
      "source": [
        "### 테스트 데이터 토큰화"
      ]
    },
    {
      "cell_type": "code",
      "execution_count": null,
      "metadata": {
        "id": "TA94HvyBfHXP"
      },
      "outputs": [],
      "source": [
        "test_dir = os.path.join(imdb_dir, 'test')\n",
        "\n",
        "labels=[]\n",
        "texts=[]\n",
        "\n",
        "for label_type in ['neg', 'pos']:\n",
        "    dir_name = os.path.join(test_dir, label_type)\n",
        "\n",
        "    for fname in os.listdir(dir_name):\n",
        "        if fname[-4:] == '.txt':\n",
        "            f = open(os.path.join(dir_name, fname), encoding='utf8')\n",
        "            texts.append(f.read())\n",
        "            f.close()\n",
        "\n",
        "        if label_type == 'neg':\n",
        "            labels.append(0)\n",
        "        else:\n",
        "            labels.append(1)\n",
        "\n",
        "sequences = tokenizer.texts_to_sequences(texts)\n",
        "x_test = pad_sequences(sequences, maxlen=max_len)\n",
        "y_test = np.asarray(labels)"
      ]
    },
    {
      "cell_type": "code",
      "execution_count": null,
      "metadata": {
        "id": "UTXbOOmPfWFV"
      },
      "outputs": [],
      "source": [
        "print(x_test.shape)\n",
        "print(y_test.shape)"
      ]
    },
    {
      "cell_type": "code",
      "execution_count": null,
      "metadata": {
        "id": "70aRVdQufXQB"
      },
      "outputs": [],
      "source": [
        "model.load_weights('pre_trained_glove_model.weights.h5')\n",
        "model.evaluate(x_test, y_test)"
      ]
    },
    {
      "cell_type": "code",
      "execution_count": null,
      "metadata": {
        "id": "EkeUoakGScfU"
      },
      "outputs": [],
      "source": []
    }
  ],
  "metadata": {
    "colab": {
      "provenance": []
    },
    "kernelspec": {
      "display_name": "Python 3",
      "name": "python3"
    },
    "language_info": {
      "codemirror_mode": {
        "name": "ipython",
        "version": 3
      },
      "file_extension": ".py",
      "mimetype": "text/x-python",
      "name": "python",
      "nbconvert_exporter": "python",
      "pygments_lexer": "ipython3",
      "version": "3.10.14"
    }
  },
  "nbformat": 4,
  "nbformat_minor": 0
}
